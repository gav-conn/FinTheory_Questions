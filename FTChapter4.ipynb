{
 "cells": [
  {
   "cell_type": "code",
   "execution_count": 165,
   "id": "48c62a38-a568-4159-84d3-c4ec75aa6012",
   "metadata": {},
   "outputs": [],
   "source": [
    "using JuMP, HiGHS, Ipopt, Plots;"
   ]
  },
  {
   "cell_type": "markdown",
   "id": "47bcc58e-5e11-4dc1-bbf9-b94da9aac4b7",
   "metadata": {},
   "source": [
    "## 1 \n",
    "\n",
    "Security A pays \\\\$30 if state 1 occurs and \n",
    "\\\\$10 if state 2 occurs. \n",
    "Security B pays \\\\$20 if state 1\n",
    "occurs and \\\\$0 if state 2 occurs. The price of security A is \n",
    "\\\\$5, and the price of security B is \n",
    "\\$10.\n",
    "\n",
    "**(a)** Set up the payoff table for securities A and B.\n",
    "\n",
    "**(b)** Determine the prices of the two pure securities."
   ]
  },
  {
   "cell_type": "code",
   "execution_count": 10,
   "id": "881975b3-49ae-4aaa-a159-bd8c5fa8889a",
   "metadata": {},
   "outputs": [
    {
     "data": {
      "text/plain": [
       "2×1 Matrix{Float64}:\n",
       " 0.10000000000000003\n",
       " 0.2"
      ]
     },
     "execution_count": 10,
     "metadata": {},
     "output_type": "execute_result"
    }
   ],
   "source": [
    "# Q1 \n",
    "Payoff = [30 10; 20 40]\n",
    "Price = [5 10]'\n",
    "Pure_Price = inv(Payoff)*Price"
   ]
  },
  {
   "cell_type": "markdown",
   "id": "17aed204-1c59-4c92-8419-0b8e5e98e66d",
   "metadata": {},
   "source": [
    "## 2\n",
    "\n",
    "| Security | State 1 | State 2 | Prices |\n",
    "| --- | --- | --- | --- |\n",
    "| j | 12 | 20 | 22 |\n",
    "| k | 24 | 10 | 20 |\n",
    "\n",
    "**(a)** What are the prices of pure security 1 and pure security 2?\n",
    "\n",
    "**(b)** What is the initial price of a third security i, for which the payoff in state 1 is \\\\$6 and the payoff in state 2 is \\\\$10?\n"
   ]
  },
  {
   "cell_type": "code",
   "execution_count": 12,
   "id": "4ed2d435-fa18-4405-b959-db8076c60477",
   "metadata": {},
   "outputs": [
    {
     "data": {
      "text/plain": [
       "2×1 Matrix{Float64}:\n",
       " 0.5000000000000001\n",
       " 0.7999999999999999"
      ]
     },
     "execution_count": 12,
     "metadata": {},
     "output_type": "execute_result"
    }
   ],
   "source": [
    "# Q2\n",
    "Payoff = [12 20; 24 10]\n",
    "Price = [22 20]'\n",
    "Pure_Price = inv(Payoff)*Price"
   ]
  },
  {
   "cell_type": "code",
   "execution_count": 14,
   "id": "4e2169b5-d3b0-4dcb-86b1-5bb6aaa2ea4b",
   "metadata": {},
   "outputs": [
    {
     "data": {
      "text/plain": [
       "1×1 Matrix{Float64}:\n",
       " 11.0"
      ]
     },
     "execution_count": 14,
     "metadata": {},
     "output_type": "execute_result"
    }
   ],
   "source": [
    "Payoff_i = [6 10]\n",
    "Price_i = Payoff_i*Pure_Price"
   ]
  },
  {
   "cell_type": "markdown",
   "id": "ef3f2aaa-3aa0-4c0a-a6b4-d9b0890dd517",
   "metadata": {},
   "source": [
    "## 3 \n",
    "\n",
    "Interplanetary starship captain Jos˙e Ching has been pondering the investment of his recent\n",
    "pilot’s bonus of 1,000 stenglers. His choice is restricted to two securities: Galactic Steel, selling\n",
    "for 20 stenglers per share, and Nova Nutrients, at 10 stenglers per share. The future state of his\n",
    "solar system is uncertain. If there is a war with a nearby group of asteroids, Captain Ching expects\n",
    "Galactic Steel to be worth 36 stenglers per share. However, if peace prevails, Galactic Steel will\n",
    "be worth only 4 stenglers per share. Nova Nutrients should sell at a future price of 6 stenglers per\n",
    "share in either eventuality."
   ]
  },
  {
   "cell_type": "markdown",
   "id": "1a319ac2-c375-45b4-8bd6-5bfcc21793a2",
   "metadata": {},
   "source": [
    "---------\n",
    "\n",
    "**(a)** Construct the payoff table that summarizes the starship captain’s assessment of future\n",
    "security prices, given the two possible future states of the solar system. What are the prices\n",
    "of the pure securities implicit in the payoff table?\n",
    "\n",
    "| Security | War | Peace | Prices |\n",
    "| --- | --- | --- | --- |\n",
    "| Galactic Steel | 36 | 4 | 20 |\n",
    "| Nova Nutrients | 6 | 6 | 10 |"
   ]
  },
  {
   "cell_type": "code",
   "execution_count": 15,
   "id": "9f104eab-45d3-49f2-b3c8-ab1ae9f2673f",
   "metadata": {},
   "outputs": [
    {
     "data": {
      "text/plain": [
       "2×1 Matrix{Float64}:\n",
       " 0.4166666666666667\n",
       " 1.25"
      ]
     },
     "execution_count": 15,
     "metadata": {},
     "output_type": "execute_result"
    }
   ],
   "source": [
    "Price = [20 10]\n",
    "Payoff = [36 4; 6 6]\n",
    "\n",
    "Pure_Price = inv(Payoff)*Price'"
   ]
  },
  {
   "cell_type": "markdown",
   "id": "05be3325-b64c-48fc-9e64-7dda8541221a",
   "metadata": {},
   "source": [
    "| State | Pure Price |\n",
    "| --- | --- |\n",
    "| War | 0.4167 |\n",
    "| Peace | 1.25 "
   ]
  },
  {
   "cell_type": "markdown",
   "id": "6d4758bf-4e8b-4ed0-846c-9d55fd7a6d77",
   "metadata": {},
   "source": [
    "**(b)** If the captain buys only Nova Nutrients shares, how many can he buy? If he buys only\n",
    "Galactic Steel, how many shares can he buy? What would be his final wealth in both cases\n",
    "in peace? At war?"
   ]
  },
  {
   "cell_type": "code",
   "execution_count": 18,
   "id": "e026901f-8fb9-45ed-a046-6993621b9235",
   "metadata": {},
   "outputs": [
    {
     "data": {
      "text/plain": [
       "1×2 Matrix{Float64}:\n",
       " 50.0  100.0"
      ]
     },
     "execution_count": 18,
     "metadata": {},
     "output_type": "execute_result"
    }
   ],
   "source": [
    "Max_Bought= 1000 ./Price"
   ]
  },
  {
   "cell_type": "code",
   "execution_count": 121,
   "id": "1f631c9d-3158-44ba-b28d-e7b97d59ba7f",
   "metadata": {},
   "outputs": [
    {
     "data": {
      "text/plain": [
       "2×2 adjoint(::Matrix{Float64}) with eltype Float64:\n",
       " 1800.0  200.0\n",
       "  600.0  600.0"
      ]
     },
     "execution_count": 121,
     "metadata": {},
     "output_type": "execute_result"
    }
   ],
   "source": [
    "Wealth_A = (Max_Bought.*Payoff')'"
   ]
  },
  {
   "cell_type": "markdown",
   "id": "d78013f7-fc54-4b8b-a8de-bfddf4687ab9",
   "metadata": {},
   "source": [
    "| Security | Holdings | War | Peace |\n",
    "| --- | --- | --- | --- |\n",
    "| Galactic Steel | 50 | 1800 | 200 |\n",
    "| Nova Nutrients | 100 | 600 | 600 |"
   ]
  },
  {
   "cell_type": "markdown",
   "id": "28766602-17bc-4c6c-8c5d-d7c7d550ac58",
   "metadata": {},
   "source": [
    "\n",
    "**(c)** Suppose Captain Ching can issue (sell short) securities as well as buy them, but he must\n",
    "be able to meet all claims in the future. What is the maximum number of Nova Nutrients\n",
    "shares he could sell short to buy Galactic Steel? How many shares of Galactic Steel could\n",
    "he sell short to buy Nova Nutrients? What would be his final wealth in both cases and in\n",
    "each possible future state?"
   ]
  },
  {
   "cell_type": "code",
   "execution_count": 109,
   "id": "cab0e4da-d116-4991-99ab-b71589b8c6bb",
   "metadata": {},
   "outputs": [
    {
     "name": "stdout",
     "output_type": "stream",
     "text": [
      "\n",
      "******************************************************************************\n",
      "This program contains Ipopt, a library for large-scale nonlinear optimization.\n",
      " Ipopt is released as open source code under the Eclipse Public License (EPL).\n",
      "         For more information visit https://github.com/coin-or/Ipopt\n",
      "******************************************************************************\n",
      "\n"
     ]
    },
    {
     "data": {
      "text/plain": [
       "0.4999999975123079"
      ]
     },
     "execution_count": 109,
     "metadata": {},
     "output_type": "execute_result"
    }
   ],
   "source": [
    "min_GS = minimum(Wealth_A[1,:])\n",
    "max_NN = maximum(Wealth_A[2,:])\n",
    "\n",
    "opt=Model(Ipopt.Optimizer)\n",
    "@variable(opt,short_NN>=0)\n",
    "@NLconstraint(opt, min_GS*(1 + short_NN) - short_NN*max_NN >=0 )\n",
    "@NLobjective(opt,Max,short_NN)\n",
    "set_silent(opt)\n",
    "optimize!(opt)"
   ]
  },
  {
   "cell_type": "code",
   "execution_count": 110,
   "id": "f02eba1d-9a03-4441-8906-a6769033b97f",
   "metadata": {},
   "outputs": [
    {
     "data": {
      "text/plain": [
       "0.4999999974956411"
      ]
     },
     "execution_count": 110,
     "metadata": {},
     "output_type": "execute_result"
    }
   ],
   "source": [
    "min_NN = minimum(Wealth_A[2,:])\n",
    "max_GS = maximum(Wealth_A[1,:])\n",
    "\n",
    "opt=Model(Ipopt.Optimizer)\n",
    "@variable(opt,short_GS>=0)\n",
    "@NLconstraint(opt, min_NN*(1 + short_GS) - short_GS*max_GS >=0 )\n",
    "@NLobjective(opt,Max,short_GS)\n",
    "set_silent(opt)\n",
    "optimize!(opt)"
   ]
  },
  {
   "cell_type": "code",
   "execution_count": 115,
   "id": "ab2d50a1-b06e-4154-be93-17bd27b66433",
   "metadata": {},
   "outputs": [
    {
     "data": {
      "text/plain": [
       "1×2 Matrix{Float64}:\n",
       " 0.5  0.5"
      ]
     },
     "execution_count": 115,
     "metadata": {},
     "output_type": "execute_result"
    }
   ],
   "source": [
    "short_holdings = [value.(short_NN) value.(short_GS)]"
   ]
  },
  {
   "cell_type": "code",
   "execution_count": 152,
   "id": "00186433-3b7c-44fa-8d85-03ecb7328ac6",
   "metadata": {},
   "outputs": [
    {
     "data": {
      "text/plain": [
       "2×2 Matrix{Float64}:\n",
       " 2400.0           9.91743e-7\n",
       "    2.98523e-6  800.0"
      ]
     },
     "execution_count": 152,
     "metadata": {},
     "output_type": "execute_result"
    }
   ],
   "source": [
    "Wealth_B = repeat((1 .+ short_holdings),2).*Wealth_A .- (repeat(short_holdings,2).*Wealth_A)[[4 2; 1 3]]"
   ]
  },
  {
   "cell_type": "markdown",
   "id": "fc691015-bb8c-4c26-a61f-57f6ee89795f",
   "metadata": {},
   "source": [
    "| Security | Holding | War | Peace |\n",
    "| --- | --- | --- | --- |\n",
    "| Galactic Steel | 1.5 | 2400 | 0 |\n",
    "| Nova Nutrients | 1.5 | 0 | 800 |"
   ]
  },
  {
   "cell_type": "markdown",
   "id": "9b0c81ca-c73f-44bd-bf3a-82551af57cf0",
   "metadata": {},
   "source": [
    "**(d)** Suppose a third security, Astro Ammo, is available and should be worth 28 stenglers\n",
    "per share if peace continues and 36 stenglers per share if war breaks out. What would be\n",
    "the current price of Astro Ammo?\n"
   ]
  },
  {
   "cell_type": "code",
   "execution_count": 157,
   "id": "3947386e-4a34-4aa6-bfa6-28e629120a6b",
   "metadata": {},
   "outputs": [
    {
     "data": {
      "text/plain": [
       "1×1 Matrix{Float64}:\n",
       " 50.0"
      ]
     },
     "execution_count": 157,
     "metadata": {},
     "output_type": "execute_result"
    }
   ],
   "source": [
    "Price_AA = [36 28]*Pure_Price"
   ]
  },
  {
   "cell_type": "markdown",
   "id": "e09ca05c-9eab-429f-97b8-3e638e26bcb7",
   "metadata": {},
   "source": [
    "\n",
    "**(e)** Summarize the results of **(a)** through **(d)** on a graph with axes $W_1$ and $W_2$.\n"
   ]
  },
  {
   "cell_type": "code",
   "execution_count": 180,
   "id": "c566a22d-76a8-4778-ad6d-344e4c6f930d",
   "metadata": {},
   "outputs": [
    {
     "data": {
      "image/svg+xml": [
       "<?xml version=\"1.0\" encoding=\"utf-8\"?>\n",
       "<svg xmlns=\"http://www.w3.org/2000/svg\" xmlns:xlink=\"http://www.w3.org/1999/xlink\" width=\"600\" height=\"400\" viewBox=\"0 0 2400 1600\">\n",
       "<defs>\n",
       "  <clipPath id=\"clip140\">\n",
       "    <rect x=\"0\" y=\"0\" width=\"2400\" height=\"1600\"/>\n",
       "  </clipPath>\n",
       "</defs>\n",
       "<path clip-path=\"url(#clip140)\" d=\"\n",
       "M0 1600 L2400 1600 L2400 0 L0 0  Z\n",
       "  \" fill=\"#ffffff\" fill-rule=\"evenodd\" fill-opacity=\"1\"/>\n",
       "<defs>\n",
       "  <clipPath id=\"clip141\">\n",
       "    <rect x=\"480\" y=\"0\" width=\"1681\" height=\"1600\"/>\n",
       "  </clipPath>\n",
       "</defs>\n",
       "<path clip-path=\"url(#clip140)\" d=\"\n",
       "M264.287 1423.18 L2352.76 1423.18 L2352.76 47.2441 L264.287 47.2441  Z\n",
       "  \" fill=\"#ffffff\" fill-rule=\"evenodd\" fill-opacity=\"1\"/>\n",
       "<defs>\n",
       "  <clipPath id=\"clip142\">\n",
       "    <rect x=\"264\" y=\"47\" width=\"2089\" height=\"1377\"/>\n",
       "  </clipPath>\n",
       "</defs>\n",
       "<polyline clip-path=\"url(#clip142)\" style=\"stroke:#000000; stroke-linecap:round; stroke-linejoin:round; stroke-width:2; stroke-opacity:0.1; fill:none\" points=\"\n",
       "  264.287,1423.18 264.287,47.2441 \n",
       "  \"/>\n",
       "<polyline clip-path=\"url(#clip142)\" style=\"stroke:#000000; stroke-linecap:round; stroke-linejoin:round; stroke-width:2; stroke-opacity:0.1; fill:none\" points=\"\n",
       "  960.444,1423.18 960.444,47.2441 \n",
       "  \"/>\n",
       "<polyline clip-path=\"url(#clip142)\" style=\"stroke:#000000; stroke-linecap:round; stroke-linejoin:round; stroke-width:2; stroke-opacity:0.1; fill:none\" points=\"\n",
       "  1656.6,1423.18 1656.6,47.2441 \n",
       "  \"/>\n",
       "<polyline clip-path=\"url(#clip142)\" style=\"stroke:#000000; stroke-linecap:round; stroke-linejoin:round; stroke-width:2; stroke-opacity:0.1; fill:none\" points=\"\n",
       "  2352.76,1423.18 2352.76,47.2441 \n",
       "  \"/>\n",
       "<polyline clip-path=\"url(#clip140)\" style=\"stroke:#000000; stroke-linecap:round; stroke-linejoin:round; stroke-width:4; stroke-opacity:1; fill:none\" points=\"\n",
       "  264.287,1423.18 2352.76,1423.18 \n",
       "  \"/>\n",
       "<polyline clip-path=\"url(#clip140)\" style=\"stroke:#000000; stroke-linecap:round; stroke-linejoin:round; stroke-width:4; stroke-opacity:1; fill:none\" points=\"\n",
       "  264.287,1423.18 264.287,1404.28 \n",
       "  \"/>\n",
       "<polyline clip-path=\"url(#clip140)\" style=\"stroke:#000000; stroke-linecap:round; stroke-linejoin:round; stroke-width:4; stroke-opacity:1; fill:none\" points=\"\n",
       "  960.444,1423.18 960.444,1404.28 \n",
       "  \"/>\n",
       "<polyline clip-path=\"url(#clip140)\" style=\"stroke:#000000; stroke-linecap:round; stroke-linejoin:round; stroke-width:4; stroke-opacity:1; fill:none\" points=\"\n",
       "  1656.6,1423.18 1656.6,1404.28 \n",
       "  \"/>\n",
       "<polyline clip-path=\"url(#clip140)\" style=\"stroke:#000000; stroke-linecap:round; stroke-linejoin:round; stroke-width:4; stroke-opacity:1; fill:none\" points=\"\n",
       "  2352.76,1423.18 2352.76,1404.28 \n",
       "  \"/>\n",
       "<path clip-path=\"url(#clip140)\" d=\"M264.287 1454.1 Q260.676 1454.1 258.848 1457.66 Q257.042 1461.2 257.042 1468.33 Q257.042 1475.44 258.848 1479.01 Q260.676 1482.55 264.287 1482.55 Q267.922 1482.55 269.727 1479.01 Q271.556 1475.44 271.556 1468.33 Q271.556 1461.2 269.727 1457.66 Q267.922 1454.1 264.287 1454.1 M264.287 1450.39 Q270.097 1450.39 273.153 1455 Q276.232 1459.58 276.232 1468.33 Q276.232 1477.06 273.153 1481.67 Q270.097 1486.25 264.287 1486.25 Q258.477 1486.25 255.398 1481.67 Q252.343 1477.06 252.343 1468.33 Q252.343 1459.58 255.398 1455 Q258.477 1450.39 264.287 1450.39 Z\" fill=\"#000000\" fill-rule=\"evenodd\" fill-opacity=\"1\" /><path clip-path=\"url(#clip140)\" d=\"M920.062 1451.02 L938.418 1451.02 L938.418 1454.96 L924.344 1454.96 L924.344 1463.43 Q925.363 1463.08 926.381 1462.92 Q927.4 1462.73 928.418 1462.73 Q934.205 1462.73 937.585 1465.9 Q940.964 1469.08 940.964 1474.49 Q940.964 1480.07 937.492 1483.17 Q934.02 1486.25 927.701 1486.25 Q925.525 1486.25 923.256 1485.88 Q921.011 1485.51 918.603 1484.77 L918.603 1480.07 Q920.687 1481.2 922.909 1481.76 Q925.131 1482.32 927.608 1482.32 Q931.613 1482.32 933.951 1480.21 Q936.289 1478.1 936.289 1474.49 Q936.289 1470.88 933.951 1468.77 Q931.613 1466.67 927.608 1466.67 Q925.733 1466.67 923.858 1467.08 Q922.006 1467.5 920.062 1468.38 L920.062 1451.02 Z\" fill=\"#000000\" fill-rule=\"evenodd\" fill-opacity=\"1\" /><path clip-path=\"url(#clip140)\" d=\"M960.177 1454.1 Q956.566 1454.1 954.738 1457.66 Q952.932 1461.2 952.932 1468.33 Q952.932 1475.44 954.738 1479.01 Q956.566 1482.55 960.177 1482.55 Q963.812 1482.55 965.617 1479.01 Q967.446 1475.44 967.446 1468.33 Q967.446 1461.2 965.617 1457.66 Q963.812 1454.1 960.177 1454.1 M960.177 1450.39 Q965.987 1450.39 969.043 1455 Q972.122 1459.58 972.122 1468.33 Q972.122 1477.06 969.043 1481.67 Q965.987 1486.25 960.177 1486.25 Q954.367 1486.25 951.288 1481.67 Q948.233 1477.06 948.233 1468.33 Q948.233 1459.58 951.288 1455 Q954.367 1450.39 960.177 1450.39 Z\" fill=\"#000000\" fill-rule=\"evenodd\" fill-opacity=\"1\" /><path clip-path=\"url(#clip140)\" d=\"M990.339 1454.1 Q986.728 1454.1 984.899 1457.66 Q983.094 1461.2 983.094 1468.33 Q983.094 1475.44 984.899 1479.01 Q986.728 1482.55 990.339 1482.55 Q993.973 1482.55 995.779 1479.01 Q997.608 1475.44 997.608 1468.33 Q997.608 1461.2 995.779 1457.66 Q993.973 1454.1 990.339 1454.1 M990.339 1450.39 Q996.149 1450.39 999.205 1455 Q1002.28 1459.58 1002.28 1468.33 Q1002.28 1477.06 999.205 1481.67 Q996.149 1486.25 990.339 1486.25 Q984.529 1486.25 981.45 1481.67 Q978.395 1477.06 978.395 1468.33 Q978.395 1459.58 981.45 1455 Q984.529 1450.39 990.339 1450.39 Z\" fill=\"#000000\" fill-rule=\"evenodd\" fill-opacity=\"1\" /><path clip-path=\"url(#clip140)\" d=\"M1601.13 1481.64 L1608.76 1481.64 L1608.76 1455.28 L1600.45 1456.95 L1600.45 1452.69 L1608.72 1451.02 L1613.39 1451.02 L1613.39 1481.64 L1621.03 1481.64 L1621.03 1485.58 L1601.13 1485.58 L1601.13 1481.64 Z\" fill=\"#000000\" fill-rule=\"evenodd\" fill-opacity=\"1\" /><path clip-path=\"url(#clip140)\" d=\"M1640.48 1454.1 Q1636.87 1454.1 1635.04 1457.66 Q1633.23 1461.2 1633.23 1468.33 Q1633.23 1475.44 1635.04 1479.01 Q1636.87 1482.55 1640.48 1482.55 Q1644.11 1482.55 1645.92 1479.01 Q1647.75 1475.44 1647.75 1468.33 Q1647.75 1461.2 1645.92 1457.66 Q1644.11 1454.1 1640.48 1454.1 M1640.48 1450.39 Q1646.29 1450.39 1649.34 1455 Q1652.42 1459.58 1652.42 1468.33 Q1652.42 1477.06 1649.34 1481.67 Q1646.29 1486.25 1640.48 1486.25 Q1634.67 1486.25 1631.59 1481.67 Q1628.53 1477.06 1628.53 1468.33 Q1628.53 1459.58 1631.59 1455 Q1634.67 1450.39 1640.48 1450.39 Z\" fill=\"#000000\" fill-rule=\"evenodd\" fill-opacity=\"1\" /><path clip-path=\"url(#clip140)\" d=\"M1670.64 1454.1 Q1667.03 1454.1 1665.2 1457.66 Q1663.39 1461.2 1663.39 1468.33 Q1663.39 1475.44 1665.2 1479.01 Q1667.03 1482.55 1670.64 1482.55 Q1674.27 1482.55 1676.08 1479.01 Q1677.91 1475.44 1677.91 1468.33 Q1677.91 1461.2 1676.08 1457.66 Q1674.27 1454.1 1670.64 1454.1 M1670.64 1450.39 Q1676.45 1450.39 1679.5 1455 Q1682.58 1459.58 1682.58 1468.33 Q1682.58 1477.06 1679.5 1481.67 Q1676.45 1486.25 1670.64 1486.25 Q1664.83 1486.25 1661.75 1481.67 Q1658.69 1477.06 1658.69 1468.33 Q1658.69 1459.58 1661.75 1455 Q1664.83 1450.39 1670.64 1450.39 Z\" fill=\"#000000\" fill-rule=\"evenodd\" fill-opacity=\"1\" /><path clip-path=\"url(#clip140)\" d=\"M1700.8 1454.1 Q1697.19 1454.1 1695.36 1457.66 Q1693.56 1461.2 1693.56 1468.33 Q1693.56 1475.44 1695.36 1479.01 Q1697.19 1482.55 1700.8 1482.55 Q1704.44 1482.55 1706.24 1479.01 Q1708.07 1475.44 1708.07 1468.33 Q1708.07 1461.2 1706.24 1457.66 Q1704.44 1454.1 1700.8 1454.1 M1700.8 1450.39 Q1706.61 1450.39 1709.67 1455 Q1712.75 1459.58 1712.75 1468.33 Q1712.75 1477.06 1709.67 1481.67 Q1706.61 1486.25 1700.8 1486.25 Q1694.99 1486.25 1691.91 1481.67 Q1688.86 1477.06 1688.86 1468.33 Q1688.86 1459.58 1691.91 1455 Q1694.99 1450.39 1700.8 1450.39 Z\" fill=\"#000000\" fill-rule=\"evenodd\" fill-opacity=\"1\" /><path clip-path=\"url(#clip140)\" d=\"M2297.28 1481.64 L2304.92 1481.64 L2304.92 1455.28 L2296.61 1456.95 L2296.61 1452.69 L2304.87 1451.02 L2309.55 1451.02 L2309.55 1481.64 L2317.19 1481.64 L2317.19 1485.58 L2297.28 1485.58 L2297.28 1481.64 Z\" fill=\"#000000\" fill-rule=\"evenodd\" fill-opacity=\"1\" /><path clip-path=\"url(#clip140)\" d=\"M2326.68 1451.02 L2345.04 1451.02 L2345.04 1454.96 L2330.96 1454.96 L2330.96 1463.43 Q2331.98 1463.08 2333 1462.92 Q2334.02 1462.73 2335.04 1462.73 Q2340.82 1462.73 2344.2 1465.9 Q2347.58 1469.08 2347.58 1474.49 Q2347.58 1480.07 2344.11 1483.17 Q2340.64 1486.25 2334.32 1486.25 Q2332.14 1486.25 2329.87 1485.88 Q2327.63 1485.51 2325.22 1484.77 L2325.22 1480.07 Q2327.3 1481.2 2329.53 1481.76 Q2331.75 1482.32 2334.23 1482.32 Q2338.23 1482.32 2340.57 1480.21 Q2342.91 1478.1 2342.91 1474.49 Q2342.91 1470.88 2340.57 1468.77 Q2338.23 1466.67 2334.23 1466.67 Q2332.35 1466.67 2330.48 1467.08 Q2328.62 1467.5 2326.68 1468.38 L2326.68 1451.02 Z\" fill=\"#000000\" fill-rule=\"evenodd\" fill-opacity=\"1\" /><path clip-path=\"url(#clip140)\" d=\"M2366.8 1454.1 Q2363.18 1454.1 2361.36 1457.66 Q2359.55 1461.2 2359.55 1468.33 Q2359.55 1475.44 2361.36 1479.01 Q2363.18 1482.55 2366.8 1482.55 Q2370.43 1482.55 2372.23 1479.01 Q2374.06 1475.44 2374.06 1468.33 Q2374.06 1461.2 2372.23 1457.66 Q2370.43 1454.1 2366.8 1454.1 M2366.8 1450.39 Q2372.61 1450.39 2375.66 1455 Q2378.74 1459.58 2378.74 1468.33 Q2378.74 1477.06 2375.66 1481.67 Q2372.61 1486.25 2366.8 1486.25 Q2360.99 1486.25 2357.91 1481.67 Q2354.85 1477.06 2354.85 1468.33 Q2354.85 1459.58 2357.91 1455 Q2360.99 1450.39 2366.8 1450.39 Z\" fill=\"#000000\" fill-rule=\"evenodd\" fill-opacity=\"1\" /><path clip-path=\"url(#clip140)\" d=\"M2396.96 1454.1 Q2393.35 1454.1 2391.52 1457.66 Q2389.71 1461.2 2389.71 1468.33 Q2389.71 1475.44 2391.52 1479.01 Q2393.35 1482.55 2396.96 1482.55 Q2400.59 1482.55 2402.4 1479.01 Q2404.23 1475.44 2404.23 1468.33 Q2404.23 1461.2 2402.4 1457.66 Q2400.59 1454.1 2396.96 1454.1 M2396.96 1450.39 Q2402.77 1450.39 2405.82 1455 Q2408.9 1459.58 2408.9 1468.33 Q2408.9 1477.06 2405.82 1481.67 Q2402.77 1486.25 2396.96 1486.25 Q2391.15 1486.25 2388.07 1481.67 Q2385.01 1477.06 2385.01 1468.33 Q2385.01 1459.58 2388.07 1455 Q2391.15 1450.39 2396.96 1450.39 Z\" fill=\"#000000\" fill-rule=\"evenodd\" fill-opacity=\"1\" /><path clip-path=\"url(#clip140)\" d=\"M1051.59 1520.52 L1058.08 1520.52 L1068.07 1560.69 L1078.04 1520.52 L1085.26 1520.52 L1095.25 1560.69 L1105.22 1520.52 L1111.74 1520.52 L1099.81 1568.04 L1091.72 1568.04 L1081.7 1526.79 L1071.57 1568.04 L1063.49 1568.04 L1051.59 1520.52 Z\" fill=\"#000000\" fill-rule=\"evenodd\" fill-opacity=\"1\" /><path clip-path=\"url(#clip140)\" d=\"M1146.69 1548.76 L1146.69 1551.62 L1119.76 1551.62 Q1120.14 1557.67 1123.39 1560.85 Q1126.67 1564 1132.49 1564 Q1135.87 1564 1139.02 1563.17 Q1142.2 1562.35 1145.32 1560.69 L1145.32 1566.23 Q1142.17 1567.57 1138.86 1568.27 Q1135.55 1568.97 1132.14 1568.97 Q1123.61 1568.97 1118.62 1564 Q1113.65 1559.04 1113.65 1550.57 Q1113.65 1541.82 1118.36 1536.69 Q1123.1 1531.54 1131.13 1531.54 Q1138.32 1531.54 1142.49 1536.18 Q1146.69 1540.8 1146.69 1548.76 M1140.83 1547.04 Q1140.77 1542.23 1138.13 1539.37 Q1135.52 1536.5 1131.19 1536.5 Q1126.29 1536.5 1123.33 1539.27 Q1120.4 1542.04 1119.95 1547.07 L1140.83 1547.04 Z\" fill=\"#000000\" fill-rule=\"evenodd\" fill-opacity=\"1\" /><path clip-path=\"url(#clip140)\" d=\"M1172.5 1550.12 Q1165.4 1550.12 1162.67 1551.75 Q1159.93 1553.37 1159.93 1557.29 Q1159.93 1560.4 1161.97 1562.25 Q1164.04 1564.07 1167.57 1564.07 Q1172.44 1564.07 1175.37 1560.63 Q1178.33 1557.16 1178.33 1551.43 L1178.33 1550.12 L1172.5 1550.12 M1184.18 1547.71 L1184.18 1568.04 L1178.33 1568.04 L1178.33 1562.63 Q1176.32 1565.88 1173.33 1567.44 Q1170.34 1568.97 1166.01 1568.97 Q1160.53 1568.97 1157.29 1565.91 Q1154.07 1562.82 1154.07 1557.67 Q1154.07 1551.65 1158.08 1548.6 Q1162.13 1545.54 1170.12 1545.54 L1178.33 1545.54 L1178.33 1544.97 Q1178.33 1540.93 1175.65 1538.73 Q1173.01 1536.5 1168.21 1536.5 Q1165.15 1536.5 1162.25 1537.23 Q1159.36 1537.97 1156.68 1539.43 L1156.68 1534.02 Q1159.9 1532.78 1162.92 1532.17 Q1165.95 1531.54 1168.81 1531.54 Q1176.54 1531.54 1180.36 1535.55 Q1184.18 1539.56 1184.18 1547.71 Z\" fill=\"#000000\" fill-rule=\"evenodd\" fill-opacity=\"1\" /><path clip-path=\"url(#clip140)\" d=\"M1196.25 1518.52 L1202.1 1518.52 L1202.1 1568.04 L1196.25 1568.04 L1196.25 1518.52 Z\" fill=\"#000000\" fill-rule=\"evenodd\" fill-opacity=\"1\" /><path clip-path=\"url(#clip140)\" d=\"M1220.15 1522.27 L1220.15 1532.4 L1232.21 1532.4 L1232.21 1536.95 L1220.15 1536.95 L1220.15 1556.3 Q1220.15 1560.66 1221.33 1561.9 Q1222.54 1563.14 1226.2 1563.14 L1232.21 1563.14 L1232.21 1568.04 L1226.2 1568.04 Q1219.42 1568.04 1216.84 1565.53 Q1214.26 1562.98 1214.26 1556.3 L1214.26 1536.95 L1209.96 1536.95 L1209.96 1532.4 L1214.26 1532.4 L1214.26 1522.27 L1220.15 1522.27 Z\" fill=\"#000000\" fill-rule=\"evenodd\" fill-opacity=\"1\" /><path clip-path=\"url(#clip140)\" d=\"M1269.55 1546.53 L1269.55 1568.04 L1263.69 1568.04 L1263.69 1546.72 Q1263.69 1541.66 1261.72 1539.14 Q1259.74 1536.63 1255.8 1536.63 Q1251.06 1536.63 1248.32 1539.65 Q1245.58 1542.68 1245.58 1547.9 L1245.58 1568.04 L1239.69 1568.04 L1239.69 1518.52 L1245.58 1518.52 L1245.58 1537.93 Q1247.68 1534.72 1250.51 1533.13 Q1253.38 1531.54 1257.1 1531.54 Q1263.25 1531.54 1266.4 1535.36 Q1269.55 1539.14 1269.55 1546.53 Z\" fill=\"#000000\" fill-rule=\"evenodd\" fill-opacity=\"1\" /><path clip-path=\"url(#clip140)\" d=\"M1301.95 1532.4 L1307.81 1532.4 L1307.81 1568.04 L1301.95 1568.04 L1301.95 1532.4 M1301.95 1518.52 L1307.81 1518.52 L1307.81 1525.93 L1301.95 1525.93 L1301.95 1518.52 Z\" fill=\"#000000\" fill-rule=\"evenodd\" fill-opacity=\"1\" /><path clip-path=\"url(#clip140)\" d=\"M1349.69 1546.53 L1349.69 1568.04 L1343.84 1568.04 L1343.84 1546.72 Q1343.84 1541.66 1341.86 1539.14 Q1339.89 1536.63 1335.94 1536.63 Q1331.2 1536.63 1328.46 1539.65 Q1325.72 1542.68 1325.72 1547.9 L1325.72 1568.04 L1319.84 1568.04 L1319.84 1532.4 L1325.72 1532.4 L1325.72 1537.93 Q1327.83 1534.72 1330.66 1533.13 Q1333.52 1531.54 1337.25 1531.54 Q1343.39 1531.54 1346.54 1535.36 Q1349.69 1539.14 1349.69 1546.53 Z\" fill=\"#000000\" fill-rule=\"evenodd\" fill-opacity=\"1\" /><path clip-path=\"url(#clip140)\" d=\"M1388.78 1525.81 L1388.78 1543.66 L1396.86 1543.66 Q1401.35 1543.66 1403.8 1541.34 Q1406.25 1539.02 1406.25 1534.72 Q1406.25 1530.45 1403.8 1528.13 Q1401.35 1525.81 1396.86 1525.81 L1388.78 1525.81 M1382.35 1520.52 L1396.86 1520.52 Q1404.85 1520.52 1408.92 1524.15 Q1413.03 1527.75 1413.03 1534.72 Q1413.03 1541.75 1408.92 1545.35 Q1404.85 1548.95 1396.86 1548.95 L1388.78 1548.95 L1388.78 1568.04 L1382.35 1568.04 L1382.35 1520.52 Z\" fill=\"#000000\" fill-rule=\"evenodd\" fill-opacity=\"1\" /><path clip-path=\"url(#clip140)\" d=\"M1449.57 1548.76 L1449.57 1551.62 L1422.64 1551.62 Q1423.02 1557.67 1426.27 1560.85 Q1429.55 1564 1435.37 1564 Q1438.75 1564 1441.9 1563.17 Q1445.08 1562.35 1448.2 1560.69 L1448.2 1566.23 Q1445.05 1567.57 1441.74 1568.27 Q1438.43 1568.97 1435.02 1568.97 Q1426.49 1568.97 1421.5 1564 Q1416.53 1559.04 1416.53 1550.57 Q1416.53 1541.82 1421.24 1536.69 Q1425.98 1531.54 1434.01 1531.54 Q1441.2 1531.54 1445.37 1536.18 Q1449.57 1540.8 1449.57 1548.76 M1443.71 1547.04 Q1443.65 1542.23 1441.01 1539.37 Q1438.4 1536.5 1434.07 1536.5 Q1429.17 1536.5 1426.21 1539.27 Q1423.28 1542.04 1422.83 1547.07 L1443.71 1547.04 Z\" fill=\"#000000\" fill-rule=\"evenodd\" fill-opacity=\"1\" /><path clip-path=\"url(#clip140)\" d=\"M1475.38 1550.12 Q1468.28 1550.12 1465.55 1551.75 Q1462.81 1553.37 1462.81 1557.29 Q1462.81 1560.4 1464.85 1562.25 Q1466.92 1564.07 1470.45 1564.07 Q1475.32 1564.07 1478.25 1560.63 Q1481.21 1557.16 1481.21 1551.43 L1481.21 1550.12 L1475.38 1550.12 M1487.06 1547.71 L1487.06 1568.04 L1481.21 1568.04 L1481.21 1562.63 Q1479.2 1565.88 1476.21 1567.44 Q1473.22 1568.97 1468.89 1568.97 Q1463.42 1568.97 1460.17 1565.91 Q1456.95 1562.82 1456.95 1557.67 Q1456.95 1551.65 1460.96 1548.6 Q1465.01 1545.54 1473 1545.54 L1481.21 1545.54 L1481.21 1544.97 Q1481.21 1540.93 1478.53 1538.73 Q1475.89 1536.5 1471.09 1536.5 Q1468.03 1536.5 1465.13 1537.23 Q1462.24 1537.97 1459.56 1539.43 L1459.56 1534.02 Q1462.78 1532.78 1465.8 1532.17 Q1468.83 1531.54 1471.69 1531.54 Q1479.42 1531.54 1483.24 1535.55 Q1487.06 1539.56 1487.06 1547.71 Z\" fill=\"#000000\" fill-rule=\"evenodd\" fill-opacity=\"1\" /><path clip-path=\"url(#clip140)\" d=\"M1524.78 1533.76 L1524.78 1539.24 Q1522.3 1537.87 1519.78 1537.2 Q1517.3 1536.5 1514.75 1536.5 Q1509.06 1536.5 1505.91 1540.13 Q1502.76 1543.73 1502.76 1550.25 Q1502.76 1556.78 1505.91 1560.4 Q1509.06 1564 1514.75 1564 Q1517.3 1564 1519.78 1563.33 Q1522.3 1562.63 1524.78 1561.26 L1524.78 1566.68 Q1522.33 1567.82 1519.69 1568.39 Q1517.08 1568.97 1514.12 1568.97 Q1506.07 1568.97 1501.32 1563.91 Q1496.58 1558.85 1496.58 1550.25 Q1496.58 1541.53 1501.35 1536.53 Q1506.16 1531.54 1514.5 1531.54 Q1517.21 1531.54 1519.78 1532.11 Q1522.36 1532.65 1524.78 1533.76 Z\" fill=\"#000000\" fill-rule=\"evenodd\" fill-opacity=\"1\" /><path clip-path=\"url(#clip140)\" d=\"M1565.46 1548.76 L1565.46 1551.62 L1538.53 1551.62 Q1538.91 1557.67 1542.16 1560.85 Q1545.44 1564 1551.26 1564 Q1554.64 1564 1557.79 1563.17 Q1560.97 1562.35 1564.09 1560.69 L1564.09 1566.23 Q1560.94 1567.57 1557.63 1568.27 Q1554.32 1568.97 1550.91 1568.97 Q1542.38 1568.97 1537.38 1564 Q1532.42 1559.04 1532.42 1550.57 Q1532.42 1541.82 1537.13 1536.69 Q1541.87 1531.54 1549.89 1531.54 Q1557.09 1531.54 1561.26 1536.18 Q1565.46 1540.8 1565.46 1548.76 M1559.6 1547.04 Q1559.54 1542.23 1556.9 1539.37 Q1554.29 1536.5 1549.96 1536.5 Q1545.06 1536.5 1542.1 1539.27 Q1539.17 1542.04 1538.72 1547.07 L1559.6 1547.04 Z\" fill=\"#000000\" fill-rule=\"evenodd\" fill-opacity=\"1\" /><polyline clip-path=\"url(#clip142)\" style=\"stroke:#000000; stroke-linecap:round; stroke-linejoin:round; stroke-width:2; stroke-opacity:0.1; fill:none\" points=\"\n",
       "  264.287,1423.18 2352.76,1423.18 \n",
       "  \"/>\n",
       "<polyline clip-path=\"url(#clip142)\" style=\"stroke:#000000; stroke-linecap:round; stroke-linejoin:round; stroke-width:2; stroke-opacity:0.1; fill:none\" points=\"\n",
       "  264.287,1147.99 2352.76,1147.99 \n",
       "  \"/>\n",
       "<polyline clip-path=\"url(#clip142)\" style=\"stroke:#000000; stroke-linecap:round; stroke-linejoin:round; stroke-width:2; stroke-opacity:0.1; fill:none\" points=\"\n",
       "  264.287,872.806 2352.76,872.806 \n",
       "  \"/>\n",
       "<polyline clip-path=\"url(#clip142)\" style=\"stroke:#000000; stroke-linecap:round; stroke-linejoin:round; stroke-width:2; stroke-opacity:0.1; fill:none\" points=\"\n",
       "  264.287,597.618 2352.76,597.618 \n",
       "  \"/>\n",
       "<polyline clip-path=\"url(#clip142)\" style=\"stroke:#000000; stroke-linecap:round; stroke-linejoin:round; stroke-width:2; stroke-opacity:0.1; fill:none\" points=\"\n",
       "  264.287,322.431 2352.76,322.431 \n",
       "  \"/>\n",
       "<polyline clip-path=\"url(#clip142)\" style=\"stroke:#000000; stroke-linecap:round; stroke-linejoin:round; stroke-width:2; stroke-opacity:0.1; fill:none\" points=\"\n",
       "  264.287,47.2441 2352.76,47.2441 \n",
       "  \"/>\n",
       "<polyline clip-path=\"url(#clip140)\" style=\"stroke:#000000; stroke-linecap:round; stroke-linejoin:round; stroke-width:4; stroke-opacity:1; fill:none\" points=\"\n",
       "  264.287,1423.18 264.287,47.2441 \n",
       "  \"/>\n",
       "<polyline clip-path=\"url(#clip140)\" style=\"stroke:#000000; stroke-linecap:round; stroke-linejoin:round; stroke-width:4; stroke-opacity:1; fill:none\" points=\"\n",
       "  264.287,1423.18 283.185,1423.18 \n",
       "  \"/>\n",
       "<polyline clip-path=\"url(#clip140)\" style=\"stroke:#000000; stroke-linecap:round; stroke-linejoin:round; stroke-width:4; stroke-opacity:1; fill:none\" points=\"\n",
       "  264.287,1147.99 283.185,1147.99 \n",
       "  \"/>\n",
       "<polyline clip-path=\"url(#clip140)\" style=\"stroke:#000000; stroke-linecap:round; stroke-linejoin:round; stroke-width:4; stroke-opacity:1; fill:none\" points=\"\n",
       "  264.287,872.806 283.185,872.806 \n",
       "  \"/>\n",
       "<polyline clip-path=\"url(#clip140)\" style=\"stroke:#000000; stroke-linecap:round; stroke-linejoin:round; stroke-width:4; stroke-opacity:1; fill:none\" points=\"\n",
       "  264.287,597.618 283.185,597.618 \n",
       "  \"/>\n",
       "<polyline clip-path=\"url(#clip140)\" style=\"stroke:#000000; stroke-linecap:round; stroke-linejoin:round; stroke-width:4; stroke-opacity:1; fill:none\" points=\"\n",
       "  264.287,322.431 283.185,322.431 \n",
       "  \"/>\n",
       "<polyline clip-path=\"url(#clip140)\" style=\"stroke:#000000; stroke-linecap:round; stroke-linejoin:round; stroke-width:4; stroke-opacity:1; fill:none\" points=\"\n",
       "  264.287,47.2441 283.185,47.2441 \n",
       "  \"/>\n",
       "<path clip-path=\"url(#clip140)\" d=\"M216.343 1408.98 Q212.732 1408.98 210.903 1412.54 Q209.098 1416.08 209.098 1423.21 Q209.098 1430.32 210.903 1433.89 Q212.732 1437.43 216.343 1437.43 Q219.977 1437.43 221.783 1433.89 Q223.611 1430.32 223.611 1423.21 Q223.611 1416.08 221.783 1412.54 Q219.977 1408.98 216.343 1408.98 M216.343 1405.27 Q222.153 1405.27 225.209 1409.88 Q228.287 1414.46 228.287 1423.21 Q228.287 1431.94 225.209 1436.55 Q222.153 1441.13 216.343 1441.13 Q210.533 1441.13 207.454 1436.55 Q204.399 1431.94 204.399 1423.21 Q204.399 1414.46 207.454 1409.88 Q210.533 1405.27 216.343 1405.27 Z\" fill=\"#000000\" fill-rule=\"evenodd\" fill-opacity=\"1\" /><path clip-path=\"url(#clip140)\" d=\"M146.066 1130.71 L164.422 1130.71 L164.422 1134.65 L150.348 1134.65 L150.348 1143.12 Q151.366 1142.77 152.385 1142.61 Q153.403 1142.43 154.422 1142.43 Q160.209 1142.43 163.589 1145.6 Q166.968 1148.77 166.968 1154.18 Q166.968 1159.76 163.496 1162.87 Q160.024 1165.94 153.704 1165.94 Q151.528 1165.94 149.26 1165.57 Q147.015 1165.2 144.607 1164.46 L144.607 1159.76 Q146.691 1160.9 148.913 1161.45 Q151.135 1162.01 153.612 1162.01 Q157.616 1162.01 159.954 1159.9 Q162.292 1157.8 162.292 1154.18 Q162.292 1150.57 159.954 1148.47 Q157.616 1146.36 153.612 1146.36 Q151.737 1146.36 149.862 1146.78 Q148.01 1147.19 146.066 1148.07 L146.066 1130.71 Z\" fill=\"#000000\" fill-rule=\"evenodd\" fill-opacity=\"1\" /><path clip-path=\"url(#clip140)\" d=\"M186.181 1133.79 Q182.57 1133.79 180.741 1137.36 Q178.936 1140.9 178.936 1148.03 Q178.936 1155.13 180.741 1158.7 Q182.57 1162.24 186.181 1162.24 Q189.815 1162.24 191.621 1158.7 Q193.45 1155.13 193.45 1148.03 Q193.45 1140.9 191.621 1137.36 Q189.815 1133.79 186.181 1133.79 M186.181 1130.09 Q191.991 1130.09 195.047 1134.69 Q198.125 1139.28 198.125 1148.03 Q198.125 1156.75 195.047 1161.36 Q191.991 1165.94 186.181 1165.94 Q180.371 1165.94 177.292 1161.36 Q174.237 1156.75 174.237 1148.03 Q174.237 1139.28 177.292 1134.69 Q180.371 1130.09 186.181 1130.09 Z\" fill=\"#000000\" fill-rule=\"evenodd\" fill-opacity=\"1\" /><path clip-path=\"url(#clip140)\" d=\"M216.343 1133.79 Q212.732 1133.79 210.903 1137.36 Q209.098 1140.9 209.098 1148.03 Q209.098 1155.13 210.903 1158.7 Q212.732 1162.24 216.343 1162.24 Q219.977 1162.24 221.783 1158.7 Q223.611 1155.13 223.611 1148.03 Q223.611 1140.9 221.783 1137.36 Q219.977 1133.79 216.343 1133.79 M216.343 1130.09 Q222.153 1130.09 225.209 1134.69 Q228.287 1139.28 228.287 1148.03 Q228.287 1156.75 225.209 1161.36 Q222.153 1165.94 216.343 1165.94 Q210.533 1165.94 207.454 1161.36 Q204.399 1156.75 204.399 1148.03 Q204.399 1139.28 207.454 1134.69 Q210.533 1130.09 216.343 1130.09 Z\" fill=\"#000000\" fill-rule=\"evenodd\" fill-opacity=\"1\" /><path clip-path=\"url(#clip140)\" d=\"M116.668 886.15 L124.306 886.15 L124.306 859.785 L115.996 861.451 L115.996 857.192 L124.26 855.526 L128.936 855.526 L128.936 886.15 L136.575 886.15 L136.575 890.086 L116.668 890.086 L116.668 886.15 Z\" fill=\"#000000\" fill-rule=\"evenodd\" fill-opacity=\"1\" /><path clip-path=\"url(#clip140)\" d=\"M156.019 858.604 Q152.408 858.604 150.579 862.169 Q148.774 865.711 148.774 872.84 Q148.774 879.947 150.579 883.512 Q152.408 887.053 156.019 887.053 Q159.653 887.053 161.459 883.512 Q163.288 879.947 163.288 872.84 Q163.288 865.711 161.459 862.169 Q159.653 858.604 156.019 858.604 M156.019 854.901 Q161.829 854.901 164.885 859.507 Q167.964 864.09 167.964 872.84 Q167.964 881.567 164.885 886.174 Q161.829 890.757 156.019 890.757 Q150.209 890.757 147.13 886.174 Q144.075 881.567 144.075 872.84 Q144.075 864.09 147.13 859.507 Q150.209 854.901 156.019 854.901 Z\" fill=\"#000000\" fill-rule=\"evenodd\" fill-opacity=\"1\" /><path clip-path=\"url(#clip140)\" d=\"M186.181 858.604 Q182.57 858.604 180.741 862.169 Q178.936 865.711 178.936 872.84 Q178.936 879.947 180.741 883.512 Q182.57 887.053 186.181 887.053 Q189.815 887.053 191.621 883.512 Q193.45 879.947 193.45 872.84 Q193.45 865.711 191.621 862.169 Q189.815 858.604 186.181 858.604 M186.181 854.901 Q191.991 854.901 195.047 859.507 Q198.125 864.09 198.125 872.84 Q198.125 881.567 195.047 886.174 Q191.991 890.757 186.181 890.757 Q180.371 890.757 177.292 886.174 Q174.237 881.567 174.237 872.84 Q174.237 864.09 177.292 859.507 Q180.371 854.901 186.181 854.901 Z\" fill=\"#000000\" fill-rule=\"evenodd\" fill-opacity=\"1\" /><path clip-path=\"url(#clip140)\" d=\"M216.343 858.604 Q212.732 858.604 210.903 862.169 Q209.098 865.711 209.098 872.84 Q209.098 879.947 210.903 883.512 Q212.732 887.053 216.343 887.053 Q219.977 887.053 221.783 883.512 Q223.611 879.947 223.611 872.84 Q223.611 865.711 221.783 862.169 Q219.977 858.604 216.343 858.604 M216.343 854.901 Q222.153 854.901 225.209 859.507 Q228.287 864.09 228.287 872.84 Q228.287 881.567 225.209 886.174 Q222.153 890.757 216.343 890.757 Q210.533 890.757 207.454 886.174 Q204.399 881.567 204.399 872.84 Q204.399 864.09 207.454 859.507 Q210.533 854.901 216.343 854.901 Z\" fill=\"#000000\" fill-rule=\"evenodd\" fill-opacity=\"1\" /><path clip-path=\"url(#clip140)\" d=\"M116.668 610.963 L124.306 610.963 L124.306 584.598 L115.996 586.264 L115.996 582.005 L124.26 580.338 L128.936 580.338 L128.936 610.963 L136.575 610.963 L136.575 614.898 L116.668 614.898 L116.668 610.963 Z\" fill=\"#000000\" fill-rule=\"evenodd\" fill-opacity=\"1\" /><path clip-path=\"url(#clip140)\" d=\"M146.066 580.338 L164.422 580.338 L164.422 584.274 L150.348 584.274 L150.348 592.746 Q151.366 592.399 152.385 592.236 Q153.403 592.051 154.422 592.051 Q160.209 592.051 163.589 595.223 Q166.968 598.394 166.968 603.81 Q166.968 609.389 163.496 612.491 Q160.024 615.57 153.704 615.57 Q151.528 615.57 149.26 615.199 Q147.015 614.829 144.607 614.088 L144.607 609.389 Q146.691 610.523 148.913 611.079 Q151.135 611.635 153.612 611.635 Q157.616 611.635 159.954 609.528 Q162.292 607.422 162.292 603.81 Q162.292 600.199 159.954 598.093 Q157.616 595.986 153.612 595.986 Q151.737 595.986 149.862 596.403 Q148.01 596.82 146.066 597.699 L146.066 580.338 Z\" fill=\"#000000\" fill-rule=\"evenodd\" fill-opacity=\"1\" /><path clip-path=\"url(#clip140)\" d=\"M186.181 583.417 Q182.57 583.417 180.741 586.982 Q178.936 590.524 178.936 597.653 Q178.936 604.76 180.741 608.324 Q182.57 611.866 186.181 611.866 Q189.815 611.866 191.621 608.324 Q193.45 604.76 193.45 597.653 Q193.45 590.524 191.621 586.982 Q189.815 583.417 186.181 583.417 M186.181 579.713 Q191.991 579.713 195.047 584.32 Q198.125 588.903 198.125 597.653 Q198.125 606.38 195.047 610.986 Q191.991 615.57 186.181 615.57 Q180.371 615.57 177.292 610.986 Q174.237 606.38 174.237 597.653 Q174.237 588.903 177.292 584.32 Q180.371 579.713 186.181 579.713 Z\" fill=\"#000000\" fill-rule=\"evenodd\" fill-opacity=\"1\" /><path clip-path=\"url(#clip140)\" d=\"M216.343 583.417 Q212.732 583.417 210.903 586.982 Q209.098 590.524 209.098 597.653 Q209.098 604.76 210.903 608.324 Q212.732 611.866 216.343 611.866 Q219.977 611.866 221.783 608.324 Q223.611 604.76 223.611 597.653 Q223.611 590.524 221.783 586.982 Q219.977 583.417 216.343 583.417 M216.343 579.713 Q222.153 579.713 225.209 584.32 Q228.287 588.903 228.287 597.653 Q228.287 606.38 225.209 610.986 Q222.153 615.57 216.343 615.57 Q210.533 615.57 207.454 610.986 Q204.399 606.38 204.399 597.653 Q204.399 588.903 207.454 584.32 Q210.533 579.713 216.343 579.713 Z\" fill=\"#000000\" fill-rule=\"evenodd\" fill-opacity=\"1\" /><path clip-path=\"url(#clip140)\" d=\"M119.885 335.776 L136.204 335.776 L136.204 339.711 L114.26 339.711 L114.26 335.776 Q116.922 333.021 121.505 328.392 Q126.112 323.739 127.292 322.397 Q129.538 319.873 130.417 318.137 Q131.32 316.378 131.32 314.688 Q131.32 311.934 129.376 310.198 Q127.455 308.461 124.353 308.461 Q122.154 308.461 119.7 309.225 Q117.269 309.989 114.492 311.54 L114.492 306.818 Q117.316 305.684 119.769 305.105 Q122.223 304.526 124.26 304.526 Q129.63 304.526 132.825 307.211 Q136.019 309.897 136.019 314.387 Q136.019 316.517 135.209 318.438 Q134.422 320.336 132.316 322.929 Q131.737 323.6 128.635 326.818 Q125.533 330.012 119.885 335.776 Z\" fill=\"#000000\" fill-rule=\"evenodd\" fill-opacity=\"1\" /><path clip-path=\"url(#clip140)\" d=\"M156.019 308.23 Q152.408 308.23 150.579 311.795 Q148.774 315.336 148.774 322.466 Q148.774 329.572 150.579 333.137 Q152.408 336.679 156.019 336.679 Q159.653 336.679 161.459 333.137 Q163.288 329.572 163.288 322.466 Q163.288 315.336 161.459 311.795 Q159.653 308.23 156.019 308.23 M156.019 304.526 Q161.829 304.526 164.885 309.133 Q167.964 313.716 167.964 322.466 Q167.964 331.193 164.885 335.799 Q161.829 340.383 156.019 340.383 Q150.209 340.383 147.13 335.799 Q144.075 331.193 144.075 322.466 Q144.075 313.716 147.13 309.133 Q150.209 304.526 156.019 304.526 Z\" fill=\"#000000\" fill-rule=\"evenodd\" fill-opacity=\"1\" /><path clip-path=\"url(#clip140)\" d=\"M186.181 308.23 Q182.57 308.23 180.741 311.795 Q178.936 315.336 178.936 322.466 Q178.936 329.572 180.741 333.137 Q182.57 336.679 186.181 336.679 Q189.815 336.679 191.621 333.137 Q193.45 329.572 193.45 322.466 Q193.45 315.336 191.621 311.795 Q189.815 308.23 186.181 308.23 M186.181 304.526 Q191.991 304.526 195.047 309.133 Q198.125 313.716 198.125 322.466 Q198.125 331.193 195.047 335.799 Q191.991 340.383 186.181 340.383 Q180.371 340.383 177.292 335.799 Q174.237 331.193 174.237 322.466 Q174.237 313.716 177.292 309.133 Q180.371 304.526 186.181 304.526 Z\" fill=\"#000000\" fill-rule=\"evenodd\" fill-opacity=\"1\" /><path clip-path=\"url(#clip140)\" d=\"M216.343 308.23 Q212.732 308.23 210.903 311.795 Q209.098 315.336 209.098 322.466 Q209.098 329.572 210.903 333.137 Q212.732 336.679 216.343 336.679 Q219.977 336.679 221.783 333.137 Q223.611 329.572 223.611 322.466 Q223.611 315.336 221.783 311.795 Q219.977 308.23 216.343 308.23 M216.343 304.526 Q222.153 304.526 225.209 309.133 Q228.287 313.716 228.287 322.466 Q228.287 331.193 225.209 335.799 Q222.153 340.383 216.343 340.383 Q210.533 340.383 207.454 335.799 Q204.399 331.193 204.399 322.466 Q204.399 313.716 207.454 309.133 Q210.533 304.526 216.343 304.526 Z\" fill=\"#000000\" fill-rule=\"evenodd\" fill-opacity=\"1\" /><path clip-path=\"url(#clip140)\" d=\"M119.885 60.5889 L136.204 60.5889 L136.204 64.5241 L114.26 64.5241 L114.26 60.5889 Q116.922 57.8343 121.505 53.2047 Q126.112 48.552 127.292 47.2094 Q129.538 44.6862 130.417 42.9501 Q131.32 41.1909 131.32 39.5011 Q131.32 36.7465 129.376 35.0104 Q127.455 33.2743 124.353 33.2743 Q122.154 33.2743 119.7 34.0381 Q117.269 34.802 114.492 36.3529 L114.492 31.6308 Q117.316 30.4965 119.769 29.9178 Q122.223 29.3391 124.26 29.3391 Q129.63 29.3391 132.825 32.0243 Q136.019 34.7094 136.019 39.2002 Q136.019 41.3298 135.209 43.2511 Q134.422 45.1492 132.316 47.7418 Q131.737 48.4131 128.635 51.6306 Q125.533 54.8251 119.885 60.5889 Z\" fill=\"#000000\" fill-rule=\"evenodd\" fill-opacity=\"1\" /><path clip-path=\"url(#clip140)\" d=\"M146.066 29.9641 L164.422 29.9641 L164.422 33.8993 L150.348 33.8993 L150.348 42.3714 Q151.366 42.0242 152.385 41.8622 Q153.403 41.677 154.422 41.677 Q160.209 41.677 163.589 44.8483 Q166.968 48.0196 166.968 53.4362 Q166.968 59.0149 163.496 62.1167 Q160.024 65.1954 153.704 65.1954 Q151.528 65.1954 149.26 64.825 Q147.015 64.4547 144.607 63.7139 L144.607 59.0149 Q146.691 60.1491 148.913 60.7047 Q151.135 61.2602 153.612 61.2602 Q157.616 61.2602 159.954 59.1538 Q162.292 57.0473 162.292 53.4362 Q162.292 49.8251 159.954 47.7186 Q157.616 45.6122 153.612 45.6122 Q151.737 45.6122 149.862 46.0288 Q148.01 46.4455 146.066 47.3251 L146.066 29.9641 Z\" fill=\"#000000\" fill-rule=\"evenodd\" fill-opacity=\"1\" /><path clip-path=\"url(#clip140)\" d=\"M186.181 33.0428 Q182.57 33.0428 180.741 36.6076 Q178.936 40.1492 178.936 47.2788 Q178.936 54.3853 180.741 57.9501 Q182.57 61.4917 186.181 61.4917 Q189.815 61.4917 191.621 57.9501 Q193.45 54.3853 193.45 47.2788 Q193.45 40.1492 191.621 36.6076 Q189.815 33.0428 186.181 33.0428 M186.181 29.3391 Q191.991 29.3391 195.047 33.9456 Q198.125 38.5289 198.125 47.2788 Q198.125 56.0056 195.047 60.6121 Q191.991 65.1954 186.181 65.1954 Q180.371 65.1954 177.292 60.6121 Q174.237 56.0056 174.237 47.2788 Q174.237 38.5289 177.292 33.9456 Q180.371 29.3391 186.181 29.3391 Z\" fill=\"#000000\" fill-rule=\"evenodd\" fill-opacity=\"1\" /><path clip-path=\"url(#clip140)\" d=\"M216.343 33.0428 Q212.732 33.0428 210.903 36.6076 Q209.098 40.1492 209.098 47.2788 Q209.098 54.3853 210.903 57.9501 Q212.732 61.4917 216.343 61.4917 Q219.977 61.4917 221.783 57.9501 Q223.611 54.3853 223.611 47.2788 Q223.611 40.1492 221.783 36.6076 Q219.977 33.0428 216.343 33.0428 M216.343 29.3391 Q222.153 29.3391 225.209 33.9456 Q228.287 38.5289 228.287 47.2788 Q228.287 56.0056 225.209 60.6121 Q222.153 65.1954 216.343 65.1954 Q210.533 65.1954 207.454 60.6121 Q204.399 56.0056 204.399 47.2788 Q204.399 38.5289 207.454 33.9456 Q210.533 29.3391 216.343 29.3391 Z\" fill=\"#000000\" fill-rule=\"evenodd\" fill-opacity=\"1\" /><path clip-path=\"url(#clip140)\" d=\"M16.4842 960.908 L16.4842 954.415 L56.6518 944.421 L16.4842 934.459 L16.4842 927.234 L56.6518 917.239 L16.4842 907.277 L16.4842 900.752 L64.0042 912.688 L64.0042 920.772 L22.7544 930.798 L64.0042 940.92 L64.0042 949.004 L16.4842 960.908 Z\" fill=\"#000000\" fill-rule=\"evenodd\" fill-opacity=\"1\" /><path clip-path=\"url(#clip140)\" d=\"M44.7161 865.804 L47.5806 865.804 L47.5806 892.731 Q53.6281 892.349 56.8109 889.103 Q59.9619 885.825 59.9619 880 Q59.9619 876.626 59.1344 873.475 Q58.3069 870.292 56.6518 867.173 L62.1899 867.173 Q63.5267 870.324 64.227 873.634 Q64.9272 876.944 64.9272 880.35 Q64.9272 888.88 59.9619 893.877 Q54.9967 898.842 46.5303 898.842 Q37.7774 898.842 32.6531 894.132 Q27.4968 889.389 27.4968 881.369 Q27.4968 874.175 32.1438 870.006 Q36.7589 865.804 44.7161 865.804 M42.9973 871.661 Q38.1912 871.725 35.3266 874.366 Q32.4621 876.976 32.4621 881.305 Q32.4621 886.207 35.2312 889.167 Q38.0002 892.095 43.0292 892.54 L42.9973 871.661 Z\" fill=\"#000000\" fill-rule=\"evenodd\" fill-opacity=\"1\" /><path clip-path=\"url(#clip140)\" d=\"M46.0847 839.991 Q46.0847 847.089 47.7079 849.827 Q49.3312 852.564 53.2461 852.564 Q56.3653 852.564 58.2114 850.527 Q60.0256 848.458 60.0256 844.925 Q60.0256 840.055 56.5881 837.127 Q53.1188 834.167 47.3897 834.167 L46.0847 834.167 L46.0847 839.991 M43.6657 828.31 L64.0042 828.31 L64.0042 834.167 L58.5933 834.167 Q61.8398 836.172 63.3994 839.164 Q64.9272 842.156 64.9272 846.485 Q64.9272 851.959 61.8716 855.206 Q58.7843 858.42 53.6281 858.42 Q47.6125 858.42 44.5569 854.41 Q41.5014 850.368 41.5014 842.379 L41.5014 834.167 L40.9285 834.167 Q36.8862 834.167 34.6901 836.84 Q32.4621 839.482 32.4621 844.288 Q32.4621 847.344 33.1941 850.24 Q33.9262 853.137 35.3903 855.81 L29.9795 855.81 Q28.7381 852.596 28.1334 849.572 Q27.4968 846.548 27.4968 843.684 Q27.4968 835.949 31.5072 832.13 Q35.5176 828.31 43.6657 828.31 Z\" fill=\"#000000\" fill-rule=\"evenodd\" fill-opacity=\"1\" /><path clip-path=\"url(#clip140)\" d=\"M14.479 816.247 L14.479 810.391 L64.0042 810.391 L64.0042 816.247 L14.479 816.247 Z\" fill=\"#000000\" fill-rule=\"evenodd\" fill-opacity=\"1\" /><path clip-path=\"url(#clip140)\" d=\"M18.2347 792.344 L28.3562 792.344 L28.3562 780.281 L32.9077 780.281 L32.9077 792.344 L52.2594 792.344 Q56.6199 792.344 57.8613 791.167 Q59.1026 789.957 59.1026 786.297 L59.1026 780.281 L64.0042 780.281 L64.0042 786.297 Q64.0042 793.076 61.4897 795.654 Q58.9434 798.232 52.2594 798.232 L32.9077 798.232 L32.9077 802.529 L28.3562 802.529 L28.3562 798.232 L18.2347 798.232 L18.2347 792.344 Z\" fill=\"#000000\" fill-rule=\"evenodd\" fill-opacity=\"1\" /><path clip-path=\"url(#clip140)\" d=\"M42.4881 742.946 L64.0042 742.946 L64.0042 748.803 L42.679 748.803 Q37.6183 748.803 35.1038 750.776 Q32.5894 752.749 32.5894 756.696 Q32.5894 761.439 35.6131 764.176 Q38.6368 766.913 43.8567 766.913 L64.0042 766.913 L64.0042 772.801 L14.479 772.801 L14.479 766.913 L33.8944 766.913 Q30.6797 764.813 29.0883 761.98 Q27.4968 759.115 27.4968 755.391 Q27.4968 749.248 31.3163 746.097 Q35.1038 742.946 42.4881 742.946 Z\" fill=\"#000000\" fill-rule=\"evenodd\" fill-opacity=\"1\" /><path clip-path=\"url(#clip140)\" d=\"M28.3562 710.545 L28.3562 704.688 L64.0042 704.688 L64.0042 710.545 L28.3562 710.545 M14.479 710.545 L14.479 704.688 L21.895 704.688 L21.895 710.545 L14.479 710.545 Z\" fill=\"#000000\" fill-rule=\"evenodd\" fill-opacity=\"1\" /><path clip-path=\"url(#clip140)\" d=\"M42.4881 662.802 L64.0042 662.802 L64.0042 668.659 L42.679 668.659 Q37.6183 668.659 35.1038 670.632 Q32.5894 672.605 32.5894 676.552 Q32.5894 681.294 35.6131 684.032 Q38.6368 686.769 43.8567 686.769 L64.0042 686.769 L64.0042 692.657 L28.3562 692.657 L28.3562 686.769 L33.8944 686.769 Q30.6797 684.668 29.0883 681.836 Q27.4968 678.971 27.4968 675.247 Q27.4968 669.104 31.3163 665.953 Q35.1038 662.802 42.4881 662.802 Z\" fill=\"#000000\" fill-rule=\"evenodd\" fill-opacity=\"1\" /><path clip-path=\"url(#clip140)\" d=\"M16.4842 634.379 L16.4842 627.886 L56.6518 617.892 L16.4842 607.93 L16.4842 600.705 L56.6518 590.71 L16.4842 580.748 L16.4842 574.223 L64.0042 586.159 L64.0042 594.243 L22.7544 604.269 L64.0042 614.391 L64.0042 622.475 L16.4842 634.379 Z\" fill=\"#000000\" fill-rule=\"evenodd\" fill-opacity=\"1\" /><path clip-path=\"url(#clip140)\" d=\"M46.0847 553.917 Q46.0847 561.014 47.7079 563.752 Q49.3312 566.489 53.2461 566.489 Q56.3653 566.489 58.2114 564.452 Q60.0256 562.383 60.0256 558.85 Q60.0256 553.98 56.5881 551.052 Q53.1188 548.092 47.3897 548.092 L46.0847 548.092 L46.0847 553.917 M43.6657 542.236 L64.0042 542.236 L64.0042 548.092 L58.5933 548.092 Q61.8398 550.097 63.3994 553.089 Q64.9272 556.081 64.9272 560.41 Q64.9272 565.884 61.8716 569.131 Q58.7843 572.345 53.6281 572.345 Q47.6125 572.345 44.5569 568.335 Q41.5014 564.293 41.5014 556.304 L41.5014 548.092 L40.9285 548.092 Q36.8862 548.092 34.6901 550.766 Q32.4621 553.407 32.4621 558.213 Q32.4621 561.269 33.1941 564.165 Q33.9262 567.062 35.3903 569.735 L29.9795 569.735 Q28.7381 566.521 28.1334 563.497 Q27.4968 560.473 27.4968 557.609 Q27.4968 549.874 31.5072 546.055 Q35.5176 542.236 43.6657 542.236 Z\" fill=\"#000000\" fill-rule=\"evenodd\" fill-opacity=\"1\" /><path clip-path=\"url(#clip140)\" d=\"M33.8307 509.516 Q33.2578 510.503 33.0032 511.68 Q32.7167 512.826 32.7167 514.226 Q32.7167 519.192 35.9632 521.865 Q39.1779 524.507 45.2253 524.507 L64.0042 524.507 L64.0042 530.395 L28.3562 530.395 L28.3562 524.507 L33.8944 524.507 Q30.6479 522.661 29.0883 519.701 Q27.4968 516.741 27.4968 512.508 Q27.4968 511.903 27.5923 511.171 Q27.656 510.439 27.8151 509.548 L33.8307 509.516 Z\" fill=\"#000000\" fill-rule=\"evenodd\" fill-opacity=\"1\" /><polyline clip-path=\"url(#clip142)\" style=\"stroke:#009af9; stroke-linecap:round; stroke-linejoin:round; stroke-width:4; stroke-opacity:1; fill:none\" points=\"\n",
       "  542.75,432.506 1099.67,1092.96 264.287,102.282 1378.14,1423.18 1043.98,1026.91 \n",
       "  \"/>\n",
       "<path clip-path=\"url(#clip140)\" d=\"\n",
       "M1998.66 196.789 L2283.14 196.789 L2283.14 93.1086 L1998.66 93.1086  Z\n",
       "  \" fill=\"#ffffff\" fill-rule=\"evenodd\" fill-opacity=\"1\"/>\n",
       "<polyline clip-path=\"url(#clip140)\" style=\"stroke:#000000; stroke-linecap:round; stroke-linejoin:round; stroke-width:4; stroke-opacity:1; fill:none\" points=\"\n",
       "  1998.66,196.789 2283.14,196.789 2283.14,93.1086 1998.66,93.1086 1998.66,196.789 \n",
       "  \"/>\n",
       "<polyline clip-path=\"url(#clip140)\" style=\"stroke:#009af9; stroke-linecap:round; stroke-linejoin:round; stroke-width:4; stroke-opacity:1; fill:none\" points=\"\n",
       "  2021.86,144.949 2161.09,144.949 \n",
       "  \"/>\n",
       "<path clip-path=\"url(#clip140)\" d=\"M2198.14 164.636 Q2196.34 169.266 2194.62 170.678 Q2192.91 172.09 2190.04 172.09 L2186.64 172.09 L2186.64 168.525 L2189.14 168.525 Q2190.9 168.525 2191.87 167.692 Q2192.84 166.858 2194.02 163.756 L2194.79 161.812 L2184.3 136.303 L2188.81 136.303 L2196.92 156.581 L2205.02 136.303 L2209.53 136.303 L2198.14 164.636 Z\" fill=\"#000000\" fill-rule=\"evenodd\" fill-opacity=\"1\" /><path clip-path=\"url(#clip140)\" d=\"M2216.82 158.293 L2224.46 158.293 L2224.46 131.928 L2216.15 133.595 L2216.15 129.335 L2224.42 127.669 L2229.09 127.669 L2229.09 158.293 L2236.73 158.293 L2236.73 162.229 L2216.82 162.229 L2216.82 158.293 Z\" fill=\"#000000\" fill-rule=\"evenodd\" fill-opacity=\"1\" /></svg>\n"
      ]
     },
     "execution_count": 180,
     "metadata": {},
     "output_type": "execute_result"
    }
   ],
   "source": [
    "data = [Wealth_A[1,:] Wealth_A[2,:] Wealth_B[1,:] Wealth_B[2,:] [36 28]'*1000/Price_AA]\n",
    "\n",
    "plot(data[2,:], data[1,:])\n",
    "xlabel!(\"Wealth in Peace\")\n",
    "ylabel!(\"Wealth in War\")\n",
    "xlims!(0, 1500)\n",
    "ylims!(0, 2500)"
   ]
  },
  {
   "cell_type": "markdown",
   "id": "7ea0a995-82dd-422c-9888-dac543a40367",
   "metadata": {},
   "source": [
    "\n",
    "**(f)** Suppose the captain’s utility function can be written as $U = W_1^.8 \\cdot W_2^.2$. If his investment\n",
    "is restricted to Galactic Steel and/or Nova Nutrients, what is his optimal portfolio (i.e., how many shares of each security should he buy or sell)?"
   ]
  },
  {
   "cell_type": "code",
   "execution_count": 181,
   "id": "50e9c385-3d4c-4839-aa9f-f2dcc4f24888",
   "metadata": {},
   "outputs": [
    {
     "data": {
      "text/plain": [
       "2×1 Matrix{Float64}:\n",
       " 0.25\n",
       " 0.75"
      ]
     },
     "execution_count": 181,
     "metadata": {},
     "output_type": "execute_result"
    }
   ],
   "source": [
    "prob = Pure_Price./(sum(Pure_Price))"
   ]
  },
  {
   "cell_type": "markdown",
   "id": "81946563-c7a2-48ad-a4fd-5fc946ac7411",
   "metadata": {},
   "source": [
    "## 4\n",
    "Ms. Mary Kelley has initial wealth $W_0$ = \\\\$1,200 and faces an uncertain future that she\n",
    "partitions into two states, s = 1 and s = 2. She can invest in two securities, j and k, with initial\n",
    "prices of $p_j$ = \\\\$10 and $p_k$ = \\\\$12, and the following payoff table:\n",
    "\n",
    "<br>\n",
    "\n",
    "| Security | s = 1 | s = 2 |\n",
    "| --- |  --- |  --- | \n",
    "| j | 10 | 12 |\n",
    "| k | 20 | 8 |"
   ]
  },
  {
   "cell_type": "markdown",
   "id": "0be695fe-4259-4e2c-9027-fa7084a176d9",
   "metadata": {},
   "source": [
    "**(a)** If she buys only security j , how many shares can she buy? If she buys only security k,\n",
    "how many can she buy? What would her final wealth, Ws, be in both cases and each state?\n",
    "\n"
   ]
  },
  {
   "cell_type": "code",
   "execution_count": 227,
   "id": "5523fabe-aa5b-4a0d-9cea-d0c39824bafb",
   "metadata": {},
   "outputs": [
    {
     "data": {
      "text/plain": [
       "1×2 Matrix{Float64}:\n",
       " 120.0  100.0"
      ]
     },
     "execution_count": 227,
     "metadata": {},
     "output_type": "execute_result"
    }
   ],
   "source": [
    "Price = [10 12]\n",
    "Max_Buy = 1200 ./Price"
   ]
  },
  {
   "cell_type": "code",
   "execution_count": 283,
   "id": "d4b9419a-6dde-4d8e-962d-d68ddea06468",
   "metadata": {},
   "outputs": [
    {
     "data": {
      "text/plain": [
       "2×2 Matrix{Float64}:\n",
       " 1200.0  1440.0\n",
       " 2000.0   800.0"
      ]
     },
     "execution_count": 283,
     "metadata": {},
     "output_type": "execute_result"
    }
   ],
   "source": [
    "Payoff = [10 12; 20 8]\n",
    "Wealth_A = Payoff.*Max_Buy'"
   ]
  },
  {
   "cell_type": "markdown",
   "id": "751d1d91-5927-4ee3-b05a-af3f51e21221",
   "metadata": {},
   "source": [
    "**(b)** Suppose Ms. Kelley can issue as well as buy securities; however, she must be able to\n",
    "meet all claims under the occurrence of either state. What is the maximum number of shares\n",
    "of security j she could sell to buy security k? What is the maximum number of shares of\n",
    "security k she could sell to buy security j? What would her final wealth be in both cases\n",
    "and in each state?"
   ]
  },
  {
   "cell_type": "code",
   "execution_count": 253,
   "id": "4f1b0e1f-1990-49d6-9a7e-9b054169d433",
   "metadata": {},
   "outputs": [
    {
     "data": {
      "text/plain": [
       "124.99999975070023"
      ]
     },
     "execution_count": 253,
     "metadata": {},
     "output_type": "execute_result"
    }
   ],
   "source": [
    "min_k = minimum(Wealth_A[2,:])\n",
    "max_j = maximum(Wealth_A[1,:])\n",
    "\n",
    "opt=Model(Ipopt.Optimizer)\n",
    "@variable(opt,short_j>=0)\n",
    "@NLconstraint(opt, min_k*(1 + short_j) - short_j*max_j >=0 )\n",
    "@NLobjective(opt,Max,short_j)\n",
    "set_silent(opt)\n",
    "optimize!(opt)\n",
    "\n",
    "value.(short_j)*1200/Price[2]"
   ]
  },
  {
   "cell_type": "code",
   "execution_count": 254,
   "id": "3c6b4043-d73c-413a-8e7f-d58e059c9e26",
   "metadata": {},
   "outputs": [
    {
     "data": {
      "text/plain": [
       "179.99999970051962"
      ]
     },
     "execution_count": 254,
     "metadata": {},
     "output_type": "execute_result"
    }
   ],
   "source": [
    "min_j = minimum(Wealth_A[1,:])\n",
    "max_k = maximum(Wealth_A[2,:])\n",
    "\n",
    "opt=Model(Ipopt.Optimizer)\n",
    "@variable(opt,short_k>=0)\n",
    "@NLconstraint(opt, min_j*(1 + short_k) - short_k*max_k >=0 )\n",
    "@NLobjective(opt,Max,short_k)\n",
    "set_silent(opt)\n",
    "optimize!(opt)\n",
    "\n",
    "value.(short_k)*1200/Price[1]"
   ]
  },
  {
   "cell_type": "markdown",
   "id": "1ed0c569-fc8b-4288-825a-6ea76ec6b731",
   "metadata": {},
   "source": [
    "Can short a max of 125 shares in stock j or a max of 180 shares in stock k"
   ]
  },
  {
   "cell_type": "code",
   "execution_count": 255,
   "id": "a7f35d9a-bb1a-451a-9ce5-406d17777592",
   "metadata": {},
   "outputs": [
    {
     "data": {
      "text/plain": [
       "1×2 Matrix{Float64}:\n",
       " 3000.0  1.59552e-6"
      ]
     },
     "execution_count": 255,
     "metadata": {},
     "output_type": "execute_result"
    }
   ],
   "source": [
    "Wealth_B = [-value.(short_j)*1200/Price[1] (1+value.(short_j))*1200/Price[2]]*Payoff"
   ]
  },
  {
   "cell_type": "code",
   "execution_count": 257,
   "id": "8b8cf7c8-60cc-43a7-b5ff-084cafac3a10",
   "metadata": {},
   "outputs": [
    {
     "data": {
      "text/plain": [
       "1×2 Matrix{Float64}:\n",
       " 1.99654e-6  2400.0"
      ]
     },
     "execution_count": 257,
     "metadata": {},
     "output_type": "execute_result"
    }
   ],
   "source": [
    "Wealth_C = [(1+value.(short_k))*1200/Price[1] -value.(short_k)*1200/Price[2]]*Payoff"
   ]
  },
  {
   "cell_type": "markdown",
   "id": "2dfa8c52-f805-4879-b2f7-8e120fb48247",
   "metadata": {},
   "source": [
    "**(c)** What are the prices of the pure securities implicit in the payoff table?\n"
   ]
  },
  {
   "cell_type": "code",
   "execution_count": 232,
   "id": "0d9c592f-28dd-4031-8320-62d0bf374789",
   "metadata": {},
   "outputs": [
    {
     "data": {
      "text/plain": [
       "2×1 Matrix{Float64}:\n",
       " 0.40000000000000013\n",
       " 0.5"
      ]
     },
     "execution_count": 232,
     "metadata": {},
     "output_type": "execute_result"
    }
   ],
   "source": [
    "Pure_Price = inv(Payoff)*Price'"
   ]
  },
  {
   "cell_type": "markdown",
   "id": "b2709c09-45c5-487a-94d1-098fce717009",
   "metadata": {},
   "source": [
    "$P_1 = 0.4$\n",
    "\n",
    "$P_2 = 0.5$"
   ]
  },
  {
   "cell_type": "markdown",
   "id": "725810bf-738f-4ec0-af4d-76ef5ade29df",
   "metadata": {},
   "source": [
    "**(d)** What is the initial price of a third security i for which $Q_{i1}$= \\\\$5 and $Q_{i2}$ = \\\\$12?"
   ]
  },
  {
   "cell_type": "code",
   "execution_count": 234,
   "id": "fd12c49c-dfa4-4e34-a322-479966f5009c",
   "metadata": {},
   "outputs": [
    {
     "data": {
      "text/plain": [
       "1×1 Matrix{Float64}:\n",
       " 8.0"
      ]
     },
     "execution_count": 234,
     "metadata": {},
     "output_type": "execute_result"
    }
   ],
   "source": [
    "Payoff_Q = [5 12]\n",
    "Price_Q = Payoff_Q*Pure_Price"
   ]
  },
  {
   "cell_type": "markdown",
   "id": "e29a01f9-0629-4dde-b5f0-c4fd41bfac51",
   "metadata": {},
   "source": [
    "**(e)** Summarize the results of (a) through (d) on a graph with axes $W_1$ and $W_2$.\n",
    "\n"
   ]
  },
  {
   "cell_type": "code",
   "execution_count": 288,
   "id": "52ceadef-3e4d-4983-8642-d8bb99cd2574",
   "metadata": {},
   "outputs": [
    {
     "data": {
      "image/svg+xml": [
       "<?xml version=\"1.0\" encoding=\"utf-8\"?>\n",
       "<svg xmlns=\"http://www.w3.org/2000/svg\" xmlns:xlink=\"http://www.w3.org/1999/xlink\" width=\"600\" height=\"400\" viewBox=\"0 0 2400 1600\">\n",
       "<defs>\n",
       "  <clipPath id=\"clip340\">\n",
       "    <rect x=\"0\" y=\"0\" width=\"2400\" height=\"1600\"/>\n",
       "  </clipPath>\n",
       "</defs>\n",
       "<path clip-path=\"url(#clip340)\" d=\"\n",
       "M0 1600 L2400 1600 L2400 0 L0 0  Z\n",
       "  \" fill=\"#ffffff\" fill-rule=\"evenodd\" fill-opacity=\"1\"/>\n",
       "<defs>\n",
       "  <clipPath id=\"clip341\">\n",
       "    <rect x=\"480\" y=\"0\" width=\"1681\" height=\"1600\"/>\n",
       "  </clipPath>\n",
       "</defs>\n",
       "<path clip-path=\"url(#clip340)\" d=\"\n",
       "M264.287 1423.18 L2352.76 1423.18 L2352.76 47.2441 L264.287 47.2441  Z\n",
       "  \" fill=\"#ffffff\" fill-rule=\"evenodd\" fill-opacity=\"1\"/>\n",
       "<defs>\n",
       "  <clipPath id=\"clip342\">\n",
       "    <rect x=\"264\" y=\"47\" width=\"2089\" height=\"1377\"/>\n",
       "  </clipPath>\n",
       "</defs>\n",
       "<polyline clip-path=\"url(#clip342)\" style=\"stroke:#000000; stroke-linecap:round; stroke-linejoin:round; stroke-width:2; stroke-opacity:0.1; fill:none\" points=\"\n",
       "  323.395,1423.18 323.395,47.2441 \n",
       "  \"/>\n",
       "<polyline clip-path=\"url(#clip342)\" style=\"stroke:#000000; stroke-linecap:round; stroke-linejoin:round; stroke-width:2; stroke-opacity:0.1; fill:none\" points=\"\n",
       "  980.146,1423.18 980.146,47.2441 \n",
       "  \"/>\n",
       "<polyline clip-path=\"url(#clip342)\" style=\"stroke:#000000; stroke-linecap:round; stroke-linejoin:round; stroke-width:2; stroke-opacity:0.1; fill:none\" points=\"\n",
       "  1636.9,1423.18 1636.9,47.2441 \n",
       "  \"/>\n",
       "<polyline clip-path=\"url(#clip342)\" style=\"stroke:#000000; stroke-linecap:round; stroke-linejoin:round; stroke-width:2; stroke-opacity:0.1; fill:none\" points=\"\n",
       "  2293.65,1423.18 2293.65,47.2441 \n",
       "  \"/>\n",
       "<polyline clip-path=\"url(#clip340)\" style=\"stroke:#000000; stroke-linecap:round; stroke-linejoin:round; stroke-width:4; stroke-opacity:1; fill:none\" points=\"\n",
       "  264.287,1423.18 2352.76,1423.18 \n",
       "  \"/>\n",
       "<polyline clip-path=\"url(#clip340)\" style=\"stroke:#000000; stroke-linecap:round; stroke-linejoin:round; stroke-width:4; stroke-opacity:1; fill:none\" points=\"\n",
       "  323.395,1423.18 323.395,1404.28 \n",
       "  \"/>\n",
       "<polyline clip-path=\"url(#clip340)\" style=\"stroke:#000000; stroke-linecap:round; stroke-linejoin:round; stroke-width:4; stroke-opacity:1; fill:none\" points=\"\n",
       "  980.146,1423.18 980.146,1404.28 \n",
       "  \"/>\n",
       "<polyline clip-path=\"url(#clip340)\" style=\"stroke:#000000; stroke-linecap:round; stroke-linejoin:round; stroke-width:4; stroke-opacity:1; fill:none\" points=\"\n",
       "  1636.9,1423.18 1636.9,1404.28 \n",
       "  \"/>\n",
       "<polyline clip-path=\"url(#clip340)\" style=\"stroke:#000000; stroke-linecap:round; stroke-linejoin:round; stroke-width:4; stroke-opacity:1; fill:none\" points=\"\n",
       "  2293.65,1423.18 2293.65,1404.28 \n",
       "  \"/>\n",
       "<path clip-path=\"url(#clip340)\" d=\"M323.395 1454.1 Q319.784 1454.1 317.955 1457.66 Q316.15 1461.2 316.15 1468.33 Q316.15 1475.44 317.955 1479.01 Q319.784 1482.55 323.395 1482.55 Q327.029 1482.55 328.835 1479.01 Q330.663 1475.44 330.663 1468.33 Q330.663 1461.2 328.835 1457.66 Q327.029 1454.1 323.395 1454.1 M323.395 1450.39 Q329.205 1450.39 332.261 1455 Q335.339 1459.58 335.339 1468.33 Q335.339 1477.06 332.261 1481.67 Q329.205 1486.25 323.395 1486.25 Q317.585 1486.25 314.506 1481.67 Q311.451 1477.06 311.451 1468.33 Q311.451 1459.58 314.506 1455 Q317.585 1450.39 323.395 1450.39 Z\" fill=\"#000000\" fill-rule=\"evenodd\" fill-opacity=\"1\" /><path clip-path=\"url(#clip340)\" d=\"M924.672 1481.64 L932.311 1481.64 L932.311 1455.28 L924.001 1456.95 L924.001 1452.69 L932.264 1451.02 L936.94 1451.02 L936.94 1481.64 L944.579 1481.64 L944.579 1485.58 L924.672 1485.58 L924.672 1481.64 Z\" fill=\"#000000\" fill-rule=\"evenodd\" fill-opacity=\"1\" /><path clip-path=\"url(#clip340)\" d=\"M964.023 1454.1 Q960.412 1454.1 958.584 1457.66 Q956.778 1461.2 956.778 1468.33 Q956.778 1475.44 958.584 1479.01 Q960.412 1482.55 964.023 1482.55 Q967.658 1482.55 969.463 1479.01 Q971.292 1475.44 971.292 1468.33 Q971.292 1461.2 969.463 1457.66 Q967.658 1454.1 964.023 1454.1 M964.023 1450.39 Q969.834 1450.39 972.889 1455 Q975.968 1459.58 975.968 1468.33 Q975.968 1477.06 972.889 1481.67 Q969.834 1486.25 964.023 1486.25 Q958.213 1486.25 955.135 1481.67 Q952.079 1477.06 952.079 1468.33 Q952.079 1459.58 955.135 1455 Q958.213 1450.39 964.023 1450.39 Z\" fill=\"#000000\" fill-rule=\"evenodd\" fill-opacity=\"1\" /><path clip-path=\"url(#clip340)\" d=\"M994.185 1454.1 Q990.574 1454.1 988.746 1457.66 Q986.94 1461.2 986.94 1468.33 Q986.94 1475.44 988.746 1479.01 Q990.574 1482.55 994.185 1482.55 Q997.82 1482.55 999.625 1479.01 Q1001.45 1475.44 1001.45 1468.33 Q1001.45 1461.2 999.625 1457.66 Q997.82 1454.1 994.185 1454.1 M994.185 1450.39 Q999.995 1450.39 1003.05 1455 Q1006.13 1459.58 1006.13 1468.33 Q1006.13 1477.06 1003.05 1481.67 Q999.995 1486.25 994.185 1486.25 Q988.375 1486.25 985.296 1481.67 Q982.241 1477.06 982.241 1468.33 Q982.241 1459.58 985.296 1455 Q988.375 1450.39 994.185 1450.39 Z\" fill=\"#000000\" fill-rule=\"evenodd\" fill-opacity=\"1\" /><path clip-path=\"url(#clip340)\" d=\"M1024.35 1454.1 Q1020.74 1454.1 1018.91 1457.66 Q1017.1 1461.2 1017.1 1468.33 Q1017.1 1475.44 1018.91 1479.01 Q1020.74 1482.55 1024.35 1482.55 Q1027.98 1482.55 1029.79 1479.01 Q1031.62 1475.44 1031.62 1468.33 Q1031.62 1461.2 1029.79 1457.66 Q1027.98 1454.1 1024.35 1454.1 M1024.35 1450.39 Q1030.16 1450.39 1033.21 1455 Q1036.29 1459.58 1036.29 1468.33 Q1036.29 1477.06 1033.21 1481.67 Q1030.16 1486.25 1024.35 1486.25 Q1018.54 1486.25 1015.46 1481.67 Q1012.4 1477.06 1012.4 1468.33 Q1012.4 1459.58 1015.46 1455 Q1018.54 1450.39 1024.35 1450.39 Z\" fill=\"#000000\" fill-rule=\"evenodd\" fill-opacity=\"1\" /><path clip-path=\"url(#clip340)\" d=\"M1585.51 1481.64 L1601.83 1481.64 L1601.83 1485.58 L1579.88 1485.58 L1579.88 1481.64 Q1582.55 1478.89 1587.13 1474.26 Q1591.74 1469.61 1592.92 1468.27 Q1595.16 1465.74 1596.04 1464.01 Q1596.94 1462.25 1596.94 1460.56 Q1596.94 1457.8 1595 1456.07 Q1593.08 1454.33 1589.98 1454.33 Q1587.78 1454.33 1585.32 1455.09 Q1582.89 1455.86 1580.12 1457.41 L1580.12 1452.69 Q1582.94 1451.55 1585.39 1450.97 Q1587.85 1450.39 1589.88 1450.39 Q1595.25 1450.39 1598.45 1453.08 Q1601.64 1455.77 1601.64 1460.26 Q1601.64 1462.39 1600.83 1464.31 Q1600.05 1466.2 1597.94 1468.8 Q1597.36 1469.47 1594.26 1472.69 Q1591.16 1475.88 1585.51 1481.64 Z\" fill=\"#000000\" fill-rule=\"evenodd\" fill-opacity=\"1\" /><path clip-path=\"url(#clip340)\" d=\"M1621.64 1454.1 Q1618.03 1454.1 1616.2 1457.66 Q1614.4 1461.2 1614.4 1468.33 Q1614.4 1475.44 1616.2 1479.01 Q1618.03 1482.55 1621.64 1482.55 Q1625.28 1482.55 1627.08 1479.01 Q1628.91 1475.44 1628.91 1468.33 Q1628.91 1461.2 1627.08 1457.66 Q1625.28 1454.1 1621.64 1454.1 M1621.64 1450.39 Q1627.45 1450.39 1630.51 1455 Q1633.59 1459.58 1633.59 1468.33 Q1633.59 1477.06 1630.51 1481.67 Q1627.45 1486.25 1621.64 1486.25 Q1615.83 1486.25 1612.75 1481.67 Q1609.7 1477.06 1609.7 1468.33 Q1609.7 1459.58 1612.75 1455 Q1615.83 1450.39 1621.64 1450.39 Z\" fill=\"#000000\" fill-rule=\"evenodd\" fill-opacity=\"1\" /><path clip-path=\"url(#clip340)\" d=\"M1651.8 1454.1 Q1648.19 1454.1 1646.36 1457.66 Q1644.56 1461.2 1644.56 1468.33 Q1644.56 1475.44 1646.36 1479.01 Q1648.19 1482.55 1651.8 1482.55 Q1655.44 1482.55 1657.24 1479.01 Q1659.07 1475.44 1659.07 1468.33 Q1659.07 1461.2 1657.24 1457.66 Q1655.44 1454.1 1651.8 1454.1 M1651.8 1450.39 Q1657.61 1450.39 1660.67 1455 Q1663.75 1459.58 1663.75 1468.33 Q1663.75 1477.06 1660.67 1481.67 Q1657.61 1486.25 1651.8 1486.25 Q1645.99 1486.25 1642.92 1481.67 Q1639.86 1477.06 1639.86 1468.33 Q1639.86 1459.58 1642.92 1455 Q1645.99 1450.39 1651.8 1450.39 Z\" fill=\"#000000\" fill-rule=\"evenodd\" fill-opacity=\"1\" /><path clip-path=\"url(#clip340)\" d=\"M1681.97 1454.1 Q1678.36 1454.1 1676.53 1457.66 Q1674.72 1461.2 1674.72 1468.33 Q1674.72 1475.44 1676.53 1479.01 Q1678.36 1482.55 1681.97 1482.55 Q1685.6 1482.55 1687.41 1479.01 Q1689.23 1475.44 1689.23 1468.33 Q1689.23 1461.2 1687.41 1457.66 Q1685.6 1454.1 1681.97 1454.1 M1681.97 1450.39 Q1687.78 1450.39 1690.83 1455 Q1693.91 1459.58 1693.91 1468.33 Q1693.91 1477.06 1690.83 1481.67 Q1687.78 1486.25 1681.97 1486.25 Q1676.16 1486.25 1673.08 1481.67 Q1670.02 1477.06 1670.02 1468.33 Q1670.02 1459.58 1673.08 1455 Q1676.16 1450.39 1681.97 1450.39 Z\" fill=\"#000000\" fill-rule=\"evenodd\" fill-opacity=\"1\" /><path clip-path=\"url(#clip340)\" d=\"M2252.33 1466.95 Q2255.69 1467.66 2257.56 1469.93 Q2259.46 1472.2 2259.46 1475.53 Q2259.46 1480.65 2255.94 1483.45 Q2252.42 1486.25 2245.94 1486.25 Q2243.76 1486.25 2241.45 1485.81 Q2239.16 1485.39 2236.7 1484.54 L2236.7 1480.02 Q2238.65 1481.16 2240.96 1481.74 Q2243.28 1482.32 2245.8 1482.32 Q2250.2 1482.32 2252.49 1480.58 Q2254.81 1478.84 2254.81 1475.53 Q2254.81 1472.48 2252.65 1470.77 Q2250.52 1469.03 2246.7 1469.03 L2242.68 1469.03 L2242.68 1465.19 L2246.89 1465.19 Q2250.34 1465.19 2252.17 1463.82 Q2254 1462.43 2254 1459.84 Q2254 1457.18 2252.1 1455.77 Q2250.22 1454.33 2246.7 1454.33 Q2244.78 1454.33 2242.58 1454.75 Q2240.38 1455.16 2237.75 1456.04 L2237.75 1451.88 Q2240.41 1451.14 2242.72 1450.77 Q2245.06 1450.39 2247.12 1450.39 Q2252.44 1450.39 2255.55 1452.83 Q2258.65 1455.23 2258.65 1459.35 Q2258.65 1462.22 2257 1464.21 Q2255.36 1466.18 2252.33 1466.95 Z\" fill=\"#000000\" fill-rule=\"evenodd\" fill-opacity=\"1\" /><path clip-path=\"url(#clip340)\" d=\"M2278.32 1454.1 Q2274.71 1454.1 2272.88 1457.66 Q2271.08 1461.2 2271.08 1468.33 Q2271.08 1475.44 2272.88 1479.01 Q2274.71 1482.55 2278.32 1482.55 Q2281.96 1482.55 2283.76 1479.01 Q2285.59 1475.44 2285.59 1468.33 Q2285.59 1461.2 2283.76 1457.66 Q2281.96 1454.1 2278.32 1454.1 M2278.32 1450.39 Q2284.13 1450.39 2287.19 1455 Q2290.27 1459.58 2290.27 1468.33 Q2290.27 1477.06 2287.19 1481.67 Q2284.13 1486.25 2278.32 1486.25 Q2272.51 1486.25 2269.44 1481.67 Q2266.38 1477.06 2266.38 1468.33 Q2266.38 1459.58 2269.44 1455 Q2272.51 1450.39 2278.32 1450.39 Z\" fill=\"#000000\" fill-rule=\"evenodd\" fill-opacity=\"1\" /><path clip-path=\"url(#clip340)\" d=\"M2308.49 1454.1 Q2304.88 1454.1 2303.05 1457.66 Q2301.24 1461.2 2301.24 1468.33 Q2301.24 1475.44 2303.05 1479.01 Q2304.88 1482.55 2308.49 1482.55 Q2312.12 1482.55 2313.93 1479.01 Q2315.75 1475.44 2315.75 1468.33 Q2315.75 1461.2 2313.93 1457.66 Q2312.12 1454.1 2308.49 1454.1 M2308.49 1450.39 Q2314.3 1450.39 2317.35 1455 Q2320.43 1459.58 2320.43 1468.33 Q2320.43 1477.06 2317.35 1481.67 Q2314.3 1486.25 2308.49 1486.25 Q2302.68 1486.25 2299.6 1481.67 Q2296.54 1477.06 2296.54 1468.33 Q2296.54 1459.58 2299.6 1455 Q2302.68 1450.39 2308.49 1450.39 Z\" fill=\"#000000\" fill-rule=\"evenodd\" fill-opacity=\"1\" /><path clip-path=\"url(#clip340)\" d=\"M2338.65 1454.1 Q2335.04 1454.1 2333.21 1457.66 Q2331.4 1461.2 2331.4 1468.33 Q2331.4 1475.44 2333.21 1479.01 Q2335.04 1482.55 2338.65 1482.55 Q2342.28 1482.55 2344.09 1479.01 Q2345.92 1475.44 2345.92 1468.33 Q2345.92 1461.2 2344.09 1457.66 Q2342.28 1454.1 2338.65 1454.1 M2338.65 1450.39 Q2344.46 1450.39 2347.51 1455 Q2350.59 1459.58 2350.59 1468.33 Q2350.59 1477.06 2347.51 1481.67 Q2344.46 1486.25 2338.65 1486.25 Q2332.84 1486.25 2329.76 1481.67 Q2326.7 1477.06 2326.7 1468.33 Q2326.7 1459.58 2329.76 1455 Q2332.84 1450.39 2338.65 1450.39 Z\" fill=\"#000000\" fill-rule=\"evenodd\" fill-opacity=\"1\" /><path clip-path=\"url(#clip340)\" d=\"M1259.65 1520.52 L1266.14 1520.52 L1276.14 1560.69 L1286.1 1520.52 L1293.32 1520.52 L1303.32 1560.69 L1313.28 1520.52 L1319.8 1520.52 L1307.87 1568.04 L1299.78 1568.04 L1289.76 1526.79 L1279.64 1568.04 L1271.55 1568.04 L1259.65 1520.52 Z\" fill=\"#000000\" fill-rule=\"evenodd\" fill-opacity=\"1\" /><path clip-path=\"url(#clip340)\" d=\"M1330.02 1562.63 L1340.53 1562.63 L1340.53 1526.38 L1329.1 1528.67 L1329.1 1522.82 L1340.46 1520.52 L1346.89 1520.52 L1346.89 1562.63 L1357.39 1562.63 L1357.39 1568.04 L1330.02 1568.04 L1330.02 1562.63 Z\" fill=\"#000000\" fill-rule=\"evenodd\" fill-opacity=\"1\" /><polyline clip-path=\"url(#clip342)\" style=\"stroke:#000000; stroke-linecap:round; stroke-linejoin:round; stroke-width:2; stroke-opacity:0.1; fill:none\" points=\"\n",
       "  264.287,1384.24 2352.76,1384.24 \n",
       "  \"/>\n",
       "<polyline clip-path=\"url(#clip342)\" style=\"stroke:#000000; stroke-linecap:round; stroke-linejoin:round; stroke-width:2; stroke-opacity:0.1; fill:none\" points=\"\n",
       "  264.287,1113.81 2352.76,1113.81 \n",
       "  \"/>\n",
       "<polyline clip-path=\"url(#clip342)\" style=\"stroke:#000000; stroke-linecap:round; stroke-linejoin:round; stroke-width:2; stroke-opacity:0.1; fill:none\" points=\"\n",
       "  264.287,843.383 2352.76,843.383 \n",
       "  \"/>\n",
       "<polyline clip-path=\"url(#clip342)\" style=\"stroke:#000000; stroke-linecap:round; stroke-linejoin:round; stroke-width:2; stroke-opacity:0.1; fill:none\" points=\"\n",
       "  264.287,572.955 2352.76,572.955 \n",
       "  \"/>\n",
       "<polyline clip-path=\"url(#clip342)\" style=\"stroke:#000000; stroke-linecap:round; stroke-linejoin:round; stroke-width:2; stroke-opacity:0.1; fill:none\" points=\"\n",
       "  264.287,302.528 2352.76,302.528 \n",
       "  \"/>\n",
       "<polyline clip-path=\"url(#clip340)\" style=\"stroke:#000000; stroke-linecap:round; stroke-linejoin:round; stroke-width:4; stroke-opacity:1; fill:none\" points=\"\n",
       "  264.287,1423.18 264.287,47.2441 \n",
       "  \"/>\n",
       "<polyline clip-path=\"url(#clip340)\" style=\"stroke:#000000; stroke-linecap:round; stroke-linejoin:round; stroke-width:4; stroke-opacity:1; fill:none\" points=\"\n",
       "  264.287,1384.24 283.185,1384.24 \n",
       "  \"/>\n",
       "<polyline clip-path=\"url(#clip340)\" style=\"stroke:#000000; stroke-linecap:round; stroke-linejoin:round; stroke-width:4; stroke-opacity:1; fill:none\" points=\"\n",
       "  264.287,1113.81 283.185,1113.81 \n",
       "  \"/>\n",
       "<polyline clip-path=\"url(#clip340)\" style=\"stroke:#000000; stroke-linecap:round; stroke-linejoin:round; stroke-width:4; stroke-opacity:1; fill:none\" points=\"\n",
       "  264.287,843.383 283.185,843.383 \n",
       "  \"/>\n",
       "<polyline clip-path=\"url(#clip340)\" style=\"stroke:#000000; stroke-linecap:round; stroke-linejoin:round; stroke-width:4; stroke-opacity:1; fill:none\" points=\"\n",
       "  264.287,572.955 283.185,572.955 \n",
       "  \"/>\n",
       "<polyline clip-path=\"url(#clip340)\" style=\"stroke:#000000; stroke-linecap:round; stroke-linejoin:round; stroke-width:4; stroke-opacity:1; fill:none\" points=\"\n",
       "  264.287,302.528 283.185,302.528 \n",
       "  \"/>\n",
       "<path clip-path=\"url(#clip340)\" d=\"M216.343 1370.04 Q212.732 1370.04 210.903 1373.6 Q209.098 1377.14 209.098 1384.27 Q209.098 1391.38 210.903 1394.94 Q212.732 1398.49 216.343 1398.49 Q219.977 1398.49 221.783 1394.94 Q223.611 1391.38 223.611 1384.27 Q223.611 1377.14 221.783 1373.6 Q219.977 1370.04 216.343 1370.04 M216.343 1366.33 Q222.153 1366.33 225.209 1370.94 Q228.287 1375.52 228.287 1384.27 Q228.287 1393 225.209 1397.61 Q222.153 1402.19 216.343 1402.19 Q210.533 1402.19 207.454 1397.61 Q204.399 1393 204.399 1384.27 Q204.399 1375.52 207.454 1370.94 Q210.533 1366.33 216.343 1366.33 Z\" fill=\"#000000\" fill-rule=\"evenodd\" fill-opacity=\"1\" /><path clip-path=\"url(#clip340)\" d=\"M146.066 1096.53 L164.422 1096.53 L164.422 1100.47 L150.348 1100.47 L150.348 1108.94 Q151.366 1108.59 152.385 1108.43 Q153.403 1108.24 154.422 1108.24 Q160.209 1108.24 163.589 1111.41 Q166.968 1114.59 166.968 1120 Q166.968 1125.58 163.496 1128.68 Q160.024 1131.76 153.704 1131.76 Q151.528 1131.76 149.26 1131.39 Q147.015 1131.02 144.607 1130.28 L144.607 1125.58 Q146.691 1126.72 148.913 1127.27 Q151.135 1127.83 153.612 1127.83 Q157.616 1127.83 159.954 1125.72 Q162.292 1123.61 162.292 1120 Q162.292 1116.39 159.954 1114.29 Q157.616 1112.18 153.612 1112.18 Q151.737 1112.18 149.862 1112.6 Q148.01 1113.01 146.066 1113.89 L146.066 1096.53 Z\" fill=\"#000000\" fill-rule=\"evenodd\" fill-opacity=\"1\" /><path clip-path=\"url(#clip340)\" d=\"M186.181 1099.61 Q182.57 1099.61 180.741 1103.17 Q178.936 1106.72 178.936 1113.85 Q178.936 1120.95 180.741 1124.52 Q182.57 1128.06 186.181 1128.06 Q189.815 1128.06 191.621 1124.52 Q193.45 1120.95 193.45 1113.85 Q193.45 1106.72 191.621 1103.17 Q189.815 1099.61 186.181 1099.61 M186.181 1095.91 Q191.991 1095.91 195.047 1100.51 Q198.125 1105.1 198.125 1113.85 Q198.125 1122.57 195.047 1127.18 Q191.991 1131.76 186.181 1131.76 Q180.371 1131.76 177.292 1127.18 Q174.237 1122.57 174.237 1113.85 Q174.237 1105.1 177.292 1100.51 Q180.371 1095.91 186.181 1095.91 Z\" fill=\"#000000\" fill-rule=\"evenodd\" fill-opacity=\"1\" /><path clip-path=\"url(#clip340)\" d=\"M216.343 1099.61 Q212.732 1099.61 210.903 1103.17 Q209.098 1106.72 209.098 1113.85 Q209.098 1120.95 210.903 1124.52 Q212.732 1128.06 216.343 1128.06 Q219.977 1128.06 221.783 1124.52 Q223.611 1120.95 223.611 1113.85 Q223.611 1106.72 221.783 1103.17 Q219.977 1099.61 216.343 1099.61 M216.343 1095.91 Q222.153 1095.91 225.209 1100.51 Q228.287 1105.1 228.287 1113.85 Q228.287 1122.57 225.209 1127.18 Q222.153 1131.76 216.343 1131.76 Q210.533 1131.76 207.454 1127.18 Q204.399 1122.57 204.399 1113.85 Q204.399 1105.1 207.454 1100.51 Q210.533 1095.91 216.343 1095.91 Z\" fill=\"#000000\" fill-rule=\"evenodd\" fill-opacity=\"1\" /><path clip-path=\"url(#clip340)\" d=\"M116.668 856.728 L124.306 856.728 L124.306 830.362 L115.996 832.029 L115.996 827.77 L124.26 826.103 L128.936 826.103 L128.936 856.728 L136.575 856.728 L136.575 860.663 L116.668 860.663 L116.668 856.728 Z\" fill=\"#000000\" fill-rule=\"evenodd\" fill-opacity=\"1\" /><path clip-path=\"url(#clip340)\" d=\"M156.019 829.182 Q152.408 829.182 150.579 832.747 Q148.774 836.288 148.774 843.418 Q148.774 850.524 150.579 854.089 Q152.408 857.631 156.019 857.631 Q159.653 857.631 161.459 854.089 Q163.288 850.524 163.288 843.418 Q163.288 836.288 161.459 832.747 Q159.653 829.182 156.019 829.182 M156.019 825.478 Q161.829 825.478 164.885 830.084 Q167.964 834.668 167.964 843.418 Q167.964 852.145 164.885 856.751 Q161.829 861.334 156.019 861.334 Q150.209 861.334 147.13 856.751 Q144.075 852.145 144.075 843.418 Q144.075 834.668 147.13 830.084 Q150.209 825.478 156.019 825.478 Z\" fill=\"#000000\" fill-rule=\"evenodd\" fill-opacity=\"1\" /><path clip-path=\"url(#clip340)\" d=\"M186.181 829.182 Q182.57 829.182 180.741 832.747 Q178.936 836.288 178.936 843.418 Q178.936 850.524 180.741 854.089 Q182.57 857.631 186.181 857.631 Q189.815 857.631 191.621 854.089 Q193.45 850.524 193.45 843.418 Q193.45 836.288 191.621 832.747 Q189.815 829.182 186.181 829.182 M186.181 825.478 Q191.991 825.478 195.047 830.084 Q198.125 834.668 198.125 843.418 Q198.125 852.145 195.047 856.751 Q191.991 861.334 186.181 861.334 Q180.371 861.334 177.292 856.751 Q174.237 852.145 174.237 843.418 Q174.237 834.668 177.292 830.084 Q180.371 825.478 186.181 825.478 Z\" fill=\"#000000\" fill-rule=\"evenodd\" fill-opacity=\"1\" /><path clip-path=\"url(#clip340)\" d=\"M216.343 829.182 Q212.732 829.182 210.903 832.747 Q209.098 836.288 209.098 843.418 Q209.098 850.524 210.903 854.089 Q212.732 857.631 216.343 857.631 Q219.977 857.631 221.783 854.089 Q223.611 850.524 223.611 843.418 Q223.611 836.288 221.783 832.747 Q219.977 829.182 216.343 829.182 M216.343 825.478 Q222.153 825.478 225.209 830.084 Q228.287 834.668 228.287 843.418 Q228.287 852.145 225.209 856.751 Q222.153 861.334 216.343 861.334 Q210.533 861.334 207.454 856.751 Q204.399 852.145 204.399 843.418 Q204.399 834.668 207.454 830.084 Q210.533 825.478 216.343 825.478 Z\" fill=\"#000000\" fill-rule=\"evenodd\" fill-opacity=\"1\" /><path clip-path=\"url(#clip340)\" d=\"M116.668 586.3 L124.306 586.3 L124.306 559.935 L115.996 561.601 L115.996 557.342 L124.26 555.675 L128.936 555.675 L128.936 586.3 L136.575 586.3 L136.575 590.235 L116.668 590.235 L116.668 586.3 Z\" fill=\"#000000\" fill-rule=\"evenodd\" fill-opacity=\"1\" /><path clip-path=\"url(#clip340)\" d=\"M146.066 555.675 L164.422 555.675 L164.422 559.611 L150.348 559.611 L150.348 568.083 Q151.366 567.736 152.385 567.573 Q153.403 567.388 154.422 567.388 Q160.209 567.388 163.589 570.56 Q166.968 573.731 166.968 579.147 Q166.968 584.726 163.496 587.828 Q160.024 590.907 153.704 590.907 Q151.528 590.907 149.26 590.536 Q147.015 590.166 144.607 589.425 L144.607 584.726 Q146.691 585.86 148.913 586.416 Q151.135 586.972 153.612 586.972 Q157.616 586.972 159.954 584.865 Q162.292 582.759 162.292 579.147 Q162.292 575.536 159.954 573.43 Q157.616 571.323 153.612 571.323 Q151.737 571.323 149.862 571.74 Q148.01 572.157 146.066 573.036 L146.066 555.675 Z\" fill=\"#000000\" fill-rule=\"evenodd\" fill-opacity=\"1\" /><path clip-path=\"url(#clip340)\" d=\"M186.181 558.754 Q182.57 558.754 180.741 562.319 Q178.936 565.861 178.936 572.99 Q178.936 580.097 180.741 583.661 Q182.57 587.203 186.181 587.203 Q189.815 587.203 191.621 583.661 Q193.45 580.097 193.45 572.99 Q193.45 565.861 191.621 562.319 Q189.815 558.754 186.181 558.754 M186.181 555.05 Q191.991 555.05 195.047 559.657 Q198.125 564.24 198.125 572.99 Q198.125 581.717 195.047 586.323 Q191.991 590.907 186.181 590.907 Q180.371 590.907 177.292 586.323 Q174.237 581.717 174.237 572.99 Q174.237 564.24 177.292 559.657 Q180.371 555.05 186.181 555.05 Z\" fill=\"#000000\" fill-rule=\"evenodd\" fill-opacity=\"1\" /><path clip-path=\"url(#clip340)\" d=\"M216.343 558.754 Q212.732 558.754 210.903 562.319 Q209.098 565.861 209.098 572.99 Q209.098 580.097 210.903 583.661 Q212.732 587.203 216.343 587.203 Q219.977 587.203 221.783 583.661 Q223.611 580.097 223.611 572.99 Q223.611 565.861 221.783 562.319 Q219.977 558.754 216.343 558.754 M216.343 555.05 Q222.153 555.05 225.209 559.657 Q228.287 564.24 228.287 572.99 Q228.287 581.717 225.209 586.323 Q222.153 590.907 216.343 590.907 Q210.533 590.907 207.454 586.323 Q204.399 581.717 204.399 572.99 Q204.399 564.24 207.454 559.657 Q210.533 555.05 216.343 555.05 Z\" fill=\"#000000\" fill-rule=\"evenodd\" fill-opacity=\"1\" /><path clip-path=\"url(#clip340)\" d=\"M119.885 315.873 L136.204 315.873 L136.204 319.808 L114.26 319.808 L114.26 315.873 Q116.922 313.118 121.505 308.488 Q126.112 303.836 127.292 302.493 Q129.538 299.97 130.417 298.234 Q131.32 296.475 131.32 294.785 Q131.32 292.03 129.376 290.294 Q127.455 288.558 124.353 288.558 Q122.154 288.558 119.7 289.322 Q117.269 290.086 114.492 291.637 L114.492 286.914 Q117.316 285.78 119.769 285.201 Q122.223 284.623 124.26 284.623 Q129.63 284.623 132.825 287.308 Q136.019 289.993 136.019 294.484 Q136.019 296.613 135.209 298.535 Q134.422 300.433 132.316 303.025 Q131.737 303.697 128.635 306.914 Q125.533 310.109 119.885 315.873 Z\" fill=\"#000000\" fill-rule=\"evenodd\" fill-opacity=\"1\" /><path clip-path=\"url(#clip340)\" d=\"M156.019 288.326 Q152.408 288.326 150.579 291.891 Q148.774 295.433 148.774 302.562 Q148.774 309.669 150.579 313.234 Q152.408 316.775 156.019 316.775 Q159.653 316.775 161.459 313.234 Q163.288 309.669 163.288 302.562 Q163.288 295.433 161.459 291.891 Q159.653 288.326 156.019 288.326 M156.019 284.623 Q161.829 284.623 164.885 289.229 Q167.964 293.813 167.964 302.562 Q167.964 311.289 164.885 315.896 Q161.829 320.479 156.019 320.479 Q150.209 320.479 147.13 315.896 Q144.075 311.289 144.075 302.562 Q144.075 293.813 147.13 289.229 Q150.209 284.623 156.019 284.623 Z\" fill=\"#000000\" fill-rule=\"evenodd\" fill-opacity=\"1\" /><path clip-path=\"url(#clip340)\" d=\"M186.181 288.326 Q182.57 288.326 180.741 291.891 Q178.936 295.433 178.936 302.562 Q178.936 309.669 180.741 313.234 Q182.57 316.775 186.181 316.775 Q189.815 316.775 191.621 313.234 Q193.45 309.669 193.45 302.562 Q193.45 295.433 191.621 291.891 Q189.815 288.326 186.181 288.326 M186.181 284.623 Q191.991 284.623 195.047 289.229 Q198.125 293.813 198.125 302.562 Q198.125 311.289 195.047 315.896 Q191.991 320.479 186.181 320.479 Q180.371 320.479 177.292 315.896 Q174.237 311.289 174.237 302.562 Q174.237 293.813 177.292 289.229 Q180.371 284.623 186.181 284.623 Z\" fill=\"#000000\" fill-rule=\"evenodd\" fill-opacity=\"1\" /><path clip-path=\"url(#clip340)\" d=\"M216.343 288.326 Q212.732 288.326 210.903 291.891 Q209.098 295.433 209.098 302.562 Q209.098 309.669 210.903 313.234 Q212.732 316.775 216.343 316.775 Q219.977 316.775 221.783 313.234 Q223.611 309.669 223.611 302.562 Q223.611 295.433 221.783 291.891 Q219.977 288.326 216.343 288.326 M216.343 284.623 Q222.153 284.623 225.209 289.229 Q228.287 293.813 228.287 302.562 Q228.287 311.289 225.209 315.896 Q222.153 320.479 216.343 320.479 Q210.533 320.479 207.454 315.896 Q204.399 311.289 204.399 302.562 Q204.399 293.813 207.454 289.229 Q210.533 284.623 216.343 284.623 Z\" fill=\"#000000\" fill-rule=\"evenodd\" fill-opacity=\"1\" /><path clip-path=\"url(#clip340)\" d=\"M16.4842 783.83 L16.4842 777.337 L56.6518 767.343 L16.4842 757.381 L16.4842 750.155 L56.6518 740.161 L16.4842 730.199 L16.4842 723.674 L64.0042 735.61 L64.0042 743.694 L22.7544 753.72 L64.0042 763.842 L64.0042 771.926 L16.4842 783.83 Z\" fill=\"#000000\" fill-rule=\"evenodd\" fill-opacity=\"1\" /><path clip-path=\"url(#clip340)\" d=\"M58.5933 709.033 L58.5933 686.594 L64.0042 686.594 L64.0042 716.767 L58.5933 716.767 Q54.8057 713.107 48.44 706.805 Q42.0425 700.471 40.1964 698.848 Q36.7271 695.761 34.34 694.551 Q31.921 693.31 29.5975 693.31 Q25.8099 693.31 23.4228 695.983 Q21.0356 698.625 21.0356 702.89 Q21.0356 705.914 22.086 709.288 Q23.1363 712.63 25.2688 716.449 L18.7758 716.449 Q17.2162 712.566 16.4205 709.192 Q15.6248 705.818 15.6248 703.017 Q15.6248 695.633 19.3169 691.241 Q23.009 686.849 29.1837 686.849 Q32.112 686.849 34.7537 687.963 Q37.3637 689.045 40.9285 691.941 Q41.8515 692.737 46.2757 697.002 Q50.668 701.267 58.5933 709.033 Z\" fill=\"#000000\" fill-rule=\"evenodd\" fill-opacity=\"1\" /><polyline clip-path=\"url(#clip342)\" style=\"stroke:#009af9; stroke-linecap:round; stroke-linejoin:round; stroke-width:4; stroke-opacity:1; fill:none\" points=\"\n",
       "  815.958,410.699 1111.5,605.407 1636.9,951.554 2293.65,1384.24 323.395,86.1857 \n",
       "  \"/>\n",
       "<path clip-path=\"url(#clip340)\" d=\"\n",
       "M1998.66 196.789 L2283.14 196.789 L2283.14 93.1086 L1998.66 93.1086  Z\n",
       "  \" fill=\"#ffffff\" fill-rule=\"evenodd\" fill-opacity=\"1\"/>\n",
       "<polyline clip-path=\"url(#clip340)\" style=\"stroke:#000000; stroke-linecap:round; stroke-linejoin:round; stroke-width:4; stroke-opacity:1; fill:none\" points=\"\n",
       "  1998.66,196.789 2283.14,196.789 2283.14,93.1086 1998.66,93.1086 1998.66,196.789 \n",
       "  \"/>\n",
       "<polyline clip-path=\"url(#clip340)\" style=\"stroke:#009af9; stroke-linecap:round; stroke-linejoin:round; stroke-width:4; stroke-opacity:1; fill:none\" points=\"\n",
       "  2021.86,144.949 2161.09,144.949 \n",
       "  \"/>\n",
       "<path clip-path=\"url(#clip340)\" d=\"M2198.14 164.636 Q2196.34 169.266 2194.62 170.678 Q2192.91 172.09 2190.04 172.09 L2186.64 172.09 L2186.64 168.525 L2189.14 168.525 Q2190.9 168.525 2191.87 167.692 Q2192.84 166.858 2194.02 163.756 L2194.79 161.812 L2184.3 136.303 L2188.81 136.303 L2196.92 156.581 L2205.02 136.303 L2209.53 136.303 L2198.14 164.636 Z\" fill=\"#000000\" fill-rule=\"evenodd\" fill-opacity=\"1\" /><path clip-path=\"url(#clip340)\" d=\"M2216.82 158.293 L2224.46 158.293 L2224.46 131.928 L2216.15 133.595 L2216.15 129.335 L2224.42 127.669 L2229.09 127.669 L2229.09 158.293 L2236.73 158.293 L2236.73 162.229 L2216.82 162.229 L2216.82 158.293 Z\" fill=\"#000000\" fill-rule=\"evenodd\" fill-opacity=\"1\" /></svg>\n"
      ]
     },
     "execution_count": 288,
     "metadata": {},
     "output_type": "execute_result"
    }
   ],
   "source": [
    "data = [(1200 ./Price_Q*Payoff_Q)' Wealth_A[1,:] Wealth_A[2,:] Wealth_B' Wealth_C']\n",
    "plot(data[1,:], data[2,:])\n",
    "xlabel!(\"W1\")\n",
    "ylabel!(\"W2\")"
   ]
  },
  {
   "cell_type": "markdown",
   "id": "94597f11-7bbf-4001-8577-d947499f2cd7",
   "metadata": {},
   "source": [
    "**(f)** Suppose Ms. Kelley has a utility function of the form $U = W^.6_1 W^.4_2$. Find the optimal\n",
    "portfolio, assuming the issuance of securities is possible, if she restricts herself to a portfolio\n",
    "consisting only of j and k. How do you interpret your results?"
   ]
  }
 ],
 "metadata": {
  "kernelspec": {
   "display_name": "Julia 1.8.2",
   "language": "julia",
   "name": "julia-1.8"
  },
  "language_info": {
   "file_extension": ".jl",
   "mimetype": "application/julia",
   "name": "julia",
   "version": "1.8.2"
  }
 },
 "nbformat": 4,
 "nbformat_minor": 5
}
