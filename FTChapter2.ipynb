{
 "cells": [
  {
   "attachments": {},
   "cell_type": "markdown",
   "metadata": {},
   "source": [
    "-----------\n",
    "# Chapter 2 - Investment Decisions: The Certainty Case\n",
    "\n",
    "-----------"
   ]
  },
  {
   "cell_type": "code",
   "execution_count": 2,
   "metadata": {},
   "outputs": [],
   "source": [
    "using JuMP, HiGHS, Ipopt, Plots;"
   ]
  },
  {
   "attachments": {},
   "cell_type": "markdown",
   "metadata": {},
   "source": [
    "--------\n",
    "\n",
    "#### 1\n",
    "Basic capital budgeting problem with straight-line depreciation. The Roberts Company has\n",
    "cash inflows of $140,000 per year on project A and cash outflows of $100,000 per year. The\n",
    "investment outlay on the project is \\\\$100,000. Its life is 10 years. The tax rate, $τ_c$, is 40%. The\n",
    "opportunity cost of capital is 12%.\n",
    "\n",
    "(a) Present two alternative formulations of the net cash flows adjusted for the depreciation\n",
    "tax shelter.\n",
    "\n",
    "(b) Calculate the net present value for project A, using straight-line depreciation for tax\n",
    "purposes.\n"
   ]
  },
  {
   "cell_type": "code",
   "execution_count": 52,
   "metadata": {},
   "outputs": [
    {
     "data": {
      "text/plain": [
       "58206.24479550426"
      ]
     },
     "execution_count": 52,
     "metadata": {},
     "output_type": "execute_result"
    }
   ],
   "source": [
    "T = 10\n",
    "r = .12\n",
    "Tc = .4\n",
    "\n",
    "PV_A = (40000/r*(1-(1+r)^-T))*(1-Tc)+10000/r*(Tc)*(1-(1+r)^-T)-100000\n"
   ]
  },
  {
   "attachments": {},
   "cell_type": "markdown",
   "metadata": {},
   "source": [
    "-------\n",
    "\n",
    "#### 2 \n",
    "Basic capital budgeting problem with accelerated depreciation. Assume the same facts as in\n",
    "Problem 1 except that the earnings before depreciation, interest, and taxes is $22,000 per year.\n",
    "\n",
    "(a) Calculate the net present value, using straight-line depreciation for tax purposes.\n",
    "\n",
    "(b) Calculate the net present value, using the sum-of-the-years digits method of accelerated\n",
    "depreciation, for tax purposes.\n"
   ]
  },
  {
   "cell_type": "code",
   "execution_count": 19,
   "metadata": {},
   "outputs": [
    {
     "data": {
      "text/plain": [
       "-2816.1639113330893"
      ]
     },
     "execution_count": 19,
     "metadata": {},
     "output_type": "execute_result"
    }
   ],
   "source": [
    "PV_B = (22000/r*(1-(1+r)^-T))*(1-Tc)+10000/r*(Tc)*(1-(1+r)^-T)-100000"
   ]
  },
  {
   "cell_type": "code",
   "execution_count": 53,
   "metadata": {},
   "outputs": [
    {
     "data": {
      "text/plain": [
       "100945.22865132123"
      ]
     },
     "execution_count": 53,
     "metadata": {},
     "output_type": "execute_result"
    }
   ],
   "source": [
    "Dep_factor = zeros(T)\n",
    "PV_Dep = zeros(T)\n",
    "for i in 1:T\n",
    "    Dep_factor[i] =  (10+1-i)/(sum(1:1:T))\n",
    "    PV_Dep[i] = 100000*Dep_factor[i]*(1+r)^-i\n",
    "end\n",
    "\n",
    "PV_C = (22000/r*(1-(1+r)^-T))*(1-Tc)+PV_Dep'*Tc*ones(T)"
   ]
  },
  {
   "attachments": {},
   "cell_type": "markdown",
   "metadata": {},
   "source": [
    "--------\n",
    "#### 3 \n",
    "Basic replacement problem. The Virginia Company is considering replacing a riveting machine with a new design that will increase earnings before depreciation from $20,000 per year to\n",
    "$51,000 per year. The new machine will cost $100,000 and has an estimated life of eight years,\n",
    "with no salvage value. The applicable corporate tax rate is 40%, and the firm’s cost of capital is\n",
    "12%. The old machine has been fully depreciated and has no salvage value. Should it be replaced\n",
    "with a new machine?"
   ]
  },
  {
   "cell_type": "code",
   "execution_count": 58,
   "metadata": {},
   "outputs": [
    {
     "data": {
      "text/plain": [
       "17236.29849739075"
      ]
     },
     "execution_count": 58,
     "metadata": {},
     "output_type": "execute_result"
    }
   ],
   "source": [
    "CF_t = 51000-20000\n",
    "CF_0 = -100000\n",
    "T = 8\n",
    "Tc = .4\n",
    "r = .12\n",
    "\n",
    "Depr_t = 100000/T\n",
    "\n",
    "PV_mach = CF_0+CF_t/r*(1-(1+r)^-T)*(1-Tc)+Depr_t*Tc/r*(1-(1+r)^-T)"
   ]
  },
  {
   "attachments": {},
   "cell_type": "markdown",
   "metadata": {},
   "source": [
    "PV of new machine's cashflows is $17236.29. As this would add value to the company, we should replace the machine."
   ]
  },
  {
   "attachments": {},
   "cell_type": "markdown",
   "metadata": {},
   "source": [
    "--------\n",
    "#### 4 \n",
    "Replacement problem when old machine has a positive book value. Assume the same facts as\n",
    "in Problem 3 except that the new machine will have a salvage value of $12,000. Assume further\n",
    "that the old machine has a book value of $40,000, with a remaining life of eight years. If replaced,\n",
    "the old machine can, at present, be sold for $15,000. Should the machine replacement be made?\n"
   ]
  },
  {
   "cell_type": "code",
   "execution_count": 80,
   "metadata": {},
   "outputs": [
    {
     "data": {
      "text/plain": [
       "34167.03383936283"
      ]
     },
     "execution_count": 80,
     "metadata": {},
     "output_type": "execute_result"
    }
   ],
   "source": [
    "scrap = 12000\n",
    "\n",
    "PV_new = CF_0+15000+(40000-15000)*Tc+CF_t/r*(1-(1+r)^-T)*(1-Tc)+((100000-scrap)/T-40000/T)*Tc/r*(1-(1+r)^-T)+scrap/(1+r)^T"
   ]
  },
  {
   "attachments": {},
   "cell_type": "markdown",
   "metadata": {},
   "source": [
    "---------\n",
    "#### 5 \n",
    "_Cash flows_. The Cary Company is considering a new investment that costs $10,000. It will\n",
    "last five years and has no salvage value. The project would save $3,000 in salaries and wages each\n",
    "year and would be financed with a loan with interest costs of 15% per year and amortization costs\n",
    "(repayment of principal on the loan) of $2,000 per year. If the firm’s tax rate is 40% and its after-\n",
    "tax cost of capital is 20%, what is the net present value of the project? (Note: The annuity factor\n",
    "for five years at 20% is 2.991.)"
   ]
  },
  {
   "cell_type": "code",
   "execution_count": 91,
   "metadata": {},
   "outputs": [
    {
     "data": {
      "text/plain": [
       "-2224.4084362139924"
      ]
     },
     "execution_count": 91,
     "metadata": {},
     "output_type": "execute_result"
    }
   ],
   "source": [
    "CF_0 = -10000\n",
    "CF_t = 3000\n",
    "Tc = .4\n",
    "r = .2\n",
    "T = 5\n",
    "\n",
    "PV_cary = CF_0+3000*1/r*(1-(1+r)^-T)*(1-Tc)-CF_0*Tc/(T*r)*(1-(1+r)^-T)"
   ]
  },
  {
   "attachments": {},
   "cell_type": "markdown",
   "metadata": {},
   "source": [
    "---------\n",
    "#### 6 \n",
    "Calculate the internal rate of return for the following set of cash flows:\n",
    "\n",
    "$$\n",
    "t1: 400 \\\\\n",
    "t2 : 400 \\\\\n",
    "t3: −1,000\n",
    "$$\n",
    "\n",
    "If the opportunity cost of capital is 10%, should the project be accepted?"
   ]
  },
  {
   "cell_type": "code",
   "execution_count": 8,
   "metadata": {},
   "outputs": [
    {
     "data": {
      "text/plain": [
       "0.15831239269991165"
      ]
     },
     "execution_count": 8,
     "metadata": {},
     "output_type": "execute_result"
    }
   ],
   "source": [
    "model=Model(Ipopt.Optimizer)\n",
    "@variable(model,i>=0)\n",
    "@NLconstraint(model, 400/i*(1-(1+i)^-2)-1000*(1+i)^-3 == 0)\n",
    "set_silent(model)\n",
    "optimize!(model)\n",
    "\n",
    "value.(i)"
   ]
  },
  {
   "attachments": {},
   "cell_type": "markdown",
   "metadata": {},
   "source": [
    "IRR is 15.83%. As the opportunity cost of capital is 10%, we would reject this project as it does not represent efficient use of funds."
   ]
  },
  {
   "attachments": {},
   "cell_type": "markdown",
   "metadata": {},
   "source": [
    "---------\n",
    "#### 7 \n",
    "Calculate the internal rate of return on the following set of cash flows:\n",
    "$$\n",
    "t0 : −1,000 \\\\\n",
    "t1: 100 \\\\\n",
    "t 2 : 900 \\\\\n",
    "t 3: 100 \\\\\n",
    "t 4 : −100 \\\\\n",
    "t5 : −400\n",
    "$$\n"
   ]
  },
  {
   "cell_type": "code",
   "execution_count": 16,
   "metadata": {},
   "outputs": [
    {
     "data": {
      "text/plain": [
       "-1.9999999999999196"
      ]
     },
     "execution_count": 16,
     "metadata": {},
     "output_type": "execute_result"
    }
   ],
   "source": [
    "model=Model(Ipopt.Optimizer)\n",
    "@variable(model,i>=-10)\n",
    "@NLconstraint(model, -1000 + 100*(1+i)^-1+900*(1+i)^-2+100*(1+i)^-3-100*(1+i)^-4-400*(1+i)^-5 == 0)\n",
    "set_silent(model)\n",
    "optimize!(model)\n",
    "\n",
    "value.(i)"
   ]
  },
  {
   "attachments": {},
   "cell_type": "markdown",
   "metadata": {},
   "source": [
    "--------\n",
    "#### 8 \n",
    "The Ambergast Corporation is considering a project that has a three-year life and costs $1,200.\n",
    "It would save $360 per year in operating costs and increase revenue by $200 per year. It would be\n",
    "financed with a three-year loan with the following payment schedule (the annual rate of interestis 5%):\n",
    "| Payment | Interest | Repayment of Principal | Balance |\n",
    "| --- | --- | --- | --- | \n",
    "| 440.65 | 60.00 | 380.65 | 819.35 |\n",
    "| 440.65 | 40.97 | 399.68 | 419.67 |\n",
    "| 440.65 | 20.98 | 419.67 | 0 |\n",
    "| | 121.95 | 1,200.00 | |\n",
    "\n",
    "If the company has a 10% after-tax weighted average cost of capital, has a 40% tax rate, and uses\n",
    "straight-line depreciation, what is the net present value of the project?"
   ]
  },
  {
   "cell_type": "code",
   "execution_count": 19,
   "metadata": {},
   "outputs": [
    {
     "data": {
      "text/plain": [
       "33.47858752817541"
      ]
     },
     "execution_count": 19,
     "metadata": {},
     "output_type": "execute_result"
    }
   ],
   "source": [
    "CF_0 = -1200\n",
    "CF_t = 360+200\n",
    "T = 3\n",
    "r = .1\n",
    "Tc = .4\n",
    "\n",
    "Depr = -CF_0/T\n",
    "\n",
    "PV = CF_0+CF_t/r*(1-(1+r)^-T)*(1-Tc)+Depr*Tc/r*(1-(1+r)^-T)"
   ]
  },
  {
   "attachments": {},
   "cell_type": "markdown",
   "metadata": {},
   "source": [
    "-------\n",
    "#### 9 \n",
    "The treasurer of United Southern Capital Co. has submitted a proposal to the board of\n",
    "directors that, he argues, will increase profits for the all-equity company by a whopping 55%.\n",
    "It costs $900 and saves $290 in labor costs, providing a 3.1-year payback even though the\n",
    "equipment has an expected 5-year life (with no salvage value). If the firm has a 50% tax rate,\n",
    "uses straight-line depreciation, and has a 10% weighted average cost of capital, should the project\n",
    "be accepted? Income statements before and after the project are given in Tables Q9A and Q9B,\n",
    "respectively.\n",
    "\n",
    "\n",
    "\n",
    "<table>\n",
    "<tr><th> **Table Q9A** </th><th> **Table Q9B** </th></tr>\n",
    "<tr><td>\n",
    "\n",
    "| Before | Year 1 | Year 2 | Year 3 | Year 4 | Year 5 | \n",
    "| --- | --- | --- | --- | --- | --- |                   \n",
    "| Revenue | 1,000 | 1,000 | 1,000 | 1,000 | 1,000 |     \n",
    "| Variable cost | 500 | 500 | 500 | 500 | 500 |         \n",
    "| Depreciation | 300 | 300 | 300 | 300 | 300 |          \n",
    "| Net operating income | 200 | 200 | 200 | 200 | 200 |  \n",
    "| Interest expense | 0 | 0 | 0 | 0 | 0 |                \n",
    "| Earnings before taxes | 200 | 200 | 200 | 200 | 200 | \n",
    "| Taxes | −100 | −100 | −100 | −100 | −100 |            \n",
    "| Net income | 100 | 100 | 100 | 100 | 100 |            \n",
    "\n",
    "</td><td>\n",
    "\n",
    "| After | Year 1 | Year 2 | Year 3 | Year 4 | Year 5 |\n",
    "| --- | --- | --- | --- | --- | --- |\n",
    "| Revenue | 1,000 | 1,000 | 1,000 | 1,000 | 1,000 |\n",
    "| Variable cost | 210 | 210 | 210 | 210 | 210 |\n",
    "| Depreciation | 480 | 480 | 480 | 480 | 480 |\n",
    "| Net operating income | 310 | 310 | 310 | 310 | 310 |\n",
    "| Interest expense | 0 | 0 | 0 | 0 | 0 |\n",
    "| Earnings before taxes | 310 | 310 | 310 | 310 | 310 |\n",
    "| Taxes | −155 | −155 | −155 | −155 | −155 |\n",
    "| Net income | 155 | 155 | 155 | 155 | 155 |\n",
    "\n",
    "</td></tr> </table>\n",
    "\n"
   ]
  },
  {
   "cell_type": "code",
   "execution_count": 23,
   "metadata": {},
   "outputs": [
    {
     "data": {
      "text/plain": [
       "-9.16510918901406"
      ]
     },
     "execution_count": 23,
     "metadata": {},
     "output_type": "execute_result"
    }
   ],
   "source": [
    "CF_0 = -900\n",
    "CF_t = 290\n",
    "r = .1\n",
    "Tc = .5\n",
    "T = 5\n",
    "\n",
    "PV = CF_0 + CF_t/r*(1-(1+r)^-T)*(1-Tc)+900/(T*r)*Tc*(1-(1+r)^-T)"
   ]
  },
  {
   "attachments": {},
   "cell_type": "markdown",
   "metadata": {},
   "source": [
    "Project would not provide positive value to the company & should therefore be rejected."
   ]
  },
  {
   "attachments": {},
   "cell_type": "markdown",
   "metadata": {},
   "source": [
    "----------\n",
    "#### 10 \n",
    "The cash flows for projects A, B, and C are given below. \n",
    "\n",
    "| Year | A | B | C |\n",
    "| --- | --- | --- | --- | \n",
    "| 0 | −1 | −1 | −1 |\n",
    "| 1 | 0  | 1  | 0 |\n",
    "| 2 | 2  | 0  | 0 |\n",
    "| 3 | −1 | 1  | 3 |\n",
    "\n",
    "\n",
    "Calculate the payback period and\n",
    "net present value for each project (assume a 10% discount rate). If A and B are mutually exclusive\n",
    "and C is independent, which project, or combination of projects, is preferred using \n",
    "\n",
    "(a) the payback method or\n",
    " \n",
    "(b) the net present value method? What do the results tell you about the value-additivity properties of the payback method?"
   ]
  },
  {
   "cell_type": "code",
   "execution_count": 55,
   "metadata": {},
   "outputs": [
    {
     "data": {
      "text/plain": [
       "1×5 Matrix{Int64}:\n",
       " 2  1  3  2  3"
      ]
     },
     "execution_count": 55,
     "metadata": {},
     "output_type": "execute_result"
    }
   ],
   "source": [
    "CF_A = [-1, 0, 2, -1]\n",
    "CF_B = [-1, 1, 0, 1]\n",
    "CF_C = [-1, 0, 0, 3]\n",
    "CF_AC = CF_A+CF_C\n",
    "CF_BC = CF_B+CF_C\n",
    "\n",
    "PB_A = minimum(findall(x -> x .>= 0, cumsum(CF_A)))-1\n",
    "PB_B = minimum(findall(x -> x .>= 0, cumsum(CF_B)))-1\n",
    "PB_C = minimum(findall(x -> x .>= 0, cumsum(CF_C)))-1\n",
    "PB_AC = minimum(findall(x -> x .>= 0, cumsum(CF_AC)))-1\n",
    "PB_BC = minimum(findall(x -> x .>= 0, cumsum(CF_BC)))-1\n",
    "\n",
    "[PB_A PB_B PB_C PB_AC PB_BC]"
   ]
  },
  {
   "attachments": {},
   "cell_type": "markdown",
   "metadata": {},
   "source": [
    "Project B is favoured in terms of Payback-Period."
   ]
  },
  {
   "cell_type": "code",
   "execution_count": 54,
   "metadata": {},
   "outputs": [
    {
     "data": {
      "text/plain": [
       "1×5 Matrix{Float64}:\n",
       " -0.0984222  0.660406  1.25394  1.15552  1.91435"
      ]
     },
     "execution_count": 54,
     "metadata": {},
     "output_type": "execute_result"
    }
   ],
   "source": [
    "r = .1\n",
    "\n",
    "NPV_A = zeros(length(CF_A))\n",
    "NPV_B = zeros(length(CF_B))\n",
    "NPV_C = zeros(length(CF_C))\n",
    "NPV_AC = zeros(length(CF_AC))\n",
    "NPV_BC = zeros(length(CF_BC))\n",
    "\n",
    "for i in 1:length(CF_A)\n",
    "    NPV_A[i] = CF_A[i]*(1+r)^-(i-1)\n",
    "    NPV_B[i] = CF_B[i]*(1+r)^-(i-1)\n",
    "    NPV_C[i] = CF_C[i]*(1+r)^-(i-1)\n",
    "    NPV_AC[i] = CF_AC[i]*(1+r)^-(i-1)\n",
    "    NPV_BC[i] = CF_BC[i]*(1+r)^-(i-1)\n",
    "end\n",
    "\n",
    "ones(1,4)*[NPV_A NPV_B NPV_C NPV_AC NPV_BC]"
   ]
  },
  {
   "attachments": {},
   "cell_type": "markdown",
   "metadata": {},
   "source": [
    "Project B has 2nd worst NPV, despite being the favoured project in terms of Payback-period.\n",
    "\n",
    "The combination of projects B & C has the best NPV value depsite being the worst in terms of Payback-period. This is a result of the fact that Payback-period does not take into account the cashflows after the payback condition has been met.\n",
    "\n",
    "Once Project C is combined with A or B, the results change if we use the payback criterion. Now\n",
    "A + C is preferred. Previously, B was preferred. Because C is an independent choice, it should be\n",
    "irrelevant when considering a choice between A and B. However, with payback, this is not true.\n",
    "Payback violates value additivity. On the other hand, NPV does not. B + C is preferred. Its NPV is\n",
    "simply the sum of the NPV’s of B and C separately. Therefore, NPV does obey the value additivity\n",
    "principle."
   ]
  },
  {
   "attachments": {},
   "cell_type": "markdown",
   "metadata": {},
   "source": [
    "#### 11\n",
    "Calculate the internal rate of return on the following set of cash flows, according to the\n",
    "economic interpretation of internal rate of return near the end of Section F.3. Assume that the\n",
    "opportunity cost of capital is k = 10%.\n",
    "\n",
    "| Year | Cash Flow |\n",
    "| --- | --- |\n",
    "| 0 | −5,000 |\n",
    "| 1 | 10,000 |\n",
    "| 2 | −3,000 |"
   ]
  },
  {
   "cell_type": "code",
   "execution_count": 64,
   "metadata": {},
   "outputs": [
    {
     "data": {
      "text/plain": [
       "0.6324555320336759"
      ]
     },
     "execution_count": 64,
     "metadata": {},
     "output_type": "execute_result"
    }
   ],
   "source": [
    "model=Model(Ipopt.Optimizer)\n",
    "@variable(model,i)\n",
    "@NLconstraint(model, -5000+10000*(1+i)^-1-3000*(1+i)^-2 == 0)\n",
    "set_silent(model)\n",
    "optimize!(model)\n",
    "\n",
    "value.(i)"
   ]
  },
  {
   "attachments": {},
   "cell_type": "markdown",
   "metadata": {},
   "source": [
    "IRR is 63.25%, which is greater than the opportunity cost of capital of 10%. We thefore accept the project as it represents efficient use of funds."
   ]
  },
  {
   "attachments": {},
   "cell_type": "markdown",
   "metadata": {},
   "source": [
    "Using the method discussed in section F.3 of this chapter, in the first year the firm invests $5,000 and\n",
    "expects to earn IRR. Therefore, at the end of the first time period, we have 5,000(1 + IRR)\n",
    "\n",
    "During the second period the firm borrows from the project at the opportunity cost of capital, k.\n",
    "The amount borrowed is (10,000 − 5,000(1 + IRR))\n",
    "\n",
    "By the end of the second time period this is worth:\n",
    "\n",
    "(10,000 − 5,000(1 + IRR)) (1 + k)\n",
    "\n",
    "The firm then lends 3,000 at the end of the second time period:\n",
    "\n",
    "3,000 = (10,000 − 5,000(1 + IRR)) (1.10)\n",
    "Solving for IRR, we have:\n",
    "\n",
    "$\\frac{\\frac{3,000}{1.10}-10,000}{-5000}-1 = IRR = 45.45\\% $"
   ]
  }
 ],
 "metadata": {
  "kernelspec": {
   "display_name": "Julia 1.8.2",
   "language": "julia",
   "name": "julia-1.8"
  },
  "language_info": {
   "file_extension": ".jl",
   "mimetype": "application/julia",
   "name": "julia",
   "version": "1.8.2"
  },
  "orig_nbformat": 4
 },
 "nbformat": 4,
 "nbformat_minor": 2
}
