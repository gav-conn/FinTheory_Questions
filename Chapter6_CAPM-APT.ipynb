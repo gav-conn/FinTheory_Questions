{
 "cells": [
  {
   "attachments": {},
   "cell_type": "markdown",
   "metadata": {},
   "source": [
    "-------------\n",
    "# Chapter 6 - CAPM & APT\n",
    "----------"
   ]
  },
  {
   "cell_type": "code",
   "execution_count": 32,
   "metadata": {},
   "outputs": [],
   "source": [
    "using JuMP, HiGHS, Ipopt, Plots;"
   ]
  },
  {
   "attachments": {},
   "cell_type": "markdown",
   "metadata": {},
   "source": [
    "------\n",
    "#### 1 \n",
    "Let us assume a normal distribution of returns and risk-averse utility functions. Under what\n",
    "conditions will all investors demand the same portfolio of risky assets?"
   ]
  },
  {
   "attachments": {},
   "cell_type": "markdown",
   "metadata": {},
   "source": [
    "--------\n",
    "#### 2\n",
    "The following data have been developed for the Donovan Company, the manufacturer of an\n",
    "advanced line of adhesives:\n",
    "\n",
    "| State | Probability | Market Return $R_m$ | Return for the Firm $R_j$ |\n",
    "| --- | --- | --- | --- |\n",
    "| 1 | .1 | −.15 | −.30 |\n",
    "| 2 | .3 | .05 |.00 |\n",
    "| 3 | .4 | .15 |.20 |\n",
    "| 4 | .2 | .20 |.50 |\n",
    "\n",
    "\n",
    "The risk-free rate is 6%. Calculate the following:\n",
    "\n",
    "(a) The expected market return.\n",
    "\n",
    "(b) The variance of the market return.\n",
    "\n",
    "(c) The expected return for the Donovan Company.\n",
    "\n",
    "(d) The covariance of the return for the Donovan Company with the market return.\n",
    "\n",
    "(e) Write the equation of the security market line.\n",
    "\n",
    "(f) What is the required return for the Donovan Company? How does this compare with its expected return?"
   ]
  },
  {
   "cell_type": "code",
   "execution_count": 92,
   "metadata": {},
   "outputs": [
    {
     "name": "stdout",
     "output_type": "stream",
     "text": [
      "Expectation of Market Return: 0.10 \n",
      "Expectation of Firm Return: 0.15\n",
      "Variance of Market Return: 0.01 \n",
      "Variance of Firm Return: 0.0525 \n",
      "Covariance of Market & Firm: 0.0215\n",
      "Beta of Firm: 2.15"
     ]
    }
   ],
   "source": [
    "P = [.1 .3 .4 .2]\n",
    "Rm = [-.15 .05 .15 .2]\n",
    "Rj = [-.3 0 .2 .5]\n",
    "Rf = .06\n",
    "\n",
    "ERm = P*Rm'\n",
    "var_Rm = P*(Rm.-ERm)'.^2\n",
    "ERj = P*Rj'\n",
    "cov_mj = P*diag((Rm.-ERm)'*(Rj.-ERj))\n",
    "Beta = cov_mj/var_Rm\n",
    "\n",
    "@printf(\"Expectation of Market Return: %.2f \\nExpectation of Firm Return: %.2f\", ERm[1], ERj[1])\n",
    "@printf(\"\\nVariance of Market Return: %.2f \\nVariance of Firm Return: %.4f \\nCovariance of Market & Firm: %.4f\", var_Rm[1], var_Rj[1], cov_mj[1])\n",
    "@printf(\"\\nBeta of Firm: %.2f\", Beta[1])"
   ]
  },
  {
   "attachments": {},
   "cell_type": "markdown",
   "metadata": {},
   "source": [
    "Equation of the SML: \n",
    "$$\n",
    "\\begin{align*}\n",
    "E[R_j] &= R_f + \\beta_i \\left(E\\left[R_m\\right] - R_f\\right) \\\\\n",
    "&= 0.06 + \\beta_i \\left(0.1 - 0.06\\right) \\\\\n",
    "&= 0.06 + 0.04 \\cdot \\beta_i\n",
    "\\end{align*}\n",
    "$$"
   ]
  },
  {
   "attachments": {},
   "cell_type": "markdown",
   "metadata": {},
   "source": [
    "$$\\begin{align*}\n",
    "    E[R_j] &= R_f + \\beta_j \\left(E\\left[R_m\\right] - R_f\\right) \\\\\n",
    "    &= 0.06 + 2.15\\left(0.1 - 0.06\\right) \\\\\n",
    "    &= 0.06 + 2.15\\left(0.1 - 0.06\\right) \\\\\n",
    "    &= 0.146\n",
    "\\end{align*}$$\n",
    "\n",
    "This is below our Expected Return of 0.15. This implies the firm is undervalued & we should therefore purchase stocks of this security."
   ]
  },
  {
   "attachments": {},
   "cell_type": "markdown",
   "metadata": {},
   "source": [
    "--------------\n",
    "#### 3\n",
    "\n",
    "The following data have been developed for the Milliken Company:\n",
    "\n",
    "| Year | Market Return | Company Returns |\n",
    "| --- | --- | --- |\n",
    "| 1978 | .27 | .25 |\n",
    "| 1977 | .12 | .05 |\n",
    "| 1976 | −.03 | −.05\n",
    "| 1975 | .12 | .15 |\n",
    "| 1974 | −.03 | −.10\n",
    "| 1973 | .27 | .30 |\n",
    "\n",
    "The yield to maturity on Treasury bills is .066 and is expected to remain at this point for the\n",
    "foreseeable future. Calculate the following:\n",
    "\n",
    "(a) The expected market return.\n",
    "\n",
    "(b) The variance of the market return.\n",
    "\n",
    "(c) The expected rate of return for the Milliken Company.\n",
    "\n",
    "(d) The covariance of the return for the Milliken Company with the return on the market.\n",
    "\n",
    "(e) Write the equation of the security market line.\n",
    "\n",
    "(f) What is the required return for the Milliken Company?"
   ]
  },
  {
   "cell_type": "code",
   "execution_count": 91,
   "metadata": {},
   "outputs": [
    {
     "name": "stdout",
     "output_type": "stream",
     "text": [
      "Expectation of Market Return: 0.12 \n",
      "Expectation of Milliken Return: 0.10\n",
      "Variance of Market Return: 0.01 \n",
      "Covariance of Market & Milliken: 0.0175"
     ]
    }
   ],
   "source": [
    "R_m = [.27 .12 -.03 .12 -.03 .27]\n",
    "ER_m = 1/length(R_m)*R_m*ones(6)\n",
    "\n",
    "var_m = repeat([1/length(R_m)], length(R_m))'*diag((R_m.-ER_m)'*(R_m.-ER_m))\n",
    "\n",
    "R_j = [.25 .05 -.05 .15 -.1 .3]\n",
    "ER_j = 1/length(R_j)*R_j*ones(6)\n",
    "\n",
    "cov_mj = repeat([1/length(R_m)], length(R_m))'*diag((R_m.-ER_m)'*(R_j.-ER_j))\n",
    "\n",
    "@printf(\"Expectation of Market Return: %.2f \\nExpectation of Milliken Return: %.2f\", ER_m[1], ER_j[1])\n",
    "@printf(\"\\nVariance of Market Return: %.2f \\nCovariance of Market & Milliken: %.4f\", var_m[1], cov_mj[1])"
   ]
  },
  {
   "attachments": {},
   "cell_type": "markdown",
   "metadata": {},
   "source": [
    "Equation of the SML: \n",
    "$$\n",
    "\\begin{align*}\n",
    "E[R_j] &= R_f + \\beta_i \\left(E\\left[R_m\\right] - R_f\\right) \\\\\n",
    "&= 0.066 + \\beta_i \\left(0.12 - 0.066\\right) \\\\\n",
    "&= 0.066 + 0.054 \\cdot \\beta_i\n",
    "\\end{align*}\n",
    "$$"
   ]
  },
  {
   "cell_type": "code",
   "execution_count": 94,
   "metadata": {},
   "outputs": [
    {
     "data": {
      "text/plain": [
       "1×1 transpose(::Vector{Float64}) with eltype Float64:\n",
       " 1.0077519379844964"
      ]
     },
     "execution_count": 94,
     "metadata": {},
     "output_type": "execute_result"
    }
   ],
   "source": [
    "var_j = repeat([1/length(R_j)], length(R_j))'*diag((R_j.-ER_j)'*(R_j.-ER_j))\n",
    "Beta = var_j/cov_mj"
   ]
  },
  {
   "attachments": {},
   "cell_type": "markdown",
   "metadata": {},
   "source": [
    "Required Return on Milliken:\n",
    "$$\n",
    "\\begin{align*}\n",
    "E\\left[R_j\\right] &= 0.066 + 0.054 \\cdot \\beta_i \\\\\n",
    "&= 0.066 + 0.054 \\cdot 1.00775 \\\\\n",
    "&= 0.1204\n",
    "\\end{align*}\n",
    "$$\n",
    "\n",
    "Implies Milliken currently overvalued, so we would expect price to fall."
   ]
  },
  {
   "attachments": {},
   "cell_type": "markdown",
   "metadata": {},
   "source": [
    "----------\n",
    "#### 4\n",
    "\n",
    "For the data in Table Q4 perform the indicated calculations.\n",
    "\n",
    "| | $P_t$ | $\\frac{P_t}{P_{t-1}}-1$ | $\\frac{Div_t}{P_t}$ | $R_{mt}$ | $R_{mt}-\\bar{R}_m$ | $(R_{mt}-\\bar{R}_m)^2$ | $R_f$ |\n",
    "| --- | --- | --- | --- | --- | --- | --- |--- |\n",
    "| 1960 | 55.84 |\n",
    "| 1961 | 66.27 | 0.1868 | .0298 | 0.2166 | 0.1386 | 0.0192 |.03 |\n",
    "| 1962 | 62.38 | -0.0587 | .0337 | -0.025 | -0.103 | 0.0106 |.03 |\n",
    "| 1963 | 69.87 | 0.12 | .0317 | 0.1518 | 0.074 | 0.0054 |.03 |\n",
    "| 1964 | 81.37 | 0.1646 | .0301 | 0.1947 | 0.1167 | 0.0136 |.04 |\n",
    "| 1965 | 88.17 | 0.0836 | .0300 | 0.1136 | 0.0356 | 0.0013 |.04 |\n",
    "| 1966 | 85.26 | -0.033 | .0340 | 0.001 | -0.077 | 0.0059 |.04 |\n",
    "| 1967 | 91.93 | 0.0782 | .0320 | 0.1102 | 0.0323 | 0.001 |.05 |\n",
    "| 1968 | 98.70 | 0.0736 | .0307 | 0.1043 | 0.0264 | 0.0007 |.05 |\n",
    "| 1969 | 97.84 | -0.0087 | .0324 | 0.0237 | -0.0543 | 0.0029 |.07 |\n",
    "| 1970 | 83.22 | -0.1494 | .0383 | -0.1111 | 0.1891 | 0.0358 |.06 |\n",
    "\n",
    "a. $\\bar{R}_m$ = 0.0457\n",
    "\n",
    "b. $VAR(R_m)$ = 0.00965\n",
    "\n",
    "c. $σ(R_m)$ = 0.0982"
   ]
  },
  {
   "cell_type": "code",
   "execution_count": 121,
   "metadata": {},
   "outputs": [
    {
     "data": {
      "text/plain": [
       "1×1 Matrix{Float64}:\n",
       " 0.09601435087790917"
      ]
     },
     "execution_count": 121,
     "metadata": {},
     "output_type": "execute_result"
    }
   ],
   "source": [
    "P = [55.84 66.27 62.38 69.87 81.37 88.17 85.26 91.93 98.7 97.84 83.22]\n",
    "\n",
    "Price_Ret = zeros(length(P)-1)\n",
    "for i in 1:length(P)-1\n",
    "    Price_Ret[i] = P[i+1]/P[i]-1\n",
    "end\n",
    "\n",
    "Div = [.0298 .0337 .0317 .0301 .03 .034 .032 .0307 .0324 .0383]'\n",
    "Ret = Price_Ret+Div\n",
    "\n",
    "mean_Ret = mean(Ret)\n",
    "\n",
    "Ret_dev = Ret.-mean_Ret\n",
    "Mkt_var = (Ret.-mean_Ret).^2\n",
    "\n",
    "var = repeat([1/10], 10)'*(Ret+Div.-mean(Ret+Div)).^2\n",
    "sd = sqrt.(var)"
   ]
  },
  {
   "attachments": {},
   "cell_type": "markdown",
   "metadata": {},
   "source": [
    "----------\n",
    "#### 6\n",
    "What are the assumptions sufficient to guarantee that the market portfolio is an efficient\n",
    "portfolio?\n"
   ]
  },
  {
   "attachments": {},
   "cell_type": "markdown",
   "metadata": {},
   "source": [
    "Other than the usual perfect market assumptions, and given that we have rational, risk-averse,\n",
    "expected-end-of-period-utility-of-wealth maximizers, the key assumptions are that \n",
    "1) investors have homogeneous expectations \n",
    "\n",
    "2) all assets are perfectly divisible and marketable.\n",
    "\n",
    "It is not necessary that there be risk-free assets. Given the two above assumptions, all individuals will perceive the same efficient set and all assets will be held in equilibrium. If every individual holds an efficient portfolio, and all assets are held, then the market portfolio must also be efficient because it is merely the sum of all efficient portfolios held by all individuals."
   ]
  },
  {
   "attachments": {},
   "cell_type": "markdown",
   "metadata": {},
   "source": [
    "-----------\n",
    "#### 7 \n",
    "In the CAPM is there any way to identify the investors who are more risk averse? Explain.\n",
    "How would your answer change if there were not a riskless asset?\n"
   ]
  },
  {
   "attachments": {},
   "cell_type": "markdown",
   "metadata": {},
   "source": [
    "We can identify risk-averse investors by the amount of their investment held in the risk-free asset. We could also judge their risk-aversity by looking at the $\\beta$ of their portfolio or the required rate of return on their portfolio as these are all equivalent measures.\n",
    "\n",
    "\n",
    "If there were not a riskless asset, we can constuct a zero-$\\beta$ portfolio through a combination of risky-assets such that it's correlation with the market portfolio would be zero. We could then identify risk-averse investors by the $\\beta$ of their portfolio,"
   ]
  },
  {
   "attachments": {},
   "cell_type": "markdown",
   "metadata": {},
   "source": [
    "--------\n",
    "#### 8\n",
    "Given risk-free borrowing and lending, efficient portfolios have no unsystematic risk. True or\n",
    "false? Explain.\n"
   ]
  },
  {
   "attachments": {},
   "cell_type": "markdown",
   "metadata": {},
   "source": [
    "This statement would only be true of we had an infinite or pseudo-infinite number of marketable securities, where the assets have non-perfect correlation."
   ]
  },
  {
   "attachments": {},
   "cell_type": "markdown",
   "metadata": {},
   "source": [
    "Systematic risk is defined as market risk, i.e., a portfolio’s variance that can be explained in terms of\n",
    "market variance. With risk-free borrowing and lending, all efficient portfolios are linear combinations\n",
    "of the risk-free asset and the market portfolio. The capital market line is made up of a linear efficient\n",
    "set as in Figure 6.2. Because the risk-free asset has no variance, total variance in every efficient\n",
    "portfolio is contributed solely by the market portfolio. Thus, all risk is systematic.\n",
    "Algebraically, the variance in any efficient portfolio would be:\n",
    "$$\n",
    "\\begin{align*}\n",
    "var\\left[a(R_m)+(1-a)R_f\\right] &= a^2 \\sigma^2_{m}+(1-a)^2 \\sigma^2_{R_f} + a(1-a)\\sigma_{m, R_f} \\\\\n",
    "&= a^2 \\sigma^2_{m}\n",
    "\\end{align*}\n",
    "$$\n",
    "\n",
    "where a represents the percentage of the efficient portfolio invested in the market portfolio. The\n",
    "percentage, a, is equal to the portfolio’s β p, as proven in problem 6.7. β is the measure of systematic\n",
    "risk.\n",
    "Thus, $σ_p=β_p σ_m$."
   ]
  },
  {
   "attachments": {},
   "cell_type": "markdown",
   "metadata": {},
   "source": [
    "---------\n",
    "#### 9\n",
    "What is the beta of an efficient portfolio with $E(R_j) = 20\\%$ if $R_f = 5\\%$, $E(R_m) = 15\\%$, and $σ_m = 20\\%$? \n",
    "\n",
    "What is its $σ_j$? \n",
    "\n",
    "What is its correlation with the market?\n"
   ]
  },
  {
   "cell_type": "code",
   "execution_count": 15,
   "metadata": {},
   "outputs": [
    {
     "data": {
      "text/plain": [
       "1.0000000000000002"
      ]
     },
     "execution_count": 15,
     "metadata": {},
     "output_type": "execute_result"
    }
   ],
   "source": [
    "E_Rm = 0.15\n",
    "E_Rj = 0.2\n",
    "R_f = 0.05\n",
    "sigma_m = 0.2\n",
    "\n",
    "B = (E_Rj-R_f)/(E_Rm-R_f)\n",
    "\n",
    "sigma_j = B*sigma_m\n",
    "\n",
    "cov_mj = B*sigma_m^2\n",
    "\n",
    "rho_mj = cov_mj/(sigma_j*sigma_m)"
   ]
  },
  {
   "attachments": {},
   "cell_type": "markdown",
   "metadata": {},
   "source": [
    "$$\n",
    "\\begin{align*}\n",
    "E\\left[R_j\\right] &= R_f + \\beta_j \\left[E[R_m]-R_f\\right] \\\\\n",
    "20\\% &= 5\\% + \\beta_j [15\\%-5\\%] \\\\\n",
    "\\beta_j &= \\frac{15\\%}{10\\%} \\\\\n",
    "\\beta_j &= 1.5\n",
    "\\\\\n",
    "\\\\\n",
    "\\sigma_{j} &=  \\beta_j \\sigma_{m} \\\\\n",
    "&= 1.5(20\\%) \\\\\n",
    "&= 30\\%\n",
    "\\\\\n",
    "\\\\\n",
    "\\beta_{j} &=  \\frac{cov(R_m, R_j)}{\\sigma^2_{m}} \\\\\n",
    "\\implies cov(R_m, R_j) &= \\beta_j(\\sigma^2_m) \\\\\n",
    "&= 1.5(0.2)^2 \\\\\n",
    "&= 6\\%\n",
    "\\\\\n",
    "\\\\\n",
    "\\rho_{m,j} &=  \\frac{cov(R_m, R_j)}{\\sigma_m \\sigma_j} \\\\\n",
    "&= \\frac{6\\%}{20\\% \\cdot 30\\%} \\\\\n",
    "&= 1\n",
    "\\end{align*}\n",
    "$$\n",
    "\n",
    "Implies that all efficient portfolios are perfectly correlated with the market portfolio."
   ]
  },
  {
   "attachments": {},
   "cell_type": "markdown",
   "metadata": {},
   "source": [
    "---------- \n",
    "#### 10\n",
    "Given the facts of Problem 9, and that the common stock of the Rapid Rolling Corporation has $E(R_k) = 25\\%$ and $σ^2_k = 52\\%$, what is the systematic risk of the common stock? What is its unsystematic risk?\n"
   ]
  },
  {
   "cell_type": "code",
   "execution_count": 8,
   "metadata": {},
   "outputs": [
    {
     "data": {
      "text/plain": [
       "1×3 Matrix{Float64}:\n",
       " 2.0  0.4  0.6"
      ]
     },
     "execution_count": 8,
     "metadata": {},
     "output_type": "execute_result"
    }
   ],
   "source": [
    "E_Rm = 0.15\n",
    "E_Rk = 0.25\n",
    "R_f = 0.05\n",
    "sigma_m = 0.2\n",
    "sigma2_k = 0.52\n",
    "\n",
    "B = (E_Rk-R_f)/(E_Rm-R_f)\n",
    "\n",
    "sigma_mk = B*sigma_m\n",
    "\n",
    "sigma_ek = sqrt(sigma2_k - sigma_mk^2)\n",
    "\n",
    "[B sigma_mk sigma_ek]"
   ]
  },
  {
   "attachments": {},
   "cell_type": "markdown",
   "metadata": {},
   "source": [
    "$$\n",
    "\\begin{align*}\n",
    "E\\left[R_k\\right] &= R_f + \\beta_k \\left[E[R_m]-R_f\\right] \\\\\n",
    "25\\% &= 5\\% + \\beta_k [15\\%-5\\%] \\\\\n",
    "\\beta_k &= \\frac{20\\%}{10\\%} \\\\\n",
    "\\beta_k &= 2\n",
    "\\\\\n",
    "\\\\\n",
    "\\sigma^2_{m,k} &= \\beta_k \\sigma_m \\\\\n",
    "&= 2(20\\%) \\\\\n",
    "&= 40\\%\n",
    "\\\\\n",
    "\\\\\n",
    "\\sigma^2_{k} &= \\beta_k^2 \\sigma_m^2 + \\sigma^2_{\\epsilon,k} \\\\\n",
    "\\implies \\sigma^2_{\\epsilon,k} &= \\sigma^2_{k} - \\beta_k^2 \\sigma_m^2 \\\\\n",
    "\\sigma^2_{\\epsilon,k} &= 52\\% - 2^2(20\\%)^2 \\\\\n",
    "&= 52\\%-16\\% \\\\\n",
    "&= 0.36\n",
    "\\\\\n",
    "\\\\\n",
    "\\implies \\sigma_{\\epsilon,k} &= 60\\%\n",
    "\\end{align*}\n",
    "$$"
   ]
  },
  {
   "attachments": {},
   "cell_type": "markdown",
   "metadata": {},
   "source": [
    "------------\n",
    "#### 11\n",
    "(a) If the expected rate of return on the market portfolio is 14% and the risk-free rate is\n",
    "6%, find the beta for a portfolio that has expected rate of return of 10%. What assumptions\n",
    "concerning this portfolio and/or market conditions do you need to make to calculate the\n",
    "portfolio’s beta?\n",
    "\n",
    "(b) What percentage of this portfolio must an individual put into the market portfolio in\n",
    "order to achieve an expected return of 10%?"
   ]
  },
  {
   "attachments": {},
   "cell_type": "markdown",
   "metadata": {},
   "source": [
    "$$\n",
    "\\begin{align*}\n",
    "E\\left[R_k\\right] &= R_f + \\beta_k \\left[E[R_m]-R_f\\right] \\\\\n",
    "10\\% &= 6\\% + \\beta_k [14\\%-6\\%] \\\\\n",
    "\\beta_k &= \\frac{4\\%}{8\\%} \\\\\n",
    "\\beta_k &= 0.5\n",
    "\\end{align*}\n",
    "$$\n",
    "\n",
    "The CAPM assumes that the market is in equilibrium and that investors hold efficient portfolios, i.e., that all portfolios lie on the security market line."
   ]
  },
  {
   "attachments": {},
   "cell_type": "markdown",
   "metadata": {},
   "source": [
    "As the $\\beta$ of the market portfolio is 1, we know that an investor must put 50\\% of their portfolio into the market portfolio in order to achieve an expected return of 10\\% "
   ]
  },
  {
   "attachments": {},
   "cell_type": "markdown",
   "metadata": {},
   "source": [
    "-----------\n",
    "#### 12 \n",
    "You believe that the Beta Alpha Watch Company will be worth $100 per share one year from\n",
    "now. How much are you willing to pay for one share today if the risk-free rate is 8%, the expected\n",
    "rate of return on the market is 18%, and the company’s beta is 2.0?\n"
   ]
  },
  {
   "cell_type": "code",
   "execution_count": 3,
   "metadata": {},
   "outputs": [
    {
     "data": {
      "text/plain": [
       "1×2 Matrix{Float64}:\n",
       " 0.28  78.125"
      ]
     },
     "execution_count": 3,
     "metadata": {},
     "output_type": "execute_result"
    }
   ],
   "source": [
    "P1 = 100\n",
    "E_Rm = 0.18\n",
    "B = 2\n",
    "R_f = 0.08\n",
    "\n",
    "E_Ri = R_f+B*(E_Rm-R_f)\n",
    "\n",
    "P0 = P1/(1+E_Ri)\n",
    "\n",
    "[E_Ri P0]"
   ]
  },
  {
   "attachments": {},
   "cell_type": "markdown",
   "metadata": {},
   "source": [
    "$$\n",
    "\\begin{align*}\n",
    "E\\left[R_i\\right] &= R_f + \\beta_k \\left[E[R_m]-R_f\\right] \\\\\n",
    "&= 8\\% + 2[18\\%-8\\%] \\\\\n",
    "&= 8\\%+20\\% \\\\\n",
    "&= 28\\%\n",
    "\\\\\n",
    "\\\\\n",
    "\\frac{100}{P_0}-1 &= 28\\% \\\\\n",
    "\\implies P_0 &= \\frac{100}{128\\%} \\\\\n",
    "&=  \\$78.125\n",
    "\\end{align*}\n",
    "$$"
   ]
  },
  {
   "attachments": {},
   "cell_type": "markdown",
   "metadata": {},
   "source": [
    "----------\n",
    "#### 13\n",
    "Given the following variance-covariance matrix and expected returns vector (for assets X\n",
    "and Y , respectively) for a two-asset world:\n",
    "$$\n",
    "∑ = \\left[\\begin{array}{cc}\n",
    ".01 & 0 \\\\ 0 & .0064\n",
    "\\end{array}\\right]\n",
    "$$\n",
    "$$\n",
    "\\bar{R}^′_I = \\left[\\begin{array}{cc}\n",
    ".2 & .1\n",
    "\\end{array}\\right]\n",
    "$$\n",
    "\n",
    "\n",
    "(a) What is the expected return of a zero-beta portfolio, given that 50% of the index portfolio is invested in asset X and asset Y ?\n",
    "\n",
    "(b) What is the vector of weights in the global minimum-variance portfolio?\n",
    "\n",
    "(c) What is the covariance between the global minimum-variance portfolio and the zero- beta portfolio?\n",
    "\n",
    "(d) What is the equation of the market line?\n"
   ]
  },
  {
   "cell_type": "code",
   "execution_count": 85,
   "metadata": {},
   "outputs": [
    {
     "data": {
      "text/plain": [
       "1×1 Matrix{Float64}:\n",
       " 0.15000000000000002"
      ]
     },
     "execution_count": 85,
     "metadata": {},
     "output_type": "execute_result"
    }
   ],
   "source": [
    "sigma = [0.01 0; 0 0.0064]\n",
    "mean_R = [0.2 0.1]\n",
    "\n",
    "h_m = [0.5 0.5]\n",
    "ER_m = h_m*mean_R'"
   ]
  },
  {
   "cell_type": "code",
   "execution_count": 87,
   "metadata": {},
   "outputs": [
    {
     "data": {
      "text/plain": [
       "1×1 Matrix{Float64}:\n",
       " -0.07777777777777783"
      ]
     },
     "execution_count": 87,
     "metadata": {},
     "output_type": "execute_result"
    }
   ],
   "source": [
    "opt = Model(Ipopt.Optimizer)\n",
    "@variable(opt,h)\n",
    "@NLconstraint(opt, h*sigma[1,1]*h_m[1] + (1-h)*sigma[2,2]*h_m[2]== 0)\n",
    "set_silent(opt)\n",
    "optimize!(opt)\n",
    "h_z=[value.(h) 1-value.(h)]\n",
    "\n",
    "cov_z =h_z*sigma*h_m'\n",
    "\n",
    "E_Rz = h_z*mean_R'"
   ]
  },
  {
   "cell_type": "code",
   "execution_count": 88,
   "metadata": {},
   "outputs": [
    {
     "data": {
      "text/plain": [
       "1×2 Matrix{Float64}:\n",
       " 0.390244  0.609756"
      ]
     },
     "execution_count": 88,
     "metadata": {},
     "output_type": "execute_result"
    }
   ],
   "source": [
    "opt = Model(Ipopt.Optimizer)\n",
    "@variable(opt,h)\n",
    "@NLobjective(opt, Min, h^2*sigma[1,1] + (1-h)^2*sigma[2,2] + 2*h*(1-h)*sigma[1,2])\n",
    "set_silent(opt)\n",
    "optimize!(opt)\n",
    "\n",
    "h_MVP=[value.(h) 1-value.(h)]"
   ]
  },
  {
   "cell_type": "code",
   "execution_count": 70,
   "metadata": {},
   "outputs": [
    {
     "data": {
      "image/svg+xml": "<?xml version=\"1.0\" encoding=\"utf-8\"?>\n<svg xmlns=\"http://www.w3.org/2000/svg\" xmlns:xlink=\"http://www.w3.org/1999/xlink\" width=\"600\" height=\"400\" viewBox=\"0 0 2400 1600\">\n<defs>\n  <clipPath id=\"clip020\">\n    <rect x=\"0\" y=\"0\" width=\"2400\" height=\"1600\"/>\n  </clipPath>\n</defs>\n<path clip-path=\"url(#clip020)\" d=\"\nM0 1600 L2400 1600 L2400 0 L0 0  Z\n  \" fill=\"#ffffff\" fill-rule=\"evenodd\" fill-opacity=\"1\"/>\n<defs>\n  <clipPath id=\"clip021\">\n    <rect x=\"480\" y=\"0\" width=\"1681\" height=\"1600\"/>\n  </clipPath>\n</defs>\n<path clip-path=\"url(#clip020)\" d=\"\nM156.112 1486.45 L2352.76 1486.45 L2352.76 47.2441 L156.112 47.2441  Z\n  \" fill=\"#ffffff\" fill-rule=\"evenodd\" fill-opacity=\"1\"/>\n<defs>\n  <clipPath id=\"clip022\">\n    <rect x=\"156\" y=\"47\" width=\"2198\" height=\"1440\"/>\n  </clipPath>\n</defs>\n<polyline clip-path=\"url(#clip022)\" style=\"stroke:#000000; stroke-linecap:round; stroke-linejoin:round; stroke-width:2; stroke-opacity:0.1; fill:none\" points=\"\n  388.07,1486.45 388.07,47.2441 \n  \"/>\n<polyline clip-path=\"url(#clip022)\" style=\"stroke:#000000; stroke-linecap:round; stroke-linejoin:round; stroke-width:2; stroke-opacity:0.1; fill:none\" points=\"\n  726.821,1486.45 726.821,47.2441 \n  \"/>\n<polyline clip-path=\"url(#clip022)\" style=\"stroke:#000000; stroke-linecap:round; stroke-linejoin:round; stroke-width:2; stroke-opacity:0.1; fill:none\" points=\"\n  1065.57,1486.45 1065.57,47.2441 \n  \"/>\n<polyline clip-path=\"url(#clip022)\" style=\"stroke:#000000; stroke-linecap:round; stroke-linejoin:round; stroke-width:2; stroke-opacity:0.1; fill:none\" points=\"\n  1404.32,1486.45 1404.32,47.2441 \n  \"/>\n<polyline clip-path=\"url(#clip022)\" style=\"stroke:#000000; stroke-linecap:round; stroke-linejoin:round; stroke-width:2; stroke-opacity:0.1; fill:none\" points=\"\n  1743.08,1486.45 1743.08,47.2441 \n  \"/>\n<polyline clip-path=\"url(#clip022)\" style=\"stroke:#000000; stroke-linecap:round; stroke-linejoin:round; stroke-width:2; stroke-opacity:0.1; fill:none\" points=\"\n  2081.83,1486.45 2081.83,47.2441 \n  \"/>\n<polyline clip-path=\"url(#clip020)\" style=\"stroke:#000000; stroke-linecap:round; stroke-linejoin:round; stroke-width:4; stroke-opacity:1; fill:none\" points=\"\n  156.112,1486.45 2352.76,1486.45 \n  \"/>\n<polyline clip-path=\"url(#clip020)\" style=\"stroke:#000000; stroke-linecap:round; stroke-linejoin:round; stroke-width:4; stroke-opacity:1; fill:none\" points=\"\n  388.07,1486.45 388.07,1467.55 \n  \"/>\n<polyline clip-path=\"url(#clip020)\" style=\"stroke:#000000; stroke-linecap:round; stroke-linejoin:round; stroke-width:4; stroke-opacity:1; fill:none\" points=\"\n  726.821,1486.45 726.821,1467.55 \n  \"/>\n<polyline clip-path=\"url(#clip020)\" style=\"stroke:#000000; stroke-linecap:round; stroke-linejoin:round; stroke-width:4; stroke-opacity:1; fill:none\" points=\"\n  1065.57,1486.45 1065.57,1467.55 \n  \"/>\n<polyline clip-path=\"url(#clip020)\" style=\"stroke:#000000; stroke-linecap:round; stroke-linejoin:round; stroke-width:4; stroke-opacity:1; fill:none\" points=\"\n  1404.32,1486.45 1404.32,1467.55 \n  \"/>\n<polyline clip-path=\"url(#clip020)\" style=\"stroke:#000000; stroke-linecap:round; stroke-linejoin:round; stroke-width:4; stroke-opacity:1; fill:none\" points=\"\n  1743.08,1486.45 1743.08,1467.55 \n  \"/>\n<polyline clip-path=\"url(#clip020)\" style=\"stroke:#000000; stroke-linecap:round; stroke-linejoin:round; stroke-width:4; stroke-opacity:1; fill:none\" points=\"\n  2081.83,1486.45 2081.83,1467.55 \n  \"/>\n<path clip-path=\"url(#clip020)\" d=\"M335.79 1517.37 Q332.179 1517.37 330.35 1520.93 Q328.545 1524.47 328.545 1531.6 Q328.545 1538.71 330.35 1542.27 Q332.179 1545.82 335.79 1545.82 Q339.424 1545.82 341.23 1542.27 Q343.059 1538.71 343.059 1531.6 Q343.059 1524.47 341.23 1520.93 Q339.424 1517.37 335.79 1517.37 M335.79 1513.66 Q341.6 1513.66 344.656 1518.27 Q347.735 1522.85 347.735 1531.6 Q347.735 1540.33 344.656 1544.94 Q341.6 1549.52 335.79 1549.52 Q329.98 1549.52 326.901 1544.94 Q323.846 1540.33 323.846 1531.6 Q323.846 1522.85 326.901 1518.27 Q329.98 1513.66 335.79 1513.66 Z\" fill=\"#000000\" fill-rule=\"evenodd\" fill-opacity=\"1\" /><path clip-path=\"url(#clip020)\" d=\"M355.952 1542.97 L360.836 1542.97 L360.836 1548.85 L355.952 1548.85 L355.952 1542.97 Z\" fill=\"#000000\" fill-rule=\"evenodd\" fill-opacity=\"1\" /><path clip-path=\"url(#clip020)\" d=\"M381.021 1517.37 Q377.41 1517.37 375.582 1520.93 Q373.776 1524.47 373.776 1531.6 Q373.776 1538.71 375.582 1542.27 Q377.41 1545.82 381.021 1545.82 Q384.656 1545.82 386.461 1542.27 Q388.29 1538.71 388.29 1531.6 Q388.29 1524.47 386.461 1520.93 Q384.656 1517.37 381.021 1517.37 M381.021 1513.66 Q386.832 1513.66 389.887 1518.27 Q392.966 1522.85 392.966 1531.6 Q392.966 1540.33 389.887 1544.94 Q386.832 1549.52 381.021 1549.52 Q375.211 1549.52 372.133 1544.94 Q369.077 1540.33 369.077 1531.6 Q369.077 1522.85 372.133 1518.27 Q375.211 1513.66 381.021 1513.66 Z\" fill=\"#000000\" fill-rule=\"evenodd\" fill-opacity=\"1\" /><path clip-path=\"url(#clip020)\" d=\"M400.003 1514.29 L422.225 1514.29 L422.225 1516.28 L409.679 1548.85 L404.794 1548.85 L416.6 1518.22 L400.003 1518.22 L400.003 1514.29 Z\" fill=\"#000000\" fill-rule=\"evenodd\" fill-opacity=\"1\" /><path clip-path=\"url(#clip020)\" d=\"M431.392 1514.29 L449.748 1514.29 L449.748 1518.22 L435.674 1518.22 L435.674 1526.7 Q436.692 1526.35 437.711 1526.19 Q438.73 1526 439.748 1526 Q445.535 1526 448.915 1529.17 Q452.294 1532.34 452.294 1537.76 Q452.294 1543.34 448.822 1546.44 Q445.35 1549.52 439.03 1549.52 Q436.855 1549.52 434.586 1549.15 Q432.341 1548.78 429.933 1548.04 L429.933 1543.34 Q432.017 1544.47 434.239 1545.03 Q436.461 1545.58 438.938 1545.58 Q442.942 1545.58 445.28 1543.48 Q447.618 1541.37 447.618 1537.76 Q447.618 1534.15 445.28 1532.04 Q442.942 1529.94 438.938 1529.94 Q437.063 1529.94 435.188 1530.35 Q433.336 1530.77 431.392 1531.65 L431.392 1514.29 Z\" fill=\"#000000\" fill-rule=\"evenodd\" fill-opacity=\"1\" /><path clip-path=\"url(#clip020)\" d=\"M674.044 1517.37 Q670.433 1517.37 668.604 1520.93 Q666.799 1524.47 666.799 1531.6 Q666.799 1538.71 668.604 1542.27 Q670.433 1545.82 674.044 1545.82 Q677.678 1545.82 679.484 1542.27 Q681.312 1538.71 681.312 1531.6 Q681.312 1524.47 679.484 1520.93 Q677.678 1517.37 674.044 1517.37 M674.044 1513.66 Q679.854 1513.66 682.91 1518.27 Q685.988 1522.85 685.988 1531.6 Q685.988 1540.33 682.91 1544.94 Q679.854 1549.52 674.044 1549.52 Q668.234 1549.52 665.155 1544.94 Q662.099 1540.33 662.099 1531.6 Q662.099 1522.85 665.155 1518.27 Q668.234 1513.66 674.044 1513.66 Z\" fill=\"#000000\" fill-rule=\"evenodd\" fill-opacity=\"1\" /><path clip-path=\"url(#clip020)\" d=\"M694.206 1542.97 L699.09 1542.97 L699.09 1548.85 L694.206 1548.85 L694.206 1542.97 Z\" fill=\"#000000\" fill-rule=\"evenodd\" fill-opacity=\"1\" /><path clip-path=\"url(#clip020)\" d=\"M710.085 1544.91 L717.724 1544.91 L717.724 1518.55 L709.414 1520.21 L709.414 1515.95 L717.678 1514.29 L722.354 1514.29 L722.354 1544.91 L729.993 1544.91 L729.993 1548.85 L710.085 1548.85 L710.085 1544.91 Z\" fill=\"#000000\" fill-rule=\"evenodd\" fill-opacity=\"1\" /><path clip-path=\"url(#clip020)\" d=\"M749.437 1517.37 Q745.826 1517.37 743.997 1520.93 Q742.192 1524.47 742.192 1531.6 Q742.192 1538.71 743.997 1542.27 Q745.826 1545.82 749.437 1545.82 Q753.071 1545.82 754.877 1542.27 Q756.705 1538.71 756.705 1531.6 Q756.705 1524.47 754.877 1520.93 Q753.071 1517.37 749.437 1517.37 M749.437 1513.66 Q755.247 1513.66 758.303 1518.27 Q761.381 1522.85 761.381 1531.6 Q761.381 1540.33 758.303 1544.94 Q755.247 1549.52 749.437 1549.52 Q743.627 1549.52 740.548 1544.94 Q737.493 1540.33 737.493 1531.6 Q737.493 1522.85 740.548 1518.27 Q743.627 1513.66 749.437 1513.66 Z\" fill=\"#000000\" fill-rule=\"evenodd\" fill-opacity=\"1\" /><path clip-path=\"url(#clip020)\" d=\"M779.599 1517.37 Q775.988 1517.37 774.159 1520.93 Q772.354 1524.47 772.354 1531.6 Q772.354 1538.71 774.159 1542.27 Q775.988 1545.82 779.599 1545.82 Q783.233 1545.82 785.039 1542.27 Q786.867 1538.71 786.867 1531.6 Q786.867 1524.47 785.039 1520.93 Q783.233 1517.37 779.599 1517.37 M779.599 1513.66 Q785.409 1513.66 788.465 1518.27 Q791.543 1522.85 791.543 1531.6 Q791.543 1540.33 788.465 1544.94 Q785.409 1549.52 779.599 1549.52 Q773.789 1549.52 770.71 1544.94 Q767.654 1540.33 767.654 1531.6 Q767.654 1522.85 770.71 1518.27 Q773.789 1513.66 779.599 1513.66 Z\" fill=\"#000000\" fill-rule=\"evenodd\" fill-opacity=\"1\" /><path clip-path=\"url(#clip020)\" d=\"M1013.29 1517.37 Q1009.68 1517.37 1007.85 1520.93 Q1006.05 1524.47 1006.05 1531.6 Q1006.05 1538.71 1007.85 1542.27 Q1009.68 1545.82 1013.29 1545.82 Q1016.93 1545.82 1018.73 1542.27 Q1020.56 1538.71 1020.56 1531.6 Q1020.56 1524.47 1018.73 1520.93 Q1016.93 1517.37 1013.29 1517.37 M1013.29 1513.66 Q1019.1 1513.66 1022.16 1518.27 Q1025.24 1522.85 1025.24 1531.6 Q1025.24 1540.33 1022.16 1544.94 Q1019.1 1549.52 1013.29 1549.52 Q1007.48 1549.52 1004.4 1544.94 Q1001.35 1540.33 1001.35 1531.6 Q1001.35 1522.85 1004.4 1518.27 Q1007.48 1513.66 1013.29 1513.66 Z\" fill=\"#000000\" fill-rule=\"evenodd\" fill-opacity=\"1\" /><path clip-path=\"url(#clip020)\" d=\"M1033.45 1542.97 L1038.34 1542.97 L1038.34 1548.85 L1033.45 1548.85 L1033.45 1542.97 Z\" fill=\"#000000\" fill-rule=\"evenodd\" fill-opacity=\"1\" /><path clip-path=\"url(#clip020)\" d=\"M1049.33 1544.91 L1056.97 1544.91 L1056.97 1518.55 L1048.66 1520.21 L1048.66 1515.95 L1056.93 1514.29 L1061.6 1514.29 L1061.6 1544.91 L1069.24 1544.91 L1069.24 1548.85 L1049.33 1548.85 L1049.33 1544.91 Z\" fill=\"#000000\" fill-rule=\"evenodd\" fill-opacity=\"1\" /><path clip-path=\"url(#clip020)\" d=\"M1082.71 1544.91 L1099.03 1544.91 L1099.03 1548.85 L1077.09 1548.85 L1077.09 1544.91 Q1079.75 1542.16 1084.33 1537.53 Q1088.94 1532.88 1090.12 1531.53 Q1092.37 1529.01 1093.25 1527.27 Q1094.15 1525.51 1094.15 1523.82 Q1094.15 1521.07 1092.2 1519.33 Q1090.28 1517.6 1087.18 1517.6 Q1084.98 1517.6 1082.53 1518.36 Q1080.1 1519.13 1077.32 1520.68 L1077.32 1515.95 Q1080.14 1514.82 1082.6 1514.24 Q1085.05 1513.66 1087.09 1513.66 Q1092.46 1513.66 1095.65 1516.35 Q1098.85 1519.03 1098.85 1523.52 Q1098.85 1525.65 1098.04 1527.57 Q1097.25 1529.47 1095.14 1532.07 Q1094.57 1532.74 1091.46 1535.95 Q1088.36 1539.15 1082.71 1544.91 Z\" fill=\"#000000\" fill-rule=\"evenodd\" fill-opacity=\"1\" /><path clip-path=\"url(#clip020)\" d=\"M1108.89 1514.29 L1127.25 1514.29 L1127.25 1518.22 L1113.18 1518.22 L1113.18 1526.7 Q1114.2 1526.35 1115.21 1526.19 Q1116.23 1526 1117.25 1526 Q1123.04 1526 1126.42 1529.17 Q1129.8 1532.34 1129.8 1537.76 Q1129.8 1543.34 1126.32 1546.44 Q1122.85 1549.52 1116.53 1549.52 Q1114.36 1549.52 1112.09 1549.15 Q1109.84 1548.78 1107.44 1548.04 L1107.44 1543.34 Q1109.52 1544.47 1111.74 1545.03 Q1113.96 1545.58 1116.44 1545.58 Q1120.45 1545.58 1122.78 1543.48 Q1125.12 1541.37 1125.12 1537.76 Q1125.12 1534.15 1122.78 1532.04 Q1120.45 1529.94 1116.44 1529.94 Q1114.57 1529.94 1112.69 1530.35 Q1110.84 1530.77 1108.89 1531.65 L1108.89 1514.29 Z\" fill=\"#000000\" fill-rule=\"evenodd\" fill-opacity=\"1\" /><path clip-path=\"url(#clip020)\" d=\"M1351.55 1517.37 Q1347.94 1517.37 1346.11 1520.93 Q1344.3 1524.47 1344.3 1531.6 Q1344.3 1538.71 1346.11 1542.27 Q1347.94 1545.82 1351.55 1545.82 Q1355.18 1545.82 1356.99 1542.27 Q1358.81 1538.71 1358.81 1531.6 Q1358.81 1524.47 1356.99 1520.93 Q1355.18 1517.37 1351.55 1517.37 M1351.55 1513.66 Q1357.36 1513.66 1360.41 1518.27 Q1363.49 1522.85 1363.49 1531.6 Q1363.49 1540.33 1360.41 1544.94 Q1357.36 1549.52 1351.55 1549.52 Q1345.74 1549.52 1342.66 1544.94 Q1339.6 1540.33 1339.6 1531.6 Q1339.6 1522.85 1342.66 1518.27 Q1345.74 1513.66 1351.55 1513.66 Z\" fill=\"#000000\" fill-rule=\"evenodd\" fill-opacity=\"1\" /><path clip-path=\"url(#clip020)\" d=\"M1371.71 1542.97 L1376.59 1542.97 L1376.59 1548.85 L1371.71 1548.85 L1371.71 1542.97 Z\" fill=\"#000000\" fill-rule=\"evenodd\" fill-opacity=\"1\" /><path clip-path=\"url(#clip020)\" d=\"M1387.59 1544.91 L1395.23 1544.91 L1395.23 1518.55 L1386.92 1520.21 L1386.92 1515.95 L1395.18 1514.29 L1399.86 1514.29 L1399.86 1544.91 L1407.5 1544.91 L1407.5 1548.85 L1387.59 1548.85 L1387.59 1544.91 Z\" fill=\"#000000\" fill-rule=\"evenodd\" fill-opacity=\"1\" /><path clip-path=\"url(#clip020)\" d=\"M1416.99 1514.29 L1435.34 1514.29 L1435.34 1518.22 L1421.27 1518.22 L1421.27 1526.7 Q1422.29 1526.35 1423.31 1526.19 Q1424.32 1526 1425.34 1526 Q1431.13 1526 1434.51 1529.17 Q1437.89 1532.34 1437.89 1537.76 Q1437.89 1543.34 1434.42 1546.44 Q1430.94 1549.52 1424.62 1549.52 Q1422.45 1549.52 1420.18 1549.15 Q1417.94 1548.78 1415.53 1548.04 L1415.53 1543.34 Q1417.61 1544.47 1419.83 1545.03 Q1422.06 1545.58 1424.53 1545.58 Q1428.54 1545.58 1430.87 1543.48 Q1433.21 1541.37 1433.21 1537.76 Q1433.21 1534.15 1430.87 1532.04 Q1428.54 1529.94 1424.53 1529.94 Q1422.66 1529.94 1420.78 1530.35 Q1418.93 1530.77 1416.99 1531.65 L1416.99 1514.29 Z\" fill=\"#000000\" fill-rule=\"evenodd\" fill-opacity=\"1\" /><path clip-path=\"url(#clip020)\" d=\"M1457.1 1517.37 Q1453.49 1517.37 1451.66 1520.93 Q1449.86 1524.47 1449.86 1531.6 Q1449.86 1538.71 1451.66 1542.27 Q1453.49 1545.82 1457.1 1545.82 Q1460.74 1545.82 1462.54 1542.27 Q1464.37 1538.71 1464.37 1531.6 Q1464.37 1524.47 1462.54 1520.93 Q1460.74 1517.37 1457.1 1517.37 M1457.1 1513.66 Q1462.91 1513.66 1465.97 1518.27 Q1469.05 1522.85 1469.05 1531.6 Q1469.05 1540.33 1465.97 1544.94 Q1462.91 1549.52 1457.1 1549.52 Q1451.29 1549.52 1448.21 1544.94 Q1445.16 1540.33 1445.16 1531.6 Q1445.16 1522.85 1448.21 1518.27 Q1451.29 1513.66 1457.1 1513.66 Z\" fill=\"#000000\" fill-rule=\"evenodd\" fill-opacity=\"1\" /><path clip-path=\"url(#clip020)\" d=\"M1690.8 1517.37 Q1687.18 1517.37 1685.36 1520.93 Q1683.55 1524.47 1683.55 1531.6 Q1683.55 1538.71 1685.36 1542.27 Q1687.18 1545.82 1690.8 1545.82 Q1694.43 1545.82 1696.24 1542.27 Q1698.06 1538.71 1698.06 1531.6 Q1698.06 1524.47 1696.24 1520.93 Q1694.43 1517.37 1690.8 1517.37 M1690.8 1513.66 Q1696.61 1513.66 1699.66 1518.27 Q1702.74 1522.85 1702.74 1531.6 Q1702.74 1540.33 1699.66 1544.94 Q1696.61 1549.52 1690.8 1549.52 Q1684.99 1549.52 1681.91 1544.94 Q1678.85 1540.33 1678.85 1531.6 Q1678.85 1522.85 1681.91 1518.27 Q1684.99 1513.66 1690.8 1513.66 Z\" fill=\"#000000\" fill-rule=\"evenodd\" fill-opacity=\"1\" /><path clip-path=\"url(#clip020)\" d=\"M1710.96 1542.97 L1715.84 1542.97 L1715.84 1548.85 L1710.96 1548.85 L1710.96 1542.97 Z\" fill=\"#000000\" fill-rule=\"evenodd\" fill-opacity=\"1\" /><path clip-path=\"url(#clip020)\" d=\"M1726.84 1544.91 L1734.48 1544.91 L1734.48 1518.55 L1726.17 1520.21 L1726.17 1515.95 L1734.43 1514.29 L1739.11 1514.29 L1739.11 1544.91 L1746.74 1544.91 L1746.74 1548.85 L1726.84 1548.85 L1726.84 1544.91 Z\" fill=\"#000000\" fill-rule=\"evenodd\" fill-opacity=\"1\" /><path clip-path=\"url(#clip020)\" d=\"M1755.01 1514.29 L1777.23 1514.29 L1777.23 1516.28 L1764.68 1548.85 L1759.8 1548.85 L1771.61 1518.22 L1755.01 1518.22 L1755.01 1514.29 Z\" fill=\"#000000\" fill-rule=\"evenodd\" fill-opacity=\"1\" /><path clip-path=\"url(#clip020)\" d=\"M1786.4 1514.29 L1804.75 1514.29 L1804.75 1518.22 L1790.68 1518.22 L1790.68 1526.7 Q1791.7 1526.35 1792.72 1526.19 Q1793.73 1526 1794.75 1526 Q1800.54 1526 1803.92 1529.17 Q1807.3 1532.34 1807.3 1537.76 Q1807.3 1543.34 1803.83 1546.44 Q1800.36 1549.52 1794.04 1549.52 Q1791.86 1549.52 1789.59 1549.15 Q1787.35 1548.78 1784.94 1548.04 L1784.94 1543.34 Q1787.02 1544.47 1789.24 1545.03 Q1791.47 1545.58 1793.94 1545.58 Q1797.95 1545.58 1800.29 1543.48 Q1802.62 1541.37 1802.62 1537.76 Q1802.62 1534.15 1800.29 1532.04 Q1797.95 1529.94 1793.94 1529.94 Q1792.07 1529.94 1790.19 1530.35 Q1788.34 1530.77 1786.4 1531.65 L1786.4 1514.29 Z\" fill=\"#000000\" fill-rule=\"evenodd\" fill-opacity=\"1\" /><path clip-path=\"url(#clip020)\" d=\"M2029.05 1517.37 Q2025.44 1517.37 2023.61 1520.93 Q2021.8 1524.47 2021.8 1531.6 Q2021.8 1538.71 2023.61 1542.27 Q2025.44 1545.82 2029.05 1545.82 Q2032.68 1545.82 2034.49 1542.27 Q2036.32 1538.71 2036.32 1531.6 Q2036.32 1524.47 2034.49 1520.93 Q2032.68 1517.37 2029.05 1517.37 M2029.05 1513.66 Q2034.86 1513.66 2037.91 1518.27 Q2040.99 1522.85 2040.99 1531.6 Q2040.99 1540.33 2037.91 1544.94 Q2034.86 1549.52 2029.05 1549.52 Q2023.24 1549.52 2020.16 1544.94 Q2017.1 1540.33 2017.1 1531.6 Q2017.1 1522.85 2020.16 1518.27 Q2023.24 1513.66 2029.05 1513.66 Z\" fill=\"#000000\" fill-rule=\"evenodd\" fill-opacity=\"1\" /><path clip-path=\"url(#clip020)\" d=\"M2049.21 1542.97 L2054.1 1542.97 L2054.1 1548.85 L2049.21 1548.85 L2049.21 1542.97 Z\" fill=\"#000000\" fill-rule=\"evenodd\" fill-opacity=\"1\" /><path clip-path=\"url(#clip020)\" d=\"M2068.31 1544.91 L2084.63 1544.91 L2084.63 1548.85 L2062.68 1548.85 L2062.68 1544.91 Q2065.35 1542.16 2069.93 1537.53 Q2074.53 1532.88 2075.72 1531.53 Q2077.96 1529.01 2078.84 1527.27 Q2079.74 1525.51 2079.74 1523.82 Q2079.74 1521.07 2077.8 1519.33 Q2075.88 1517.6 2072.78 1517.6 Q2070.58 1517.6 2068.12 1518.36 Q2065.69 1519.13 2062.91 1520.68 L2062.91 1515.95 Q2065.74 1514.82 2068.19 1514.24 Q2070.65 1513.66 2072.68 1513.66 Q2078.05 1513.66 2081.25 1516.35 Q2084.44 1519.03 2084.44 1523.52 Q2084.44 1525.65 2083.63 1527.57 Q2082.85 1529.47 2080.74 1532.07 Q2080.16 1532.74 2077.06 1535.95 Q2073.96 1539.15 2068.31 1544.91 Z\" fill=\"#000000\" fill-rule=\"evenodd\" fill-opacity=\"1\" /><path clip-path=\"url(#clip020)\" d=\"M2104.44 1517.37 Q2100.83 1517.37 2099 1520.93 Q2097.2 1524.47 2097.2 1531.6 Q2097.2 1538.71 2099 1542.27 Q2100.83 1545.82 2104.44 1545.82 Q2108.08 1545.82 2109.88 1542.27 Q2111.71 1538.71 2111.71 1531.6 Q2111.71 1524.47 2109.88 1520.93 Q2108.08 1517.37 2104.44 1517.37 M2104.44 1513.66 Q2110.25 1513.66 2113.31 1518.27 Q2116.39 1522.85 2116.39 1531.6 Q2116.39 1540.33 2113.31 1544.94 Q2110.25 1549.52 2104.44 1549.52 Q2098.63 1549.52 2095.55 1544.94 Q2092.5 1540.33 2092.5 1531.6 Q2092.5 1522.85 2095.55 1518.27 Q2098.63 1513.66 2104.44 1513.66 Z\" fill=\"#000000\" fill-rule=\"evenodd\" fill-opacity=\"1\" /><path clip-path=\"url(#clip020)\" d=\"M2134.6 1517.37 Q2130.99 1517.37 2129.16 1520.93 Q2127.36 1524.47 2127.36 1531.6 Q2127.36 1538.71 2129.16 1542.27 Q2130.99 1545.82 2134.6 1545.82 Q2138.24 1545.82 2140.04 1542.27 Q2141.87 1538.71 2141.87 1531.6 Q2141.87 1524.47 2140.04 1520.93 Q2138.24 1517.37 2134.6 1517.37 M2134.6 1513.66 Q2140.41 1513.66 2143.47 1518.27 Q2146.55 1522.85 2146.55 1531.6 Q2146.55 1540.33 2143.47 1544.94 Q2140.41 1549.52 2134.6 1549.52 Q2128.79 1549.52 2125.72 1544.94 Q2122.66 1540.33 2122.66 1531.6 Q2122.66 1522.85 2125.72 1518.27 Q2128.79 1513.66 2134.6 1513.66 Z\" fill=\"#000000\" fill-rule=\"evenodd\" fill-opacity=\"1\" /><polyline clip-path=\"url(#clip022)\" style=\"stroke:#000000; stroke-linecap:round; stroke-linejoin:round; stroke-width:2; stroke-opacity:0.1; fill:none\" points=\"\n  156.112,1445.72 2352.76,1445.72 \n  \"/>\n<polyline clip-path=\"url(#clip022)\" style=\"stroke:#000000; stroke-linecap:round; stroke-linejoin:round; stroke-width:2; stroke-opacity:0.1; fill:none\" points=\"\n  156.112,993.136 2352.76,993.136 \n  \"/>\n<polyline clip-path=\"url(#clip022)\" style=\"stroke:#000000; stroke-linecap:round; stroke-linejoin:round; stroke-width:2; stroke-opacity:0.1; fill:none\" points=\"\n  156.112,540.556 2352.76,540.556 \n  \"/>\n<polyline clip-path=\"url(#clip022)\" style=\"stroke:#000000; stroke-linecap:round; stroke-linejoin:round; stroke-width:2; stroke-opacity:0.1; fill:none\" points=\"\n  156.112,87.9763 2352.76,87.9763 \n  \"/>\n<polyline clip-path=\"url(#clip020)\" style=\"stroke:#000000; stroke-linecap:round; stroke-linejoin:round; stroke-width:4; stroke-opacity:1; fill:none\" points=\"\n  156.112,1486.45 156.112,47.2441 \n  \"/>\n<polyline clip-path=\"url(#clip020)\" style=\"stroke:#000000; stroke-linecap:round; stroke-linejoin:round; stroke-width:4; stroke-opacity:1; fill:none\" points=\"\n  156.112,1445.72 175.01,1445.72 \n  \"/>\n<polyline clip-path=\"url(#clip020)\" style=\"stroke:#000000; stroke-linecap:round; stroke-linejoin:round; stroke-width:4; stroke-opacity:1; fill:none\" points=\"\n  156.112,993.136 175.01,993.136 \n  \"/>\n<polyline clip-path=\"url(#clip020)\" style=\"stroke:#000000; stroke-linecap:round; stroke-linejoin:round; stroke-width:4; stroke-opacity:1; fill:none\" points=\"\n  156.112,540.556 175.01,540.556 \n  \"/>\n<polyline clip-path=\"url(#clip020)\" style=\"stroke:#000000; stroke-linecap:round; stroke-linejoin:round; stroke-width:4; stroke-opacity:1; fill:none\" points=\"\n  156.112,87.9763 175.01,87.9763 \n  \"/>\n<path clip-path=\"url(#clip020)\" d=\"M62.9365 1431.51 Q59.3254 1431.51 57.4967 1435.08 Q55.6912 1438.62 55.6912 1445.75 Q55.6912 1452.86 57.4967 1456.42 Q59.3254 1459.96 62.9365 1459.96 Q66.5707 1459.96 68.3763 1456.42 Q70.205 1452.86 70.205 1445.75 Q70.205 1438.62 68.3763 1435.08 Q66.5707 1431.51 62.9365 1431.51 M62.9365 1427.81 Q68.7467 1427.81 71.8022 1432.42 Q74.8809 1437 74.8809 1445.75 Q74.8809 1454.48 71.8022 1459.08 Q68.7467 1463.67 62.9365 1463.67 Q57.1264 1463.67 54.0477 1459.08 Q50.9921 1454.48 50.9921 1445.75 Q50.9921 1437 54.0477 1432.42 Q57.1264 1427.81 62.9365 1427.81 Z\" fill=\"#000000\" fill-rule=\"evenodd\" fill-opacity=\"1\" /><path clip-path=\"url(#clip020)\" d=\"M83.0984 1457.12 L87.9827 1457.12 L87.9827 1463 L83.0984 1463 L83.0984 1457.12 Z\" fill=\"#000000\" fill-rule=\"evenodd\" fill-opacity=\"1\" /><path clip-path=\"url(#clip020)\" d=\"M108.168 1431.51 Q104.557 1431.51 102.728 1435.08 Q100.922 1438.62 100.922 1445.75 Q100.922 1452.86 102.728 1456.42 Q104.557 1459.96 108.168 1459.96 Q111.802 1459.96 113.608 1456.42 Q115.436 1452.86 115.436 1445.75 Q115.436 1438.62 113.608 1435.08 Q111.802 1431.51 108.168 1431.51 M108.168 1427.81 Q113.978 1427.81 117.033 1432.42 Q120.112 1437 120.112 1445.75 Q120.112 1454.48 117.033 1459.08 Q113.978 1463.67 108.168 1463.67 Q102.358 1463.67 99.2789 1459.08 Q96.2234 1454.48 96.2234 1445.75 Q96.2234 1437 99.2789 1432.42 Q102.358 1427.81 108.168 1427.81 Z\" fill=\"#000000\" fill-rule=\"evenodd\" fill-opacity=\"1\" /><path clip-path=\"url(#clip020)\" d=\"M64.1634 978.935 Q60.5523 978.935 58.7236 982.499 Q56.918 986.041 56.918 993.171 Q56.918 1000.28 58.7236 1003.84 Q60.5523 1007.38 64.1634 1007.38 Q67.7976 1007.38 69.6031 1003.84 Q71.4318 1000.28 71.4318 993.171 Q71.4318 986.041 69.6031 982.499 Q67.7976 978.935 64.1634 978.935 M64.1634 975.231 Q69.9735 975.231 73.029 979.837 Q76.1077 984.421 76.1077 993.171 Q76.1077 1001.9 73.029 1006.5 Q69.9735 1011.09 64.1634 1011.09 Q58.3532 1011.09 55.2745 1006.5 Q52.219 1001.9 52.219 993.171 Q52.219 984.421 55.2745 979.837 Q58.3532 975.231 64.1634 975.231 Z\" fill=\"#000000\" fill-rule=\"evenodd\" fill-opacity=\"1\" /><path clip-path=\"url(#clip020)\" d=\"M84.3253 1004.54 L89.2095 1004.54 L89.2095 1010.42 L84.3253 1010.42 L84.3253 1004.54 Z\" fill=\"#000000\" fill-rule=\"evenodd\" fill-opacity=\"1\" /><path clip-path=\"url(#clip020)\" d=\"M100.205 1006.48 L107.844 1006.48 L107.844 980.115 L99.5335 981.782 L99.5335 977.523 L107.797 975.856 L112.473 975.856 L112.473 1006.48 L120.112 1006.48 L120.112 1010.42 L100.205 1010.42 L100.205 1006.48 Z\" fill=\"#000000\" fill-rule=\"evenodd\" fill-opacity=\"1\" /><path clip-path=\"url(#clip020)\" d=\"M64.5337 526.355 Q60.9226 526.355 59.0939 529.92 Q57.2884 533.461 57.2884 540.591 Q57.2884 547.697 59.0939 551.262 Q60.9226 554.804 64.5337 554.804 Q68.168 554.804 69.9735 551.262 Q71.8022 547.697 71.8022 540.591 Q71.8022 533.461 69.9735 529.92 Q68.168 526.355 64.5337 526.355 M64.5337 522.651 Q70.3439 522.651 73.3994 527.258 Q76.4781 531.841 76.4781 540.591 Q76.4781 549.318 73.3994 553.924 Q70.3439 558.507 64.5337 558.507 Q58.7236 558.507 55.6449 553.924 Q52.5893 549.318 52.5893 540.591 Q52.5893 531.841 55.6449 527.258 Q58.7236 522.651 64.5337 522.651 Z\" fill=\"#000000\" fill-rule=\"evenodd\" fill-opacity=\"1\" /><path clip-path=\"url(#clip020)\" d=\"M84.6956 551.956 L89.5799 551.956 L89.5799 557.836 L84.6956 557.836 L84.6956 551.956 Z\" fill=\"#000000\" fill-rule=\"evenodd\" fill-opacity=\"1\" /><path clip-path=\"url(#clip020)\" d=\"M103.793 553.901 L120.112 553.901 L120.112 557.836 L98.1678 557.836 L98.1678 553.901 Q100.83 551.146 105.413 546.517 Q110.02 541.864 111.2 540.521 Q113.445 537.998 114.325 536.262 Q115.228 534.503 115.228 532.813 Q115.228 530.058 113.283 528.322 Q111.362 526.586 108.26 526.586 Q106.061 526.586 103.608 527.35 Q101.177 528.114 98.3993 529.665 L98.3993 524.943 Q101.223 523.808 103.677 523.23 Q106.131 522.651 108.168 522.651 Q113.538 522.651 116.733 525.336 Q119.927 528.021 119.927 532.512 Q119.927 534.642 119.117 536.563 Q118.33 538.461 116.223 541.054 Q115.645 541.725 112.543 544.943 Q109.441 548.137 103.793 553.901 Z\" fill=\"#000000\" fill-rule=\"evenodd\" fill-opacity=\"1\" /><path clip-path=\"url(#clip020)\" d=\"M63.5847 73.775 Q59.9736 73.775 58.1449 77.3398 Q56.3393 80.8814 56.3393 88.011 Q56.3393 95.1174 58.1449 98.6822 Q59.9736 102.224 63.5847 102.224 Q67.2189 102.224 69.0244 98.6822 Q70.8531 95.1174 70.8531 88.011 Q70.8531 80.8814 69.0244 77.3398 Q67.2189 73.775 63.5847 73.775 M63.5847 70.0713 Q69.3948 70.0713 72.4503 74.6777 Q75.529 79.261 75.529 88.011 Q75.529 96.7378 72.4503 101.344 Q69.3948 105.928 63.5847 105.928 Q57.7745 105.928 54.6958 101.344 Q51.6403 96.7378 51.6403 88.011 Q51.6403 79.261 54.6958 74.6777 Q57.7745 70.0713 63.5847 70.0713 Z\" fill=\"#000000\" fill-rule=\"evenodd\" fill-opacity=\"1\" /><path clip-path=\"url(#clip020)\" d=\"M83.7466 99.3767 L88.6308 99.3767 L88.6308 105.256 L83.7466 105.256 L83.7466 99.3767 Z\" fill=\"#000000\" fill-rule=\"evenodd\" fill-opacity=\"1\" /><path clip-path=\"url(#clip020)\" d=\"M112.983 86.6221 Q116.339 87.3397 118.214 89.6082 Q120.112 91.8767 120.112 95.21 Q120.112 100.326 116.594 103.127 Q113.075 105.928 106.594 105.928 Q104.418 105.928 102.103 105.488 Q99.8113 105.071 97.3576 104.215 L97.3576 99.7008 Q99.3021 100.835 101.617 101.414 Q103.932 101.992 106.455 101.992 Q110.853 101.992 113.145 100.256 Q115.459 98.5202 115.459 95.21 Q115.459 92.1545 113.307 90.4415 Q111.177 88.7054 107.358 88.7054 L103.33 88.7054 L103.33 84.8629 L107.543 84.8629 Q110.992 84.8629 112.82 83.4971 Q114.649 82.1083 114.649 79.5157 Q114.649 76.8537 112.751 75.4416 Q110.876 74.0064 107.358 74.0064 Q105.436 74.0064 103.237 74.4231 Q101.038 74.8398 98.3993 75.7194 L98.3993 71.5528 Q101.061 70.812 103.376 70.4416 Q105.714 70.0713 107.774 70.0713 Q113.098 70.0713 116.2 72.5018 Q119.302 74.9092 119.302 79.0296 Q119.302 81.8999 117.658 83.8907 Q116.015 85.8582 112.983 86.6221 Z\" fill=\"#000000\" fill-rule=\"evenodd\" fill-opacity=\"1\" /><polyline clip-path=\"url(#clip022)\" style=\"stroke:#009af9; stroke-linecap:round; stroke-linejoin:round; stroke-width:4; stroke-opacity:1; fill:none\" points=\"\n  1928.43,1445.72 1912.07,1441.19 1895.71,1436.66 1879.37,1432.14 1863.05,1427.61 1846.73,1423.09 1830.43,1418.56 1814.15,1414.04 1797.88,1409.51 1781.63,1404.98 \n  1765.39,1400.46 1749.16,1395.93 1732.96,1391.41 1716.76,1386.88 1700.59,1382.35 1684.43,1377.83 1668.29,1373.3 1652.17,1368.78 1636.07,1364.25 1619.98,1359.73 \n  1603.92,1355.2 1587.87,1350.67 1571.84,1346.15 1555.84,1341.62 1539.85,1337.1 1523.89,1332.57 1507.94,1328.04 1492.02,1323.52 1476.12,1318.99 1460.25,1314.47 \n  1444.4,1309.94 1428.57,1305.42 1412.77,1300.89 1396.99,1296.36 1381.24,1291.84 1365.52,1287.31 1349.82,1282.79 1334.15,1278.26 1318.51,1273.74 1302.9,1269.21 \n  1287.32,1264.68 1271.77,1260.16 1256.25,1255.63 1240.76,1251.11 1225.3,1246.58 1209.88,1242.05 1194.5,1237.53 1179.15,1233 1163.84,1228.48 1148.56,1223.95 \n  1133.32,1219.43 1118.13,1214.9 1102.97,1210.37 1087.85,1205.85 1072.78,1201.32 1057.75,1196.8 1042.77,1192.27 1027.83,1187.75 1012.94,1183.22 998.096,1178.69 \n  983.304,1174.17 968.564,1169.64 953.877,1165.12 939.245,1160.59 924.669,1156.06 910.15,1151.54 895.69,1147.01 881.292,1142.49 866.956,1137.96 852.685,1133.44 \n  838.48,1128.91 824.344,1124.38 810.278,1119.86 796.284,1115.33 782.366,1110.81 768.524,1106.28 754.761,1101.76 741.08,1097.23 727.482,1092.7 713.972,1088.18 \n  700.551,1083.65 687.221,1079.13 673.987,1074.6 660.85,1070.07 647.814,1065.55 634.882,1061.02 622.056,1056.5 609.342,1051.97 596.741,1047.45 584.257,1042.92 \n  571.895,1038.39 559.657,1033.87 547.548,1029.34 535.572,1024.82 523.733,1020.29 512.035,1015.76 500.483,1011.24 489.08,1006.71 477.832,1002.19 466.744,997.662 \n  455.82,993.136 445.066,988.61 434.486,984.084 424.086,979.558 413.871,975.033 403.846,970.507 394.018,965.981 384.392,961.455 374.974,956.93 365.769,952.404 \n  356.785,947.878 348.026,943.352 339.499,938.826 331.21,934.301 323.165,929.775 315.371,925.249 307.833,920.723 300.559,916.197 293.554,911.672 286.825,907.146 \n  280.377,902.62 274.217,898.094 268.351,893.568 262.783,889.043 257.521,884.517 252.57,879.991 247.934,875.465 243.619,870.939 239.629,866.414 235.97,861.888 \n  232.644,857.362 229.658,852.836 227.012,848.31 224.712,843.785 222.759,839.259 221.157,834.733 219.907,830.207 219.01,825.681 218.468,821.156 218.281,816.63 \n  218.45,812.104 218.975,807.578 219.855,803.052 221.088,798.527 222.673,794.001 224.609,789.475 226.892,784.949 229.521,780.423 232.491,775.898 235.8,771.372 \n  239.443,766.846 243.416,762.32 247.716,757.794 252.336,753.269 257.272,748.743 262.52,744.217 268.072,739.691 273.924,735.165 280.07,730.64 286.504,726.114 \n  293.22,721.588 300.211,717.062 307.473,712.536 314.997,708.011 322.779,703.485 330.811,698.959 339.089,694.433 347.604,689.907 356.352,685.382 365.326,680.856 \n  374.52,676.33 383.928,671.804 393.544,667.278 403.362,662.753 413.377,658.227 423.583,653.701 433.974,649.175 444.546,644.649 455.292,640.124 466.207,635.598 \n  477.288,631.072 488.528,626.546 499.923,622.02 511.468,617.495 523.159,612.969 534.992,608.443 546.961,603.917 559.064,599.391 571.295,594.866 583.651,590.34 \n  596.129,585.814 608.724,581.288 621.434,576.762 634.253,572.237 647.181,567.711 660.212,563.185 673.344,558.659 686.573,554.133 699.898,549.608 713.315,545.082 \n  726.821,540.556 740.414,536.03 754.091,531.504 767.85,526.979 781.688,522.453 795.604,517.927 809.594,513.401 823.656,508.875 837.789,504.35 851.991,499.824 \n  866.259,495.298 880.591,490.772 894.987,486.247 909.443,481.721 923.959,477.195 938.533,472.669 953.162,468.143 967.847,463.618 982.584,459.092 997.373,454.566 \n  1012.21,450.04 1027.1,445.514 1042.04,440.989 1057.02,436.463 1072.04,431.937 1087.12,427.411 1102.23,422.885 1117.38,418.36 1132.58,413.834 1147.82,409.308 \n  1163.09,404.782 1178.4,400.256 1193.75,395.731 1209.13,391.205 1224.55,386.679 1240,382.153 1255.49,377.627 1271.01,373.102 1286.56,368.576 1302.14,364.05 \n  1317.75,359.524 1333.39,354.998 1349.05,350.473 1364.75,345.947 1380.47,341.421 1396.22,336.895 1412,332.369 1427.8,327.844 1443.63,323.318 1459.48,318.792 \n  1475.35,314.266 1491.25,309.74 1507.17,305.215 1523.11,300.689 1539.07,296.163 1555.06,291.637 1571.06,287.111 1587.09,282.586 1603.13,278.06 1619.2,273.534 \n  1635.28,269.008 1651.39,264.482 1667.51,259.957 1683.65,255.431 1699.8,250.905 1715.98,246.379 1732.17,241.853 1748.37,237.328 1764.59,232.802 1780.83,228.276 \n  1797.09,223.75 1813.36,219.224 1829.64,214.699 1845.94,210.173 1862.25,205.647 1878.58,201.121 1894.92,196.595 1911.27,192.07 1927.64,187.544 1944.02,183.018 \n  1960.41,178.492 1976.81,173.966 1993.23,169.441 2009.66,164.915 2026.1,160.389 2042.55,155.863 2059.02,151.337 2075.49,146.812 2091.98,142.286 2108.47,137.76 \n  2124.98,133.234 2141.5,128.708 2158.02,124.183 2174.56,119.657 2191.11,115.131 2207.66,110.605 2224.23,106.079 2240.81,101.554 2257.39,97.0279 2273.98,92.5021 \n  2290.59,87.9763 \n  \"/>\n<path clip-path=\"url(#clip020)\" d=\"\nM1983.03 198.898 L2279.53 198.898 L2279.53 95.2176 L1983.03 95.2176  Z\n  \" fill=\"#ffffff\" fill-rule=\"evenodd\" fill-opacity=\"1\"/>\n<polyline clip-path=\"url(#clip020)\" style=\"stroke:#000000; stroke-linecap:round; stroke-linejoin:round; stroke-width:4; stroke-opacity:1; fill:none\" points=\"\n  1983.03,198.898 2279.53,198.898 2279.53,95.2176 1983.03,95.2176 1983.03,198.898 \n  \"/>\n<polyline clip-path=\"url(#clip020)\" style=\"stroke:#009af9; stroke-linecap:round; stroke-linejoin:round; stroke-width:4; stroke-opacity:1; fill:none\" points=\"\n  2007.44,147.058 2153.88,147.058 \n  \"/>\n<path clip-path=\"url(#clip020)\" d=\"M2192.13 166.745 Q2190.33 171.375 2188.61 172.787 Q2186.9 174.199 2184.03 174.199 L2180.63 174.199 L2180.63 170.634 L2183.13 170.634 Q2184.89 170.634 2185.86 169.8 Q2186.83 168.967 2188.01 165.865 L2188.78 163.921 L2178.29 138.412 L2182.8 138.412 L2190.91 158.689 L2199.01 138.412 L2203.52 138.412 L2192.13 166.745 Z\" fill=\"#000000\" fill-rule=\"evenodd\" fill-opacity=\"1\" /><path clip-path=\"url(#clip020)\" d=\"M2210.81 160.402 L2218.45 160.402 L2218.45 134.037 L2210.14 135.703 L2210.14 131.444 L2218.41 129.778 L2223.08 129.778 L2223.08 160.402 L2230.72 160.402 L2230.72 164.338 L2210.81 164.338 L2210.81 160.402 Z\" fill=\"#000000\" fill-rule=\"evenodd\" fill-opacity=\"1\" /></svg>\n"
     },
     "execution_count": 70,
     "metadata": {},
     "output_type": "execute_result"
    }
   ],
   "source": [
    "h=zeros(301)\n",
    "h[1] = -1\n",
    "for i in 2:length(h)\n",
    "    h[i] = h[i-1]+3/(length(h)-1)\n",
    "end\n",
    "\n",
    "mean_h = [h'; (1 .-h)']'*mean_R'\n",
    "sd_h = sqrt.(h.^2 .*sigma[1,1] + (1 .-h).^2 .*sigma[2,2])\n",
    "\n",
    "plot(sd_h, mean_h)"
   ]
  },
  {
   "cell_type": "code",
   "execution_count": 77,
   "metadata": {},
   "outputs": [
    {
     "data": {
      "text/plain": [
       "1×1 Matrix{Float64}:\n",
       " 0.0039024390243902426"
      ]
     },
     "execution_count": 77,
     "metadata": {},
     "output_type": "execute_result"
    }
   ],
   "source": [
    "cov_MVP_z = h_MVP*sigma*h_z'"
   ]
  },
  {
   "attachments": {},
   "cell_type": "markdown",
   "metadata": {},
   "source": [
    "$$\n",
    "\\begin{align*}\n",
    "E[R_j] &= E[R_z]+\\beta_j \\left[E[R_m] - E[R_z] \\right] \\\\\n",
    "&= -7.778\\% + \\beta_j \\left[15\\% +7.778\\% \\right] \\\\\n",
    "&= -7.778\\% + 22.778\\% \\cdot \\beta_j\n",
    "\\end{align*}\n",
    "$$"
   ]
  },
  {
   "attachments": {},
   "cell_type": "markdown",
   "metadata": {},
   "source": [
    "----------\n",
    "#### 14 \n",
    "Given the following variance-covariance matrix, calculate the covariance between portfolio A, which has 10% in asset 1 and 90% in asset 2, and portfolio B, which has 60% in asset 1 and 40% in asset 2:\n",
    "$$\n",
    "∑ = \\left[\\begin{array}{cc}\n",
    ".01 & -.02 \\\\ -.02 & .04\n",
    "\\end{array}\\right]\n",
    "$$"
   ]
  },
  {
   "cell_type": "code",
   "execution_count": 90,
   "metadata": {},
   "outputs": [
    {
     "data": {
      "text/plain": [
       "1×1 Matrix{Float64}:\n",
       " 0.003400000000000001"
      ]
     },
     "execution_count": 90,
     "metadata": {},
     "output_type": "execute_result"
    }
   ],
   "source": [
    "sigma = [0.01 -0.02; -0.02 0.04]\n",
    "h_A = [0.1 0.9]\n",
    "h_B = [0.6 0.4]\n",
    "\n",
    "cov_AB = h_A*sigma*h_B'"
   ]
  },
  {
   "attachments": {},
   "cell_type": "markdown",
   "metadata": {},
   "source": [
    "-------------\n",
    "#### 15\n",
    "\n",
    "Suppose that securities are priced as if they are traded in a two-parameter economy. You have\n",
    "forecast the correlation coefficient between the rate of return on Knowlode Mutual Fund and the\n",
    "market portfolio at .8. Your forecast of the standard deviations of the rates of return are .25 for\n",
    "Knowlode, and .20 for the market portfolio. How would you combine the Knowlode Fund and a\n",
    "riskless security to obtain a portfolio with a beta of 1.6?"
   ]
  },
  {
   "cell_type": "code",
   "execution_count": 93,
   "metadata": {},
   "outputs": [
    {
     "data": {
      "text/plain": [
       "1.0"
      ]
     },
     "execution_count": 93,
     "metadata": {},
     "output_type": "execute_result"
    }
   ],
   "source": [
    "r_Km = 0.8\n",
    "sd_K = 0.25\n",
    "sd_m = 0.2\n",
    "\n",
    "cov_Km = sd_K*sd_m*r_Km\n",
    "B_K = cov_Km/sd_m^2"
   ]
  },
  {
   "attachments": {},
   "cell_type": "markdown",
   "metadata": {},
   "source": [
    "As the $\\beta$ of Knowlode is 1, in order to obtain a portfolio with a $\\beta$ of 1.6, we must lend 0.6 units at the risk-free rate & invest 1.6 units in Knowlode."
   ]
  },
  {
   "attachments": {},
   "cell_type": "markdown",
   "metadata": {},
   "source": [
    "--------\n",
    "#### 16\n",
    "You currently have 50% of your wealth in a risk-free asset and 50% in the four assets below:\n",
    "\n",
    "| Asset | ER on Asset i (%) | $β_i$ | % Invested in Asset i|\n",
    "| --- | --- | --- | --- |\n",
    "| i = 1 | 7.6  | .2 | 10 |\n",
    "| i = 2 | 12.4 | .8 | 10 |\n",
    "| i = 3 | 15.6 | 1.2 | 10 |\n",
    "| i = 4 | 18.8 | 1.6 | 20 |\n",
    "\n",
    "If you want an expected rate of return of 12%, you can obtain it by selling some of your holdings\n",
    "of the risk-free asset and using the proceeds to buy the equally weighted market portfolio. If this\n",
    "is the way you decide to revise your portfolio, what will the set of weights in your portfolio be? \n",
    "\n",
    "If you hold only the risk-free asset and the market portfolio, what set of weights would give you an\n",
    "expected 12% return?\n"
   ]
  },
  {
   "attachments": {},
   "cell_type": "markdown",
   "metadata": {},
   "source": [
    "$$\n",
    "\\begin{align*}\n",
    "E[R_i] &= R_f +\\beta_i\\left[E[R_m]-R_f\\right] \n",
    "\\\\ \\\\\n",
    "E[R_1] &= R_f +\\beta_1\\left[E[R_m]-R_f\\right] \\\\\n",
    "7.6\\%&= R_f +0.2\\left[E[R_m]-R_f\\right] \n",
    "\\\\ \\\\\n",
    "E[R_2] &= R_f +\\beta_2\\left[E[R_m]-R_f\\right] \\\\\n",
    "12.4\\%&= R_f +0.8\\left[E[R_m]-R_f\\right] \\\\\n",
    "\\implies 7.6\\% &= R_f +0.8\\left[E[R_m]-R_f\\right] -4.8\\% \n",
    "\\\\ \\\\\n",
    "\\implies R_f +0.2\\left[E[R_m]-R_f\\right]  &= R_f +0.8\\left[E[R_m]-R_f\\right] -4.8\\% \\\\\n",
    "0.2 E[R_m]-0.2 R_f &= 0.8 E[R_m]-0.8 R_f -4.8\\% \\\\\n",
    "0.6 R_f &= 0.6 E[R_m] -4.8\\% \\\\\n",
    "R_f &= E[R_m] -8\\%\n",
    "\\\\ \\\\\n",
    "12.4\\% &= E[R_m] -8\\%+0.8[8\\%] \\\\\n",
    "\\implies E[R_m] &= 12.4\\%+1.6\\% \\\\\n",
    "\\\\\n",
    "\\implies E[R_m] &= 14\\% \\\\\n",
    "\\implies R_f &= 6\\%\n",
    "\\end{align*}\n",
    "$$"
   ]
  },
  {
   "cell_type": "code",
   "execution_count": 183,
   "metadata": {},
   "outputs": [
    {
     "data": {
      "text/plain": [
       "0.1944444444444442"
      ]
     },
     "execution_count": 183,
     "metadata": {},
     "output_type": "execute_result"
    }
   ],
   "source": [
    "h = [0.5 0.1 0.1 0.1 0.2]\n",
    "B = [0 0.2 0.8 1.2 1.6]\n",
    "B_risk = 2*h[2:5]'*B[2:5]\n",
    "\n",
    "B_p = h*B'\n",
    "R_f = 0.06\n",
    "E_Rm = 0.14\n",
    "\n",
    "R = [R_f 0.076 0.124 0.156 0.188]\n",
    "\n",
    "E_Rnew = 0.12\n",
    "B_new = (E_Rnew-R_f)/(E_Rm-R_f)\n",
    "\n",
    "h_risk = B_new/B_risk\n",
    "\n",
    "change_h_risk = h_risk-0.5\n",
    "#(1-h_risk)*R_f.+(1 +(h_risk-0.5)/0.5).*h[2:5]'*R[2:5]"
   ]
  },
  {
   "attachments": {},
   "cell_type": "markdown",
   "metadata": {},
   "source": [
    "If we just readjust with current proportions in each of the risky assets we must sell off 19.44% of our holdings in the risk-free asset & reinvest in risky assets. (not asked for in question)"
   ]
  },
  {
   "cell_type": "code",
   "execution_count": 184,
   "metadata": {},
   "outputs": [
    {
     "data": {
      "text/plain": [
       "0.20999999999999974"
      ]
     },
     "execution_count": 184,
     "metadata": {},
     "output_type": "execute_result"
    }
   ],
   "source": [
    "h_mkt = B_new-0.5*B_risk\n",
    "#h_mkt*E_Rm.+[0.5-h_mkt 0.1 0.1 0.1 0.2]*R'"
   ]
  },
  {
   "attachments": {},
   "cell_type": "markdown",
   "metadata": {},
   "source": [
    "Must sell off 21\\% of our holdings in risk-free asset and reinvest in market portfolio to obtain expected returns of 12\\%."
   ]
  },
  {
   "cell_type": "code",
   "execution_count": 190,
   "metadata": {},
   "outputs": [
    {
     "data": {
      "text/plain": [
       "1×5 Matrix{Float64}:\n",
       " 0.210526  0.197368  0.197368  0.197368  0.197368"
      ]
     },
     "execution_count": 190,
     "metadata": {},
     "output_type": "execute_result"
    }
   ],
   "source": [
    "opt = Model(Ipopt.Optimizer)\n",
    "@variable(opt,h_m)\n",
    "@NLconstraint(opt, (1-4*h_m)*R[1]+h_m*R[2]+h_m*R[3]+h_m*R[4]+h_m*R[5] == 0.12)\n",
    "set_silent(opt)\n",
    "optimize!(opt)\n",
    "\n",
    "h_new=[1-4*value.(h_m) value.(h_m) value.(h_m) value.(h_m) value.(h_m)]\n",
    "\n",
    "#h_new*R'"
   ]
  },
  {
   "attachments": {},
   "cell_type": "markdown",
   "metadata": {},
   "source": [
    "So if we are investing solely in the risk-free asset and an equally-weighted market portfolio, to obtain an expected return of 12\\% we would adjust our holdings of the risl-free asset to be 21.05\\% of our total wealth, & invest 19.74\\% in each of the other 4 assets on the market."
   ]
  },
  {
   "attachments": {},
   "cell_type": "markdown",
   "metadata": {},
   "source": [
    "------------\n",
    "#### 17\n",
    "The market price of a security is \\$40, the security’s expected rate of return is 13%, the riskless rate of interest is 7%, and the market risk premium, $\\left[E(R_m) − R_f\\right]$, is 8%. What will be\n",
    "the security’s current price if its expected future payoff remains the same but the covariance of its\n",
    "rate of return with the market portfolio doubles?\n"
   ]
  },
  {
   "cell_type": "code",
   "execution_count": 199,
   "metadata": {},
   "outputs": [
    {
     "data": {
      "text/plain": [
       "37.983193277310924"
      ]
     },
     "execution_count": 199,
     "metadata": {},
     "output_type": "execute_result"
    }
   ],
   "source": [
    "P0 = 40\n",
    "ER_i = 0.13\n",
    "R_f = 0.07\n",
    "MRP = 0.08\n",
    "\n",
    "B0 = (ER_i-R_f)/MRP\n",
    "B1 = 2*B0\n",
    "\n",
    "ER_new = R_f+B1*(MRP)\n",
    "P1 = (1+ER_i)*P0/(ER_new+1)"
   ]
  },
  {
   "attachments": {},
   "cell_type": "markdown",
   "metadata": {},
   "source": [
    "----------\n",
    "#### 18\n",
    "Suppose you are the manager of an investment fund in a two-parameter economy. Given the\n",
    "following forecast:\n",
    "\n",
    "$$E(R_m) = .16, σ(R_m) = .20, R_f = .08$$\n",
    "\n",
    "(a) Would you recommend investment in a security with $E(R_j) = .12$ and $COV(R_j, R_m ) = .01$? \n",
    "\n",
    "(Note: Assume that this price change has no significant effect on the position of the security market line.)\n",
    "\n",
    "(b) Suppose that in the next period security Rj has earned only 5% over the preceding period. How would you explain this ex post return?\n"
   ]
  },
  {
   "cell_type": "code",
   "execution_count": 203,
   "metadata": {},
   "outputs": [
    {
     "data": {
      "text/plain": [
       "0.1"
      ]
     },
     "execution_count": 203,
     "metadata": {},
     "output_type": "execute_result"
    }
   ],
   "source": [
    "ER_m = 0.16\n",
    "sigma_m = 0.2\n",
    "R_f = 0.08\n",
    "\n",
    "sigma_mj = 0.01\n",
    "\n",
    "B_j = sigma_mj/sigma_m^2\n",
    "ER_j = R_f+B_j*(ER_m-R_f)"
   ]
  },
  {
   "attachments": {},
   "cell_type": "markdown",
   "metadata": {},
   "source": [
    "Security provides returns greater than that proposed by CAPM, this implies the security is currently undervalued & thus I would recommend investing in the security."
   ]
  },
  {
   "attachments": {},
   "cell_type": "markdown",
   "metadata": {},
   "source": [
    "Ideally, when commenting on this we would like to have the ex-post return of the market to provide better context to the underperformance of the stock, i.e. did the whole market experience poor returns, or was it just this security?\n",
    "\n",
    "In the absence of such information, we would likely look to re-evaluate the expected return of the security as experiencing such low returns would be highly unlikely given that the mean return is 12\\%."
   ]
  },
  {
   "attachments": {},
   "cell_type": "markdown",
   "metadata": {},
   "source": [
    "There are two possibilities for the low ex post return. First, the expected rate of return and the\n",
    "estimated risk could have been overestimated. The second possibility is that after the fact, the\n",
    "market unexpectedly fell. The ex post market rate of return which would have resulted in a\n",
    "5 percent rate of return for the security in question is\n",
    "$$\n",
    "\\begin{align*}\n",
    "R_j &= R_f +β_j[R_m-R_f] \\\\\n",
    "0.05 &= 0.08 + 0.25[R_m−0.08] \\\\\n",
    "\\implies R_m &= 0.2-0.32+0.08 \\\\\n",
    "&= -0.04\n",
    "\\end{align*}\n",
    "$$"
   ]
  },
  {
   "attachments": {},
   "cell_type": "markdown",
   "metadata": {},
   "source": [
    "---------\n",
    "#### 19\n",
    "\n",
    "Why is the separation principle still valid in a world with\n",
    "\n",
    "(a) nonmarketable assets?\n",
    "\n",
    "(b) a nonstochastic risk-free rate?\n"
   ]
  },
  {
   "attachments": {},
   "cell_type": "markdown",
   "metadata": {},
   "source": [
    "(a) Investors will price in the additional risk resulting from the non-marketability of assets in constructing their portfolios.\n",
    "\n",
    "(b) "
   ]
  },
  {
   "attachments": {},
   "cell_type": "markdown",
   "metadata": {},
   "source": [
    "Given that some assets are nonmarketable, the equilibrium pricing equation is given by Mayers (1972):\n",
    "$$E(Rj ) = R_f + λ[V_m cov(R_j, R_m) + cov(R_j, R_H)]$$\n",
    "This implies that the individual will take into consideration not only the covariance of an asset\n",
    "with the market portfolio, but also its covariance with the portfolio of nonmarketable assets. This\n",
    "may be interpreted as a form of three-fund separation, where the three funds are:\n",
    "\n",
    "1) the risk-free asset,\n",
    "\n",
    "2) the portfolio of risky marketable assets, and \n",
    "\n",
    "3) the portfolio of risky nonmarketable assets. \n",
    "\n",
    "Separation is still valid in the sense that the marginal rate of substitution between risk and return is independent of individuals’ utility preferences.\n",
    "\n",
    "If the risk-free rate is nonstochastic, then we can use Merton’s (1973) continuous time model:\n",
    "$$E(R_j) = r_f + γ_1[E(R_m) − r_f] + γ_2[E(R_N) − r_f ]$$\n",
    "\n",
    "Once again, three-fund separation obtains. Every investor will hold one of three funds: \n",
    "1) the riskfree asset,\n",
    "\n",
    "2) the market portfolio, and \n",
    "\n",
    "3) a hedge portfolio chosen to hedge against unforeseen changes in the future risk-free rate. \n",
    "\n",
    "We have separation because the market price of risk (the marginal rate of substitution between risk and return) is independent of individuals’ utility functions."
   ]
  },
  {
   "attachments": {},
   "cell_type": "markdown",
   "metadata": {},
   "source": [
    "------------\n",
    "#### 20\n",
    "Assume that the mean-variance opportunity set is constructed from only two risky assets, A\n",
    "and B. Their variance-covariance matrix is\n",
    "$$\n",
    "∑ = \\left[\\begin{array}{cc}\n",
    ".0081 & 0 \\\\ 0 & .0025\n",
    "\\end{array}\\right]\n",
    "$$\n",
    "Asset A has an expected return of 30%, and Asset B has an expected return of 20%. Answer the\n",
    "following questions:\n",
    "\n",
    "(a) Suppose investor I chooses his “market portfolio” to consist of 75% in asset A and 25% in asset B, whereas investor J chooses a different “market portfolio” with 50% in asset A and 50% in asset B. \n",
    "\n",
    "Weights chosen by I are $\\left[\\begin{array}{cc} .75 & .25 \\end{array}\\right]$.\n",
    "\n",
    "Weights chosen by J are $\\left[\\begin{array}{cc} .5 & .5 \\end{array}\\right]$. \n",
    "\n",
    "Given these facts, what beta will each investor calculate for asset A?\n",
    "\n",
    "(b) Given your answer to part (a), which of the following is true and why?\n",
    "\n",
    "1. Investor I will require a higher rate of return on asset A than will investor J.\n",
    "2. They will both require the same return on asset A.\n",
    "3. Investor J will require a higher rate of return on asset A than will investor I.\n",
    "\n",
    "(c) Compute the zero-beta portfolios and the equations for the security market line for each investor.\n"
   ]
  },
  {
   "cell_type": "code",
   "execution_count": 214,
   "metadata": {},
   "outputs": [
    {
     "data": {
      "text/plain": [
       "1×2 Matrix{Float64}:\n",
       " 1.28912  1.5283"
      ]
     },
     "execution_count": 214,
     "metadata": {},
     "output_type": "execute_result"
    }
   ],
   "source": [
    "ER_A = 0.3\n",
    "ER_B = 0.2\n",
    "sigma = [0.0081 0; 0 0.0025]\n",
    "\n",
    "h_mI = [0.75 0.25]\n",
    "h_mJ = [0.5 0.5]\n",
    "\n",
    "h_A = [1 0]\n",
    "cov_mIA =  h_A*sigma*h_mI'\n",
    "cov_mJA = h_A*sigma*h_mJ'\n",
    "\n",
    "sigma_mI = h_mI*sigma*h_mI'\n",
    "sigma_mJ = h_mJ*sigma*h_mJ'\n",
    "\n",
    "B_IA = cov_mIA/sigma_mI\n",
    "B_JA = cov_mJA/sigma_mJ\n",
    "\n",
    "[B_IA B_JA]"
   ]
  },
  {
   "attachments": {},
   "cell_type": "markdown",
   "metadata": {},
   "source": [
    "(b) Investors I & J will require the same rate of return on asset A, despite the different $\\beta s$ as they will arrive at different estimates of the expected return on the market portfolio as a result of the different $\\beta s$, ultimately leading to an equivalent required rate of return for both. "
   ]
  },
  {
   "attachments": {},
   "cell_type": "markdown",
   "metadata": {},
   "source": [
    "They have homogenous expectations therefore they perceive the same risk-return combination."
   ]
  },
  {
   "cell_type": "code",
   "execution_count": 229,
   "metadata": {},
   "outputs": [
    {
     "data": {
      "text/plain": [
       "2×1 Matrix{Float64}:\n",
       " -0.11467889908256867\n",
       "  1.1146788990825687"
      ]
     },
     "execution_count": 229,
     "metadata": {},
     "output_type": "execute_result"
    }
   ],
   "source": [
    "h_Iz = inv([(sigma*h_mI')'; 1 1])*[0 1]'\n",
    "#h_Iz'*sigma*h_mI'"
   ]
  },
  {
   "attachments": {},
   "cell_type": "markdown",
   "metadata": {},
   "source": [
    "For investor I, we have that:\n",
    "$$\n",
    "\\begin{align*}\n",
    "0.006075 W_A+0.000625 W_B &= 0, \\: \\& \\\\\n",
    "W_A + W_B &= 1\n",
    "\\end{align*}\n",
    "$$\n",
    "\n",
    "Giving us holdings in the zero-$\\beta$ portfolio for invetsor I of -0.1147 in asset A & 1.1147 in asset B."
   ]
  },
  {
   "cell_type": "code",
   "execution_count": 232,
   "metadata": {},
   "outputs": [
    {
     "data": {
      "text/plain": [
       "2×1 Matrix{Float64}:\n",
       " -0.4464285714285716\n",
       "  1.4464285714285716"
      ]
     },
     "execution_count": 232,
     "metadata": {},
     "output_type": "execute_result"
    }
   ],
   "source": [
    "h_Jz = inv([(sigma*h_mJ')'; 1 1])*[0 1]'\n",
    "#h_Jz'*sigma*h_mJ'"
   ]
  },
  {
   "attachments": {},
   "cell_type": "markdown",
   "metadata": {},
   "source": [
    "Similary, we calculate that investor J's zero-$\\beta$ portfolio consists of a holding of -0.4464 in asset A & an holding of 1.4464 in asset B. "
   ]
  }
 ],
 "metadata": {
  "kernelspec": {
   "display_name": "Julia 1.8.2",
   "language": "julia",
   "name": "julia-1.8"
  },
  "language_info": {
   "file_extension": ".jl",
   "mimetype": "application/julia",
   "name": "julia",
   "version": "1.8.2"
  },
  "orig_nbformat": 4,
  "vscode": {
   "interpreter": {
    "hash": "af34d7e565d31954c9f692121be51d55df20f46367d89af6b66f92847ac5257c"
   }
  }
 },
 "nbformat": 4,
 "nbformat_minor": 2
}
