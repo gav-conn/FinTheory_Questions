{
 "cells": [
  {
   "attachments": {},
   "cell_type": "markdown",
   "metadata": {},
   "source": [
    "-------------\n",
    "# Chapter 6 - CAPM & APT\n",
    "----------"
   ]
  },
  {
   "cell_type": "code",
   "execution_count": 43,
   "metadata": {},
   "outputs": [],
   "source": [
    "using JuMP, HiGHS, Ipopt, Plots, LinearAlgebra, Printf, Statistics;"
   ]
  },
  {
   "attachments": {},
   "cell_type": "markdown",
   "metadata": {},
   "source": [
    "------\n",
    "#### 1 \n",
    "Let us assume a normal distribution of returns and risk-averse utility functions. Under what\n",
    "conditions will all investors demand the same portfolio of risky assets?"
   ]
  },
  {
   "attachments": {},
   "cell_type": "markdown",
   "metadata": {},
   "source": [
    "--------\n",
    "#### 2\n",
    "The following data have been developed for the Donovan Company, the manufacturer of an\n",
    "advanced line of adhesives:\n",
    "\n",
    "| State | Probability | Market Return $R_m$ | Return for the Firm $R_j$ |\n",
    "| --- | --- | --- | --- |\n",
    "| 1 | .1 | −.15 | −.30 |\n",
    "| 2 | .3 | .05 |.00 |\n",
    "| 3 | .4 | .15 |.20 |\n",
    "| 4 | .2 | .20 |.50 |\n",
    "\n",
    "\n",
    "The risk-free rate is 6%. Calculate the following:\n",
    "\n",
    "(a) The expected market return.\n",
    "\n",
    "(b) The variance of the market return.\n",
    "\n",
    "(c) The expected return for the Donovan Company.\n",
    "\n",
    "(d) The covariance of the return for the Donovan Company with the market return.\n",
    "\n",
    "(e) Write the equation of the security market line.\n",
    "\n",
    "(f) What is the required return for the Donovan Company? How does this compare with its expected return?"
   ]
  },
  {
   "cell_type": "code",
   "execution_count": 92,
   "metadata": {},
   "outputs": [
    {
     "name": "stdout",
     "output_type": "stream",
     "text": [
      "Expectation of Market Return: 0.10 \n",
      "Expectation of Firm Return: 0.15\n",
      "Variance of Market Return: 0.01 \n",
      "Variance of Firm Return: 0.0525 \n",
      "Covariance of Market & Firm: 0.0215\n",
      "Beta of Firm: 2.15"
     ]
    }
   ],
   "source": [
    "P = [.1 .3 .4 .2]\n",
    "Rm = [-.15 .05 .15 .2]\n",
    "Rj = [-.3 0 .2 .5]\n",
    "Rf = .06\n",
    "\n",
    "ERm = P*Rm'\n",
    "var_Rm = P*(Rm.-ERm)'.^2\n",
    "ERj = P*Rj'\n",
    "cov_mj = P*diag((Rm.-ERm)'*(Rj.-ERj))\n",
    "Beta = cov_mj/var_Rm\n",
    "\n",
    "@printf(\"Expectation of Market Return: %.2f \\nExpectation of Firm Return: %.2f\", ERm[1], ERj[1])\n",
    "@printf(\"\\nVariance of Market Return: %.2f \\nVariance of Firm Return: %.4f \\nCovariance of Market & Firm: %.4f\", var_Rm[1], var_Rj[1], cov_mj[1])\n",
    "@printf(\"\\nBeta of Firm: %.2f\", Beta[1])"
   ]
  },
  {
   "attachments": {},
   "cell_type": "markdown",
   "metadata": {},
   "source": [
    "Equation of the SML: \n",
    "$$\n",
    "\\begin{align*}\n",
    "E[R_j] &= R_f + \\beta_i \\left(E\\left[R_m\\right] - R_f\\right) \\\\\n",
    "&= 0.06 + \\beta_i \\left(0.1 - 0.06\\right) \\\\\n",
    "&= 0.06 + 0.04 \\cdot \\beta_i\n",
    "\\end{align*}\n",
    "$$"
   ]
  },
  {
   "attachments": {},
   "cell_type": "markdown",
   "metadata": {},
   "source": [
    "$$\\begin{align*}\n",
    "    E[R_j] &= R_f + \\beta_j \\left(E\\left[R_m\\right] - R_f\\right) \\\\\n",
    "    &= 0.06 + 2.15\\left(0.1 - 0.06\\right) \\\\\n",
    "    &= 0.06 + 2.15\\left(0.1 - 0.06\\right) \\\\\n",
    "    &= 0.146\n",
    "\\end{align*}$$\n",
    "\n",
    "This is below our Expected Return of 0.15. This implies the firm is undervalued & we should therefore purchase stocks of this security."
   ]
  },
  {
   "attachments": {},
   "cell_type": "markdown",
   "metadata": {},
   "source": [
    "--------------\n",
    "#### 3\n",
    "\n",
    "The following data have been developed for the Milliken Company:\n",
    "\n",
    "| Year | Market Return | Company Returns |\n",
    "| --- | --- | --- |\n",
    "| 1978 | .27 | .25 |\n",
    "| 1977 | .12 | .05 |\n",
    "| 1976 | −.03 | −.05\n",
    "| 1975 | .12 | .15 |\n",
    "| 1974 | −.03 | −.10\n",
    "| 1973 | .27 | .30 |\n",
    "\n",
    "The yield to maturity on Treasury bills is .066 and is expected to remain at this point for the\n",
    "foreseeable future. Calculate the following:\n",
    "\n",
    "(a) The expected market return.\n",
    "\n",
    "(b) The variance of the market return.\n",
    "\n",
    "(c) The expected rate of return for the Milliken Company.\n",
    "\n",
    "(d) The covariance of the return for the Milliken Company with the return on the market.\n",
    "\n",
    "(e) Write the equation of the security market line.\n",
    "\n",
    "(f) What is the required return for the Milliken Company?"
   ]
  },
  {
   "cell_type": "code",
   "execution_count": 91,
   "metadata": {},
   "outputs": [
    {
     "name": "stdout",
     "output_type": "stream",
     "text": [
      "Expectation of Market Return: 0.12 \n",
      "Expectation of Milliken Return: 0.10\n",
      "Variance of Market Return: 0.01 \n",
      "Covariance of Market & Milliken: 0.0175"
     ]
    }
   ],
   "source": [
    "R_m = [.27 .12 -.03 .12 -.03 .27]\n",
    "ER_m = 1/length(R_m)*R_m*ones(6)\n",
    "\n",
    "var_m = repeat([1/length(R_m)], length(R_m))'*diag((R_m.-ER_m)'*(R_m.-ER_m))\n",
    "\n",
    "R_j = [.25 .05 -.05 .15 -.1 .3]\n",
    "ER_j = 1/length(R_j)*R_j*ones(6)\n",
    "\n",
    "cov_mj = repeat([1/length(R_m)], length(R_m))'*diag((R_m.-ER_m)'*(R_j.-ER_j))\n",
    "\n",
    "@printf(\"Expectation of Market Return: %.2f \\nExpectation of Milliken Return: %.2f\", ER_m[1], ER_j[1])\n",
    "@printf(\"\\nVariance of Market Return: %.2f \\nCovariance of Market & Milliken: %.4f\", var_m[1], cov_mj[1])"
   ]
  },
  {
   "attachments": {},
   "cell_type": "markdown",
   "metadata": {},
   "source": [
    "Equation of the SML: \n",
    "$$\n",
    "\\begin{align*}\n",
    "E[R_j] &= R_f + \\beta_i \\left(E\\left[R_m\\right] - R_f\\right) \\\\\n",
    "&= 0.066 + \\beta_i \\left(0.12 - 0.066\\right) \\\\\n",
    "&= 0.066 + 0.054 \\cdot \\beta_i\n",
    "\\end{align*}\n",
    "$$"
   ]
  },
  {
   "cell_type": "code",
   "execution_count": 94,
   "metadata": {},
   "outputs": [
    {
     "data": {
      "text/plain": [
       "1×1 transpose(::Vector{Float64}) with eltype Float64:\n",
       " 1.0077519379844964"
      ]
     },
     "execution_count": 94,
     "metadata": {},
     "output_type": "execute_result"
    }
   ],
   "source": [
    "var_j = repeat([1/length(R_j)], length(R_j))'*diag((R_j.-ER_j)'*(R_j.-ER_j))\n",
    "Beta = var_j/cov_mj"
   ]
  },
  {
   "attachments": {},
   "cell_type": "markdown",
   "metadata": {},
   "source": [
    "Required Return on Milliken:\n",
    "$$\n",
    "\\begin{align*}\n",
    "E\\left[R_j\\right] &= 0.066 + 0.054 \\cdot \\beta_i \\\\\n",
    "&= 0.066 + 0.054 \\cdot 1.00775 \\\\\n",
    "&= 0.1204\n",
    "\\end{align*}\n",
    "$$\n",
    "\n",
    "Implies Milliken currently overvalued, so we would expect price to fall."
   ]
  },
  {
   "attachments": {},
   "cell_type": "markdown",
   "metadata": {},
   "source": [
    "----------\n",
    "#### 4\n",
    "\n",
    "For the data in Table Q4 perform the indicated calculations.\n",
    "\n",
    "| | $P_t$ | $\\frac{P_t}{P_{t-1}}-1$ | $\\frac{Div_t}{P_t}$ | $R_{mt}$ | $R_{mt}-\\bar{R}_m$ | $(R_{mt}-\\bar{R}_m)^2$ | $R_f$ |\n",
    "| --- | --- | --- | --- | --- | --- | --- |--- |\n",
    "| 1960 | 55.84 |\n",
    "| 1961 | 66.27 | 0.1868 | .0298 | 0.2166 | 0.1386 | 0.0192 |.03 |\n",
    "| 1962 | 62.38 | -0.0587 | .0337 | -0.025 | -0.103 | 0.0106 |.03 |\n",
    "| 1963 | 69.87 | 0.12 | .0317 | 0.1518 | 0.074 | 0.0054 |.03 |\n",
    "| 1964 | 81.37 | 0.1646 | .0301 | 0.1947 | 0.1167 | 0.0136 |.04 |\n",
    "| 1965 | 88.17 | 0.0836 | .0300 | 0.1136 | 0.0356 | 0.0013 |.04 |\n",
    "| 1966 | 85.26 | -0.033 | .0340 | 0.001 | -0.077 | 0.0059 |.04 |\n",
    "| 1967 | 91.93 | 0.0782 | .0320 | 0.1102 | 0.0323 | 0.001 |.05 |\n",
    "| 1968 | 98.70 | 0.0736 | .0307 | 0.1043 | 0.0264 | 0.0007 |.05 |\n",
    "| 1969 | 97.84 | -0.0087 | .0324 | 0.0237 | -0.0543 | 0.0029 |.07 |\n",
    "| 1970 | 83.22 | -0.1494 | .0383 | -0.1111 | 0.1891 | 0.0358 |.06 |\n",
    "\n",
    "a. $\\bar{R}_m$ = 0.0457\n",
    "\n",
    "b. $VAR(R_m)$ = 0.00965\n",
    "\n",
    "c. $σ(R_m)$ = 0.0982"
   ]
  },
  {
   "cell_type": "code",
   "execution_count": 121,
   "metadata": {},
   "outputs": [
    {
     "data": {
      "text/plain": [
       "1×1 Matrix{Float64}:\n",
       " 0.09601435087790917"
      ]
     },
     "execution_count": 121,
     "metadata": {},
     "output_type": "execute_result"
    }
   ],
   "source": [
    "P = [55.84 66.27 62.38 69.87 81.37 88.17 85.26 91.93 98.7 97.84 83.22]\n",
    "\n",
    "Price_Ret = zeros(length(P)-1)\n",
    "for i in 1:length(P)-1\n",
    "    Price_Ret[i] = P[i+1]/P[i]-1\n",
    "end\n",
    "\n",
    "Div = [.0298 .0337 .0317 .0301 .03 .034 .032 .0307 .0324 .0383]'\n",
    "Ret = Price_Ret+Div\n",
    "\n",
    "mean_Ret = mean(Ret)\n",
    "\n",
    "Ret_dev = Ret.-mean_Ret\n",
    "Mkt_var = (Ret.-mean_Ret).^2\n",
    "\n",
    "var = repeat([1/10], 10)'*(Ret+Div.-mean(Ret+Div)).^2\n",
    "sd = sqrt.(var)"
   ]
  },
  {
   "attachments": {},
   "cell_type": "markdown",
   "metadata": {},
   "source": [
    "---------\n",
    "#### 5\n",
    "For the data in Table Q5 calculate the items indicated.\n",
    "\n",
    "Another bullshit long Q that's not hard just annoying, with a huge table I cba to copy in."
   ]
  },
  {
   "attachments": {},
   "cell_type": "markdown",
   "metadata": {},
   "source": [
    "----------\n",
    "#### 6\n",
    "What are the assumptions sufficient to guarantee that the market portfolio is an efficient\n",
    "portfolio?\n"
   ]
  },
  {
   "attachments": {},
   "cell_type": "markdown",
   "metadata": {},
   "source": [
    "-----------\n",
    "#### 7 \n",
    "In the CAPM is there any way to identify the investors who are more risk averse? Explain.\n",
    "How would your answer change if there were not a riskless asset?\n"
   ]
  },
  {
   "attachments": {},
   "cell_type": "markdown",
   "metadata": {},
   "source": [
    "--------\n",
    "#### 8\n",
    "Given risk-free borrowing and lending, efficient portfolios have no unsystematic risk. True or\n",
    "false? Explain.\n"
   ]
  },
  {
   "attachments": {},
   "cell_type": "markdown",
   "metadata": {},
   "source": [
    "---------\n",
    "#### 9\n",
    "What is the beta of an efficient portfolio with $E(R_j) = 20\\%$ if $R_f = 5\\%$, $E(R_m) = 15\\%$, and $σ_m = 20\\%$? What is its $σ_j$? What is its correlation with the market?\n"
   ]
  },
  {
   "attachments": {},
   "cell_type": "markdown",
   "metadata": {},
   "source": [
    "---------- \n",
    "#### 10\n",
    "Given the facts of Problem 9, and that the common stock of the Rapid Rolling Corporation has $E(R_k) = 25\\%$ and $σ^2_k = 52\\%$, what is the systematic risk of the common stock? What is its unsystematic risk?\n"
   ]
  },
  {
   "attachments": {},
   "cell_type": "markdown",
   "metadata": {},
   "source": [
    "------------\n",
    "#### 11\n",
    "(a) If the expected rate of return on the market portfolio is 14% and the risk-free rate is\n",
    "6%, find the beta for a portfolio that has expected rate of return of 10%. What assumptions\n",
    "concerning this portfolio and/or market conditions do you need to make to calculate the\n",
    "portfolio’s beta?\n",
    "\n",
    "(b) What percentage of this portfolio must an individual put into the market portfolio in\n",
    "order to achieve an expected return of 10%?"
   ]
  },
  {
   "attachments": {},
   "cell_type": "markdown",
   "metadata": {},
   "source": [
    "-----------\n",
    "#### 12 \n",
    "You believe that the Beta Alpha Watch Company will be worth $100 per share one year from\n",
    "now. How much are you willing to pay for one share today if the risk-free rate is 8%, the expected\n",
    "rate of return on the market is 18%, and the company’s beta is 2.0?\n",
    "\n"
   ]
  },
  {
   "attachments": {},
   "cell_type": "markdown",
   "metadata": {},
   "source": [
    "----------\n",
    "#### 13\n",
    "Given the following variance-covariance matrix and expected returns vector (for assets X\n",
    "and Y , respectively) for a two-asset world:\n",
    "$$\n",
    "∑ = \\left[\\begin{array}{cc}\n",
    ".01 & 0 \\\\ 0 & .0064\n",
    "\\end{array}\\right]\n",
    "$$\n",
    "$$\n",
    "\\bar{R}^′_I = \\left[\\begin{array}{cc}\n",
    ".2 & .1\n",
    "\\end{array}\\right]\n",
    "$$\n",
    "\n",
    "\n",
    "(a) What is the expected return of a zero-beta portfolio, given that 50% of the index portfolio is invested in asset X and asset Y ?\n",
    "\n",
    "(b) What is the vector of weights in the global minimum-variance portfolio?\n",
    "\n",
    "(c) What is the covariance between the global minimum-variance portfolio and the zero- beta portfolio?\n",
    "\n",
    "(d) What is the equation of the market line?\n"
   ]
  },
  {
   "attachments": {},
   "cell_type": "markdown",
   "metadata": {},
   "source": [
    "----------\n",
    "#### 14 \n",
    "Given the following variance-covariance matrix, calculate the covariance between portfolio A, which has 10% in asset 1 and 90% in asset 2, and portfolio B, which has 60% in asset 1 and 40% in asset 2:\n",
    "$$\n",
    "∑ = \\left[\\begin{array}{cc}\n",
    ".01 & -.02 \\\\ -.02 & .04\n",
    "\\end{array}\\right]\n",
    "$$"
   ]
  },
  {
   "attachments": {},
   "cell_type": "markdown",
   "metadata": {},
   "source": [
    "-------------\n",
    "#### 15\n",
    "\n",
    "Suppose that securities are priced as if they are traded in a two-parameter economy. You have\n",
    "forecast the correlation coefficient between the rate of return on Knowlode Mutual Fund and the\n",
    "market portfolio at .8. Your forecast of the standard deviations of the rates of return are .25 for\n",
    "Knowlode, and .20 for the market portfolio. How would you combine the Knowlode Fund and a\n",
    "riskless security to obtain a portfolio with a beta of 1.6?"
   ]
  },
  {
   "attachments": {},
   "cell_type": "markdown",
   "metadata": {},
   "source": [
    "--------\n",
    "#### 16\n",
    "You currently have 50% of your wealth in a risk-free asset and 50% in the four assets below:\n",
    "\n",
    "| Asset | ER on Asset i (%) | $β_i$ | % Invested in Asset i|\n",
    "| --- | --- | --- | --- |\n",
    "| i = 1 | 7.6  | .2 | 10 |\n",
    "| i = 2 | 12.4 | .8 | 10 |\n",
    "| i = 3 | 15.6 | 1.3 | 10 |\n",
    "| i = 4 | 18.8 | 1.6 | 20 |\n",
    "\n",
    "If you want an expected rate of return of 12%, you can obtain it by selling some of your holdings\n",
    "of the risk-free asset and using the proceeds to buy the equally weighted market portfolio. If this\n",
    "is the way you decide to revise your portfolio, what will the set of weights in your portfolio be? If\n",
    "you hold only the risk-free asset and the market portfolio, what set of weights would give you an\n",
    "expected 12% return?\n"
   ]
  },
  {
   "attachments": {},
   "cell_type": "markdown",
   "metadata": {},
   "source": [
    "------------\n",
    "#### 17\n",
    "The market price of a security is \\$40, the security’s expected rate of return is 13%, the riskless rate of interest is 7%, and the market risk premium, $\\left[E(R_m) − R_f\\right]$, is 8%. What will be\n",
    "the security’s current price if its expected future payoff remains the same but the covariance of its\n",
    "rate of return with the market portfolio doubles?\n"
   ]
  },
  {
   "attachments": {},
   "cell_type": "markdown",
   "metadata": {},
   "source": [
    "----------\n",
    "#### 18\n",
    "Suppose you are the manager of an investment fund in a two-parameter economy. Given the\n",
    "following forecast:\n",
    "\n",
    "$$E(R_m) = .16, σ(R_m) = .20, R_f = .08$$\n",
    "\n",
    "(a) Would you recommend investment in a security with $E(R_j) = .12$ and $COV(R_j, R_m ) = .01$? \n",
    "\n",
    "(Note: Assume that this price change has no significant effect on the position of the security market line.)\n",
    "\n",
    "(b) Suppose that in the next period security Rj has earned only 5% over the preceding period. How would you explain this ex post return?\n"
   ]
  },
  {
   "attachments": {},
   "cell_type": "markdown",
   "metadata": {},
   "source": [
    "---------\n",
    "#### 19\n",
    "\n",
    "Why is the separation principle still valid in a world with\n",
    "\n",
    "(a) nonmarketable assets?\n",
    "\n",
    "(b) a nonstochastic risk-free rate?\n"
   ]
  },
  {
   "attachments": {},
   "cell_type": "markdown",
   "metadata": {},
   "source": [
    "#### 20\n",
    "Assume that the mean-variance opportunity set is constructed from only two risky assets, A\n",
    "and B. Their variance-covariance matrix is\n",
    "$$\n",
    "∑ = \\left[\\begin{array}{cc}\n",
    ".0081 & 0 \\\\ 0 & .0025\n",
    "\\end{array}\\right]\n",
    "$$\n",
    "Asset A has an expected return of 30%, and Asset B has an expected return of 20%. Answer the\n",
    "following questions:\n",
    "\n",
    "(a) Suppose investor I chooses his “market portfolio” to consist of 75% in asset A and 25% in asset B, whereas investor J chooses a different “market portfolio” with 50% in asset A and 50% in asset B. \n",
    "\n",
    "Weights chosen by I are $\\left[\\begin{array}{cc} .75 & .25 \\end{array}\\right]$.\n",
    "\n",
    "Weights chosen by J are $\\left[\\begin{array}{cc} .5 & .5 \\end{array}\\right]$. \n",
    "\n",
    "Given these facts, what beta will each investor calculate for asset A?\n",
    "\n",
    "(b) Given your answer to part (a), which of the following is true and why?\n",
    "\n",
    "1. Investor I will require a higher rate of return on asset A than will investor J.\n",
    "2. They will both require the same return on asset A.\n",
    "3. Investor J will require a higher rate of return on asset A than will investor I.\n",
    "\n",
    "(c) Compute the zero-beta portfolios and the equations for the security market line for each investor.\n"
   ]
  },
  {
   "attachments": {},
   "cell_type": "markdown",
   "metadata": {},
   "source": [
    "----------\n",
    "#### 21\n",
    "Ms. Bethel, manager of the Humongous Mutual Fund, knows that her fund currently is well\n",
    "diversified and that it has a CAPM beta of 1.0. The risk-free rate is 8% and the CAPM risk premium,\n",
    "\n",
    "$[E(R_m) − R_f]$, is 6.2%. She has been learning about measures of risk and knows that there are (at least) two factors: changes in industrial production index, $\\bar{δ}_1$, and unexpected inflation, $\\bar{δ}_2$ . The APT equation is:\n",
    "\n",
    "$$ E(R_i) − R_f = \\left[\\bar{δ}_1 − R_f\\right] \\cdot b_{i1} + \\left[\\bar{δ}_2 − R_f\\right] \\cdot b_{i2}, $$\n",
    "\n",
    "$$ E(Ri ) = .08 + \\left[.05\\right] \\cdot b_{i1} + \\left[.11\\right] \\cdot b_{i2}$$\n",
    "\n",
    "(a) If her portfolio currently has a sensitivity to the first factor of b p1 = −.5, what is its sensitivity to unexpected inflation?\n",
    "\n",
    "(b) If she rebalances her portfolio to keep the same expected return but reduce her exposure to inflation to zero (i.e., b p2 = 0), what will its sensitivity to the first factor become?"
   ]
  }
 ],
 "metadata": {
  "kernelspec": {
   "display_name": "Julia 1.8.2",
   "language": "julia",
   "name": "julia-1.8"
  },
  "language_info": {
   "file_extension": ".jl",
   "mimetype": "application/julia",
   "name": "julia",
   "version": "1.8.2"
  },
  "orig_nbformat": 4,
  "vscode": {
   "interpreter": {
    "hash": "af34d7e565d31954c9f692121be51d55df20f46367d89af6b66f92847ac5257c"
   }
  }
 },
 "nbformat": 4,
 "nbformat_minor": 2
}
