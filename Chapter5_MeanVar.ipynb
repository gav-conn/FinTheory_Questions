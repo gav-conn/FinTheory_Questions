{
 "cells": [
  {
   "attachments": {},
   "cell_type": "markdown",
   "metadata": {},
   "source": [
    "---------\n",
    "## Chapter 5 - Mean-Variance Portfolio Theory\n",
    "-----"
   ]
  },
  {
   "cell_type": "code",
   "execution_count": 3,
   "metadata": {},
   "outputs": [],
   "source": [
    "using Plots\n",
    "using Ipopt\n",
    "using JuMP\n",
    "using Printf\n",
    "using LinearAlgebra"
   ]
  },
  {
   "attachments": {},
   "cell_type": "markdown",
   "metadata": {},
   "source": [
    "#### 1 \n",
    "Historically, the empirical distributions of stock prices on the NYSE have been skewed right. Why?\n"
   ]
  },
  {
   "attachments": {},
   "cell_type": "markdown",
   "metadata": {},
   "source": [
    "--------------\n",
    "#### 2 \n",
    "Given the following relationship between $x$ and $y$,\n",
    "$$\n",
    "y=a+b x \\quad b<0,\n",
    "$$\n",
    "prove that $x$ and $y$ are perfectly negatively correlated.\n"
   ]
  },
  {
   "attachments": {},
   "cell_type": "markdown",
   "metadata": {},
   "source": [
    "$$ \\begin{align}\n",
    "    corr(x,y) & = \\frac{cov(x,y)}{\\sigma_x \\cdot \\sigma_y} \\\\\n",
    "    & = \\frac{cov(x,a+bx)}{b \\cdot \\sigma_x \\cdot \\sigma_x} \\\\\n",
    "    & = \\frac{-b \\cdot \\sigma_x^2}{b \\cdot \\sigma_x^2} \\\\\n",
    "    & = -1\n",
    "\\end{align} $$"
   ]
  },
  {
   "attachments": {},
   "cell_type": "markdown",
   "metadata": {},
   "source": [
    "------------\n",
    "#### 3 \n",
    "Given the following hypothetical end-of-period prices for shares of the Drill-On Corporation,\n",
    "\n",
    "$\\begin{array}{lrrrrr}\\text { Probability } & .15 & .10 & .30 & .20 & .25 \\\\ \\text { End-of-period price per share } & 35.00 & 42.00 & 50.00 & 55.00 & 60.00\\end{array}$\n",
    "\n",
    "and assuming a current price of $\\$ 50$ per share:\n",
    "\n",
    "(a) Calculate the rate of return for each probability. What is the expected return? The variance of end-of-period returns? The range? The semi-interquartile range?\n"
   ]
  },
  {
   "cell_type": "code",
   "execution_count": 54,
   "metadata": {},
   "outputs": [
    {
     "data": {
      "text/plain": [
       "1×5 Matrix{Float64}:\n",
       " -0.3  -0.16  0.0  0.1  0.2"
      ]
     },
     "execution_count": 54,
     "metadata": {},
     "output_type": "execute_result"
    }
   ],
   "source": [
    "Price = 50\n",
    "EOP_PPS = [35 42 50 55 60]\n",
    "Prob = [.15; .1; .3; .2; .25]\n",
    "\n",
    "Rate_Ret = EOP_PPS./Price.-1"
   ]
  },
  {
   "cell_type": "code",
   "execution_count": 55,
   "metadata": {},
   "outputs": [
    {
     "data": {
      "text/plain": [
       "1×1 adjoint(::Vector{Float64}) with eltype Float64:\n",
       " 0.008999999999999994"
      ]
     },
     "execution_count": 55,
     "metadata": {},
     "output_type": "execute_result"
    }
   ],
   "source": [
    "Mean = Prob'*Rate_Ret'"
   ]
  },
  {
   "cell_type": "code",
   "execution_count": 56,
   "metadata": {},
   "outputs": [
    {
     "data": {
      "text/plain": [
       "1×1 adjoint(::Vector{Float64}) with eltype Float64:\n",
       " 0.02806"
      ]
     },
     "execution_count": 56,
     "metadata": {},
     "output_type": "execute_result"
    }
   ],
   "source": [
    "Var = Prob'*Rate_Ret'.^2"
   ]
  },
  {
   "cell_type": "code",
   "execution_count": 57,
   "metadata": {},
   "outputs": [
    {
     "data": {
      "text/plain": [
       "0.5"
      ]
     },
     "execution_count": 57,
     "metadata": {},
     "output_type": "execute_result"
    }
   ],
   "source": [
    "range = maximum(Rate_Ret)-minimum(Rate_Ret)"
   ]
  },
  {
   "cell_type": "code",
   "execution_count": 58,
   "metadata": {},
   "outputs": [
    {
     "data": {
      "text/plain": [
       "1-element Vector{Float64}:\n",
       " 0.13000000000000006"
      ]
     },
     "execution_count": 58,
     "metadata": {},
     "output_type": "execute_result"
    }
   ],
   "source": [
    "semi_iqr = (Rate_Ret[round.(cumsum(Prob),digits=2).==0.75] - Rate_Ret[cumsum(Prob).==0.25])/2"
   ]
  },
  {
   "attachments": {},
   "cell_type": "markdown",
   "metadata": {},
   "source": [
    "(b) Suppose forecasting is refined such that probabilities of end-of-period prices can be broken down further, resulting in the following distribution:\n",
    "\n",
    "$\\begin{array}{lllllllllll}\\text { Probability } & .01 & .05 & .07 & .02 & .10 & .30 & .20 & .15 & .05 & .05 \\\\ \n",
    "\\text {End-of-period price per share } & 0 & 35.00 & 38.57 & 40.00 & 42.00 & 50.00 & 55.00 & 57.00 & 60.00 & 69.00\\end{array}$\n",
    "\n",
    "Calculate and explain the change in the expected return, the range of returns, and the semiinterquartile range of returns. Calculate the semivariance of end-of-period returns. Why might some investors be concerned with semivariance as a measure of risk?"
   ]
  },
  {
   "attachments": {},
   "cell_type": "markdown",
   "metadata": {},
   "source": [
    "--------------\n",
    "\n",
    "#### 5 \n",
    "\n",
    "Using the definition of portfolio variance, prove that a perfectly hedged stock portfolio that is 100 shares long and 100 shares short is perfectly risk free.\n"
   ]
  },
  {
   "attachments": {},
   "cell_type": "markdown",
   "metadata": {},
   "source": [
    "-----\n",
    "#### 6 \n",
    "Given Professor Singer's variance-covariance matrix:\n",
    "$$\n",
    "\\left[\\begin{array}{rrr}\n",
    "24 & -10 & 9 \\\\\n",
    "-10 & 75 & 3 \\\\\n",
    "9 & 3 & 12\n",
    "\\end{array}\\right]\n",
    "$$\n",
    "(a) Calculate the variance of an equally weighted portfolio.\n",
    "(b) Calculate the covariance of a portfolio that has $10 \\%$ in asset $1,80 \\%$ in asset 2 , and $10 \\%$ in asset 3 with a second portfolio that has $125 \\%$ in asset $1,-10 \\%$ in asset 2 , and $-15 \\%$ in asset 3.\n"
   ]
  },
  {
   "attachments": {},
   "cell_type": "markdown",
   "metadata": {},
   "source": [
    "--------\n",
    "#### 7 \n",
    "\n",
    "Given two random variables $x$ and $y$ :\n",
    "\n",
    "| Probability of State of Nature | State of Nature | Variable $\\boldsymbol{x}$ | Variable $\\boldsymbol{y}$ |\n",
    "| --- | --- | --- | --- |\n",
    "$.2$ | I | 18 | 0 |\n",
    "$.2$ | II | 5 | $-3$ |\n",
    "$.2$ | III | 12 | 15 |\n",
    "$.2$ | IV | 4 | 12 |\n",
    "$.2$ | V | 6 | 1 |\n",
    "\n",
    "(a) Calculate the mean and variance of each of these variables, and the covariance between them.\n",
    "\n"
   ]
  },
  {
   "cell_type": "code",
   "execution_count": 239,
   "metadata": {},
   "outputs": [
    {
     "data": {
      "text/plain": [
       "1-element Vector{Float64}:\n",
       " -1.1999999999999997"
      ]
     },
     "execution_count": 239,
     "metadata": {},
     "output_type": "execute_result"
    }
   ],
   "source": [
    "Prob = [.2 .2 .2 .2 .2]\n",
    "\n",
    "x = [18 5 12 4 6]\n",
    "y = [0 -3 15 12 1]\n",
    "\n",
    "mean_x = x*Prob'\n",
    "mean_y = y*Prob'\n",
    "\n",
    "var_x = (x .-mean_x).^2*Prob'\n",
    "var_y = (y .-mean_y).^2*Prob'\n",
    "\n",
    "covar_xy = Prob*diag((x .-mean_x)'*(y .-mean_y))\n",
    "\n",
    "@printf(\"Mean of x: %.2f \\nMean of y: %.2f\", mean_x[1], mean_y[1])\n",
    "@printf(\"\\nVariance of x: %.2f \\nVariance of y: %.2f \\nCovariance of x & y: %.2f\", var_x[1], var_y[1], covar_xy[1])"
   ]
  },
  {
   "attachments": {},
   "cell_type": "markdown",
   "metadata": {},
   "source": [
    "(b) Suppose $x$ and $y$ represent the returns from two assets. Calculate the mean and variance for the following portfolios:\n",
    "$$\n",
    "\\begin{array}{lrrrrrrr}\n",
    "\\% \\text { in } x & 125 & 100 & 75 & 50 & 25 & 0 & -25 \\\\\n",
    "\\% \\text { in } y & -25 & 0 & 25 & 50 & 75 & 100 & 125\n",
    "\\end{array}\n",
    "$$\n",
    "\n"
   ]
  },
  {
   "cell_type": "code",
   "execution_count": 288,
   "metadata": {},
   "outputs": [
    {
     "data": {
      "text/plain": [
       "7×1 Matrix{Float64}:\n",
       " 47.675\n",
       " 28.0\n",
       " 18.475\n",
       " 19.1\n",
       " 29.875000000000004\n",
       " 50.800000000000004\n",
       " 81.875"
      ]
     },
     "execution_count": 288,
     "metadata": {},
     "output_type": "execute_result"
    }
   ],
   "source": [
    "h = [1.25 1 .75 .5 .25 0 -.25]\n",
    "\n",
    "mean_h = h'*mean_x+(1 .-h)'*mean_y\n",
    "\n",
    "var_h = h'.^2*var_x + (1 .-h)'.^2*var_y .+ 2*(h.*(1 .-h)*covar_xy[1])'"
   ]
  },
  {
   "attachments": {},
   "cell_type": "markdown",
   "metadata": {},
   "source": [
    "(c) Find the portfolio that has the minimum variance.\n",
    "\n"
   ]
  },
  {
   "cell_type": "code",
   "execution_count": 163,
   "metadata": {},
   "outputs": [
    {
     "data": {
      "text/plain": [
       "1.5332932094121459"
      ]
     },
     "execution_count": 163,
     "metadata": {},
     "output_type": "execute_result"
    }
   ],
   "source": [
    "opt = Model(Ipopt.Optimizer)\n",
    "@variable(opt,h)\n",
    "@NLobjective(opt, Min, h^2*var_x[1] + (1-h)^2*var_y[1] + 2*h*(1-h)*covar_xy[1])\n",
    "set_silent(opt)\n",
    "optimize!(opt)\n",
    "\n",
    "opt_h=value.(h)\n",
    "17.5/objective_value(opt)"
   ]
  },
  {
   "attachments": {},
   "cell_type": "markdown",
   "metadata": {},
   "source": [
    "(d) Let portfolio $A$ have $75 \\%$ in $x$ and portfolio $B$ have $25 \\%$ in $x$. Calculate the covariance between the two portfolios."
   ]
  },
  {
   "cell_type": "code",
   "execution_count": 160,
   "metadata": {},
   "outputs": [
    {
     "data": {
      "text/plain": [
       "1-element Vector{Float64}:\n",
       " 9.075000000000001"
      ]
     },
     "execution_count": 160,
     "metadata": {},
     "output_type": "execute_result"
    }
   ],
   "source": [
    "h_A = 0.75\n",
    "h_B = 0.25\n",
    "\n",
    "var_AB = [h_A 1-h_A]*[var_x covar_xy[1]; covar_xy[1] var_y]*[h_B; 1-h_B]"
   ]
  },
  {
   "cell_type": "markdown",
   "metadata": {},
   "source": [
    "(e) Calculate the covariance between the minimum variance portfolio and portfolio $A$, and the covariance between the minimum variance portfolio and portfolio $B$."
   ]
  },
  {
   "cell_type": "code",
   "execution_count": 174,
   "metadata": {},
   "outputs": [
    {
     "name": "stdout",
     "output_type": "stream",
     "text": [
      "Covariance of A with MVP: 11.41 \n",
      "Covariance of B with MVP: 11.41"
     ]
    },
    {
     "data": {
      "text/plain": [
       "11.41334214002642"
      ]
     },
     "execution_count": 174,
     "metadata": {},
     "output_type": "execute_result"
    }
   ],
   "source": [
    "MVP = opt_h*x+(1-opt_h)*y\n",
    "\n",
    "mean_MVP = Prob*MVP'\n",
    "covar_AM = [opt_h 1-opt_h]*[var_x covar_xy[1]; covar_xy[1] var_y]*[h_A; 1-h_A]\n",
    "covar_BM = [opt_h 1-opt_h]*[var_x covar_xy[1]; covar_xy[1] var_y]*[h_B; 1-h_B]\n",
    "\n",
    "@printf(\"Covariance of A with MVP: %.2f \\nCovariance of B with MVP: %.2f\", covar_AM[1], covar_BM[1])"
   ]
  },
  {
   "attachments": {},
   "cell_type": "markdown",
   "metadata": {},
   "source": [
    "(f) What is the covariance between the minimum variance portfolio and any other portfolio along the efficient set?\n",
    "\n",
    "17.5"
   ]
  },
  {
   "attachments": {},
   "cell_type": "markdown",
   "metadata": {},
   "source": [
    "(g) What is the relationship between the covariance of the minimum variance portfolio with other efficient portfolios, and the variance of the minimum variance portfolio?\n",
    "\n",
    "As the variance of the MVP decreases, so does the covariance of other efficient portfolios and the MVP.\n",
    "\n",
    "$$cov(P, MVP) = \\frac{1}{\\textbf{1}^T\\:(\\Sigma^{-1})\\:\\textbf{1}} \\cdot var(MVP)$$"
   ]
  },
  {
   "attachments": {},
   "cell_type": "markdown",
   "metadata": {},
   "source": [
    "--------------\n",
    "#### 8\n",
    " Prove that for any securities $\\tilde{X}$ and $\\tilde{Y}$ :\n",
    "(a) $E(a \\tilde{X}+b \\widetilde{Y})=a E(\\tilde{X})+b E(\\widetilde{Y})$.\n",
    "\n",
    "(b) $\\operatorname{VAR}(a \\widetilde{X}+b \\widetilde{Y})=a^2 \\operatorname{VAR}(\\widetilde{X})+b^2 \\operatorname{VAR}(\\tilde{Y})+2 a b \\operatorname{COV}(\\tilde{X}, \\widetilde{Y})$\n",
    "\n",
    "(c) $\\operatorname{COV}[(a \\widetilde{X}+b \\widetilde{Z}), \\widetilde{Y}]=a \\operatorname{COV}(\\widetilde{X}, \\widetilde{Y})+b \\operatorname{COV}(\\widetilde{Z}, \\widetilde{Y})$.\n",
    "\n",
    "(d) $E\\left(\\widetilde{X}^2\\right)=(E(\\widetilde{X}))^2+\\operatorname{VAR}(\\widetilde{X})$.\n",
    "\n",
    "(e) If $r_{x y}=1$, then $\\sigma(X+Y)=\\sigma_x+\\sigma_y$. If $r_{x y}=-1$, then $\\sigma(\\tilde{X}+\\tilde{Y})=\\sigma_x-\\sigma_y$.\n"
   ]
  },
  {
   "attachments": {},
   "cell_type": "markdown",
   "metadata": {},
   "source": [
    "-----------\n",
    "#### 9\n",
    " Let $R_1$ and $R_2$ be the returns for two securities with $E\\left(R_1\\right)=.03$ and $E\\left(R_2\\right)=.08, \\operatorname{VAR}\\left(R_1\\right)=$ $.02, \\operatorname{VAR}\\left(R_2\\right)=.05$, and $\\operatorname{COV}\\left(R_1, R_2\\right)=-.01$.\n",
    "\n",
    "(a) Plot the set of feasible mean-variance combinations of return, assuming that the two securities above are the only investment vehicles available.\n",
    "\n",
    "(b) If we want to minimize risk, how much of our portfolio will we invest in security 1 ?\n",
    "\n",
    "(c) Find the mean and standard deviation of a portfolio that is $50 \\%$ in security 1.\n"
   ]
  },
  {
   "attachments": {},
   "cell_type": "markdown",
   "metadata": {},
   "source": [
    "-----------\n",
    "#### 10 \n",
    "Two securities have the following joint distribution of returns, $r_1$ and $r_2$ :\n",
    "$$\n",
    "\\begin{aligned}\n",
    "& P\\left\\{r_1=-1.0 \\text { and } r_2=.15\\right\\}=.1, \\\\\n",
    "& P\\left\\{r_1=.5 \\text { and } r_2=.15\\right\\}=.8, \\\\\n",
    "& P\\left\\{r_1=.5 \\text { and } r_2=1.65\\right\\}=.1 .\n",
    "\\end{aligned}\n",
    "$$\n",
    "(a) Compute the means, variances, and covariance of returns for the two securities.\n",
    "\n",
    "(b) Plot the feasible mean-standard deviation $[E(R), \\sigma]$ combinations, assuming that the two securities are the only investment vehicles available.\n",
    "\n",
    "(c) Which portfolios belong to the mean-variance efficient set?\n",
    "\n",
    "(d) Show that security 2 is mean-variance dominated by security 1, yet enters all efficient portfolios but one. How do you explain this?\n",
    "\n",
    "(e) Suppose the possibility of lending, but not borrowing, at $5 \\%$ (without risk) is added to the previous opportunities. Draw the new set of $[E(R), \\sigma]$ combinations. Which portfolios are now efficient?\n"
   ]
  },
  {
   "cell_type": "code",
   "execution_count": 246,
   "metadata": {},
   "outputs": [
    {
     "name": "stdout",
     "output_type": "stream",
     "text": [
      "Mean of r1: 0.35 \n",
      "Mean of r2: 0.30\n",
      "Variance of r1: 0.2025 \n",
      "Variance of r2: 0.2025 \n",
      "Covariance of r1 & r2: 0.0225"
     ]
    }
   ],
   "source": [
    "Prob = [.1 .8 .1]\n",
    "r1 = [-1 .5 .5]\n",
    "r2 = [.15 .15 1.65]\n",
    "\n",
    "mean_r1 = Prob*r1'\n",
    "mean_r2 = Prob*r2'\n",
    "\n",
    "var_r1 = Prob*(r1.-mean_r1)'.^2\n",
    "var_r2 = Prob*(r2.-mean_r2)'.^2\n",
    "covar_r1r2 = Prob*diag((r1 .-mean_r1)'*(r2 .-mean_r2))\n",
    "\n",
    "@printf(\"Mean of r1: %.2f \\nMean of r2: %.2f\", mean_r1[1], mean_r2[1])\n",
    "@printf(\"\\nVariance of r1: %.4f \\nVariance of r2: %.4f \\nCovariance of r1 & r2: %.4f\", var_r1[1], var_r2[1], covar_r1r2[1])"
   ]
  },
  {
   "cell_type": "code",
   "execution_count": 316,
   "metadata": {},
   "outputs": [
    {
     "data": {
      "image/svg+xml": "<?xml version=\"1.0\" encoding=\"utf-8\"?>\n<svg xmlns=\"http://www.w3.org/2000/svg\" xmlns:xlink=\"http://www.w3.org/1999/xlink\" width=\"600\" height=\"400\" viewBox=\"0 0 2400 1600\">\n<defs>\n  <clipPath id=\"clip590\">\n    <rect x=\"0\" y=\"0\" width=\"2400\" height=\"1600\"/>\n  </clipPath>\n</defs>\n<path clip-path=\"url(#clip590)\" d=\"\nM0 1600 L2400 1600 L2400 0 L0 0  Z\n  \" fill=\"#ffffff\" fill-rule=\"evenodd\" fill-opacity=\"1\"/>\n<defs>\n  <clipPath id=\"clip591\">\n    <rect x=\"480\" y=\"0\" width=\"1681\" height=\"1600\"/>\n  </clipPath>\n</defs>\n<path clip-path=\"url(#clip590)\" d=\"\nM186.436 1486.45 L2352.76 1486.45 L2352.76 47.2441 L186.436 47.2441  Z\n  \" fill=\"#ffffff\" fill-rule=\"evenodd\" fill-opacity=\"1\"/>\n<defs>\n  <clipPath id=\"clip592\">\n    <rect x=\"186\" y=\"47\" width=\"2167\" height=\"1440\"/>\n  </clipPath>\n</defs>\n<polyline clip-path=\"url(#clip592)\" style=\"stroke:#000000; stroke-linecap:round; stroke-linejoin:round; stroke-width:2; stroke-opacity:0.1; fill:none\" points=\"\n  458.931,1486.45 458.931,47.2441 \n  \"/>\n<polyline clip-path=\"url(#clip592)\" style=\"stroke:#000000; stroke-linecap:round; stroke-linejoin:round; stroke-width:2; stroke-opacity:0.1; fill:none\" points=\"\n  785.892,1486.45 785.892,47.2441 \n  \"/>\n<polyline clip-path=\"url(#clip592)\" style=\"stroke:#000000; stroke-linecap:round; stroke-linejoin:round; stroke-width:2; stroke-opacity:0.1; fill:none\" points=\"\n  1112.85,1486.45 1112.85,47.2441 \n  \"/>\n<polyline clip-path=\"url(#clip592)\" style=\"stroke:#000000; stroke-linecap:round; stroke-linejoin:round; stroke-width:2; stroke-opacity:0.1; fill:none\" points=\"\n  1439.81,1486.45 1439.81,47.2441 \n  \"/>\n<polyline clip-path=\"url(#clip592)\" style=\"stroke:#000000; stroke-linecap:round; stroke-linejoin:round; stroke-width:2; stroke-opacity:0.1; fill:none\" points=\"\n  1766.77,1486.45 1766.77,47.2441 \n  \"/>\n<polyline clip-path=\"url(#clip592)\" style=\"stroke:#000000; stroke-linecap:round; stroke-linejoin:round; stroke-width:2; stroke-opacity:0.1; fill:none\" points=\"\n  2093.74,1486.45 2093.74,47.2441 \n  \"/>\n<polyline clip-path=\"url(#clip590)\" style=\"stroke:#000000; stroke-linecap:round; stroke-linejoin:round; stroke-width:4; stroke-opacity:1; fill:none\" points=\"\n  186.436,1486.45 2352.76,1486.45 \n  \"/>\n<polyline clip-path=\"url(#clip590)\" style=\"stroke:#000000; stroke-linecap:round; stroke-linejoin:round; stroke-width:4; stroke-opacity:1; fill:none\" points=\"\n  458.931,1486.45 458.931,1467.55 \n  \"/>\n<polyline clip-path=\"url(#clip590)\" style=\"stroke:#000000; stroke-linecap:round; stroke-linejoin:round; stroke-width:4; stroke-opacity:1; fill:none\" points=\"\n  785.892,1486.45 785.892,1467.55 \n  \"/>\n<polyline clip-path=\"url(#clip590)\" style=\"stroke:#000000; stroke-linecap:round; stroke-linejoin:round; stroke-width:4; stroke-opacity:1; fill:none\" points=\"\n  1112.85,1486.45 1112.85,1467.55 \n  \"/>\n<polyline clip-path=\"url(#clip590)\" style=\"stroke:#000000; stroke-linecap:round; stroke-linejoin:round; stroke-width:4; stroke-opacity:1; fill:none\" points=\"\n  1439.81,1486.45 1439.81,1467.55 \n  \"/>\n<polyline clip-path=\"url(#clip590)\" style=\"stroke:#000000; stroke-linecap:round; stroke-linejoin:round; stroke-width:4; stroke-opacity:1; fill:none\" points=\"\n  1766.77,1486.45 1766.77,1467.55 \n  \"/>\n<polyline clip-path=\"url(#clip590)\" style=\"stroke:#000000; stroke-linecap:round; stroke-linejoin:round; stroke-width:4; stroke-opacity:1; fill:none\" points=\"\n  2093.74,1486.45 2093.74,1467.55 \n  \"/>\n<path clip-path=\"url(#clip590)\" d=\"M436.072 1517.37 Q432.461 1517.37 430.632 1520.93 Q428.827 1524.47 428.827 1531.6 Q428.827 1538.71 430.632 1542.27 Q432.461 1545.82 436.072 1545.82 Q439.706 1545.82 441.512 1542.27 Q443.34 1538.71 443.34 1531.6 Q443.34 1524.47 441.512 1520.93 Q439.706 1517.37 436.072 1517.37 M436.072 1513.66 Q441.882 1513.66 444.938 1518.27 Q448.016 1522.85 448.016 1531.6 Q448.016 1540.33 444.938 1544.94 Q441.882 1549.52 436.072 1549.52 Q430.262 1549.52 427.183 1544.94 Q424.127 1540.33 424.127 1531.6 Q424.127 1522.85 427.183 1518.27 Q430.262 1513.66 436.072 1513.66 Z\" fill=\"#000000\" fill-rule=\"evenodd\" fill-opacity=\"1\" /><path clip-path=\"url(#clip590)\" d=\"M456.234 1542.97 L461.118 1542.97 L461.118 1548.85 L456.234 1548.85 L456.234 1542.97 Z\" fill=\"#000000\" fill-rule=\"evenodd\" fill-opacity=\"1\" /><path clip-path=\"url(#clip590)\" d=\"M484.15 1518.36 L472.345 1536.81 L484.15 1536.81 L484.15 1518.36 M482.923 1514.29 L488.803 1514.29 L488.803 1536.81 L493.734 1536.81 L493.734 1540.7 L488.803 1540.7 L488.803 1548.85 L484.15 1548.85 L484.15 1540.7 L468.549 1540.7 L468.549 1536.19 L482.923 1514.29 Z\" fill=\"#000000\" fill-rule=\"evenodd\" fill-opacity=\"1\" /><path clip-path=\"url(#clip590)\" d=\"M763.774 1517.37 Q760.163 1517.37 758.334 1520.93 Q756.528 1524.47 756.528 1531.6 Q756.528 1538.71 758.334 1542.27 Q760.163 1545.82 763.774 1545.82 Q767.408 1545.82 769.213 1542.27 Q771.042 1538.71 771.042 1531.6 Q771.042 1524.47 769.213 1520.93 Q767.408 1517.37 763.774 1517.37 M763.774 1513.66 Q769.584 1513.66 772.639 1518.27 Q775.718 1522.85 775.718 1531.6 Q775.718 1540.33 772.639 1544.94 Q769.584 1549.52 763.774 1549.52 Q757.964 1549.52 754.885 1544.94 Q751.829 1540.33 751.829 1531.6 Q751.829 1522.85 754.885 1518.27 Q757.964 1513.66 763.774 1513.66 Z\" fill=\"#000000\" fill-rule=\"evenodd\" fill-opacity=\"1\" /><path clip-path=\"url(#clip590)\" d=\"M783.936 1542.97 L788.82 1542.97 L788.82 1548.85 L783.936 1548.85 L783.936 1542.97 Z\" fill=\"#000000\" fill-rule=\"evenodd\" fill-opacity=\"1\" /><path clip-path=\"url(#clip590)\" d=\"M799.051 1514.29 L817.408 1514.29 L817.408 1518.22 L803.334 1518.22 L803.334 1526.7 Q804.352 1526.35 805.371 1526.19 Q806.389 1526 807.408 1526 Q813.195 1526 816.574 1529.17 Q819.954 1532.34 819.954 1537.76 Q819.954 1543.34 816.482 1546.44 Q813.01 1549.52 806.69 1549.52 Q804.514 1549.52 802.246 1549.15 Q800 1548.78 797.593 1548.04 L797.593 1543.34 Q799.676 1544.47 801.898 1545.03 Q804.121 1545.58 806.598 1545.58 Q810.602 1545.58 812.94 1543.48 Q815.278 1541.37 815.278 1537.76 Q815.278 1534.15 812.94 1532.04 Q810.602 1529.94 806.598 1529.94 Q804.723 1529.94 802.848 1530.35 Q800.996 1530.77 799.051 1531.65 L799.051 1514.29 Z\" fill=\"#000000\" fill-rule=\"evenodd\" fill-opacity=\"1\" /><path clip-path=\"url(#clip590)\" d=\"M1090.16 1517.37 Q1086.54 1517.37 1084.72 1520.93 Q1082.91 1524.47 1082.91 1531.6 Q1082.91 1538.71 1084.72 1542.27 Q1086.54 1545.82 1090.16 1545.82 Q1093.79 1545.82 1095.6 1542.27 Q1097.42 1538.71 1097.42 1531.6 Q1097.42 1524.47 1095.6 1520.93 Q1093.79 1517.37 1090.16 1517.37 M1090.16 1513.66 Q1095.97 1513.66 1099.02 1518.27 Q1102.1 1522.85 1102.1 1531.6 Q1102.1 1540.33 1099.02 1544.94 Q1095.97 1549.52 1090.16 1549.52 Q1084.35 1549.52 1081.27 1544.94 Q1078.21 1540.33 1078.21 1531.6 Q1078.21 1522.85 1081.27 1518.27 Q1084.35 1513.66 1090.16 1513.66 Z\" fill=\"#000000\" fill-rule=\"evenodd\" fill-opacity=\"1\" /><path clip-path=\"url(#clip590)\" d=\"M1110.32 1542.97 L1115.2 1542.97 L1115.2 1548.85 L1110.32 1548.85 L1110.32 1542.97 Z\" fill=\"#000000\" fill-rule=\"evenodd\" fill-opacity=\"1\" /><path clip-path=\"url(#clip590)\" d=\"M1135.97 1529.7 Q1132.82 1529.7 1130.97 1531.86 Q1129.14 1534.01 1129.14 1537.76 Q1129.14 1541.49 1130.97 1543.66 Q1132.82 1545.82 1135.97 1545.82 Q1139.11 1545.82 1140.94 1543.66 Q1142.79 1541.49 1142.79 1537.76 Q1142.79 1534.01 1140.94 1531.86 Q1139.11 1529.7 1135.97 1529.7 M1145.25 1515.05 L1145.25 1519.31 Q1143.49 1518.48 1141.68 1518.04 Q1139.9 1517.6 1138.14 1517.6 Q1133.51 1517.6 1131.06 1520.72 Q1128.63 1523.85 1128.28 1530.17 Q1129.65 1528.15 1131.71 1527.09 Q1133.77 1526 1136.24 1526 Q1141.45 1526 1144.46 1529.17 Q1147.49 1532.32 1147.49 1537.76 Q1147.49 1543.08 1144.35 1546.3 Q1141.2 1549.52 1135.97 1549.52 Q1129.97 1549.52 1126.8 1544.94 Q1123.63 1540.33 1123.63 1531.6 Q1123.63 1523.41 1127.52 1518.55 Q1131.41 1513.66 1137.96 1513.66 Q1139.72 1513.66 1141.5 1514.01 Q1143.3 1514.36 1145.25 1515.05 Z\" fill=\"#000000\" fill-rule=\"evenodd\" fill-opacity=\"1\" /><path clip-path=\"url(#clip590)\" d=\"M1417.65 1517.37 Q1414.04 1517.37 1412.21 1520.93 Q1410.4 1524.47 1410.4 1531.6 Q1410.4 1538.71 1412.21 1542.27 Q1414.04 1545.82 1417.65 1545.82 Q1421.28 1545.82 1423.09 1542.27 Q1424.92 1538.71 1424.92 1531.6 Q1424.92 1524.47 1423.09 1520.93 Q1421.28 1517.37 1417.65 1517.37 M1417.65 1513.66 Q1423.46 1513.66 1426.52 1518.27 Q1429.59 1522.85 1429.59 1531.6 Q1429.59 1540.33 1426.52 1544.94 Q1423.46 1549.52 1417.65 1549.52 Q1411.84 1549.52 1408.76 1544.94 Q1405.71 1540.33 1405.71 1531.6 Q1405.71 1522.85 1408.76 1518.27 Q1411.84 1513.66 1417.65 1513.66 Z\" fill=\"#000000\" fill-rule=\"evenodd\" fill-opacity=\"1\" /><path clip-path=\"url(#clip590)\" d=\"M1437.81 1542.97 L1442.7 1542.97 L1442.7 1548.85 L1437.81 1548.85 L1437.81 1542.97 Z\" fill=\"#000000\" fill-rule=\"evenodd\" fill-opacity=\"1\" /><path clip-path=\"url(#clip590)\" d=\"M1451.7 1514.29 L1473.92 1514.29 L1473.92 1516.28 L1461.38 1548.85 L1456.49 1548.85 L1468.3 1518.22 L1451.7 1518.22 L1451.7 1514.29 Z\" fill=\"#000000\" fill-rule=\"evenodd\" fill-opacity=\"1\" /><path clip-path=\"url(#clip590)\" d=\"M1744.21 1517.37 Q1740.59 1517.37 1738.77 1520.93 Q1736.96 1524.47 1736.96 1531.6 Q1736.96 1538.71 1738.77 1542.27 Q1740.59 1545.82 1744.21 1545.82 Q1747.84 1545.82 1749.65 1542.27 Q1751.47 1538.71 1751.47 1531.6 Q1751.47 1524.47 1749.65 1520.93 Q1747.84 1517.37 1744.21 1517.37 M1744.21 1513.66 Q1750.02 1513.66 1753.07 1518.27 Q1756.15 1522.85 1756.15 1531.6 Q1756.15 1540.33 1753.07 1544.94 Q1750.02 1549.52 1744.21 1549.52 Q1738.4 1549.52 1735.32 1544.94 Q1732.26 1540.33 1732.26 1531.6 Q1732.26 1522.85 1735.32 1518.27 Q1738.4 1513.66 1744.21 1513.66 Z\" fill=\"#000000\" fill-rule=\"evenodd\" fill-opacity=\"1\" /><path clip-path=\"url(#clip590)\" d=\"M1764.37 1542.97 L1769.25 1542.97 L1769.25 1548.85 L1764.37 1548.85 L1764.37 1542.97 Z\" fill=\"#000000\" fill-rule=\"evenodd\" fill-opacity=\"1\" /><path clip-path=\"url(#clip590)\" d=\"M1789.44 1532.44 Q1786.1 1532.44 1784.18 1534.22 Q1782.28 1536 1782.28 1539.13 Q1782.28 1542.25 1784.18 1544.03 Q1786.1 1545.82 1789.44 1545.82 Q1792.77 1545.82 1794.69 1544.03 Q1796.61 1542.23 1796.61 1539.13 Q1796.61 1536 1794.69 1534.22 Q1792.79 1532.44 1789.44 1532.44 M1784.76 1530.45 Q1781.75 1529.7 1780.06 1527.64 Q1778.4 1525.58 1778.4 1522.62 Q1778.4 1518.48 1781.34 1516.07 Q1784.3 1513.66 1789.44 1513.66 Q1794.6 1513.66 1797.54 1516.07 Q1800.48 1518.48 1800.48 1522.62 Q1800.48 1525.58 1798.79 1527.64 Q1797.12 1529.7 1794.14 1530.45 Q1797.52 1531.23 1799.39 1533.52 Q1801.29 1535.82 1801.29 1539.13 Q1801.29 1544.15 1798.21 1546.83 Q1795.15 1549.52 1789.44 1549.52 Q1783.72 1549.52 1780.64 1546.83 Q1777.59 1544.15 1777.59 1539.13 Q1777.59 1535.82 1779.48 1533.52 Q1781.38 1531.23 1784.76 1530.45 M1783.05 1523.06 Q1783.05 1525.75 1784.71 1527.25 Q1786.4 1528.76 1789.44 1528.76 Q1792.45 1528.76 1794.14 1527.25 Q1795.85 1525.75 1795.85 1523.06 Q1795.85 1520.38 1794.14 1518.87 Q1792.45 1517.37 1789.44 1517.37 Q1786.4 1517.37 1784.71 1518.87 Q1783.05 1520.38 1783.05 1523.06 Z\" fill=\"#000000\" fill-rule=\"evenodd\" fill-opacity=\"1\" /><path clip-path=\"url(#clip590)\" d=\"M2071.21 1517.37 Q2067.6 1517.37 2065.77 1520.93 Q2063.97 1524.47 2063.97 1531.6 Q2063.97 1538.71 2065.77 1542.27 Q2067.6 1545.82 2071.21 1545.82 Q2074.85 1545.82 2076.65 1542.27 Q2078.48 1538.71 2078.48 1531.6 Q2078.48 1524.47 2076.65 1520.93 Q2074.85 1517.37 2071.21 1517.37 M2071.21 1513.66 Q2077.02 1513.66 2080.08 1518.27 Q2083.16 1522.85 2083.16 1531.6 Q2083.16 1540.33 2080.08 1544.94 Q2077.02 1549.52 2071.21 1549.52 Q2065.4 1549.52 2062.32 1544.94 Q2059.27 1540.33 2059.27 1531.6 Q2059.27 1522.85 2062.32 1518.27 Q2065.4 1513.66 2071.21 1513.66 Z\" fill=\"#000000\" fill-rule=\"evenodd\" fill-opacity=\"1\" /><path clip-path=\"url(#clip590)\" d=\"M2091.37 1542.97 L2096.26 1542.97 L2096.26 1548.85 L2091.37 1548.85 L2091.37 1542.97 Z\" fill=\"#000000\" fill-rule=\"evenodd\" fill-opacity=\"1\" /><path clip-path=\"url(#clip590)\" d=\"M2106.58 1548.13 L2106.58 1543.87 Q2108.34 1544.7 2110.15 1545.14 Q2111.95 1545.58 2113.69 1545.58 Q2118.32 1545.58 2120.75 1542.48 Q2123.2 1539.36 2123.55 1533.01 Q2122.21 1535.01 2120.15 1536.07 Q2118.09 1537.13 2115.59 1537.13 Q2110.4 1537.13 2107.37 1534.01 Q2104.36 1530.86 2104.36 1525.42 Q2104.36 1520.1 2107.51 1516.88 Q2110.66 1513.66 2115.89 1513.66 Q2121.88 1513.66 2125.03 1518.27 Q2128.2 1522.85 2128.2 1531.6 Q2128.2 1539.77 2124.31 1544.66 Q2120.45 1549.52 2113.9 1549.52 Q2112.14 1549.52 2110.33 1549.17 Q2108.53 1548.82 2106.58 1548.13 M2115.89 1533.48 Q2119.04 1533.48 2120.87 1531.32 Q2122.72 1529.17 2122.72 1525.42 Q2122.72 1521.7 2120.87 1519.54 Q2119.04 1517.37 2115.89 1517.37 Q2112.74 1517.37 2110.89 1519.54 Q2109.06 1521.7 2109.06 1525.42 Q2109.06 1529.17 2110.89 1531.32 Q2112.74 1533.48 2115.89 1533.48 Z\" fill=\"#000000\" fill-rule=\"evenodd\" fill-opacity=\"1\" /><polyline clip-path=\"url(#clip592)\" style=\"stroke:#000000; stroke-linecap:round; stroke-linejoin:round; stroke-width:2; stroke-opacity:0.1; fill:none\" points=\"\n  186.436,1264.68 2352.76,1264.68 \n  \"/>\n<polyline clip-path=\"url(#clip592)\" style=\"stroke:#000000; stroke-linecap:round; stroke-linejoin:round; stroke-width:2; stroke-opacity:0.1; fill:none\" points=\"\n  186.436,993.136 2352.76,993.136 \n  \"/>\n<polyline clip-path=\"url(#clip592)\" style=\"stroke:#000000; stroke-linecap:round; stroke-linejoin:round; stroke-width:2; stroke-opacity:0.1; fill:none\" points=\"\n  186.436,721.588 2352.76,721.588 \n  \"/>\n<polyline clip-path=\"url(#clip592)\" style=\"stroke:#000000; stroke-linecap:round; stroke-linejoin:round; stroke-width:2; stroke-opacity:0.1; fill:none\" points=\"\n  186.436,450.04 2352.76,450.04 \n  \"/>\n<polyline clip-path=\"url(#clip592)\" style=\"stroke:#000000; stroke-linecap:round; stroke-linejoin:round; stroke-width:2; stroke-opacity:0.1; fill:none\" points=\"\n  186.436,178.492 2352.76,178.492 \n  \"/>\n<polyline clip-path=\"url(#clip590)\" style=\"stroke:#000000; stroke-linecap:round; stroke-linejoin:round; stroke-width:4; stroke-opacity:1; fill:none\" points=\"\n  186.436,1486.45 186.436,47.2441 \n  \"/>\n<polyline clip-path=\"url(#clip590)\" style=\"stroke:#000000; stroke-linecap:round; stroke-linejoin:round; stroke-width:4; stroke-opacity:1; fill:none\" points=\"\n  186.436,1264.68 205.334,1264.68 \n  \"/>\n<polyline clip-path=\"url(#clip590)\" style=\"stroke:#000000; stroke-linecap:round; stroke-linejoin:round; stroke-width:4; stroke-opacity:1; fill:none\" points=\"\n  186.436,993.136 205.334,993.136 \n  \"/>\n<polyline clip-path=\"url(#clip590)\" style=\"stroke:#000000; stroke-linecap:round; stroke-linejoin:round; stroke-width:4; stroke-opacity:1; fill:none\" points=\"\n  186.436,721.588 205.334,721.588 \n  \"/>\n<polyline clip-path=\"url(#clip590)\" style=\"stroke:#000000; stroke-linecap:round; stroke-linejoin:round; stroke-width:4; stroke-opacity:1; fill:none\" points=\"\n  186.436,450.04 205.334,450.04 \n  \"/>\n<polyline clip-path=\"url(#clip590)\" style=\"stroke:#000000; stroke-linecap:round; stroke-linejoin:round; stroke-width:4; stroke-opacity:1; fill:none\" points=\"\n  186.436,178.492 205.334,178.492 \n  \"/>\n<path clip-path=\"url(#clip590)\" d=\"M64.0013 1250.48 Q60.3902 1250.48 58.5615 1254.05 Q56.756 1257.59 56.756 1264.72 Q56.756 1271.82 58.5615 1275.39 Q60.3902 1278.93 64.0013 1278.93 Q67.6356 1278.93 69.4411 1275.39 Q71.2698 1271.82 71.2698 1264.72 Q71.2698 1257.59 69.4411 1254.05 Q67.6356 1250.48 64.0013 1250.48 M64.0013 1246.78 Q69.8115 1246.78 72.867 1251.39 Q75.9457 1255.97 75.9457 1264.72 Q75.9457 1273.45 72.867 1278.05 Q69.8115 1282.64 64.0013 1282.64 Q58.1912 1282.64 55.1125 1278.05 Q52.0569 1273.45 52.0569 1264.72 Q52.0569 1255.97 55.1125 1251.39 Q58.1912 1246.78 64.0013 1246.78 Z\" fill=\"#000000\" fill-rule=\"evenodd\" fill-opacity=\"1\" /><path clip-path=\"url(#clip590)\" d=\"M84.1632 1276.08 L89.0475 1276.08 L89.0475 1281.96 L84.1632 1281.96 L84.1632 1276.08 Z\" fill=\"#000000\" fill-rule=\"evenodd\" fill-opacity=\"1\" /><path clip-path=\"url(#clip590)\" d=\"M103.26 1278.03 L119.58 1278.03 L119.58 1281.96 L97.6354 1281.96 L97.6354 1278.03 Q100.297 1275.27 104.881 1270.64 Q109.487 1265.99 110.668 1264.65 Q112.913 1262.13 113.793 1260.39 Q114.695 1258.63 114.695 1256.94 Q114.695 1254.19 112.751 1252.45 Q110.83 1250.71 107.728 1250.71 Q105.529 1250.71 103.075 1251.48 Q100.645 1252.24 97.8669 1253.79 L97.8669 1249.07 Q100.691 1247.94 103.145 1247.36 Q105.598 1246.78 107.635 1246.78 Q113.006 1246.78 116.2 1249.46 Q119.395 1252.15 119.395 1256.64 Q119.395 1258.77 118.584 1260.69 Q117.797 1262.59 115.691 1265.18 Q115.112 1265.85 112.01 1269.07 Q108.908 1272.26 103.26 1278.03 Z\" fill=\"#000000\" fill-rule=\"evenodd\" fill-opacity=\"1\" /><path clip-path=\"url(#clip590)\" d=\"M128.214 1247.4 L150.436 1247.4 L150.436 1249.39 L137.89 1281.96 L133.006 1281.96 L144.811 1251.34 L128.214 1251.34 L128.214 1247.4 Z\" fill=\"#000000\" fill-rule=\"evenodd\" fill-opacity=\"1\" /><path clip-path=\"url(#clip590)\" d=\"M63.0985 978.935 Q59.4875 978.935 57.6588 982.499 Q55.8532 986.041 55.8532 993.171 Q55.8532 1000.28 57.6588 1003.84 Q59.4875 1007.38 63.0985 1007.38 Q66.7328 1007.38 68.5383 1003.84 Q70.367 1000.28 70.367 993.171 Q70.367 986.041 68.5383 982.499 Q66.7328 978.935 63.0985 978.935 M63.0985 975.231 Q68.9087 975.231 71.9642 979.837 Q75.0429 984.421 75.0429 993.171 Q75.0429 1001.9 71.9642 1006.5 Q68.9087 1011.09 63.0985 1011.09 Q57.2884 1011.09 54.2097 1006.5 Q51.1542 1001.9 51.1542 993.171 Q51.1542 984.421 54.2097 979.837 Q57.2884 975.231 63.0985 975.231 Z\" fill=\"#000000\" fill-rule=\"evenodd\" fill-opacity=\"1\" /><path clip-path=\"url(#clip590)\" d=\"M83.2605 1004.54 L88.1447 1004.54 L88.1447 1010.42 L83.2605 1010.42 L83.2605 1004.54 Z\" fill=\"#000000\" fill-rule=\"evenodd\" fill-opacity=\"1\" /><path clip-path=\"url(#clip590)\" d=\"M112.496 991.782 Q115.853 992.499 117.728 994.768 Q119.626 997.036 119.626 1000.37 Q119.626 1005.49 116.108 1008.29 Q112.589 1011.09 106.108 1011.09 Q103.932 1011.09 101.617 1010.65 Q99.3252 1010.23 96.8715 1009.37 L96.8715 1004.86 Q98.8159 1005.99 101.131 1006.57 Q103.446 1007.15 105.969 1007.15 Q110.367 1007.15 112.658 1005.42 Q114.973 1003.68 114.973 1000.37 Q114.973 997.314 112.82 995.601 Q110.691 993.865 106.871 993.865 L102.844 993.865 L102.844 990.022 L107.057 990.022 Q110.506 990.022 112.334 988.657 Q114.163 987.268 114.163 984.675 Q114.163 982.013 112.265 980.601 Q110.39 979.166 106.871 979.166 Q104.95 979.166 102.751 979.583 Q100.552 979.999 97.9132 980.879 L97.9132 976.712 Q100.575 975.972 102.89 975.601 Q105.228 975.231 107.288 975.231 Q112.612 975.231 115.714 977.661 Q118.816 980.069 118.816 984.189 Q118.816 987.06 117.172 989.05 Q115.529 991.018 112.496 991.782 Z\" fill=\"#000000\" fill-rule=\"evenodd\" fill-opacity=\"1\" /><path clip-path=\"url(#clip590)\" d=\"M138.492 978.935 Q134.881 978.935 133.052 982.499 Q131.246 986.041 131.246 993.171 Q131.246 1000.28 133.052 1003.84 Q134.881 1007.38 138.492 1007.38 Q142.126 1007.38 143.931 1003.84 Q145.76 1000.28 145.76 993.171 Q145.76 986.041 143.931 982.499 Q142.126 978.935 138.492 978.935 M138.492 975.231 Q144.302 975.231 147.357 979.837 Q150.436 984.421 150.436 993.171 Q150.436 1001.9 147.357 1006.5 Q144.302 1011.09 138.492 1011.09 Q132.682 1011.09 129.603 1006.5 Q126.547 1001.9 126.547 993.171 Q126.547 984.421 129.603 979.837 Q132.682 975.231 138.492 975.231 Z\" fill=\"#000000\" fill-rule=\"evenodd\" fill-opacity=\"1\" /><path clip-path=\"url(#clip590)\" d=\"M63.7467 707.387 Q60.1356 707.387 58.3069 710.951 Q56.5014 714.493 56.5014 721.623 Q56.5014 728.729 58.3069 732.294 Q60.1356 735.836 63.7467 735.836 Q67.3809 735.836 69.1865 732.294 Q71.0152 728.729 71.0152 721.623 Q71.0152 714.493 69.1865 710.951 Q67.3809 707.387 63.7467 707.387 M63.7467 703.683 Q69.5568 703.683 72.6124 708.289 Q75.6911 712.873 75.6911 721.623 Q75.6911 730.35 72.6124 734.956 Q69.5568 739.539 63.7467 739.539 Q57.9365 739.539 54.8578 734.956 Q51.8023 730.35 51.8023 721.623 Q51.8023 712.873 54.8578 708.289 Q57.9365 703.683 63.7467 703.683 Z\" fill=\"#000000\" fill-rule=\"evenodd\" fill-opacity=\"1\" /><path clip-path=\"url(#clip590)\" d=\"M83.9086 732.988 L88.7928 732.988 L88.7928 738.868 L83.9086 738.868 L83.9086 732.988 Z\" fill=\"#000000\" fill-rule=\"evenodd\" fill-opacity=\"1\" /><path clip-path=\"url(#clip590)\" d=\"M113.145 720.234 Q116.501 720.951 118.376 723.22 Q120.274 725.488 120.274 728.822 Q120.274 733.937 116.756 736.738 Q113.237 739.539 106.756 739.539 Q104.58 739.539 102.265 739.099 Q99.9733 738.683 97.5197 737.826 L97.5197 733.312 Q99.4641 734.447 101.779 735.025 Q104.094 735.604 106.617 735.604 Q111.015 735.604 113.307 733.868 Q115.621 732.132 115.621 728.822 Q115.621 725.766 113.469 724.053 Q111.339 722.317 107.52 722.317 L103.492 722.317 L103.492 718.475 L107.705 718.475 Q111.154 718.475 112.983 717.109 Q114.811 715.72 114.811 713.127 Q114.811 710.465 112.913 709.053 Q111.038 707.618 107.52 707.618 Q105.598 707.618 103.399 708.035 Q101.2 708.452 98.5613 709.331 L98.5613 705.164 Q101.223 704.424 103.538 704.053 Q105.876 703.683 107.936 703.683 Q113.26 703.683 116.362 706.114 Q119.464 708.521 119.464 712.641 Q119.464 715.512 117.82 717.502 Q116.177 719.47 113.145 720.234 Z\" fill=\"#000000\" fill-rule=\"evenodd\" fill-opacity=\"1\" /><path clip-path=\"url(#clip590)\" d=\"M143.306 720.234 Q146.663 720.951 148.538 723.22 Q150.436 725.488 150.436 728.822 Q150.436 733.937 146.918 736.738 Q143.399 739.539 136.918 739.539 Q134.742 739.539 132.427 739.099 Q130.135 738.683 127.682 737.826 L127.682 733.312 Q129.626 734.447 131.941 735.025 Q134.256 735.604 136.779 735.604 Q141.177 735.604 143.468 733.868 Q145.783 732.132 145.783 728.822 Q145.783 725.766 143.631 724.053 Q141.501 722.317 137.681 722.317 L133.654 722.317 L133.654 718.475 L137.867 718.475 Q141.316 718.475 143.144 717.109 Q144.973 715.72 144.973 713.127 Q144.973 710.465 143.075 709.053 Q141.2 707.618 137.681 707.618 Q135.76 707.618 133.561 708.035 Q131.362 708.452 128.723 709.331 L128.723 705.164 Q131.385 704.424 133.7 704.053 Q136.038 703.683 138.098 703.683 Q143.422 703.683 146.524 706.114 Q149.626 708.521 149.626 712.641 Q149.626 715.512 147.982 717.502 Q146.339 719.47 143.306 720.234 Z\" fill=\"#000000\" fill-rule=\"evenodd\" fill-opacity=\"1\" /><path clip-path=\"url(#clip590)\" d=\"M62.9365 435.839 Q59.3254 435.839 57.4967 439.404 Q55.6912 442.945 55.6912 450.075 Q55.6912 457.181 57.4967 460.746 Q59.3254 464.288 62.9365 464.288 Q66.5707 464.288 68.3763 460.746 Q70.205 457.181 70.205 450.075 Q70.205 442.945 68.3763 439.404 Q66.5707 435.839 62.9365 435.839 M62.9365 432.135 Q68.7467 432.135 71.8022 436.742 Q74.8809 441.325 74.8809 450.075 Q74.8809 458.802 71.8022 463.408 Q68.7467 467.991 62.9365 467.991 Q57.1264 467.991 54.0477 463.408 Q50.9921 458.802 50.9921 450.075 Q50.9921 441.325 54.0477 436.742 Q57.1264 432.135 62.9365 432.135 Z\" fill=\"#000000\" fill-rule=\"evenodd\" fill-opacity=\"1\" /><path clip-path=\"url(#clip590)\" d=\"M83.0984 461.441 L87.9827 461.441 L87.9827 467.32 L83.0984 467.32 L83.0984 461.441 Z\" fill=\"#000000\" fill-rule=\"evenodd\" fill-opacity=\"1\" /><path clip-path=\"url(#clip590)\" d=\"M112.334 448.686 Q115.691 449.404 117.566 451.672 Q119.464 453.941 119.464 457.274 Q119.464 462.39 115.945 465.191 Q112.427 467.991 105.946 467.991 Q103.77 467.991 101.455 467.552 Q99.1632 467.135 96.7095 466.278 L96.7095 461.765 Q98.6539 462.899 100.969 463.478 Q103.284 464.056 105.807 464.056 Q110.205 464.056 112.496 462.32 Q114.811 460.584 114.811 457.274 Q114.811 454.218 112.658 452.505 Q110.529 450.769 106.709 450.769 L102.682 450.769 L102.682 446.927 L106.895 446.927 Q110.344 446.927 112.172 445.561 Q114.001 444.172 114.001 441.58 Q114.001 438.917 112.103 437.505 Q110.228 436.07 106.709 436.07 Q104.788 436.07 102.589 436.487 Q100.39 436.904 97.7511 437.783 L97.7511 433.617 Q100.413 432.876 102.728 432.505 Q105.066 432.135 107.126 432.135 Q112.45 432.135 115.552 434.566 Q118.654 436.973 118.654 441.093 Q118.654 443.964 117.01 445.954 Q115.367 447.922 112.334 448.686 Z\" fill=\"#000000\" fill-rule=\"evenodd\" fill-opacity=\"1\" /><path clip-path=\"url(#clip590)\" d=\"M138.908 448.177 Q135.76 448.177 133.908 450.329 Q132.08 452.482 132.08 456.232 Q132.08 459.959 133.908 462.135 Q135.76 464.288 138.908 464.288 Q142.056 464.288 143.885 462.135 Q145.737 459.959 145.737 456.232 Q145.737 452.482 143.885 450.329 Q142.056 448.177 138.908 448.177 M148.191 433.524 L148.191 437.783 Q146.431 436.95 144.626 436.51 Q142.843 436.07 141.084 436.07 Q136.455 436.07 134.001 439.195 Q131.57 442.32 131.223 448.64 Q132.589 446.626 134.649 445.561 Q136.709 444.473 139.186 444.473 Q144.394 444.473 147.404 447.644 Q150.436 450.792 150.436 456.232 Q150.436 461.556 147.288 464.774 Q144.14 467.991 138.908 467.991 Q132.913 467.991 129.742 463.408 Q126.57 458.802 126.57 450.075 Q126.57 441.88 130.459 437.019 Q134.348 432.135 140.899 432.135 Q142.658 432.135 144.441 432.482 Q146.246 432.83 148.191 433.524 Z\" fill=\"#000000\" fill-rule=\"evenodd\" fill-opacity=\"1\" /><path clip-path=\"url(#clip590)\" d=\"M63.2837 164.291 Q59.6726 164.291 57.8439 167.856 Q56.0384 171.397 56.0384 178.527 Q56.0384 185.633 57.8439 189.198 Q59.6726 192.74 63.2837 192.74 Q66.918 192.74 68.7235 189.198 Q70.5522 185.633 70.5522 178.527 Q70.5522 171.397 68.7235 167.856 Q66.918 164.291 63.2837 164.291 M63.2837 160.587 Q69.0939 160.587 72.1494 165.194 Q75.2281 169.777 75.2281 178.527 Q75.2281 187.254 72.1494 191.86 Q69.0939 196.444 63.2837 196.444 Q57.4736 196.444 54.3949 191.86 Q51.3393 187.254 51.3393 178.527 Q51.3393 169.777 54.3949 165.194 Q57.4736 160.587 63.2837 160.587 Z\" fill=\"#000000\" fill-rule=\"evenodd\" fill-opacity=\"1\" /><path clip-path=\"url(#clip590)\" d=\"M83.4457 189.893 L88.3299 189.893 L88.3299 195.772 L83.4457 195.772 L83.4457 189.893 Z\" fill=\"#000000\" fill-rule=\"evenodd\" fill-opacity=\"1\" /><path clip-path=\"url(#clip590)\" d=\"M112.682 177.138 Q116.038 177.856 117.913 180.124 Q119.811 182.393 119.811 185.726 Q119.811 190.842 116.293 193.643 Q112.774 196.444 106.293 196.444 Q104.117 196.444 101.802 196.004 Q99.5104 195.587 97.0567 194.731 L97.0567 190.217 Q99.0011 191.351 101.316 191.93 Q103.631 192.508 106.154 192.508 Q110.552 192.508 112.844 190.772 Q115.158 189.036 115.158 185.726 Q115.158 182.67 113.006 180.958 Q110.876 179.221 107.057 179.221 L103.029 179.221 L103.029 175.379 L107.242 175.379 Q110.691 175.379 112.52 174.013 Q114.348 172.624 114.348 170.032 Q114.348 167.37 112.45 165.958 Q110.575 164.522 107.057 164.522 Q105.135 164.522 102.936 164.939 Q100.737 165.356 98.0984 166.235 L98.0984 162.069 Q100.76 161.328 103.075 160.958 Q105.413 160.587 107.473 160.587 Q112.797 160.587 115.899 163.018 Q119.001 165.425 119.001 169.546 Q119.001 172.416 117.358 174.407 Q115.714 176.374 112.682 177.138 Z\" fill=\"#000000\" fill-rule=\"evenodd\" fill-opacity=\"1\" /><path clip-path=\"url(#clip590)\" d=\"M128.816 195.055 L128.816 190.795 Q130.575 191.629 132.381 192.069 Q134.186 192.508 135.922 192.508 Q140.552 192.508 142.982 189.407 Q145.436 186.282 145.783 179.939 Q144.441 181.93 142.381 182.995 Q140.32 184.059 137.82 184.059 Q132.635 184.059 129.603 180.934 Q126.594 177.786 126.594 172.346 Q126.594 167.022 129.742 163.805 Q132.89 160.587 138.121 160.587 Q144.117 160.587 147.265 165.194 Q150.436 169.777 150.436 178.527 Q150.436 186.698 146.547 191.582 Q142.681 196.444 136.131 196.444 Q134.371 196.444 132.566 196.096 Q130.76 195.749 128.816 195.055 M138.121 180.402 Q141.269 180.402 143.098 178.249 Q144.95 176.096 144.95 172.346 Q144.95 168.62 143.098 166.467 Q141.269 164.291 138.121 164.291 Q134.973 164.291 133.121 166.467 Q131.293 168.62 131.293 172.346 Q131.293 176.096 133.121 178.249 Q134.973 180.402 138.121 180.402 Z\" fill=\"#000000\" fill-rule=\"evenodd\" fill-opacity=\"1\" /><polyline clip-path=\"url(#clip592)\" style=\"stroke:#009af9; stroke-linecap:round; stroke-linejoin:round; stroke-width:4; stroke-opacity:1; fill:none\" points=\"\n  2291.44,1445.72 2273.07,1441.19 2254.71,1436.66 2236.37,1432.14 2218.04,1427.61 2199.72,1423.09 2181.43,1418.56 2163.15,1414.04 2144.89,1409.51 2126.64,1404.98 \n  2108.41,1400.46 2090.2,1395.93 2072.01,1391.41 2053.84,1386.88 2035.68,1382.35 2017.55,1377.83 1999.43,1373.3 1981.34,1368.78 1963.26,1364.25 1945.21,1359.73 \n  1927.18,1355.2 1909.17,1350.67 1891.18,1346.15 1873.21,1341.62 1855.27,1337.1 1837.35,1332.57 1819.45,1328.04 1801.58,1323.52 1783.73,1318.99 1765.91,1314.47 \n  1748.11,1309.94 1730.34,1305.42 1712.6,1300.89 1694.89,1296.36 1677.2,1291.84 1659.54,1287.31 1641.91,1282.79 1624.31,1278.26 1606.74,1273.74 1589.21,1269.21 \n  1571.7,1264.68 1554.23,1260.16 1536.79,1255.63 1519.39,1251.11 1502.02,1246.58 1484.68,1242.05 1467.38,1237.53 1450.12,1233 1432.9,1228.48 1415.72,1223.95 \n  1398.57,1219.43 1381.47,1214.9 1364.41,1210.37 1347.39,1205.85 1330.41,1201.32 1313.48,1196.8 1296.6,1192.27 1279.76,1187.75 1262.97,1183.22 1246.23,1178.69 \n  1229.54,1174.17 1212.9,1169.64 1196.32,1165.12 1179.78,1160.59 1163.31,1156.06 1146.89,1151.54 1130.53,1147.01 1114.23,1142.49 1097.99,1137.96 1081.81,1133.44 \n  1065.69,1128.91 1049.65,1124.38 1033.67,1119.86 1017.76,1115.33 1001.92,1110.81 986.151,1106.28 970.459,1101.76 954.845,1097.23 939.309,1092.7 923.855,1088.18 \n  908.483,1083.65 893.197,1079.13 877.998,1074.6 862.889,1070.07 847.872,1065.55 832.951,1061.02 818.126,1056.5 803.401,1051.97 788.779,1047.45 774.263,1042.92 \n  759.854,1038.39 745.557,1033.87 731.374,1029.34 717.308,1024.82 703.363,1020.29 689.541,1015.76 675.847,1011.24 662.283,1006.71 648.853,1002.19 635.562,997.662 \n  622.411,993.136 609.406,988.61 596.55,984.084 583.847,979.558 571.302,975.033 558.918,970.507 546.701,965.981 534.653,961.455 522.78,956.93 511.087,952.404 \n  499.578,947.878 488.257,943.352 477.13,938.826 466.202,934.301 455.477,929.775 444.96,925.249 434.657,920.723 424.573,916.197 414.714,911.672 405.083,907.146 \n  395.687,902.62 386.532,898.094 377.622,893.568 368.962,889.043 360.559,884.517 352.418,879.991 344.543,875.465 336.941,870.939 329.616,866.414 322.575,861.888 \n  315.82,857.362 309.359,852.836 303.196,848.31 297.335,843.785 291.782,839.259 286.541,834.733 281.615,830.207 277.01,825.681 272.729,821.156 268.777,816.63 \n  265.155,812.104 261.869,807.578 258.92,803.052 256.311,798.527 254.046,794.001 252.125,789.475 250.551,784.949 249.325,780.423 248.449,775.898 247.922,771.372 \n  247.747,766.846 247.922,762.32 248.449,757.794 249.325,753.269 250.551,748.743 252.125,744.217 254.046,739.691 256.311,735.165 258.92,730.64 261.869,726.114 \n  265.155,721.588 268.777,717.062 272.729,712.536 277.01,708.011 281.615,703.485 286.541,698.959 291.782,694.433 297.335,689.907 303.196,685.382 309.359,680.856 \n  315.82,676.33 322.575,671.804 329.616,667.278 336.941,662.753 344.543,658.227 352.418,653.701 360.559,649.175 368.962,644.649 377.622,640.124 386.532,635.598 \n  395.687,631.072 405.083,626.546 414.714,622.02 424.573,617.495 434.657,612.969 444.96,608.443 455.477,603.917 466.202,599.391 477.13,594.866 488.257,590.34 \n  499.578,585.814 511.087,581.288 522.78,576.762 534.653,572.237 546.701,567.711 558.918,563.185 571.302,558.659 583.847,554.133 596.55,549.608 609.406,545.082 \n  622.411,540.556 635.562,536.03 648.853,531.504 662.283,526.979 675.847,522.453 689.541,517.927 703.363,513.401 717.308,508.875 731.374,504.35 745.557,499.824 \n  759.854,495.298 774.263,490.772 788.779,486.247 803.401,481.721 818.126,477.195 832.951,472.669 847.872,468.143 862.889,463.618 877.998,459.092 893.197,454.566 \n  908.483,450.04 923.855,445.514 939.309,440.989 954.845,436.463 970.459,431.937 986.151,427.411 1001.92,422.885 1017.76,418.36 1033.67,413.834 1049.65,409.308 \n  1065.69,404.782 1081.81,400.256 1097.99,395.731 1114.23,391.205 1130.53,386.679 1146.89,382.153 1163.31,377.627 1179.78,373.102 1196.32,368.576 1212.9,364.05 \n  1229.54,359.524 1246.23,354.998 1262.97,350.473 1279.76,345.947 1296.6,341.421 1313.48,336.895 1330.41,332.369 1347.39,327.844 1364.41,323.318 1381.47,318.792 \n  1398.57,314.266 1415.72,309.74 1432.9,305.215 1450.12,300.689 1467.38,296.163 1484.68,291.637 1502.02,287.111 1519.39,282.586 1536.79,278.06 1554.23,273.534 \n  1571.7,269.008 1589.21,264.482 1606.74,259.957 1624.31,255.431 1641.91,250.905 1659.54,246.379 1677.2,241.853 1694.89,237.328 1712.6,232.802 1730.34,228.276 \n  1748.11,223.75 1765.91,219.224 1783.73,214.699 1801.58,210.173 1819.45,205.647 1837.35,201.121 1855.27,196.595 1873.21,192.07 1891.18,187.544 1909.17,183.018 \n  1927.18,178.492 1945.21,173.966 1963.26,169.441 1981.34,164.915 1999.43,160.389 2017.55,155.863 2035.68,151.337 2053.84,146.812 2072.01,142.286 2090.2,137.76 \n  2108.41,133.234 2126.64,128.708 2144.89,124.183 2163.15,119.657 2181.43,115.131 2199.72,110.605 2218.04,106.079 2236.37,101.554 2254.71,97.0279 2273.07,92.5021 \n  2291.44,87.9763 \n  \"/>\n<path clip-path=\"url(#clip590)\" d=\"\nM1987.41 198.898 L2280.55 198.898 L2280.55 95.2176 L1987.41 95.2176  Z\n  \" fill=\"#ffffff\" fill-rule=\"evenodd\" fill-opacity=\"1\"/>\n<polyline clip-path=\"url(#clip590)\" style=\"stroke:#000000; stroke-linecap:round; stroke-linejoin:round; stroke-width:4; stroke-opacity:1; fill:none\" points=\"\n  1987.41,198.898 2280.55,198.898 2280.55,95.2176 1987.41,95.2176 1987.41,198.898 \n  \"/>\n<polyline clip-path=\"url(#clip590)\" style=\"stroke:#009af9; stroke-linecap:round; stroke-linejoin:round; stroke-width:4; stroke-opacity:1; fill:none\" points=\"\n  2011.48,147.058 2155.9,147.058 \n  \"/>\n<path clip-path=\"url(#clip590)\" d=\"M2193.82 166.745 Q2192.01 171.375 2190.3 172.787 Q2188.59 174.199 2185.72 174.199 L2182.31 174.199 L2182.31 170.634 L2184.81 170.634 Q2186.57 170.634 2187.54 169.8 Q2188.52 168.967 2189.7 165.865 L2190.46 163.921 L2179.97 138.412 L2184.49 138.412 L2192.59 158.689 L2200.69 138.412 L2205.21 138.412 L2193.82 166.745 Z\" fill=\"#000000\" fill-rule=\"evenodd\" fill-opacity=\"1\" /><path clip-path=\"url(#clip590)\" d=\"M2212.5 160.402 L2220.14 160.402 L2220.14 134.037 L2211.83 135.703 L2211.83 131.444 L2220.09 129.778 L2224.77 129.778 L2224.77 160.402 L2232.4 160.402 L2232.4 164.338 L2212.5 164.338 L2212.5 160.402 Z\" fill=\"#000000\" fill-rule=\"evenodd\" fill-opacity=\"1\" /></svg>\n"
     },
     "execution_count": 316,
     "metadata": {},
     "output_type": "execute_result"
    }
   ],
   "source": [
    "h=zeros(301)\n",
    "h[1] = -1\n",
    "for i in 2:length(h)\n",
    "    h[i] = h[i-1]+3/(length(h)-1)\n",
    "end\n",
    "\n",
    "mean_h = h.*mean_r1+(1 .-h).*mean_r2\n",
    "var_h = h'.^2 .*var_r1 + (1 .-h)'.^2 .*var_r2 .+ 2*(h.*(1 .-h)*covar_r1r2[1])'\n",
    "sd_h = sqrt.(var_h)\n",
    "\n",
    "plot(sd_h', mean_h)"
   ]
  },
  {
   "cell_type": "code",
   "execution_count": 369,
   "metadata": {},
   "outputs": [
    {
     "data": {
      "image/svg+xml": "<?xml version=\"1.0\" encoding=\"utf-8\"?>\n<svg xmlns=\"http://www.w3.org/2000/svg\" xmlns:xlink=\"http://www.w3.org/1999/xlink\" width=\"600\" height=\"400\" viewBox=\"0 0 2400 1600\">\n<defs>\n  <clipPath id=\"clip870\">\n    <rect x=\"0\" y=\"0\" width=\"2400\" height=\"1600\"/>\n  </clipPath>\n</defs>\n<path clip-path=\"url(#clip870)\" d=\"\nM0 1600 L2400 1600 L2400 0 L0 0  Z\n  \" fill=\"#ffffff\" fill-rule=\"evenodd\" fill-opacity=\"1\"/>\n<defs>\n  <clipPath id=\"clip871\">\n    <rect x=\"480\" y=\"0\" width=\"1681\" height=\"1600\"/>\n  </clipPath>\n</defs>\n<path clip-path=\"url(#clip870)\" d=\"\nM186.76 1486.45 L2352.76 1486.45 L2352.76 47.2441 L186.76 47.2441  Z\n  \" fill=\"#ffffff\" fill-rule=\"evenodd\" fill-opacity=\"1\"/>\n<defs>\n  <clipPath id=\"clip872\">\n    <rect x=\"186\" y=\"47\" width=\"2167\" height=\"1440\"/>\n  </clipPath>\n</defs>\n<polyline clip-path=\"url(#clip872)\" style=\"stroke:#000000; stroke-linecap:round; stroke-linejoin:round; stroke-width:2; stroke-opacity:0.1; fill:none\" points=\"\n  459.214,1486.45 459.214,47.2441 \n  \"/>\n<polyline clip-path=\"url(#clip872)\" style=\"stroke:#000000; stroke-linecap:round; stroke-linejoin:round; stroke-width:2; stroke-opacity:0.1; fill:none\" points=\"\n  786.126,1486.45 786.126,47.2441 \n  \"/>\n<polyline clip-path=\"url(#clip872)\" style=\"stroke:#000000; stroke-linecap:round; stroke-linejoin:round; stroke-width:2; stroke-opacity:0.1; fill:none\" points=\"\n  1113.04,1486.45 1113.04,47.2441 \n  \"/>\n<polyline clip-path=\"url(#clip872)\" style=\"stroke:#000000; stroke-linecap:round; stroke-linejoin:round; stroke-width:2; stroke-opacity:0.1; fill:none\" points=\"\n  1439.95,1486.45 1439.95,47.2441 \n  \"/>\n<polyline clip-path=\"url(#clip872)\" style=\"stroke:#000000; stroke-linecap:round; stroke-linejoin:round; stroke-width:2; stroke-opacity:0.1; fill:none\" points=\"\n  1766.86,1486.45 1766.86,47.2441 \n  \"/>\n<polyline clip-path=\"url(#clip872)\" style=\"stroke:#000000; stroke-linecap:round; stroke-linejoin:round; stroke-width:2; stroke-opacity:0.1; fill:none\" points=\"\n  2093.77,1486.45 2093.77,47.2441 \n  \"/>\n<polyline clip-path=\"url(#clip870)\" style=\"stroke:#000000; stroke-linecap:round; stroke-linejoin:round; stroke-width:4; stroke-opacity:1; fill:none\" points=\"\n  186.76,1486.45 2352.76,1486.45 \n  \"/>\n<polyline clip-path=\"url(#clip870)\" style=\"stroke:#000000; stroke-linecap:round; stroke-linejoin:round; stroke-width:4; stroke-opacity:1; fill:none\" points=\"\n  459.214,1486.45 459.214,1467.55 \n  \"/>\n<polyline clip-path=\"url(#clip870)\" style=\"stroke:#000000; stroke-linecap:round; stroke-linejoin:round; stroke-width:4; stroke-opacity:1; fill:none\" points=\"\n  786.126,1486.45 786.126,1467.55 \n  \"/>\n<polyline clip-path=\"url(#clip870)\" style=\"stroke:#000000; stroke-linecap:round; stroke-linejoin:round; stroke-width:4; stroke-opacity:1; fill:none\" points=\"\n  1113.04,1486.45 1113.04,1467.55 \n  \"/>\n<polyline clip-path=\"url(#clip870)\" style=\"stroke:#000000; stroke-linecap:round; stroke-linejoin:round; stroke-width:4; stroke-opacity:1; fill:none\" points=\"\n  1439.95,1486.45 1439.95,1467.55 \n  \"/>\n<polyline clip-path=\"url(#clip870)\" style=\"stroke:#000000; stroke-linecap:round; stroke-linejoin:round; stroke-width:4; stroke-opacity:1; fill:none\" points=\"\n  1766.86,1486.45 1766.86,1467.55 \n  \"/>\n<polyline clip-path=\"url(#clip870)\" style=\"stroke:#000000; stroke-linecap:round; stroke-linejoin:round; stroke-width:4; stroke-opacity:1; fill:none\" points=\"\n  2093.77,1486.45 2093.77,1467.55 \n  \"/>\n<path clip-path=\"url(#clip870)\" d=\"M436.355 1517.37 Q432.744 1517.37 430.915 1520.93 Q429.11 1524.47 429.11 1531.6 Q429.11 1538.71 430.915 1542.27 Q432.744 1545.82 436.355 1545.82 Q439.989 1545.82 441.795 1542.27 Q443.624 1538.71 443.624 1531.6 Q443.624 1524.47 441.795 1520.93 Q439.989 1517.37 436.355 1517.37 M436.355 1513.66 Q442.165 1513.66 445.221 1518.27 Q448.3 1522.85 448.3 1531.6 Q448.3 1540.33 445.221 1544.94 Q442.165 1549.52 436.355 1549.52 Q430.545 1549.52 427.466 1544.94 Q424.411 1540.33 424.411 1531.6 Q424.411 1522.85 427.466 1518.27 Q430.545 1513.66 436.355 1513.66 Z\" fill=\"#000000\" fill-rule=\"evenodd\" fill-opacity=\"1\" /><path clip-path=\"url(#clip870)\" d=\"M456.517 1542.97 L461.401 1542.97 L461.401 1548.85 L456.517 1548.85 L456.517 1542.97 Z\" fill=\"#000000\" fill-rule=\"evenodd\" fill-opacity=\"1\" /><path clip-path=\"url(#clip870)\" d=\"M484.434 1518.36 L472.628 1536.81 L484.434 1536.81 L484.434 1518.36 M483.207 1514.29 L489.086 1514.29 L489.086 1536.81 L494.017 1536.81 L494.017 1540.7 L489.086 1540.7 L489.086 1548.85 L484.434 1548.85 L484.434 1540.7 L468.832 1540.7 L468.832 1536.19 L483.207 1514.29 Z\" fill=\"#000000\" fill-rule=\"evenodd\" fill-opacity=\"1\" /><path clip-path=\"url(#clip870)\" d=\"M764.008 1517.37 Q760.397 1517.37 758.568 1520.93 Q756.763 1524.47 756.763 1531.6 Q756.763 1538.71 758.568 1542.27 Q760.397 1545.82 764.008 1545.82 Q767.642 1545.82 769.448 1542.27 Q771.277 1538.71 771.277 1531.6 Q771.277 1524.47 769.448 1520.93 Q767.642 1517.37 764.008 1517.37 M764.008 1513.66 Q769.818 1513.66 772.874 1518.27 Q775.952 1522.85 775.952 1531.6 Q775.952 1540.33 772.874 1544.94 Q769.818 1549.52 764.008 1549.52 Q758.198 1549.52 755.119 1544.94 Q752.064 1540.33 752.064 1531.6 Q752.064 1522.85 755.119 1518.27 Q758.198 1513.66 764.008 1513.66 Z\" fill=\"#000000\" fill-rule=\"evenodd\" fill-opacity=\"1\" /><path clip-path=\"url(#clip870)\" d=\"M784.17 1542.97 L789.054 1542.97 L789.054 1548.85 L784.17 1548.85 L784.17 1542.97 Z\" fill=\"#000000\" fill-rule=\"evenodd\" fill-opacity=\"1\" /><path clip-path=\"url(#clip870)\" d=\"M799.286 1514.29 L817.642 1514.29 L817.642 1518.22 L803.568 1518.22 L803.568 1526.7 Q804.587 1526.35 805.605 1526.19 Q806.624 1526 807.642 1526 Q813.429 1526 816.809 1529.17 Q820.188 1532.34 820.188 1537.76 Q820.188 1543.34 816.716 1546.44 Q813.244 1549.52 806.925 1549.52 Q804.749 1549.52 802.48 1549.15 Q800.235 1548.78 797.827 1548.04 L797.827 1543.34 Q799.911 1544.47 802.133 1545.03 Q804.355 1545.58 806.832 1545.58 Q810.837 1545.58 813.174 1543.48 Q815.512 1541.37 815.512 1537.76 Q815.512 1534.15 813.174 1532.04 Q810.837 1529.94 806.832 1529.94 Q804.957 1529.94 803.082 1530.35 Q801.23 1530.77 799.286 1531.65 L799.286 1514.29 Z\" fill=\"#000000\" fill-rule=\"evenodd\" fill-opacity=\"1\" /><path clip-path=\"url(#clip870)\" d=\"M1090.34 1517.37 Q1086.73 1517.37 1084.9 1520.93 Q1083.1 1524.47 1083.1 1531.6 Q1083.1 1538.71 1084.9 1542.27 Q1086.73 1545.82 1090.34 1545.82 Q1093.98 1545.82 1095.78 1542.27 Q1097.61 1538.71 1097.61 1531.6 Q1097.61 1524.47 1095.78 1520.93 Q1093.98 1517.37 1090.34 1517.37 M1090.34 1513.66 Q1096.15 1513.66 1099.21 1518.27 Q1102.29 1522.85 1102.29 1531.6 Q1102.29 1540.33 1099.21 1544.94 Q1096.15 1549.52 1090.34 1549.52 Q1084.53 1549.52 1081.45 1544.94 Q1078.4 1540.33 1078.4 1531.6 Q1078.4 1522.85 1081.45 1518.27 Q1084.53 1513.66 1090.34 1513.66 Z\" fill=\"#000000\" fill-rule=\"evenodd\" fill-opacity=\"1\" /><path clip-path=\"url(#clip870)\" d=\"M1110.5 1542.97 L1115.39 1542.97 L1115.39 1548.85 L1110.5 1548.85 L1110.5 1542.97 Z\" fill=\"#000000\" fill-rule=\"evenodd\" fill-opacity=\"1\" /><path clip-path=\"url(#clip870)\" d=\"M1136.15 1529.7 Q1133 1529.7 1131.15 1531.86 Q1129.32 1534.01 1129.32 1537.76 Q1129.32 1541.49 1131.15 1543.66 Q1133 1545.82 1136.15 1545.82 Q1139.3 1545.82 1141.13 1543.66 Q1142.98 1541.49 1142.98 1537.76 Q1142.98 1534.01 1141.13 1531.86 Q1139.3 1529.7 1136.15 1529.7 M1145.43 1515.05 L1145.43 1519.31 Q1143.67 1518.48 1141.87 1518.04 Q1140.09 1517.6 1138.33 1517.6 Q1133.7 1517.6 1131.24 1520.72 Q1128.81 1523.85 1128.47 1530.17 Q1129.83 1528.15 1131.89 1527.09 Q1133.95 1526 1136.43 1526 Q1141.64 1526 1144.65 1529.17 Q1147.68 1532.32 1147.68 1537.76 Q1147.68 1543.08 1144.53 1546.3 Q1141.38 1549.52 1136.15 1549.52 Q1130.16 1549.52 1126.98 1544.94 Q1123.81 1540.33 1123.81 1531.6 Q1123.81 1523.41 1127.7 1518.55 Q1131.59 1513.66 1138.14 1513.66 Q1139.9 1513.66 1141.68 1514.01 Q1143.49 1514.36 1145.43 1515.05 Z\" fill=\"#000000\" fill-rule=\"evenodd\" fill-opacity=\"1\" /><path clip-path=\"url(#clip870)\" d=\"M1417.79 1517.37 Q1414.18 1517.37 1412.35 1520.93 Q1410.54 1524.47 1410.54 1531.6 Q1410.54 1538.71 1412.35 1542.27 Q1414.18 1545.82 1417.79 1545.82 Q1421.42 1545.82 1423.23 1542.27 Q1425.05 1538.71 1425.05 1531.6 Q1425.05 1524.47 1423.23 1520.93 Q1421.42 1517.37 1417.79 1517.37 M1417.79 1513.66 Q1423.6 1513.66 1426.65 1518.27 Q1429.73 1522.85 1429.73 1531.6 Q1429.73 1540.33 1426.65 1544.94 Q1423.6 1549.52 1417.79 1549.52 Q1411.98 1549.52 1408.9 1544.94 Q1405.84 1540.33 1405.84 1531.6 Q1405.84 1522.85 1408.9 1518.27 Q1411.98 1513.66 1417.79 1513.66 Z\" fill=\"#000000\" fill-rule=\"evenodd\" fill-opacity=\"1\" /><path clip-path=\"url(#clip870)\" d=\"M1437.95 1542.97 L1442.83 1542.97 L1442.83 1548.85 L1437.95 1548.85 L1437.95 1542.97 Z\" fill=\"#000000\" fill-rule=\"evenodd\" fill-opacity=\"1\" /><path clip-path=\"url(#clip870)\" d=\"M1451.84 1514.29 L1474.06 1514.29 L1474.06 1516.28 L1461.51 1548.85 L1456.63 1548.85 L1468.43 1518.22 L1451.84 1518.22 L1451.84 1514.29 Z\" fill=\"#000000\" fill-rule=\"evenodd\" fill-opacity=\"1\" /><path clip-path=\"url(#clip870)\" d=\"M1744.29 1517.37 Q1740.68 1517.37 1738.85 1520.93 Q1737.05 1524.47 1737.05 1531.6 Q1737.05 1538.71 1738.85 1542.27 Q1740.68 1545.82 1744.29 1545.82 Q1747.93 1545.82 1749.73 1542.27 Q1751.56 1538.71 1751.56 1531.6 Q1751.56 1524.47 1749.73 1520.93 Q1747.93 1517.37 1744.29 1517.37 M1744.29 1513.66 Q1750.1 1513.66 1753.16 1518.27 Q1756.24 1522.85 1756.24 1531.6 Q1756.24 1540.33 1753.16 1544.94 Q1750.1 1549.52 1744.29 1549.52 Q1738.48 1549.52 1735.4 1544.94 Q1732.35 1540.33 1732.35 1531.6 Q1732.35 1522.85 1735.4 1518.27 Q1738.48 1513.66 1744.29 1513.66 Z\" fill=\"#000000\" fill-rule=\"evenodd\" fill-opacity=\"1\" /><path clip-path=\"url(#clip870)\" d=\"M1764.46 1542.97 L1769.34 1542.97 L1769.34 1548.85 L1764.46 1548.85 L1764.46 1542.97 Z\" fill=\"#000000\" fill-rule=\"evenodd\" fill-opacity=\"1\" /><path clip-path=\"url(#clip870)\" d=\"M1789.52 1532.44 Q1786.19 1532.44 1784.27 1534.22 Q1782.37 1536 1782.37 1539.13 Q1782.37 1542.25 1784.27 1544.03 Q1786.19 1545.82 1789.52 1545.82 Q1792.86 1545.82 1794.78 1544.03 Q1796.7 1542.23 1796.7 1539.13 Q1796.7 1536 1794.78 1534.22 Q1792.88 1532.44 1789.52 1532.44 M1784.85 1530.45 Q1781.84 1529.7 1780.15 1527.64 Q1778.48 1525.58 1778.48 1522.62 Q1778.48 1518.48 1781.42 1516.07 Q1784.39 1513.66 1789.52 1513.66 Q1794.69 1513.66 1797.63 1516.07 Q1800.57 1518.48 1800.57 1522.62 Q1800.57 1525.58 1798.88 1527.64 Q1797.21 1529.7 1794.22 1530.45 Q1797.6 1531.23 1799.48 1533.52 Q1801.38 1535.82 1801.38 1539.13 Q1801.38 1544.15 1798.3 1546.83 Q1795.24 1549.52 1789.52 1549.52 Q1783.81 1549.52 1780.73 1546.83 Q1777.67 1544.15 1777.67 1539.13 Q1777.67 1535.82 1779.57 1533.52 Q1781.47 1531.23 1784.85 1530.45 M1783.14 1523.06 Q1783.14 1525.75 1784.8 1527.25 Q1786.49 1528.76 1789.52 1528.76 Q1792.53 1528.76 1794.22 1527.25 Q1795.94 1525.75 1795.94 1523.06 Q1795.94 1520.38 1794.22 1518.87 Q1792.53 1517.37 1789.52 1517.37 Q1786.49 1517.37 1784.8 1518.87 Q1783.14 1520.38 1783.14 1523.06 Z\" fill=\"#000000\" fill-rule=\"evenodd\" fill-opacity=\"1\" /><path clip-path=\"url(#clip870)\" d=\"M2071.25 1517.37 Q2067.64 1517.37 2065.81 1520.93 Q2064.01 1524.47 2064.01 1531.6 Q2064.01 1538.71 2065.81 1542.27 Q2067.64 1545.82 2071.25 1545.82 Q2074.89 1545.82 2076.69 1542.27 Q2078.52 1538.71 2078.52 1531.6 Q2078.52 1524.47 2076.69 1520.93 Q2074.89 1517.37 2071.25 1517.37 M2071.25 1513.66 Q2077.06 1513.66 2080.12 1518.27 Q2083.2 1522.85 2083.2 1531.6 Q2083.2 1540.33 2080.12 1544.94 Q2077.06 1549.52 2071.25 1549.52 Q2065.44 1549.52 2062.36 1544.94 Q2059.31 1540.33 2059.31 1531.6 Q2059.31 1522.85 2062.36 1518.27 Q2065.44 1513.66 2071.25 1513.66 Z\" fill=\"#000000\" fill-rule=\"evenodd\" fill-opacity=\"1\" /><path clip-path=\"url(#clip870)\" d=\"M2091.41 1542.97 L2096.3 1542.97 L2096.3 1548.85 L2091.41 1548.85 L2091.41 1542.97 Z\" fill=\"#000000\" fill-rule=\"evenodd\" fill-opacity=\"1\" /><path clip-path=\"url(#clip870)\" d=\"M2106.62 1548.13 L2106.62 1543.87 Q2108.38 1544.7 2110.19 1545.14 Q2111.99 1545.58 2113.73 1545.58 Q2118.36 1545.58 2120.79 1542.48 Q2123.24 1539.36 2123.59 1533.01 Q2122.25 1535.01 2120.19 1536.07 Q2118.13 1537.13 2115.63 1537.13 Q2110.44 1537.13 2107.41 1534.01 Q2104.4 1530.86 2104.4 1525.42 Q2104.4 1520.1 2107.55 1516.88 Q2110.7 1513.66 2115.93 1513.66 Q2121.92 1513.66 2125.07 1518.27 Q2128.24 1522.85 2128.24 1531.6 Q2128.24 1539.77 2124.35 1544.66 Q2120.49 1549.52 2113.94 1549.52 Q2112.18 1549.52 2110.37 1549.17 Q2108.57 1548.82 2106.62 1548.13 M2115.93 1533.48 Q2119.08 1533.48 2120.9 1531.32 Q2122.76 1529.17 2122.76 1525.42 Q2122.76 1521.7 2120.9 1519.54 Q2119.08 1517.37 2115.93 1517.37 Q2112.78 1517.37 2110.93 1519.54 Q2109.1 1521.7 2109.1 1525.42 Q2109.1 1529.17 2110.93 1531.32 Q2112.78 1533.48 2115.93 1533.48 Z\" fill=\"#000000\" fill-rule=\"evenodd\" fill-opacity=\"1\" /><polyline clip-path=\"url(#clip872)\" style=\"stroke:#000000; stroke-linecap:round; stroke-linejoin:round; stroke-width:2; stroke-opacity:0.1; fill:none\" points=\"\n  186.76,1174.17 2352.76,1174.17 \n  \"/>\n<polyline clip-path=\"url(#clip872)\" style=\"stroke:#000000; stroke-linecap:round; stroke-linejoin:round; stroke-width:2; stroke-opacity:0.1; fill:none\" points=\"\n  186.76,812.104 2352.76,812.104 \n  \"/>\n<polyline clip-path=\"url(#clip872)\" style=\"stroke:#000000; stroke-linecap:round; stroke-linejoin:round; stroke-width:2; stroke-opacity:0.1; fill:none\" points=\"\n  186.76,450.04 2352.76,450.04 \n  \"/>\n<polyline clip-path=\"url(#clip872)\" style=\"stroke:#000000; stroke-linecap:round; stroke-linejoin:round; stroke-width:2; stroke-opacity:0.1; fill:none\" points=\"\n  186.76,87.9763 2352.76,87.9763 \n  \"/>\n<polyline clip-path=\"url(#clip870)\" style=\"stroke:#000000; stroke-linecap:round; stroke-linejoin:round; stroke-width:4; stroke-opacity:1; fill:none\" points=\"\n  186.76,1486.45 186.76,47.2441 \n  \"/>\n<polyline clip-path=\"url(#clip870)\" style=\"stroke:#000000; stroke-linecap:round; stroke-linejoin:round; stroke-width:4; stroke-opacity:1; fill:none\" points=\"\n  186.76,1174.17 205.658,1174.17 \n  \"/>\n<polyline clip-path=\"url(#clip870)\" style=\"stroke:#000000; stroke-linecap:round; stroke-linejoin:round; stroke-width:4; stroke-opacity:1; fill:none\" points=\"\n  186.76,812.104 205.658,812.104 \n  \"/>\n<polyline clip-path=\"url(#clip870)\" style=\"stroke:#000000; stroke-linecap:round; stroke-linejoin:round; stroke-width:4; stroke-opacity:1; fill:none\" points=\"\n  186.76,450.04 205.658,450.04 \n  \"/>\n<polyline clip-path=\"url(#clip870)\" style=\"stroke:#000000; stroke-linecap:round; stroke-linejoin:round; stroke-width:4; stroke-opacity:1; fill:none\" points=\"\n  186.76,87.9763 205.658,87.9763 \n  \"/>\n<path clip-path=\"url(#clip870)\" d=\"M62.9365 1159.97 Q59.3254 1159.97 57.4967 1163.53 Q55.6912 1167.07 55.6912 1174.2 Q55.6912 1181.31 57.4967 1184.87 Q59.3254 1188.42 62.9365 1188.42 Q66.5707 1188.42 68.3763 1184.87 Q70.205 1181.31 70.205 1174.2 Q70.205 1167.07 68.3763 1163.53 Q66.5707 1159.97 62.9365 1159.97 M62.9365 1156.26 Q68.7467 1156.26 71.8022 1160.87 Q74.8809 1165.45 74.8809 1174.2 Q74.8809 1182.93 71.8022 1187.54 Q68.7467 1192.12 62.9365 1192.12 Q57.1264 1192.12 54.0477 1187.54 Q50.9921 1182.93 50.9921 1174.2 Q50.9921 1165.45 54.0477 1160.87 Q57.1264 1156.26 62.9365 1156.26 Z\" fill=\"#000000\" fill-rule=\"evenodd\" fill-opacity=\"1\" /><path clip-path=\"url(#clip870)\" d=\"M83.0984 1185.57 L87.9827 1185.57 L87.9827 1191.45 L83.0984 1191.45 L83.0984 1185.57 Z\" fill=\"#000000\" fill-rule=\"evenodd\" fill-opacity=\"1\" /><path clip-path=\"url(#clip870)\" d=\"M112.334 1172.81 Q115.691 1173.53 117.566 1175.8 Q119.464 1178.07 119.464 1181.4 Q119.464 1186.52 115.945 1189.32 Q112.427 1192.12 105.946 1192.12 Q103.77 1192.12 101.455 1191.68 Q99.1632 1191.26 96.7095 1190.41 L96.7095 1185.89 Q98.6539 1187.03 100.969 1187.61 Q103.284 1188.18 105.807 1188.18 Q110.205 1188.18 112.496 1186.45 Q114.811 1184.71 114.811 1181.4 Q114.811 1178.35 112.658 1176.63 Q110.529 1174.9 106.709 1174.9 L102.682 1174.9 L102.682 1171.05 L106.895 1171.05 Q110.344 1171.05 112.172 1169.69 Q114.001 1168.3 114.001 1165.71 Q114.001 1163.05 112.103 1161.63 Q110.228 1160.2 106.709 1160.2 Q104.788 1160.2 102.589 1160.61 Q100.39 1161.03 97.7511 1161.91 L97.7511 1157.74 Q100.413 1157 102.728 1156.63 Q105.066 1156.26 107.126 1156.26 Q112.45 1156.26 115.552 1158.69 Q118.654 1161.1 118.654 1165.22 Q118.654 1168.09 117.01 1170.08 Q115.367 1172.05 112.334 1172.81 Z\" fill=\"#000000\" fill-rule=\"evenodd\" fill-opacity=\"1\" /><path clip-path=\"url(#clip870)\" d=\"M141.177 1160.96 L129.371 1179.41 L141.177 1179.41 L141.177 1160.96 M139.95 1156.89 L145.83 1156.89 L145.83 1179.41 L150.76 1179.41 L150.76 1183.3 L145.83 1183.3 L145.83 1191.45 L141.177 1191.45 L141.177 1183.3 L125.575 1183.3 L125.575 1178.79 L139.95 1156.89 Z\" fill=\"#000000\" fill-rule=\"evenodd\" fill-opacity=\"1\" /><path clip-path=\"url(#clip870)\" d=\"M63.2606 797.903 Q59.6495 797.903 57.8208 801.467 Q56.0152 805.009 56.0152 812.139 Q56.0152 819.245 57.8208 822.81 Q59.6495 826.352 63.2606 826.352 Q66.8948 826.352 68.7004 822.81 Q70.5291 819.245 70.5291 812.139 Q70.5291 805.009 68.7004 801.467 Q66.8948 797.903 63.2606 797.903 M63.2606 794.199 Q69.0707 794.199 72.1263 798.805 Q75.205 803.389 75.205 812.139 Q75.205 820.865 72.1263 825.472 Q69.0707 830.055 63.2606 830.055 Q57.4504 830.055 54.3717 825.472 Q51.3162 820.865 51.3162 812.139 Q51.3162 803.389 54.3717 798.805 Q57.4504 794.199 63.2606 794.199 Z\" fill=\"#000000\" fill-rule=\"evenodd\" fill-opacity=\"1\" /><path clip-path=\"url(#clip870)\" d=\"M83.4225 823.504 L88.3067 823.504 L88.3067 829.384 L83.4225 829.384 L83.4225 823.504 Z\" fill=\"#000000\" fill-rule=\"evenodd\" fill-opacity=\"1\" /><path clip-path=\"url(#clip870)\" d=\"M112.658 810.75 Q116.015 811.467 117.89 813.736 Q119.788 816.004 119.788 819.338 Q119.788 824.453 116.27 827.254 Q112.751 830.055 106.27 830.055 Q104.094 830.055 101.779 829.615 Q99.4872 829.199 97.0335 828.342 L97.0335 823.828 Q98.978 824.963 101.293 825.541 Q103.608 826.12 106.131 826.12 Q110.529 826.12 112.82 824.384 Q115.135 822.648 115.135 819.338 Q115.135 816.282 112.983 814.569 Q110.853 812.833 107.033 812.833 L103.006 812.833 L103.006 808.991 L107.219 808.991 Q110.668 808.991 112.496 807.625 Q114.325 806.236 114.325 803.643 Q114.325 800.981 112.427 799.569 Q110.552 798.134 107.033 798.134 Q105.112 798.134 102.913 798.551 Q100.714 798.967 98.0752 799.847 L98.0752 795.68 Q100.737 794.94 103.052 794.569 Q105.39 794.199 107.45 794.199 Q112.774 794.199 115.876 796.63 Q118.978 799.037 118.978 803.157 Q118.978 806.028 117.334 808.018 Q115.691 809.986 112.658 810.75 Z\" fill=\"#000000\" fill-rule=\"evenodd\" fill-opacity=\"1\" /><path clip-path=\"url(#clip870)\" d=\"M139.232 810.241 Q136.084 810.241 134.232 812.393 Q132.404 814.546 132.404 818.296 Q132.404 822.023 134.232 824.199 Q136.084 826.352 139.232 826.352 Q142.381 826.352 144.209 824.199 Q146.061 822.023 146.061 818.296 Q146.061 814.546 144.209 812.393 Q142.381 810.241 139.232 810.241 M148.515 795.588 L148.515 799.847 Q146.756 799.014 144.95 798.574 Q143.168 798.134 141.408 798.134 Q136.779 798.134 134.325 801.259 Q131.894 804.384 131.547 810.704 Q132.913 808.69 134.973 807.625 Q137.033 806.537 139.51 806.537 Q144.718 806.537 147.728 809.708 Q150.76 812.856 150.76 818.296 Q150.76 823.62 147.612 826.838 Q144.464 830.055 139.232 830.055 Q133.237 830.055 130.066 825.472 Q126.894 820.865 126.894 812.139 Q126.894 803.944 130.783 799.083 Q134.672 794.199 141.223 794.199 Q142.982 794.199 144.765 794.546 Q146.57 794.893 148.515 795.588 Z\" fill=\"#000000\" fill-rule=\"evenodd\" fill-opacity=\"1\" /><path clip-path=\"url(#clip870)\" d=\"M63.5152 435.839 Q59.9041 435.839 58.0754 439.404 Q56.2699 442.945 56.2699 450.075 Q56.2699 457.181 58.0754 460.746 Q59.9041 464.288 63.5152 464.288 Q67.1494 464.288 68.955 460.746 Q70.7837 457.181 70.7837 450.075 Q70.7837 442.945 68.955 439.404 Q67.1494 435.839 63.5152 435.839 M63.5152 432.135 Q69.3254 432.135 72.3809 436.742 Q75.4596 441.325 75.4596 450.075 Q75.4596 458.802 72.3809 463.408 Q69.3254 467.991 63.5152 467.991 Q57.7051 467.991 54.6264 463.408 Q51.5708 458.802 51.5708 450.075 Q51.5708 441.325 54.6264 436.742 Q57.7051 432.135 63.5152 432.135 Z\" fill=\"#000000\" fill-rule=\"evenodd\" fill-opacity=\"1\" /><path clip-path=\"url(#clip870)\" d=\"M83.6771 461.441 L88.5614 461.441 L88.5614 467.32 L83.6771 467.32 L83.6771 461.441 Z\" fill=\"#000000\" fill-rule=\"evenodd\" fill-opacity=\"1\" /><path clip-path=\"url(#clip870)\" d=\"M112.913 448.686 Q116.27 449.404 118.145 451.672 Q120.043 453.941 120.043 457.274 Q120.043 462.39 116.524 465.191 Q113.006 467.991 106.524 467.991 Q104.348 467.991 102.034 467.552 Q99.7419 467.135 97.2882 466.278 L97.2882 461.765 Q99.2326 462.899 101.547 463.478 Q103.862 464.056 106.385 464.056 Q110.783 464.056 113.075 462.32 Q115.39 460.584 115.39 457.274 Q115.39 454.218 113.237 452.505 Q111.108 450.769 107.288 450.769 L103.26 450.769 L103.26 446.927 L107.473 446.927 Q110.922 446.927 112.751 445.561 Q114.58 444.172 114.58 441.58 Q114.58 438.917 112.682 437.505 Q110.807 436.07 107.288 436.07 Q105.367 436.07 103.168 436.487 Q100.969 436.904 98.3298 437.783 L98.3298 433.617 Q100.992 432.876 103.307 432.505 Q105.645 432.135 107.705 432.135 Q113.029 432.135 116.131 434.566 Q119.233 436.973 119.233 441.093 Q119.233 443.964 117.589 445.954 Q115.945 447.922 112.913 448.686 Z\" fill=\"#000000\" fill-rule=\"evenodd\" fill-opacity=\"1\" /><path clip-path=\"url(#clip870)\" d=\"M138.908 450.908 Q135.575 450.908 133.654 452.691 Q131.756 454.473 131.756 457.598 Q131.756 460.723 133.654 462.505 Q135.575 464.288 138.908 464.288 Q142.242 464.288 144.163 462.505 Q146.084 460.7 146.084 457.598 Q146.084 454.473 144.163 452.691 Q142.265 450.908 138.908 450.908 M134.232 448.917 Q131.223 448.177 129.533 446.117 Q127.867 444.056 127.867 441.093 Q127.867 436.95 130.807 434.543 Q133.769 432.135 138.908 432.135 Q144.07 432.135 147.01 434.543 Q149.95 436.95 149.95 441.093 Q149.95 444.056 148.26 446.117 Q146.593 448.177 143.607 448.917 Q146.987 449.704 148.862 451.996 Q150.76 454.288 150.76 457.598 Q150.76 462.621 147.681 465.306 Q144.626 467.991 138.908 467.991 Q133.191 467.991 130.112 465.306 Q127.057 462.621 127.057 457.598 Q127.057 454.288 128.955 451.996 Q130.853 449.704 134.232 448.917 M132.519 441.533 Q132.519 444.218 134.186 445.723 Q135.876 447.228 138.908 447.228 Q141.918 447.228 143.607 445.723 Q145.32 444.218 145.32 441.533 Q145.32 438.848 143.607 437.343 Q141.918 435.839 138.908 435.839 Q135.876 435.839 134.186 437.343 Q132.519 438.848 132.519 441.533 Z\" fill=\"#000000\" fill-rule=\"evenodd\" fill-opacity=\"1\" /><path clip-path=\"url(#clip870)\" d=\"M63.4226 73.775 Q59.8115 73.775 57.9828 77.3398 Q56.1773 80.8814 56.1773 88.011 Q56.1773 95.1174 57.9828 98.6822 Q59.8115 102.224 63.4226 102.224 Q67.0569 102.224 68.8624 98.6822 Q70.6911 95.1174 70.6911 88.011 Q70.6911 80.8814 68.8624 77.3398 Q67.0569 73.775 63.4226 73.775 M63.4226 70.0713 Q69.2328 70.0713 72.2883 74.6777 Q75.367 79.261 75.367 88.011 Q75.367 96.7378 72.2883 101.344 Q69.2328 105.928 63.4226 105.928 Q57.6125 105.928 54.5338 101.344 Q51.4782 96.7378 51.4782 88.011 Q51.4782 79.261 54.5338 74.6777 Q57.6125 70.0713 63.4226 70.0713 Z\" fill=\"#000000\" fill-rule=\"evenodd\" fill-opacity=\"1\" /><path clip-path=\"url(#clip870)\" d=\"M83.5845 99.3767 L88.4688 99.3767 L88.4688 105.256 L83.5845 105.256 L83.5845 99.3767 Z\" fill=\"#000000\" fill-rule=\"evenodd\" fill-opacity=\"1\" /><path clip-path=\"url(#clip870)\" d=\"M111.501 74.7703 L99.6956 93.2193 L111.501 93.2193 L111.501 74.7703 M110.274 70.6963 L116.154 70.6963 L116.154 93.2193 L121.084 93.2193 L121.084 97.1082 L116.154 97.1082 L116.154 105.256 L111.501 105.256 L111.501 97.1082 L95.8993 97.1082 L95.8993 92.5943 L110.274 70.6963 Z\" fill=\"#000000\" fill-rule=\"evenodd\" fill-opacity=\"1\" /><path clip-path=\"url(#clip870)\" d=\"M138.816 73.775 Q135.205 73.775 133.376 77.3398 Q131.57 80.8814 131.57 88.011 Q131.57 95.1174 133.376 98.6822 Q135.205 102.224 138.816 102.224 Q142.45 102.224 144.256 98.6822 Q146.084 95.1174 146.084 88.011 Q146.084 80.8814 144.256 77.3398 Q142.45 73.775 138.816 73.775 M138.816 70.0713 Q144.626 70.0713 147.681 74.6777 Q150.76 79.261 150.76 88.011 Q150.76 96.7378 147.681 101.344 Q144.626 105.928 138.816 105.928 Q133.006 105.928 129.927 101.344 Q126.871 96.7378 126.871 88.011 Q126.871 79.261 129.927 74.6777 Q133.006 70.0713 138.816 70.0713 Z\" fill=\"#000000\" fill-rule=\"evenodd\" fill-opacity=\"1\" /><polyline clip-path=\"url(#clip872)\" style=\"stroke:#009af9; stroke-linecap:round; stroke-linejoin:round; stroke-width:4; stroke-opacity:1; fill:none\" points=\"\n  248.062,1445.72 248.237,1436.66 248.763,1427.61 249.64,1418.56 250.865,1409.51 252.439,1400.46 254.36,1391.41 256.625,1382.35 259.233,1373.3 262.182,1364.25 \n  265.468,1355.2 269.088,1346.15 273.041,1337.1 277.321,1328.04 281.925,1318.99 286.85,1309.94 292.09,1300.89 297.643,1291.84 303.503,1282.79 309.665,1273.74 \n  316.125,1264.68 322.878,1255.63 329.919,1246.58 337.243,1237.53 344.844,1228.48 352.717,1219.43 360.857,1210.37 369.259,1201.32 377.917,1192.27 386.826,1183.22 \n  395.98,1174.17 405.375,1165.12 415.003,1156.06 424.862,1147.01 434.944,1137.96 445.245,1128.91 455.76,1119.86 466.484,1110.81 477.411,1101.76 488.536,1092.7 \n  499.855,1083.65 511.363,1074.6 523.054,1065.55 534.925,1056.5 546.971,1047.45 559.187,1038.39 571.569,1029.34 584.112,1020.29 596.813,1011.24 609.667,1002.19 \n  622.67,993.136 635.818,984.084 649.108,975.033 662.536,965.981 676.098,956.93 689.79,947.878 703.61,938.826 717.553,929.775 731.617,920.723 745.798,911.672 \n  760.093,902.62 774.499,893.568 789.013,884.517 803.633,875.465 818.356,866.414 833.178,857.362 848.098,848.31 863.112,839.259 878.219,830.207 893.415,821.156 \n  908.699,812.104 924.068,803.052 939.521,794.001 955.054,784.949 970.666,775.898 986.355,766.846 1002.12,757.794 1017.96,748.743 1033.86,739.691 1049.84,730.64 \n  1065.89,721.588 1082,712.536 1098.17,703.485 1114.41,694.433 1130.71,685.382 1147.07,676.33 1163.49,667.278 1179.96,658.227 1196.49,649.175 1213.07,640.124 \n  1229.71,631.072 1246.4,622.02 1263.13,612.969 1279.92,603.917 1296.76,594.866 1313.64,585.814 1330.57,576.762 1347.54,567.711 1364.56,558.659 1381.61,549.608 \n  1398.71,540.556 1415.86,531.504 1433.04,522.453 1450.26,513.401 1467.52,504.35 1484.81,495.298 1502.14,486.247 1519.51,477.195 1536.91,468.143 1554.35,459.092 \n  1571.82,450.04 1589.32,440.989 1606.86,431.937 1624.42,422.885 1642.02,413.834 1659.64,404.782 1677.3,395.731 1694.98,386.679 1712.7,377.627 1730.44,368.576 \n  1748.2,359.524 1766,350.473 1783.82,341.421 1801.66,332.369 1819.53,323.318 1837.42,314.266 1855.34,305.215 1873.28,296.163 1891.25,287.111 1909.23,278.06 \n  1927.24,269.008 1945.27,259.957 1963.32,250.905 1981.39,241.853 1999.49,232.802 2017.6,223.75 2035.73,214.699 2053.88,205.647 2072.05,196.595 2090.24,187.544 \n  2108.45,178.492 2126.67,169.441 2144.92,160.389 2163.18,151.337 2181.45,142.286 2199.75,133.234 2218.06,124.183 2236.38,115.131 2254.72,106.079 2273.08,97.0279 \n  2291.45,87.9763 \n  \"/>\n<path clip-path=\"url(#clip870)\" d=\"\nM1987.46 198.898 L2280.56 198.898 L2280.56 95.2176 L1987.46 95.2176  Z\n  \" fill=\"#ffffff\" fill-rule=\"evenodd\" fill-opacity=\"1\"/>\n<polyline clip-path=\"url(#clip870)\" style=\"stroke:#000000; stroke-linecap:round; stroke-linejoin:round; stroke-width:4; stroke-opacity:1; fill:none\" points=\"\n  1987.46,198.898 2280.56,198.898 2280.56,95.2176 1987.46,95.2176 1987.46,198.898 \n  \"/>\n<polyline clip-path=\"url(#clip870)\" style=\"stroke:#009af9; stroke-linecap:round; stroke-linejoin:round; stroke-width:4; stroke-opacity:1; fill:none\" points=\"\n  2011.53,147.058 2155.93,147.058 \n  \"/>\n<path clip-path=\"url(#clip870)\" d=\"M2193.84 166.745 Q2192.03 171.375 2190.32 172.787 Q2188.6 174.199 2185.73 174.199 L2182.33 174.199 L2182.33 170.634 L2184.83 170.634 Q2186.59 170.634 2187.56 169.8 Q2188.53 168.967 2189.71 165.865 L2190.48 163.921 L2179.99 138.412 L2184.51 138.412 L2192.61 158.689 L2200.71 138.412 L2205.22 138.412 L2193.84 166.745 Z\" fill=\"#000000\" fill-rule=\"evenodd\" fill-opacity=\"1\" /><path clip-path=\"url(#clip870)\" d=\"M2212.52 160.402 L2220.15 160.402 L2220.15 134.037 L2211.84 135.703 L2211.84 131.444 L2220.11 129.778 L2224.78 129.778 L2224.78 160.402 L2232.42 160.402 L2232.42 164.338 L2212.52 164.338 L2212.52 160.402 Z\" fill=\"#000000\" fill-rule=\"evenodd\" fill-opacity=\"1\" /></svg>\n"
     },
     "execution_count": 369,
     "metadata": {},
     "output_type": "execute_result"
    }
   ],
   "source": [
    "min_sd = minimum(sd_h)\n",
    "index = findall(x -> x .== min_sd, sd_h)\n",
    "\n",
    "MVP_sd = getindex(sd_h, index)\n",
    "MVP_ret = getindex(mean_h', index)\n",
    "\n",
    "index = findall(x -> x .>= MVP_ret[1], mean_h)\n",
    "\n",
    "eff_front = [getindex(sd_h', index) getindex(mean_h, index)]\n",
    "\n",
    "plot(eff_front[:,1], eff_front[:,2])"
   ]
  },
  {
   "attachments": {},
   "cell_type": "markdown",
   "metadata": {},
   "source": [
    "$E\\left[r_1\\right] \\geq E\\left[ r_2 \\right]$\n",
    "\n",
    "$var\\left( r_1 \\right) \\leq var\\left( r_2 \\right)$\n",
    "\n",
    "So Security 1 mean-variance dominates Security 2. \n",
    "\n",
    "Despite this, it enters all but one of the efficient portfolios due to the diversification effect."
   ]
  },
  {
   "attachments": {},
   "cell_type": "markdown",
   "metadata": {},
   "source": [
    "----------\n",
    "#### 11\n",
    " Suppose a risk-averse investor can choose a portfolio from among $N$ assets with independently distributed returns, all of which have identical means $\\left[E\\left(R_i\\right)=E\\left(R_j\\right)\\right]$ and identical variances $\\left(\\sigma_i^2=\\sigma_j^2\\right)$. What will be the composition of his optimal portfolio?\n",
    "\n",
    " Holding of $\\frac{1}{N}$ in each asset"
   ]
  },
  {
   "attachments": {},
   "cell_type": "markdown",
   "metadata": {},
   "source": [
    "---------- \n",
    "##### 12\n",
    " Given decreasing marginal utility, it is possible to prove that in a mean-variance framework no individual will hold $100 \\%$ of his or her wealth in the risk-free asset. Why? (Hint: The answer requires an understanding of the shape of investors' indifference curves as well as the Capital Market Line.)"
   ]
  },
  {
   "attachments": {},
   "cell_type": "markdown",
   "metadata": {},
   "source": [
    "------------\n",
    "#### 13\n",
    "\n",
    "Given that assets X and Y are perfectly correlated such that Y = 6 + .2X and the probability distribution for X is:\n",
    "\n",
    "| Probability | X (%) |\n",
    "| --- | --- |\n",
    "| .1 | 30% |\n",
    "| .2 | 20% |\n",
    "| .4 | 15% |\n",
    "| .2 | 10% |\n",
    "| .1 | -50% |\n",
    "\n",
    "What is the percentage of your wealth to put into asset X to achieve zero variance? Graph the\n",
    "opportunity set and the zero variance point."
   ]
  },
  {
   "cell_type": "code",
   "execution_count": 426,
   "metadata": {},
   "outputs": [
    {
     "data": {
      "text/plain": [
       "1-element Vector{Float64}:\n",
       " -0.24999999999999933"
      ]
     },
     "execution_count": 426,
     "metadata": {},
     "output_type": "execute_result"
    }
   ],
   "source": [
    "Prob = [.1 .2 .4 .2 .1]\n",
    "X = [.3 .2 .15 .1 -.5]\n",
    "Y = .06 .+ .2 .*X\n",
    "\n",
    "mean_X = Prob*X'\n",
    "mean_Y = Prob*Y'\n",
    "\n",
    "sd_X = sqrt.(Prob*diag((X.-mean_X)'*(X.-mean_X)))\n",
    "sd_Y = sqrt.(Prob*diag((Y.-mean_Y)'*(Y.-mean_Y)))\n",
    "cov_XY = sd_X.*sd_Y\n",
    "\n",
    "h=zeros(301)\n",
    "h[1] = -1\n",
    "for i in 2:length(h)\n",
    "    h[i] = h[i-1]+3/(length(h)-1)\n",
    "end\n",
    "\n",
    "index = findall(x -> x==0, sd_h)\n",
    "h'[index]"
   ]
  },
  {
   "cell_type": "code",
   "execution_count": 427,
   "metadata": {},
   "outputs": [
    {
     "data": {
      "image/svg+xml": "<?xml version=\"1.0\" encoding=\"utf-8\"?>\n<svg xmlns=\"http://www.w3.org/2000/svg\" xmlns:xlink=\"http://www.w3.org/1999/xlink\" width=\"600\" height=\"400\" viewBox=\"0 0 2400 1600\">\n<defs>\n  <clipPath id=\"clip990\">\n    <rect x=\"0\" y=\"0\" width=\"2400\" height=\"1600\"/>\n  </clipPath>\n</defs>\n<path clip-path=\"url(#clip990)\" d=\"\nM0 1600 L2400 1600 L2400 0 L0 0  Z\n  \" fill=\"#ffffff\" fill-rule=\"evenodd\" fill-opacity=\"1\"/>\n<defs>\n  <clipPath id=\"clip991\">\n    <rect x=\"480\" y=\"0\" width=\"1681\" height=\"1600\"/>\n  </clipPath>\n</defs>\n<path clip-path=\"url(#clip990)\" d=\"\nM186.436 1486.45 L2352.76 1486.45 L2352.76 47.2441 L186.436 47.2441  Z\n  \" fill=\"#ffffff\" fill-rule=\"evenodd\" fill-opacity=\"1\"/>\n<defs>\n  <clipPath id=\"clip992\">\n    <rect x=\"186\" y=\"47\" width=\"2167\" height=\"1440\"/>\n  </clipPath>\n</defs>\n<polyline clip-path=\"url(#clip992)\" style=\"stroke:#000000; stroke-linecap:round; stroke-linejoin:round; stroke-width:2; stroke-opacity:0.1; fill:none\" points=\"\n  247.747,1486.45 247.747,47.2441 \n  \"/>\n<polyline clip-path=\"url(#clip992)\" style=\"stroke:#000000; stroke-linecap:round; stroke-linejoin:round; stroke-width:2; stroke-opacity:0.1; fill:none\" points=\"\n  795.28,1486.45 795.28,47.2441 \n  \"/>\n<polyline clip-path=\"url(#clip992)\" style=\"stroke:#000000; stroke-linecap:round; stroke-linejoin:round; stroke-width:2; stroke-opacity:0.1; fill:none\" points=\"\n  1342.81,1486.45 1342.81,47.2441 \n  \"/>\n<polyline clip-path=\"url(#clip992)\" style=\"stroke:#000000; stroke-linecap:round; stroke-linejoin:round; stroke-width:2; stroke-opacity:0.1; fill:none\" points=\"\n  1890.34,1486.45 1890.34,47.2441 \n  \"/>\n<polyline clip-path=\"url(#clip990)\" style=\"stroke:#000000; stroke-linecap:round; stroke-linejoin:round; stroke-width:4; stroke-opacity:1; fill:none\" points=\"\n  186.436,1486.45 2352.76,1486.45 \n  \"/>\n<polyline clip-path=\"url(#clip990)\" style=\"stroke:#000000; stroke-linecap:round; stroke-linejoin:round; stroke-width:4; stroke-opacity:1; fill:none\" points=\"\n  247.747,1486.45 247.747,1467.55 \n  \"/>\n<polyline clip-path=\"url(#clip990)\" style=\"stroke:#000000; stroke-linecap:round; stroke-linejoin:round; stroke-width:4; stroke-opacity:1; fill:none\" points=\"\n  795.28,1486.45 795.28,1467.55 \n  \"/>\n<polyline clip-path=\"url(#clip990)\" style=\"stroke:#000000; stroke-linecap:round; stroke-linejoin:round; stroke-width:4; stroke-opacity:1; fill:none\" points=\"\n  1342.81,1486.45 1342.81,1467.55 \n  \"/>\n<polyline clip-path=\"url(#clip990)\" style=\"stroke:#000000; stroke-linecap:round; stroke-linejoin:round; stroke-width:4; stroke-opacity:1; fill:none\" points=\"\n  1890.34,1486.45 1890.34,1467.55 \n  \"/>\n<path clip-path=\"url(#clip990)\" d=\"M225.131 1517.37 Q221.52 1517.37 219.692 1520.93 Q217.886 1524.47 217.886 1531.6 Q217.886 1538.71 219.692 1542.27 Q221.52 1545.82 225.131 1545.82 Q228.766 1545.82 230.571 1542.27 Q232.4 1538.71 232.4 1531.6 Q232.4 1524.47 230.571 1520.93 Q228.766 1517.37 225.131 1517.37 M225.131 1513.66 Q230.942 1513.66 233.997 1518.27 Q237.076 1522.85 237.076 1531.6 Q237.076 1540.33 233.997 1544.94 Q230.942 1549.52 225.131 1549.52 Q219.321 1549.52 216.243 1544.94 Q213.187 1540.33 213.187 1531.6 Q213.187 1522.85 216.243 1518.27 Q219.321 1513.66 225.131 1513.66 Z\" fill=\"#000000\" fill-rule=\"evenodd\" fill-opacity=\"1\" /><path clip-path=\"url(#clip990)\" d=\"M245.293 1542.97 L250.178 1542.97 L250.178 1548.85 L245.293 1548.85 L245.293 1542.97 Z\" fill=\"#000000\" fill-rule=\"evenodd\" fill-opacity=\"1\" /><path clip-path=\"url(#clip990)\" d=\"M270.363 1517.37 Q266.752 1517.37 264.923 1520.93 Q263.117 1524.47 263.117 1531.6 Q263.117 1538.71 264.923 1542.27 Q266.752 1545.82 270.363 1545.82 Q273.997 1545.82 275.802 1542.27 Q277.631 1538.71 277.631 1531.6 Q277.631 1524.47 275.802 1520.93 Q273.997 1517.37 270.363 1517.37 M270.363 1513.66 Q276.173 1513.66 279.228 1518.27 Q282.307 1522.85 282.307 1531.6 Q282.307 1540.33 279.228 1544.94 Q276.173 1549.52 270.363 1549.52 Q264.552 1549.52 261.474 1544.94 Q258.418 1540.33 258.418 1531.6 Q258.418 1522.85 261.474 1518.27 Q264.552 1513.66 270.363 1513.66 Z\" fill=\"#000000\" fill-rule=\"evenodd\" fill-opacity=\"1\" /><path clip-path=\"url(#clip990)\" d=\"M773.277 1517.37 Q769.666 1517.37 767.838 1520.93 Q766.032 1524.47 766.032 1531.6 Q766.032 1538.71 767.838 1542.27 Q769.666 1545.82 773.277 1545.82 Q776.912 1545.82 778.717 1542.27 Q780.546 1538.71 780.546 1531.6 Q780.546 1524.47 778.717 1520.93 Q776.912 1517.37 773.277 1517.37 M773.277 1513.66 Q779.088 1513.66 782.143 1518.27 Q785.222 1522.85 785.222 1531.6 Q785.222 1540.33 782.143 1544.94 Q779.088 1549.52 773.277 1549.52 Q767.467 1549.52 764.389 1544.94 Q761.333 1540.33 761.333 1531.6 Q761.333 1522.85 764.389 1518.27 Q767.467 1513.66 773.277 1513.66 Z\" fill=\"#000000\" fill-rule=\"evenodd\" fill-opacity=\"1\" /><path clip-path=\"url(#clip990)\" d=\"M793.439 1542.97 L798.324 1542.97 L798.324 1548.85 L793.439 1548.85 L793.439 1542.97 Z\" fill=\"#000000\" fill-rule=\"evenodd\" fill-opacity=\"1\" /><path clip-path=\"url(#clip990)\" d=\"M809.319 1544.91 L816.958 1544.91 L816.958 1518.55 L808.648 1520.21 L808.648 1515.95 L816.911 1514.29 L821.587 1514.29 L821.587 1544.91 L829.226 1544.91 L829.226 1548.85 L809.319 1548.85 L809.319 1544.91 Z\" fill=\"#000000\" fill-rule=\"evenodd\" fill-opacity=\"1\" /><path clip-path=\"url(#clip990)\" d=\"M1321 1517.37 Q1317.38 1517.37 1315.56 1520.93 Q1313.75 1524.47 1313.75 1531.6 Q1313.75 1538.71 1315.56 1542.27 Q1317.38 1545.82 1321 1545.82 Q1324.63 1545.82 1326.43 1542.27 Q1328.26 1538.71 1328.26 1531.6 Q1328.26 1524.47 1326.43 1520.93 Q1324.63 1517.37 1321 1517.37 M1321 1513.66 Q1326.81 1513.66 1329.86 1518.27 Q1332.94 1522.85 1332.94 1531.6 Q1332.94 1540.33 1329.86 1544.94 Q1326.81 1549.52 1321 1549.52 Q1315.19 1549.52 1312.11 1544.94 Q1309.05 1540.33 1309.05 1531.6 Q1309.05 1522.85 1312.11 1518.27 Q1315.19 1513.66 1321 1513.66 Z\" fill=\"#000000\" fill-rule=\"evenodd\" fill-opacity=\"1\" /><path clip-path=\"url(#clip990)\" d=\"M1341.16 1542.97 L1346.04 1542.97 L1346.04 1548.85 L1341.16 1548.85 L1341.16 1542.97 Z\" fill=\"#000000\" fill-rule=\"evenodd\" fill-opacity=\"1\" /><path clip-path=\"url(#clip990)\" d=\"M1360.25 1544.91 L1376.57 1544.91 L1376.57 1548.85 L1354.63 1548.85 L1354.63 1544.91 Q1357.29 1542.16 1361.87 1537.53 Q1366.48 1532.88 1367.66 1531.53 Q1369.91 1529.01 1370.79 1527.27 Q1371.69 1525.51 1371.69 1523.82 Q1371.69 1521.07 1369.74 1519.33 Q1367.82 1517.6 1364.72 1517.6 Q1362.52 1517.6 1360.07 1518.36 Q1357.64 1519.13 1354.86 1520.68 L1354.86 1515.95 Q1357.68 1514.82 1360.14 1514.24 Q1362.59 1513.66 1364.63 1513.66 Q1370 1513.66 1373.19 1516.35 Q1376.39 1519.03 1376.39 1523.52 Q1376.39 1525.65 1375.58 1527.57 Q1374.79 1529.47 1372.68 1532.07 Q1372.11 1532.74 1369 1535.95 Q1365.9 1539.15 1360.25 1544.91 Z\" fill=\"#000000\" fill-rule=\"evenodd\" fill-opacity=\"1\" /><path clip-path=\"url(#clip990)\" d=\"M1868.05 1517.37 Q1864.44 1517.37 1862.61 1520.93 Q1860.81 1524.47 1860.81 1531.6 Q1860.81 1538.71 1862.61 1542.27 Q1864.44 1545.82 1868.05 1545.82 Q1871.69 1545.82 1873.49 1542.27 Q1875.32 1538.71 1875.32 1531.6 Q1875.32 1524.47 1873.49 1520.93 Q1871.69 1517.37 1868.05 1517.37 M1868.05 1513.66 Q1873.86 1513.66 1876.92 1518.27 Q1880 1522.85 1880 1531.6 Q1880 1540.33 1876.92 1544.94 Q1873.86 1549.52 1868.05 1549.52 Q1862.24 1549.52 1859.16 1544.94 Q1856.11 1540.33 1856.11 1531.6 Q1856.11 1522.85 1859.16 1518.27 Q1862.24 1513.66 1868.05 1513.66 Z\" fill=\"#000000\" fill-rule=\"evenodd\" fill-opacity=\"1\" /><path clip-path=\"url(#clip990)\" d=\"M1888.22 1542.97 L1893.1 1542.97 L1893.1 1548.85 L1888.22 1548.85 L1888.22 1542.97 Z\" fill=\"#000000\" fill-rule=\"evenodd\" fill-opacity=\"1\" /><path clip-path=\"url(#clip990)\" d=\"M1917.45 1530.21 Q1920.81 1530.93 1922.68 1533.2 Q1924.58 1535.47 1924.58 1538.8 Q1924.58 1543.92 1921.06 1546.72 Q1917.54 1549.52 1911.06 1549.52 Q1908.89 1549.52 1906.57 1549.08 Q1904.28 1548.66 1901.83 1547.81 L1901.83 1543.29 Q1903.77 1544.43 1906.09 1545.01 Q1908.4 1545.58 1910.92 1545.58 Q1915.32 1545.58 1917.61 1543.85 Q1919.93 1542.11 1919.93 1538.8 Q1919.93 1535.75 1917.78 1534.03 Q1915.65 1532.3 1911.83 1532.3 L1907.8 1532.3 L1907.8 1528.45 L1912.01 1528.45 Q1915.46 1528.45 1917.29 1527.09 Q1919.12 1525.7 1919.12 1523.11 Q1919.12 1520.45 1917.22 1519.03 Q1915.34 1517.6 1911.83 1517.6 Q1909.9 1517.6 1907.71 1518.01 Q1905.51 1518.43 1902.87 1519.31 L1902.87 1515.14 Q1905.53 1514.4 1907.84 1514.03 Q1910.18 1513.66 1912.24 1513.66 Q1917.57 1513.66 1920.67 1516.09 Q1923.77 1518.5 1923.77 1522.62 Q1923.77 1525.49 1922.13 1527.48 Q1920.48 1529.45 1917.45 1530.21 Z\" fill=\"#000000\" fill-rule=\"evenodd\" fill-opacity=\"1\" /><polyline clip-path=\"url(#clip992)\" style=\"stroke:#000000; stroke-linecap:round; stroke-linejoin:round; stroke-width:2; stroke-opacity:0.1; fill:none\" points=\"\n  186.436,1445.72 2352.76,1445.72 \n  \"/>\n<polyline clip-path=\"url(#clip992)\" style=\"stroke:#000000; stroke-linecap:round; stroke-linejoin:round; stroke-width:2; stroke-opacity:0.1; fill:none\" points=\"\n  186.436,1219.43 2352.76,1219.43 \n  \"/>\n<polyline clip-path=\"url(#clip992)\" style=\"stroke:#000000; stroke-linecap:round; stroke-linejoin:round; stroke-width:2; stroke-opacity:0.1; fill:none\" points=\"\n  186.436,993.136 2352.76,993.136 \n  \"/>\n<polyline clip-path=\"url(#clip992)\" style=\"stroke:#000000; stroke-linecap:round; stroke-linejoin:round; stroke-width:2; stroke-opacity:0.1; fill:none\" points=\"\n  186.436,766.846 2352.76,766.846 \n  \"/>\n<polyline clip-path=\"url(#clip992)\" style=\"stroke:#000000; stroke-linecap:round; stroke-linejoin:round; stroke-width:2; stroke-opacity:0.1; fill:none\" points=\"\n  186.436,540.556 2352.76,540.556 \n  \"/>\n<polyline clip-path=\"url(#clip992)\" style=\"stroke:#000000; stroke-linecap:round; stroke-linejoin:round; stroke-width:2; stroke-opacity:0.1; fill:none\" points=\"\n  186.436,314.266 2352.76,314.266 \n  \"/>\n<polyline clip-path=\"url(#clip992)\" style=\"stroke:#000000; stroke-linecap:round; stroke-linejoin:round; stroke-width:2; stroke-opacity:0.1; fill:none\" points=\"\n  186.436,87.9763 2352.76,87.9763 \n  \"/>\n<polyline clip-path=\"url(#clip990)\" style=\"stroke:#000000; stroke-linecap:round; stroke-linejoin:round; stroke-width:4; stroke-opacity:1; fill:none\" points=\"\n  186.436,1486.45 186.436,47.2441 \n  \"/>\n<polyline clip-path=\"url(#clip990)\" style=\"stroke:#000000; stroke-linecap:round; stroke-linejoin:round; stroke-width:4; stroke-opacity:1; fill:none\" points=\"\n  186.436,1445.72 205.334,1445.72 \n  \"/>\n<polyline clip-path=\"url(#clip990)\" style=\"stroke:#000000; stroke-linecap:round; stroke-linejoin:round; stroke-width:4; stroke-opacity:1; fill:none\" points=\"\n  186.436,1219.43 205.334,1219.43 \n  \"/>\n<polyline clip-path=\"url(#clip990)\" style=\"stroke:#000000; stroke-linecap:round; stroke-linejoin:round; stroke-width:4; stroke-opacity:1; fill:none\" points=\"\n  186.436,993.136 205.334,993.136 \n  \"/>\n<polyline clip-path=\"url(#clip990)\" style=\"stroke:#000000; stroke-linecap:round; stroke-linejoin:round; stroke-width:4; stroke-opacity:1; fill:none\" points=\"\n  186.436,766.846 205.334,766.846 \n  \"/>\n<polyline clip-path=\"url(#clip990)\" style=\"stroke:#000000; stroke-linecap:round; stroke-linejoin:round; stroke-width:4; stroke-opacity:1; fill:none\" points=\"\n  186.436,540.556 205.334,540.556 \n  \"/>\n<polyline clip-path=\"url(#clip990)\" style=\"stroke:#000000; stroke-linecap:round; stroke-linejoin:round; stroke-width:4; stroke-opacity:1; fill:none\" points=\"\n  186.436,314.266 205.334,314.266 \n  \"/>\n<polyline clip-path=\"url(#clip990)\" style=\"stroke:#000000; stroke-linecap:round; stroke-linejoin:round; stroke-width:4; stroke-opacity:1; fill:none\" points=\"\n  186.436,87.9763 205.334,87.9763 \n  \"/>\n<path clip-path=\"url(#clip990)\" d=\"M62.9365 1431.51 Q59.3254 1431.51 57.4967 1435.08 Q55.6912 1438.62 55.6912 1445.75 Q55.6912 1452.86 57.4967 1456.42 Q59.3254 1459.96 62.9365 1459.96 Q66.5707 1459.96 68.3763 1456.42 Q70.205 1452.86 70.205 1445.75 Q70.205 1438.62 68.3763 1435.08 Q66.5707 1431.51 62.9365 1431.51 M62.9365 1427.81 Q68.7467 1427.81 71.8022 1432.42 Q74.8809 1437 74.8809 1445.75 Q74.8809 1454.48 71.8022 1459.08 Q68.7467 1463.67 62.9365 1463.67 Q57.1264 1463.67 54.0477 1459.08 Q50.9921 1454.48 50.9921 1445.75 Q50.9921 1437 54.0477 1432.42 Q57.1264 1427.81 62.9365 1427.81 Z\" fill=\"#000000\" fill-rule=\"evenodd\" fill-opacity=\"1\" /><path clip-path=\"url(#clip990)\" d=\"M83.0984 1457.12 L87.9827 1457.12 L87.9827 1463 L83.0984 1463 L83.0984 1457.12 Z\" fill=\"#000000\" fill-rule=\"evenodd\" fill-opacity=\"1\" /><path clip-path=\"url(#clip990)\" d=\"M108.168 1431.51 Q104.557 1431.51 102.728 1435.08 Q100.922 1438.62 100.922 1445.75 Q100.922 1452.86 102.728 1456.42 Q104.557 1459.96 108.168 1459.96 Q111.802 1459.96 113.608 1456.42 Q115.436 1452.86 115.436 1445.75 Q115.436 1438.62 113.608 1435.08 Q111.802 1431.51 108.168 1431.51 M108.168 1427.81 Q113.978 1427.81 117.033 1432.42 Q120.112 1437 120.112 1445.75 Q120.112 1454.48 117.033 1459.08 Q113.978 1463.67 108.168 1463.67 Q102.358 1463.67 99.2789 1459.08 Q96.2234 1454.48 96.2234 1445.75 Q96.2234 1437 99.2789 1432.42 Q102.358 1427.81 108.168 1427.81 Z\" fill=\"#000000\" fill-rule=\"evenodd\" fill-opacity=\"1\" /><path clip-path=\"url(#clip990)\" d=\"M138.908 1443.85 Q135.76 1443.85 133.908 1446.01 Q132.08 1448.16 132.08 1451.91 Q132.08 1455.63 133.908 1457.81 Q135.76 1459.96 138.908 1459.96 Q142.056 1459.96 143.885 1457.81 Q145.737 1455.63 145.737 1451.91 Q145.737 1448.16 143.885 1446.01 Q142.056 1443.85 138.908 1443.85 M148.191 1429.2 L148.191 1433.46 Q146.431 1432.63 144.626 1432.19 Q142.843 1431.75 141.084 1431.75 Q136.455 1431.75 134.001 1434.87 Q131.57 1438 131.223 1444.32 Q132.589 1442.3 134.649 1441.24 Q136.709 1440.15 139.186 1440.15 Q144.394 1440.15 147.404 1443.32 Q150.436 1446.47 150.436 1451.91 Q150.436 1457.23 147.288 1460.45 Q144.14 1463.67 138.908 1463.67 Q132.913 1463.67 129.742 1459.08 Q126.57 1454.48 126.57 1445.75 Q126.57 1437.56 130.459 1432.69 Q134.348 1427.81 140.899 1427.81 Q142.658 1427.81 144.441 1428.16 Q146.246 1428.51 148.191 1429.2 Z\" fill=\"#000000\" fill-rule=\"evenodd\" fill-opacity=\"1\" /><path clip-path=\"url(#clip990)\" d=\"M64.0013 1205.22 Q60.3902 1205.22 58.5615 1208.79 Q56.756 1212.33 56.756 1219.46 Q56.756 1226.57 58.5615 1230.13 Q60.3902 1233.67 64.0013 1233.67 Q67.6356 1233.67 69.4411 1230.13 Q71.2698 1226.57 71.2698 1219.46 Q71.2698 1212.33 69.4411 1208.79 Q67.6356 1205.22 64.0013 1205.22 M64.0013 1201.52 Q69.8115 1201.52 72.867 1206.13 Q75.9457 1210.71 75.9457 1219.46 Q75.9457 1228.19 72.867 1232.79 Q69.8115 1237.38 64.0013 1237.38 Q58.1912 1237.38 55.1125 1232.79 Q52.0569 1228.19 52.0569 1219.46 Q52.0569 1210.71 55.1125 1206.13 Q58.1912 1201.52 64.0013 1201.52 Z\" fill=\"#000000\" fill-rule=\"evenodd\" fill-opacity=\"1\" /><path clip-path=\"url(#clip990)\" d=\"M84.1632 1230.83 L89.0475 1230.83 L89.0475 1236.71 L84.1632 1236.71 L84.1632 1230.83 Z\" fill=\"#000000\" fill-rule=\"evenodd\" fill-opacity=\"1\" /><path clip-path=\"url(#clip990)\" d=\"M109.233 1205.22 Q105.621 1205.22 103.793 1208.79 Q101.987 1212.33 101.987 1219.46 Q101.987 1226.57 103.793 1230.13 Q105.621 1233.67 109.233 1233.67 Q112.867 1233.67 114.672 1230.13 Q116.501 1226.57 116.501 1219.46 Q116.501 1212.33 114.672 1208.79 Q112.867 1205.22 109.233 1205.22 M109.233 1201.52 Q115.043 1201.52 118.098 1206.13 Q121.177 1210.71 121.177 1219.46 Q121.177 1228.19 118.098 1232.79 Q115.043 1237.38 109.233 1237.38 Q103.422 1237.38 100.344 1232.79 Q97.2882 1228.19 97.2882 1219.46 Q97.2882 1210.71 100.344 1206.13 Q103.422 1201.52 109.233 1201.52 Z\" fill=\"#000000\" fill-rule=\"evenodd\" fill-opacity=\"1\" /><path clip-path=\"url(#clip990)\" d=\"M128.214 1202.15 L150.436 1202.15 L150.436 1204.14 L137.89 1236.71 L133.006 1236.71 L144.811 1206.08 L128.214 1206.08 L128.214 1202.15 Z\" fill=\"#000000\" fill-rule=\"evenodd\" fill-opacity=\"1\" /><path clip-path=\"url(#clip990)\" d=\"M63.1911 978.935 Q59.58 978.935 57.7513 982.499 Q55.9458 986.041 55.9458 993.171 Q55.9458 1000.28 57.7513 1003.84 Q59.58 1007.38 63.1911 1007.38 Q66.8254 1007.38 68.6309 1003.84 Q70.4596 1000.28 70.4596 993.171 Q70.4596 986.041 68.6309 982.499 Q66.8254 978.935 63.1911 978.935 M63.1911 975.231 Q69.0013 975.231 72.0568 979.837 Q75.1355 984.421 75.1355 993.171 Q75.1355 1001.9 72.0568 1006.5 Q69.0013 1011.09 63.1911 1011.09 Q57.381 1011.09 54.3023 1006.5 Q51.2468 1001.9 51.2468 993.171 Q51.2468 984.421 54.3023 979.837 Q57.381 975.231 63.1911 975.231 Z\" fill=\"#000000\" fill-rule=\"evenodd\" fill-opacity=\"1\" /><path clip-path=\"url(#clip990)\" d=\"M83.3531 1004.54 L88.2373 1004.54 L88.2373 1010.42 L83.3531 1010.42 L83.3531 1004.54 Z\" fill=\"#000000\" fill-rule=\"evenodd\" fill-opacity=\"1\" /><path clip-path=\"url(#clip990)\" d=\"M108.422 978.935 Q104.811 978.935 102.983 982.499 Q101.177 986.041 101.177 993.171 Q101.177 1000.28 102.983 1003.84 Q104.811 1007.38 108.422 1007.38 Q112.057 1007.38 113.862 1003.84 Q115.691 1000.28 115.691 993.171 Q115.691 986.041 113.862 982.499 Q112.057 978.935 108.422 978.935 M108.422 975.231 Q114.233 975.231 117.288 979.837 Q120.367 984.421 120.367 993.171 Q120.367 1001.9 117.288 1006.5 Q114.233 1011.09 108.422 1011.09 Q102.612 1011.09 99.5335 1006.5 Q96.478 1001.9 96.478 993.171 Q96.478 984.421 99.5335 979.837 Q102.612 975.231 108.422 975.231 Z\" fill=\"#000000\" fill-rule=\"evenodd\" fill-opacity=\"1\" /><path clip-path=\"url(#clip990)\" d=\"M138.584 994.004 Q135.251 994.004 133.33 995.786 Q131.432 997.569 131.432 1000.69 Q131.432 1003.82 133.33 1005.6 Q135.251 1007.38 138.584 1007.38 Q141.918 1007.38 143.839 1005.6 Q145.76 1003.8 145.76 1000.69 Q145.76 997.569 143.839 995.786 Q141.941 994.004 138.584 994.004 M133.908 992.013 Q130.899 991.272 129.209 989.212 Q127.543 987.152 127.543 984.189 Q127.543 980.046 130.482 977.638 Q133.445 975.231 138.584 975.231 Q143.746 975.231 146.686 977.638 Q149.626 980.046 149.626 984.189 Q149.626 987.152 147.936 989.212 Q146.269 991.272 143.283 992.013 Q146.663 992.8 148.538 995.092 Q150.436 997.384 150.436 1000.69 Q150.436 1005.72 147.357 1008.4 Q144.302 1011.09 138.584 1011.09 Q132.867 1011.09 129.788 1008.4 Q126.732 1005.72 126.732 1000.69 Q126.732 997.384 128.631 995.092 Q130.529 992.8 133.908 992.013 M132.195 984.629 Q132.195 987.314 133.862 988.819 Q135.552 990.323 138.584 990.323 Q141.593 990.323 143.283 988.819 Q144.996 987.314 144.996 984.629 Q144.996 981.944 143.283 980.439 Q141.593 978.935 138.584 978.935 Q135.552 978.935 133.862 980.439 Q132.195 981.944 132.195 984.629 Z\" fill=\"#000000\" fill-rule=\"evenodd\" fill-opacity=\"1\" /><path clip-path=\"url(#clip990)\" d=\"M63.2837 752.645 Q59.6726 752.645 57.8439 756.209 Q56.0384 759.751 56.0384 766.881 Q56.0384 773.987 57.8439 777.552 Q59.6726 781.094 63.2837 781.094 Q66.918 781.094 68.7235 777.552 Q70.5522 773.987 70.5522 766.881 Q70.5522 759.751 68.7235 756.209 Q66.918 752.645 63.2837 752.645 M63.2837 748.941 Q69.0939 748.941 72.1494 753.547 Q75.2281 758.131 75.2281 766.881 Q75.2281 775.608 72.1494 780.214 Q69.0939 784.797 63.2837 784.797 Q57.4736 784.797 54.3949 780.214 Q51.3393 775.608 51.3393 766.881 Q51.3393 758.131 54.3949 753.547 Q57.4736 748.941 63.2837 748.941 Z\" fill=\"#000000\" fill-rule=\"evenodd\" fill-opacity=\"1\" /><path clip-path=\"url(#clip990)\" d=\"M83.4457 778.246 L88.3299 778.246 L88.3299 784.126 L83.4457 784.126 L83.4457 778.246 Z\" fill=\"#000000\" fill-rule=\"evenodd\" fill-opacity=\"1\" /><path clip-path=\"url(#clip990)\" d=\"M108.515 752.645 Q104.904 752.645 103.075 756.209 Q101.27 759.751 101.27 766.881 Q101.27 773.987 103.075 777.552 Q104.904 781.094 108.515 781.094 Q112.149 781.094 113.955 777.552 Q115.783 773.987 115.783 766.881 Q115.783 759.751 113.955 756.209 Q112.149 752.645 108.515 752.645 M108.515 748.941 Q114.325 748.941 117.381 753.547 Q120.459 758.131 120.459 766.881 Q120.459 775.608 117.381 780.214 Q114.325 784.797 108.515 784.797 Q102.705 784.797 99.6261 780.214 Q96.5706 775.608 96.5706 766.881 Q96.5706 758.131 99.6261 753.547 Q102.705 748.941 108.515 748.941 Z\" fill=\"#000000\" fill-rule=\"evenodd\" fill-opacity=\"1\" /><path clip-path=\"url(#clip990)\" d=\"M128.816 783.408 L128.816 779.149 Q130.575 779.982 132.381 780.422 Q134.186 780.862 135.922 780.862 Q140.552 780.862 142.982 777.76 Q145.436 774.635 145.783 768.293 Q144.441 770.283 142.381 771.348 Q140.32 772.413 137.82 772.413 Q132.635 772.413 129.603 769.288 Q126.594 766.14 126.594 760.7 Q126.594 755.376 129.742 752.159 Q132.89 748.941 138.121 748.941 Q144.117 748.941 147.265 753.547 Q150.436 758.131 150.436 766.881 Q150.436 775.052 146.547 779.936 Q142.681 784.797 136.131 784.797 Q134.371 784.797 132.566 784.45 Q130.76 784.103 128.816 783.408 M138.121 768.756 Q141.269 768.756 143.098 766.603 Q144.95 764.45 144.95 760.7 Q144.95 756.973 143.098 754.821 Q141.269 752.645 138.121 752.645 Q134.973 752.645 133.121 754.821 Q131.293 756.973 131.293 760.7 Q131.293 764.45 133.121 766.603 Q134.973 768.756 138.121 768.756 Z\" fill=\"#000000\" fill-rule=\"evenodd\" fill-opacity=\"1\" /><path clip-path=\"url(#clip990)\" d=\"M63.0985 526.355 Q59.4875 526.355 57.6588 529.92 Q55.8532 533.461 55.8532 540.591 Q55.8532 547.697 57.6588 551.262 Q59.4875 554.804 63.0985 554.804 Q66.7328 554.804 68.5383 551.262 Q70.367 547.697 70.367 540.591 Q70.367 533.461 68.5383 529.92 Q66.7328 526.355 63.0985 526.355 M63.0985 522.651 Q68.9087 522.651 71.9642 527.258 Q75.0429 531.841 75.0429 540.591 Q75.0429 549.318 71.9642 553.924 Q68.9087 558.507 63.0985 558.507 Q57.2884 558.507 54.2097 553.924 Q51.1542 549.318 51.1542 540.591 Q51.1542 531.841 54.2097 527.258 Q57.2884 522.651 63.0985 522.651 Z\" fill=\"#000000\" fill-rule=\"evenodd\" fill-opacity=\"1\" /><path clip-path=\"url(#clip990)\" d=\"M83.2605 551.956 L88.1447 551.956 L88.1447 557.836 L83.2605 557.836 L83.2605 551.956 Z\" fill=\"#000000\" fill-rule=\"evenodd\" fill-opacity=\"1\" /><path clip-path=\"url(#clip990)\" d=\"M99.14 553.901 L106.779 553.901 L106.779 527.535 L98.4687 529.202 L98.4687 524.943 L106.733 523.276 L111.408 523.276 L111.408 553.901 L119.047 553.901 L119.047 557.836 L99.14 557.836 L99.14 553.901 Z\" fill=\"#000000\" fill-rule=\"evenodd\" fill-opacity=\"1\" /><path clip-path=\"url(#clip990)\" d=\"M138.492 526.355 Q134.881 526.355 133.052 529.92 Q131.246 533.461 131.246 540.591 Q131.246 547.697 133.052 551.262 Q134.881 554.804 138.492 554.804 Q142.126 554.804 143.931 551.262 Q145.76 547.697 145.76 540.591 Q145.76 533.461 143.931 529.92 Q142.126 526.355 138.492 526.355 M138.492 522.651 Q144.302 522.651 147.357 527.258 Q150.436 531.841 150.436 540.591 Q150.436 549.318 147.357 553.924 Q144.302 558.507 138.492 558.507 Q132.682 558.507 129.603 553.924 Q126.547 549.318 126.547 540.591 Q126.547 531.841 129.603 527.258 Q132.682 522.651 138.492 522.651 Z\" fill=\"#000000\" fill-rule=\"evenodd\" fill-opacity=\"1\" /><path clip-path=\"url(#clip990)\" d=\"M64.3254 300.065 Q60.7143 300.065 58.8856 303.63 Q57.0801 307.171 57.0801 314.301 Q57.0801 321.407 58.8856 324.972 Q60.7143 328.514 64.3254 328.514 Q67.9596 328.514 69.7652 324.972 Q71.5939 321.407 71.5939 314.301 Q71.5939 307.171 69.7652 303.63 Q67.9596 300.065 64.3254 300.065 M64.3254 296.361 Q70.1355 296.361 73.1911 300.968 Q76.2698 305.551 76.2698 314.301 Q76.2698 323.028 73.1911 327.634 Q70.1355 332.217 64.3254 332.217 Q58.5152 332.217 55.4365 327.634 Q52.381 323.028 52.381 314.301 Q52.381 305.551 55.4365 300.968 Q58.5152 296.361 64.3254 296.361 Z\" fill=\"#000000\" fill-rule=\"evenodd\" fill-opacity=\"1\" /><path clip-path=\"url(#clip990)\" d=\"M84.4873 325.667 L89.3715 325.667 L89.3715 331.546 L84.4873 331.546 L84.4873 325.667 Z\" fill=\"#000000\" fill-rule=\"evenodd\" fill-opacity=\"1\" /><path clip-path=\"url(#clip990)\" d=\"M100.367 327.611 L108.006 327.611 L108.006 301.245 L99.6956 302.912 L99.6956 298.653 L107.959 296.986 L112.635 296.986 L112.635 327.611 L120.274 327.611 L120.274 331.546 L100.367 331.546 L100.367 327.611 Z\" fill=\"#000000\" fill-rule=\"evenodd\" fill-opacity=\"1\" /><path clip-path=\"url(#clip990)\" d=\"M130.529 327.611 L138.168 327.611 L138.168 301.245 L129.857 302.912 L129.857 298.653 L138.121 296.986 L142.797 296.986 L142.797 327.611 L150.436 327.611 L150.436 331.546 L130.529 331.546 L130.529 327.611 Z\" fill=\"#000000\" fill-rule=\"evenodd\" fill-opacity=\"1\" /><path clip-path=\"url(#clip990)\" d=\"M64.6958 73.775 Q61.0847 73.775 59.256 77.3398 Q57.4504 80.8814 57.4504 88.011 Q57.4504 95.1174 59.256 98.6822 Q61.0847 102.224 64.6958 102.224 Q68.33 102.224 70.1355 98.6822 Q71.9642 95.1174 71.9642 88.011 Q71.9642 80.8814 70.1355 77.3398 Q68.33 73.775 64.6958 73.775 M64.6958 70.0713 Q70.5059 70.0713 73.5614 74.6777 Q76.6401 79.261 76.6401 88.011 Q76.6401 96.7378 73.5614 101.344 Q70.5059 105.928 64.6958 105.928 Q58.8856 105.928 55.8069 101.344 Q52.7514 96.7378 52.7514 88.011 Q52.7514 79.261 55.8069 74.6777 Q58.8856 70.0713 64.6958 70.0713 Z\" fill=\"#000000\" fill-rule=\"evenodd\" fill-opacity=\"1\" /><path clip-path=\"url(#clip990)\" d=\"M84.8577 99.3767 L89.7419 99.3767 L89.7419 105.256 L84.8577 105.256 L84.8577 99.3767 Z\" fill=\"#000000\" fill-rule=\"evenodd\" fill-opacity=\"1\" /><path clip-path=\"url(#clip990)\" d=\"M100.737 101.321 L108.376 101.321 L108.376 74.9555 L100.066 76.6222 L100.066 72.3629 L108.33 70.6963 L113.006 70.6963 L113.006 101.321 L120.645 101.321 L120.645 105.256 L100.737 105.256 L100.737 101.321 Z\" fill=\"#000000\" fill-rule=\"evenodd\" fill-opacity=\"1\" /><path clip-path=\"url(#clip990)\" d=\"M134.117 101.321 L150.436 101.321 L150.436 105.256 L128.492 105.256 L128.492 101.321 Q131.154 98.5665 135.737 93.9369 Q140.343 89.2841 141.524 87.9416 Q143.769 85.4184 144.649 83.6823 Q145.552 81.9231 145.552 80.2333 Q145.552 77.4786 143.607 75.7425 Q141.686 74.0064 138.584 74.0064 Q136.385 74.0064 133.931 74.7703 Q131.501 75.5342 128.723 77.0851 L128.723 72.3629 Q131.547 71.2287 134.001 70.65 Q136.455 70.0713 138.492 70.0713 Q143.862 70.0713 147.056 72.7565 Q150.251 75.4416 150.251 79.9323 Q150.251 82.062 149.441 83.9832 Q148.654 85.8814 146.547 88.474 Q145.968 89.1453 142.867 92.3628 Q139.765 95.5573 134.117 101.321 Z\" fill=\"#000000\" fill-rule=\"evenodd\" fill-opacity=\"1\" /><polyline clip-path=\"url(#clip992)\" style=\"stroke:#009af9; stroke-linecap:round; stroke-linejoin:round; stroke-width:4; stroke-opacity:1; fill:none\" points=\"\n  928.98,1445.72 919.897,1441.19 910.813,1436.66 901.73,1432.14 892.647,1427.61 883.564,1423.09 874.481,1418.56 865.398,1414.04 856.315,1409.51 847.232,1404.98 \n  838.149,1400.46 829.066,1395.93 819.982,1391.41 810.899,1386.88 801.816,1382.35 792.733,1377.83 783.65,1373.3 774.567,1368.78 765.484,1364.25 756.401,1359.73 \n  747.318,1355.2 738.234,1350.67 729.151,1346.15 720.068,1341.62 710.985,1337.1 701.902,1332.57 692.819,1328.04 683.736,1323.52 674.653,1318.99 665.57,1314.47 \n  656.487,1309.94 647.403,1305.42 638.32,1300.89 629.237,1296.36 620.154,1291.84 611.071,1287.31 601.988,1282.79 592.905,1278.26 583.822,1273.74 574.739,1269.21 \n  565.656,1264.68 556.572,1260.16 547.489,1255.63 538.406,1251.11 529.323,1246.58 520.24,1242.05 511.157,1237.53 502.074,1233 492.991,1228.48 483.908,1223.95 \n  474.825,1219.43 465.741,1214.9 456.658,1210.37 447.575,1205.85 438.492,1201.32 429.409,1196.8 420.326,1192.27 411.243,1187.75 402.16,1183.22 393.077,1178.69 \n  383.994,1174.17 374.91,1169.64 365.827,1165.12 356.744,1160.59 347.661,1156.06 338.578,1151.54 329.495,1147.01 320.412,1142.49 311.329,1137.96 302.246,1133.44 \n  293.162,1128.91 284.079,1124.38 274.996,1119.86 265.913,1115.33 256.83,1110.81 247.747,1106.28 256.83,1101.76 265.913,1097.23 274.996,1092.7 284.079,1088.18 \n  293.162,1083.65 302.246,1079.13 311.329,1074.6 320.412,1070.07 329.495,1065.55 338.578,1061.02 347.661,1056.5 356.744,1051.97 365.827,1047.45 374.91,1042.92 \n  383.994,1038.39 393.077,1033.87 402.16,1029.34 411.243,1024.82 420.326,1020.29 429.409,1015.76 438.492,1011.24 447.575,1006.71 456.658,1002.19 465.741,997.662 \n  474.825,993.136 483.908,988.61 492.991,984.084 502.074,979.558 511.157,975.033 520.24,970.507 529.323,965.981 538.406,961.455 547.489,956.93 556.572,952.404 \n  565.656,947.878 574.739,943.352 583.822,938.826 592.905,934.301 601.988,929.775 611.071,925.249 620.154,920.723 629.237,916.197 638.32,911.672 647.403,907.146 \n  656.487,902.62 665.57,898.094 674.653,893.568 683.736,889.043 692.819,884.517 701.902,879.991 710.985,875.465 720.068,870.939 729.151,866.414 738.234,861.888 \n  747.318,857.362 756.401,852.836 765.484,848.31 774.567,843.785 783.65,839.259 792.733,834.733 801.816,830.207 810.899,825.681 819.982,821.156 829.066,816.63 \n  838.149,812.104 847.232,807.578 856.315,803.052 865.398,798.527 874.481,794.001 883.564,789.475 892.647,784.949 901.73,780.423 910.813,775.898 919.897,771.372 \n  928.98,766.846 938.063,762.32 947.146,757.794 956.229,753.269 965.312,748.743 974.395,744.217 983.478,739.691 992.561,735.165 1001.64,730.64 1010.73,726.114 \n  1019.81,721.588 1028.89,717.062 1037.98,712.536 1047.06,708.011 1056.14,703.485 1065.23,698.959 1074.31,694.433 1083.39,689.907 1092.48,685.382 1101.56,680.856 \n  1110.64,676.33 1119.72,671.804 1128.81,667.278 1137.89,662.753 1146.97,658.227 1156.06,653.701 1165.14,649.175 1174.22,644.649 1183.31,640.124 1192.39,635.598 \n  1201.47,631.072 1210.56,626.546 1219.64,622.02 1228.72,617.495 1237.81,612.969 1246.89,608.443 1255.97,603.917 1265.05,599.391 1274.14,594.866 1283.22,590.34 \n  1292.3,585.814 1301.39,581.288 1310.47,576.762 1319.55,572.237 1328.64,567.711 1337.72,563.185 1346.8,558.659 1355.89,554.133 1364.97,549.608 1374.05,545.082 \n  1383.13,540.556 1392.22,536.03 1401.3,531.504 1410.38,526.979 1419.47,522.453 1428.55,517.927 1437.63,513.401 1446.72,508.875 1455.8,504.35 1464.88,499.824 \n  1473.97,495.298 1483.05,490.772 1492.13,486.247 1501.22,481.721 1510.3,477.195 1519.38,472.669 1528.46,468.143 1537.55,463.618 1546.63,459.092 1555.71,454.566 \n  1564.8,450.04 1573.88,445.514 1582.96,440.989 1592.05,436.463 1601.13,431.937 1610.21,427.411 1619.3,422.885 1628.38,418.36 1637.46,413.834 1646.54,409.308 \n  1655.63,404.782 1664.71,400.256 1673.79,395.731 1682.88,391.205 1691.96,386.679 1701.04,382.153 1710.13,377.627 1719.21,373.102 1728.29,368.576 1737.38,364.05 \n  1746.46,359.524 1755.54,354.998 1764.63,350.473 1773.71,345.947 1782.79,341.421 1791.87,336.895 1800.96,332.369 1810.04,327.844 1819.12,323.318 1828.21,318.792 \n  1837.29,314.266 1846.37,309.74 1855.46,305.215 1864.54,300.689 1873.62,296.163 1882.71,291.637 1891.79,287.111 1900.87,282.586 1909.95,278.06 1919.04,273.534 \n  1928.12,269.008 1937.2,264.482 1946.29,259.957 1955.37,255.431 1964.45,250.905 1973.54,246.379 1982.62,241.853 1991.7,237.328 2000.79,232.802 2009.87,228.276 \n  2018.95,223.75 2028.04,219.224 2037.12,214.699 2046.2,210.173 2055.28,205.647 2064.37,201.121 2073.45,196.595 2082.53,192.07 2091.62,187.544 2100.7,183.018 \n  2109.78,178.492 2118.87,173.966 2127.95,169.441 2137.03,164.915 2146.12,160.389 2155.2,155.863 2164.28,151.337 2173.36,146.812 2182.45,142.286 2191.53,137.76 \n  2200.61,133.234 2209.7,128.708 2218.78,124.183 2227.86,119.657 2236.95,115.131 2246.03,110.605 2255.11,106.079 2264.2,101.554 2273.28,97.0279 2282.36,92.5021 \n  2291.44,87.9763 \n  \"/>\n<path clip-path=\"url(#clip990)\" d=\"\nM1987.41 198.898 L2280.55 198.898 L2280.55 95.2176 L1987.41 95.2176  Z\n  \" fill=\"#ffffff\" fill-rule=\"evenodd\" fill-opacity=\"1\"/>\n<polyline clip-path=\"url(#clip990)\" style=\"stroke:#000000; stroke-linecap:round; stroke-linejoin:round; stroke-width:4; stroke-opacity:1; fill:none\" points=\"\n  1987.41,198.898 2280.55,198.898 2280.55,95.2176 1987.41,95.2176 1987.41,198.898 \n  \"/>\n<polyline clip-path=\"url(#clip990)\" style=\"stroke:#009af9; stroke-linecap:round; stroke-linejoin:round; stroke-width:4; stroke-opacity:1; fill:none\" points=\"\n  2011.48,147.058 2155.9,147.058 \n  \"/>\n<path clip-path=\"url(#clip990)\" d=\"M2193.82 166.745 Q2192.01 171.375 2190.3 172.787 Q2188.59 174.199 2185.72 174.199 L2182.31 174.199 L2182.31 170.634 L2184.81 170.634 Q2186.57 170.634 2187.54 169.8 Q2188.52 168.967 2189.7 165.865 L2190.46 163.921 L2179.97 138.412 L2184.49 138.412 L2192.59 158.689 L2200.69 138.412 L2205.21 138.412 L2193.82 166.745 Z\" fill=\"#000000\" fill-rule=\"evenodd\" fill-opacity=\"1\" /><path clip-path=\"url(#clip990)\" d=\"M2212.5 160.402 L2220.14 160.402 L2220.14 134.037 L2211.83 135.703 L2211.83 131.444 L2220.09 129.778 L2224.77 129.778 L2224.77 160.402 L2232.4 160.402 L2232.4 164.338 L2212.5 164.338 L2212.5 160.402 Z\" fill=\"#000000\" fill-rule=\"evenodd\" fill-opacity=\"1\" /></svg>\n"
     },
     "execution_count": 427,
     "metadata": {},
     "output_type": "execute_result"
    }
   ],
   "source": [
    "mean_h = h.*mean_X .+(1 .-h).*mean_Y\n",
    "sd_h = sqrt.(h'.^2 .*var_X + (1 .-h)'.^2 .*var_Y .+ 2*(h.*(1 .-h)*cov_XY[1])')\n",
    "\n",
    "plot(sd_h', mean_h)"
   ]
  },
  {
   "attachments": {},
   "cell_type": "markdown",
   "metadata": {},
   "source": [
    "#### 14\n",
    "\n",
    "A market value balance sheet for the Carr Commercial Bank is given below in millions of dollars:\n",
    "\n",
    "| Assets |  | Liabilities |  | \n",
    "| --- | --- | --- | --- |\n",
    "| Short-Term | 100 | Short-Term | 50 |\n",
    "| US Govt. Bonds | 200 | Deposits | 850 |\n",
    "| Loans | 700 | Equity | 100 |\n",
    "\n",
    "The standard deviations and correlations between returns on asset and liability categories (excepting equity) are as follows:\n",
    "$$\n",
    "\\begin{aligned}\n",
    "& \\sigma(S T A)=.02, \\quad r_{S T A, U S}=0, \\quad r_{S T A, L}=0, \\quad r_{S T A, S T L}=0, \\quad r_{S T A, D}=0, \\\\\n",
    "& \\sigma(U S)=.04, \\quad r_{U S, L}=.8, \\quad r_{U S, S T L}=0, \\quad r_{U S, D}=.3, \\\\\n",
    "& \\sigma(L)=.07, \\quad r_{L, S T L}=0, \\quad r_{L, D} \\cdot 2, \\\\\n",
    "& \\sigma(S T L)=.02, \\quad r_{S T L, D}=0, \\\\\n",
    "& \\sigma(D)=.03 . \\\\\n",
    "&\n",
    "\\end{aligned}\n",
    "$$\n",
    "(a) What is the standard deviation of the equity holder's position?\n",
    "\n",
    "(b) Suppose the bank decides to hedge by taking a position in T-bond futures contracts. You are given the following information:\n",
    "$$\n",
    "\\begin{gathered}\n",
    "V_{T B}=\\$ 90,000 \\text { for a } \\$ 100,000 \\text { face value T-bond contract, } \\\\\n",
    "\\sigma_{T B}=.08, \\quad r_{T B, S T A}=0, \\quad r_{T B, L}=.5, \\quad r_{T B, S T L}=0, \\quad r_{T B, D}=.3 .\n",
    "\\end{gathered}\n",
    "$$\n",
    "Should the bank take a long or short position in T-bond futures? How many futures contracts should they buy/sell? How much is the standard deviation of equity reduced?"
   ]
  },
  {
   "cell_type": "code",
   "execution_count": 61,
   "metadata": {},
   "outputs": [
    {
     "data": {
      "text/plain": [
       "1×1 Matrix{Float64}:\n",
       " 55.90393546075268"
      ]
     },
     "execution_count": 61,
     "metadata": {},
     "output_type": "execute_result"
    }
   ],
   "source": [
    "corr = [1 0 0 0 0; 0 1 .8 0 .3; 0 .8 1 0 .2; 0 0 0 1 0; 0 .3 .2 0 1]\n",
    "sd = Diagonal([.02, .04, .07, .02, .03])\n",
    "\n",
    "cov = sd*corr*sd\n",
    "\n",
    "V = [1 2 7 -.5 -8.50]*100\n",
    "sd_h = sqrt(V*cov*V')"
   ]
  },
  {
   "cell_type": "code",
   "execution_count": 37,
   "metadata": {},
   "outputs": [
    {
     "data": {
      "text/plain": [
       "1-element Vector{Float64}:\n",
       " -3340.2777777777783"
      ]
     },
     "execution_count": 37,
     "metadata": {},
     "output_type": "execute_result"
    }
   ],
   "source": [
    "r_TB = [0 .9 .5 0 .3]\n",
    "sd_TB = 0.08\n",
    "\n",
    "N = -V.*r_TB.*sd_vec./(.09 .*sd_TB)*ones(5)"
   ]
  },
  {
   "attachments": {},
   "cell_type": "markdown",
   "metadata": {},
   "source": [
    "Should take a short position in 3340 T-Bonds."
   ]
  },
  {
   "cell_type": "code",
   "execution_count": 76,
   "metadata": {},
   "outputs": [
    {
     "data": {
      "text/plain": [
       "1×1 Matrix{Float64}:\n",
       " 50.46478041664305"
      ]
     },
     "execution_count": 76,
     "metadata": {},
     "output_type": "execute_result"
    }
   ],
   "source": [
    "V_tb = N*.09\n",
    "V_hedge = [V V_tb]\n",
    "\n",
    "corr_hedge = [corr r_TB'; r_TB 1]\n",
    "sd_new = [diag(sd); sd_TB]\n",
    "\n",
    "cov_hedge = sd_new.*corr_hedge.*sd_new\n",
    "sd_hedge = sqrt(V_hedge*cov_hedge*V_hedge')"
   ]
  },
  {
   "attachments": {},
   "cell_type": "markdown",
   "metadata": {},
   "source": [
    "Hedge reduces the standard deviation of our portfolio by 0.43"
   ]
  }
 ],
 "metadata": {
  "kernelspec": {
   "display_name": "Julia 1.8.2",
   "language": "julia",
   "name": "julia-1.8"
  },
  "language_info": {
   "file_extension": ".jl",
   "mimetype": "application/julia",
   "name": "julia",
   "version": "1.8.2"
  },
  "orig_nbformat": 4,
  "vscode": {
   "interpreter": {
    "hash": "af34d7e565d31954c9f692121be51d55df20f46367d89af6b66f92847ac5257c"
   }
  }
 },
 "nbformat": 4,
 "nbformat_minor": 2
}
