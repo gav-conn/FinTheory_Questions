{
 "cells": [
  {
   "cell_type": "code",
   "execution_count": 175,
   "metadata": {},
   "outputs": [
    {
     "name": "stderr",
     "output_type": "stream",
     "text": [
      "\u001b[32m\u001b[1m   Resolving\u001b[22m\u001b[39m package versions...\n",
      "\u001b[32m\u001b[1m  No Changes\u001b[22m\u001b[39m to `C:\\Users\\Gavin\\.julia\\environments\\v1.8\\Project.toml`\n",
      "\u001b[32m\u001b[1m  No Changes\u001b[22m\u001b[39m to `C:\\Users\\Gavin\\.julia\\environments\\v1.8\\Manifest.toml`\n",
      "\u001b[32m\u001b[1m   Resolving\u001b[22m\u001b[39m package versions...\n",
      "\u001b[32m\u001b[1m  No Changes\u001b[22m\u001b[39m to `C:\\Users\\Gavin\\.julia\\environments\\v1.8\\Project.toml`\n",
      "\u001b[32m\u001b[1m  No Changes\u001b[22m\u001b[39m to `C:\\Users\\Gavin\\.julia\\environments\\v1.8\\Manifest.toml`\n",
      "\u001b[32m\u001b[1m   Resolving\u001b[22m\u001b[39m package versions...\n",
      "\u001b[32m\u001b[1m   Installed\u001b[22m\u001b[39m Libmount_jll ───────────────── v2.35.0+0\n",
      "\u001b[32m\u001b[1m   Installed\u001b[22m\u001b[39m x265_jll ───────────────────── v3.5.0+0\n",
      "\u001b[32m\u001b[1m   Installed\u001b[22m\u001b[39m GR_jll ─────────────────────── v0.69.1+0\n",
      "\u001b[32m\u001b[1m   Installed\u001b[22m\u001b[39m JpegTurbo_jll ──────────────── v2.1.2+0\n",
      "\u001b[32m\u001b[1m   Installed\u001b[22m\u001b[39m libfdk_aac_jll ─────────────── v2.0.2+0\n",
      "\u001b[32m\u001b[1m   Installed\u001b[22m\u001b[39m LERC_jll ───────────────────── v3.0.0+1\n",
      "\u001b[32m\u001b[1m   Installed\u001b[22m\u001b[39m Opus_jll ───────────────────── v1.3.2+0\n",
      "\u001b[32m\u001b[1m   Installed\u001b[22m\u001b[39m LoggingExtras ──────────────── v0.4.9\n",
      "\u001b[32m\u001b[1m   Installed\u001b[22m\u001b[39m Xorg_xkbcomp_jll ───────────── v1.4.2+4\n",
      "\u001b[32m\u001b[1m   Installed\u001b[22m\u001b[39m RelocatableFolders ─────────── v1.0.0\n",
      "\u001b[32m\u001b[1m   Installed\u001b[22m\u001b[39m Measures ───────────────────── v0.3.1\n",
      "\u001b[32m\u001b[1m   Installed\u001b[22m\u001b[39m Xorg_xcb_util_wm_jll ───────── v0.4.1+1\n",
      "\u001b[32m\u001b[1m   Installed\u001b[22m\u001b[39m Formatting ─────────────────── v0.4.2\n",
      "\u001b[32m\u001b[1m   Installed\u001b[22m\u001b[39m Grisu ──────────────────────── v1.0.2\n",
      "\u001b[32m\u001b[1m   Installed\u001b[22m\u001b[39m Xorg_xcb_util_image_jll ────── v0.4.0+1\n",
      "\u001b[32m\u001b[1m   Installed\u001b[22m\u001b[39m Contour ────────────────────── v0.6.2\n",
      "\u001b[32m\u001b[1m   Installed\u001b[22m\u001b[39m PlotUtils ──────────────────── v1.3.1\n",
      "\u001b[32m\u001b[1m   Installed\u001b[22m\u001b[39m RecipesPipeline ────────────── v0.6.8\n",
      "\u001b[32m\u001b[1m   Installed\u001b[22m\u001b[39m OpenSSL ────────────────────── v1.3.0\n",
      "\u001b[32m\u001b[1m   Installed\u001b[22m\u001b[39m Xorg_libpthread_stubs_jll ──── v0.1.0+3\n",
      "\u001b[32m\u001b[1m   Installed\u001b[22m\u001b[39m Cairo_jll ──────────────────── v1.16.1+1\n",
      "\u001b[32m\u001b[1m   Installed\u001b[22m\u001b[39m Fontconfig_jll ─────────────── v2.13.93+0\n",
      "\u001b[32m\u001b[1m   Installed\u001b[22m\u001b[39m Xorg_xcb_util_jll ──────────── v0.4.0+1\n",
      "\u001b[32m\u001b[1m   Installed\u001b[22m\u001b[39m Xorg_libxkbfile_jll ────────── v1.1.0+4\n",
      "\u001b[32m\u001b[1m   Installed\u001b[22m\u001b[39m Libgpg_error_jll ───────────── v1.42.0+0\n",
      "\u001b[32m\u001b[1m   Installed\u001b[22m\u001b[39m HTTP ───────────────────────── v1.5.1\n",
      "\u001b[32m\u001b[1m   Installed\u001b[22m\u001b[39m Xorg_libXinerama_jll ───────── v1.1.4+4\n",
      "\u001b[32m\u001b[1m   Installed\u001b[22m\u001b[39m Xorg_libXau_jll ────────────── v1.0.9+4\n",
      "\u001b[32m\u001b[1m   Installed\u001b[22m\u001b[39m Showoff ────────────────────── v1.0.3\n",
      "\u001b[32m\u001b[1m   Installed\u001b[22m\u001b[39m FFMPEG ─────────────────────── v0.4.1\n",
      "\u001b[32m\u001b[1m   Installed\u001b[22m\u001b[39m Missings ───────────────────── v1.0.2\n",
      "\u001b[32m\u001b[1m   Installed\u001b[22m\u001b[39m Qt5Base_jll ────────────────── v5.15.3+1\n",
      "\u001b[32m\u001b[1m   Installed\u001b[22m\u001b[39m Xorg_xcb_util_keysyms_jll ──── v0.4.0+1\n",
      "\u001b[32m\u001b[1m   Installed\u001b[22m\u001b[39m xkbcommon_jll ──────────────── v1.4.1+0\n",
      "\u001b[32m\u001b[1m   Installed\u001b[22m\u001b[39m SimpleBufferStream ─────────── v1.1.0\n",
      "\u001b[32m\u001b[1m   Installed\u001b[22m\u001b[39m LZO_jll ────────────────────── v2.10.1+0\n",
      "\u001b[32m\u001b[1m   Installed\u001b[22m\u001b[39m PlotThemes ─────────────────── v3.1.0\n",
      "\u001b[32m\u001b[1m   Installed\u001b[22m\u001b[39m Pipe ───────────────────────── v1.3.0\n",
      "\u001b[32m\u001b[1m   Installed\u001b[22m\u001b[39m HarfBuzz_jll ───────────────── v2.8.1+1\n",
      "\u001b[32m\u001b[1m   Installed\u001b[22m\u001b[39m fzf_jll ────────────────────── v0.29.0+0\n",
      "\u001b[32m\u001b[1m   Installed\u001b[22m\u001b[39m FriBidi_jll ────────────────── v1.0.10+0\n",
      "\u001b[32m\u001b[1m   Installed\u001b[22m\u001b[39m GLFW_jll ───────────────────── v3.3.8+0\n",
      "\u001b[32m\u001b[1m   Installed\u001b[22m\u001b[39m SnoopPrecompile ────────────── v1.0.1\n",
      "\u001b[32m\u001b[1m   Installed\u001b[22m\u001b[39m UnicodeFun ─────────────────── v0.4.1\n",
      "\u001b[32m\u001b[1m   Installed\u001b[22m\u001b[39m Colors ─────────────────────── v0.12.8\n",
      "\u001b[32m\u001b[1m   Installed\u001b[22m\u001b[39m x264_jll ───────────────────── v2021.5.5+0\n",
      "\u001b[32m\u001b[1m   Installed\u001b[22m\u001b[39m FreeType2_jll ──────────────── v2.10.4+0\n",
      "\u001b[32m\u001b[1m   Installed\u001b[22m\u001b[39m StatsAPI ───────────────────── v1.5.0\n",
      "\u001b[32m\u001b[1m   Installed\u001b[22m\u001b[39m Xorg_libxcb_jll ────────────── v1.13.0+3\n",
      "\u001b[32m\u001b[1m   Installed\u001b[22m\u001b[39m JLFzf ──────────────────────── v0.1.5\n",
      "\u001b[32m\u001b[1m   Installed\u001b[22m\u001b[39m libpng_jll ─────────────────── v1.6.38+0\n",
      "\u001b[32m\u001b[1m   Installed\u001b[22m\u001b[39m StatsBase ──────────────────── v0.33.21\n",
      "\u001b[32m\u001b[1m   Installed\u001b[22m\u001b[39m libaom_jll ─────────────────── v3.4.0+0\n",
      "\u001b[32m\u001b[1m   Installed\u001b[22m\u001b[39m Scratch ────────────────────── v1.1.1\n",
      "\u001b[32m\u001b[1m   Installed\u001b[22m\u001b[39m ColorSchemes ───────────────── v3.19.0\n",
      "\u001b[32m\u001b[1m   Installed\u001b[22m\u001b[39m Zstd_jll ───────────────────── v1.5.2+0\n",
      "\u001b[32m\u001b[1m   Installed\u001b[22m\u001b[39m Xorg_libXext_jll ───────────── v1.3.4+4\n",
      "\u001b[32m\u001b[1m   Installed\u001b[22m\u001b[39m TensorCore ─────────────────── v0.1.1\n",
      "\u001b[32m\u001b[1m   Installed\u001b[22m\u001b[39m ColorTypes ─────────────────── v0.11.4\n",
      "\u001b[32m\u001b[1m   Installed\u001b[22m\u001b[39m Expat_jll ──────────────────── v2.4.8+0\n",
      "\u001b[32m\u001b[1m   Installed\u001b[22m\u001b[39m Libtiff_jll ────────────────── v4.4.0+0\n",
      "\u001b[32m\u001b[1m   Installed\u001b[22m\u001b[39m ColorVectorSpace ───────────── v0.9.9\n",
      "\u001b[32m\u001b[1m   Installed\u001b[22m\u001b[39m Libffi_jll ─────────────────── v3.2.2+1\n",
      "\u001b[32m\u001b[1m   Installed\u001b[22m\u001b[39m Xorg_libXrender_jll ────────── v0.9.10+4\n",
      "\u001b[32m\u001b[1m   Installed\u001b[22m\u001b[39m Xorg_libXi_jll ─────────────── v1.7.10+4\n",
      "\u001b[32m\u001b[1m   Installed\u001b[22m\u001b[39m Ogg_jll ────────────────────── v1.3.5+1\n",
      "\u001b[32m\u001b[1m   Installed\u001b[22m\u001b[39m XSLT_jll ───────────────────── v1.1.34+0\n",
      "\u001b[32m\u001b[1m   Installed\u001b[22m\u001b[39m Reexport ───────────────────── v1.2.2\n",
      "\u001b[32m\u001b[1m   Installed\u001b[22m\u001b[39m Plots ──────────────────────── v1.35.6\n",
      "\u001b[32m\u001b[1m   Installed\u001b[22m\u001b[39m Libuuid_jll ────────────────── v2.36.0+0\n",
      "\u001b[32m\u001b[1m   Installed\u001b[22m\u001b[39m Xorg_libXcursor_jll ────────── v1.2.0+4\n",
      "\u001b[32m\u001b[1m   Installed\u001b[22m\u001b[39m Wayland_protocols_jll ──────── v1.25.0+0\n",
      "\u001b[32m\u001b[1m   Installed\u001b[22m\u001b[39m Xorg_xcb_util_renderutil_jll ─ v0.3.9+1\n",
      "\u001b[32m\u001b[1m   Installed\u001b[22m\u001b[39m Graphite2_jll ──────────────── v1.3.14+0\n",
      "\u001b[32m\u001b[1m   Installed\u001b[22m\u001b[39m Pixman_jll ─────────────────── v0.40.1+0\n",
      "\u001b[32m\u001b[1m   Installed\u001b[22m\u001b[39m libass_jll ─────────────────── v0.15.1+0\n",
      "\u001b[32m\u001b[1m   Installed\u001b[22m\u001b[39m XML2_jll ───────────────────── v2.9.14+0\n",
      "\u001b[32m\u001b[1m   Installed\u001b[22m\u001b[39m Gettext_jll ────────────────── v0.21.0+0\n",
      "\u001b[32m\u001b[1m   Installed\u001b[22m\u001b[39m Xorg_xtrans_jll ────────────── v1.4.0+3\n",
      "\u001b[32m\u001b[1m   Installed\u001b[22m\u001b[39m Wayland_jll ────────────────── v1.19.0+0\n",
      "\u001b[32m\u001b[1m   Installed\u001b[22m\u001b[39m Latexify ───────────────────── v0.15.17\n",
      "\u001b[32m\u001b[1m   Installed\u001b[22m\u001b[39m OpenSSL_jll ────────────────── v1.1.17+0\n",
      "\u001b[32m\u001b[1m   Installed\u001b[22m\u001b[39m BitFlags ───────────────────── v0.1.5\n",
      "\u001b[32m\u001b[1m   Installed\u001b[22m\u001b[39m FFMPEG_jll ─────────────────── v4.4.2+2\n",
      "\u001b[32m\u001b[1m   Installed\u001b[22m\u001b[39m Xorg_xkeyboard_config_jll ──── v2.27.0+4\n",
      "\u001b[32m\u001b[1m   Installed\u001b[22m\u001b[39m Libgcrypt_jll ──────────────── v1.8.7+0\n",
      "\u001b[32m\u001b[1m   Installed\u001b[22m\u001b[39m DataAPI ────────────────────── v1.12.0\n",
      "\u001b[32m\u001b[1m   Installed\u001b[22m\u001b[39m GR ─────────────────────────── v0.69.5\n",
      "\u001b[32m\u001b[1m   Installed\u001b[22m\u001b[39m FixedPointNumbers ──────────── v0.8.4\n",
      "\u001b[32m\u001b[1m   Installed\u001b[22m\u001b[39m Xorg_libXrandr_jll ─────────── v1.5.2+4\n",
      "\u001b[32m\u001b[1m   Installed\u001b[22m\u001b[39m RecipesBase ────────────────── v1.3.1\n",
      "\u001b[32m\u001b[1m   Installed\u001b[22m\u001b[39m Xorg_libXfixes_jll ─────────── v5.0.3+4\n",
      "\u001b[32m\u001b[1m   Installed\u001b[22m\u001b[39m LAME_jll ───────────────────── v3.100.1+0\n",
      "\u001b[32m\u001b[1m   Installed\u001b[22m\u001b[39m Libiconv_jll ───────────────── v1.16.1+1\n",
      "\u001b[32m\u001b[1m   Installed\u001b[22m\u001b[39m Glib_jll ───────────────────── v2.74.0+1\n",
      "\u001b[32m\u001b[1m   Installed\u001b[22m\u001b[39m libvorbis_jll ──────────────── v1.3.7+1\n",
      "\u001b[32m\u001b[1m   Installed\u001b[22m\u001b[39m IniFile ────────────────────── v0.5.1\n",
      "\u001b[32m\u001b[1m   Installed\u001b[22m\u001b[39m LaTeXStrings ───────────────── v1.3.0\n",
      "\u001b[32m\u001b[1m   Installed\u001b[22m\u001b[39m URIs ───────────────────────── v1.4.0\n",
      "\u001b[32m\u001b[1m   Installed\u001b[22m\u001b[39m Libglvnd_jll ───────────────── v1.3.0+3\n",
      "\u001b[32m\u001b[1m   Installed\u001b[22m\u001b[39m Xorg_libX11_jll ────────────── v1.6.9+4\n",
      "\u001b[32m\u001b[1m   Installed\u001b[22m\u001b[39m Requires ───────────────────── v1.3.0\n",
      "\u001b[32m\u001b[1m   Installed\u001b[22m\u001b[39m Xorg_libXdmcp_jll ──────────── v1.1.3+4\n",
      "\u001b[32m\u001b[1m   Installed\u001b[22m\u001b[39m SortingAlgorithms ──────────── v1.0.1\n",
      "\u001b[32m\u001b[1m   Installed\u001b[22m\u001b[39m Unzip ──────────────────────── v0.2.0\n",
      "\u001b[32m\u001b[1m    Updating\u001b[22m\u001b[39m `C:\\Users\\Gavin\\.julia\\environments\\v1.8\\Project.toml`\n",
      " \u001b[90m [91a5bcdd] \u001b[39m\u001b[92m+ Plots v1.35.6\u001b[39m\n",
      "\u001b[32m\u001b[1m    Updating\u001b[22m\u001b[39m `C:\\Users\\Gavin\\.julia\\environments\\v1.8\\Manifest.toml`\n"
     ]
    },
    {
     "name": "stderr",
     "output_type": "stream",
     "text": [
      " \u001b[90m [d1d4a3ce] \u001b[39m\u001b[92m+ BitFlags v0.1.5\u001b[39m\n",
      " \u001b[90m [35d6a980] \u001b[39m\u001b[92m+ ColorSchemes v3.19.0\u001b[39m\n",
      " \u001b[90m [3da002f7] \u001b[39m\u001b[92m+ ColorTypes v0.11.4\u001b[39m\n",
      " \u001b[90m [c3611d14] \u001b[39m\u001b[92m+ ColorVectorSpace v0.9.9\u001b[39m\n",
      " \u001b[90m [5ae59095] \u001b[39m\u001b[92m+ Colors v0.12.8\u001b[39m\n",
      " \u001b[90m [d38c429a] \u001b[39m\u001b[92m+ Contour v0.6.2\u001b[39m\n",
      " \u001b[90m [9a962f9c] \u001b[39m\u001b[92m+ DataAPI v1.12.0\u001b[39m\n",
      " \u001b[90m [c87230d0] \u001b[39m\u001b[92m+ FFMPEG v0.4.1\u001b[39m\n",
      " \u001b[90m [53c48c17] \u001b[39m\u001b[92m+ FixedPointNumbers v0.8.4\u001b[39m\n",
      " \u001b[90m [59287772] \u001b[39m\u001b[92m+ Formatting v0.4.2\u001b[39m\n",
      " \u001b[90m [28b8d3ca] \u001b[39m\u001b[92m+ GR v0.69.5\u001b[39m\n",
      " \u001b[90m [42e2da0e] \u001b[39m\u001b[92m+ Grisu v1.0.2\u001b[39m\n",
      " \u001b[90m [cd3eb016] \u001b[39m\u001b[92m+ HTTP v1.5.1\u001b[39m\n",
      " \u001b[90m [83e8ac13] \u001b[39m\u001b[92m+ IniFile v0.5.1\u001b[39m\n",
      " \u001b[90m [1019f520] \u001b[39m\u001b[92m+ JLFzf v0.1.5\u001b[39m\n",
      " \u001b[90m [b964fa9f] \u001b[39m\u001b[92m+ LaTeXStrings v1.3.0\u001b[39m\n",
      " \u001b[90m [23fbe1c1] \u001b[39m\u001b[92m+ Latexify v0.15.17\u001b[39m\n",
      " \u001b[90m [e6f89c97] \u001b[39m\u001b[92m+ LoggingExtras v0.4.9\u001b[39m\n",
      " \u001b[90m [442fdcdd] \u001b[39m\u001b[92m+ Measures v0.3.1\u001b[39m\n",
      " \u001b[90m [e1d29d7a] \u001b[39m\u001b[92m+ Missings v1.0.2\u001b[39m\n",
      " \u001b[90m [4d8831e6] \u001b[39m\u001b[92m+ OpenSSL v1.3.0\u001b[39m\n",
      " \u001b[90m [b98c9c47] \u001b[39m\u001b[92m+ Pipe v1.3.0\u001b[39m\n",
      " \u001b[90m [ccf2f8ad] \u001b[39m\u001b[92m+ PlotThemes v3.1.0\u001b[39m\n",
      " \u001b[90m [995b91a9] \u001b[39m\u001b[92m+ PlotUtils v1.3.1\u001b[39m\n",
      " \u001b[90m [91a5bcdd] \u001b[39m\u001b[92m+ Plots v1.35.6\u001b[39m\n",
      " \u001b[90m [3cdcf5f2] \u001b[39m\u001b[92m+ RecipesBase v1.3.1\u001b[39m\n",
      " \u001b[90m [01d81517] \u001b[39m\u001b[92m+ RecipesPipeline v0.6.8\u001b[39m\n",
      " \u001b[90m [189a3867] \u001b[39m\u001b[92m+ Reexport v1.2.2\u001b[39m\n",
      " \u001b[90m [05181044] \u001b[39m\u001b[92m+ RelocatableFolders v1.0.0\u001b[39m\n",
      " \u001b[90m [ae029012] \u001b[39m\u001b[92m+ Requires v1.3.0\u001b[39m\n",
      " \u001b[90m [6c6a2e73] \u001b[39m\u001b[92m+ Scratch v1.1.1\u001b[39m\n",
      " \u001b[90m [992d4aef] \u001b[39m\u001b[92m+ Showoff v1.0.3\u001b[39m\n",
      " \u001b[90m [777ac1f9] \u001b[39m\u001b[92m+ SimpleBufferStream v1.1.0\u001b[39m\n",
      " \u001b[90m [66db9d55] \u001b[39m\u001b[92m+ SnoopPrecompile v1.0.1\u001b[39m\n",
      " \u001b[90m [a2af1166] \u001b[39m\u001b[92m+ SortingAlgorithms v1.0.1\u001b[39m\n",
      " \u001b[90m [82ae8749] \u001b[39m\u001b[92m+ StatsAPI v1.5.0\u001b[39m\n",
      " \u001b[90m [2913bbd2] \u001b[39m\u001b[92m+ StatsBase v0.33.21\u001b[39m\n",
      " \u001b[90m [62fd8b95] \u001b[39m\u001b[92m+ TensorCore v0.1.1\u001b[39m\n",
      " \u001b[90m [5c2747f8] \u001b[39m\u001b[92m+ URIs v1.4.0\u001b[39m\n",
      " \u001b[90m [1cfade01] \u001b[39m\u001b[92m+ UnicodeFun v0.4.1\u001b[39m\n",
      " \u001b[90m [41fe7b60] \u001b[39m\u001b[92m+ Unzip v0.2.0\u001b[39m\n",
      " \u001b[90m [83423d85] \u001b[39m\u001b[92m+ Cairo_jll v1.16.1+1\u001b[39m\n",
      " \u001b[90m [2e619515] \u001b[39m\u001b[92m+ Expat_jll v2.4.8+0\u001b[39m\n",
      " \u001b[90m [b22a6f82] \u001b[39m\u001b[92m+ FFMPEG_jll v4.4.2+2\u001b[39m\n",
      " \u001b[90m [a3f928ae] \u001b[39m\u001b[92m+ Fontconfig_jll v2.13.93+0\u001b[39m\n",
      " \u001b[90m [d7e528f0] \u001b[39m\u001b[92m+ FreeType2_jll v2.10.4+0\u001b[39m\n",
      " \u001b[90m [559328eb] \u001b[39m\u001b[92m+ FriBidi_jll v1.0.10+0\u001b[39m\n",
      " \u001b[90m [0656b61e] \u001b[39m\u001b[92m+ GLFW_jll v3.3.8+0\u001b[39m\n",
      " \u001b[90m [d2c73de3] \u001b[39m\u001b[92m+ GR_jll v0.69.1+0\u001b[39m\n",
      " \u001b[90m [78b55507] \u001b[39m\u001b[92m+ Gettext_jll v0.21.0+0\u001b[39m\n",
      " \u001b[90m [7746bdde] \u001b[39m\u001b[92m+ Glib_jll v2.74.0+1\u001b[39m\n",
      " \u001b[90m [3b182d85] \u001b[39m\u001b[92m+ Graphite2_jll v1.3.14+0\u001b[39m\n",
      " \u001b[90m [2e76f6c2] \u001b[39m\u001b[92m+ HarfBuzz_jll v2.8.1+1\u001b[39m\n",
      " \u001b[90m [aacddb02] \u001b[39m\u001b[92m+ JpegTurbo_jll v2.1.2+0\u001b[39m\n",
      " \u001b[90m [c1c5ebd0] \u001b[39m\u001b[92m+ LAME_jll v3.100.1+0\u001b[39m\n",
      " \u001b[90m [88015f11] \u001b[39m\u001b[92m+ LERC_jll v3.0.0+1\u001b[39m\n",
      " \u001b[90m [dd4b983a] \u001b[39m\u001b[92m+ LZO_jll v2.10.1+0\u001b[39m\n",
      " \u001b[90m [e9f186c6] \u001b[39m\u001b[92m+ Libffi_jll v3.2.2+1\u001b[39m\n",
      " \u001b[90m [d4300ac3] \u001b[39m\u001b[92m+ Libgcrypt_jll v1.8.7+0\u001b[39m\n",
      " \u001b[90m [7e76a0d4] \u001b[39m\u001b[92m+ Libglvnd_jll v1.3.0+3\u001b[39m\n",
      " \u001b[90m [7add5ba3] \u001b[39m\u001b[92m+ Libgpg_error_jll v1.42.0+0\u001b[39m\n",
      " \u001b[90m [94ce4f54] \u001b[39m\u001b[92m+ Libiconv_jll v1.16.1+1\u001b[39m\n",
      " \u001b[90m [4b2f31a3] \u001b[39m\u001b[92m+ Libmount_jll v2.35.0+0\u001b[39m\n",
      " \u001b[90m [89763e89] \u001b[39m\u001b[92m+ Libtiff_jll v4.4.0+0\u001b[39m\n",
      " \u001b[90m [38a345b3] \u001b[39m\u001b[92m+ Libuuid_jll v2.36.0+0\u001b[39m\n",
      " \u001b[90m [e7412a2a] \u001b[39m\u001b[92m+ Ogg_jll v1.3.5+1\u001b[39m\n",
      " \u001b[90m [458c3c95] \u001b[39m\u001b[92m+ OpenSSL_jll v1.1.17+0\u001b[39m\n",
      " \u001b[90m [91d4177d] \u001b[39m\u001b[92m+ Opus_jll v1.3.2+0\u001b[39m\n",
      " \u001b[90m [30392449] \u001b[39m\u001b[92m+ Pixman_jll v0.40.1+0\u001b[39m\n",
      " \u001b[90m [ea2cea3b] \u001b[39m\u001b[92m+ Qt5Base_jll v5.15.3+1\u001b[39m\n",
      " \u001b[90m [a2964d1f] \u001b[39m\u001b[92m+ Wayland_jll v1.19.0+0\u001b[39m\n",
      " \u001b[90m [2381bf8a] \u001b[39m\u001b[92m+ Wayland_protocols_jll v1.25.0+0\u001b[39m\n",
      " \u001b[90m [02c8fc9c] \u001b[39m\u001b[92m+ XML2_jll v2.9.14+0\u001b[39m\n",
      " \u001b[90m [aed1982a] \u001b[39m\u001b[92m+ XSLT_jll v1.1.34+0\u001b[39m\n",
      " \u001b[90m [4f6342f7] \u001b[39m\u001b[92m+ Xorg_libX11_jll v1.6.9+4\u001b[39m\n",
      " \u001b[90m [0c0b7dd1] \u001b[39m\u001b[92m+ Xorg_libXau_jll v1.0.9+4\u001b[39m\n",
      " \u001b[90m [935fb764] \u001b[39m\u001b[92m+ Xorg_libXcursor_jll v1.2.0+4\u001b[39m\n",
      " \u001b[90m [a3789734] \u001b[39m\u001b[92m+ Xorg_libXdmcp_jll v1.1.3+4\u001b[39m\n",
      " \u001b[90m [1082639a] \u001b[39m\u001b[92m+ Xorg_libXext_jll v1.3.4+4\u001b[39m\n",
      " \u001b[90m [d091e8ba] \u001b[39m\u001b[92m+ Xorg_libXfixes_jll v5.0.3+4\u001b[39m\n",
      " \u001b[90m [a51aa0fd] \u001b[39m\u001b[92m+ Xorg_libXi_jll v1.7.10+4\u001b[39m\n",
      " \u001b[90m [d1454406] \u001b[39m\u001b[92m+ Xorg_libXinerama_jll v1.1.4+4\u001b[39m\n",
      " \u001b[90m [ec84b674] \u001b[39m\u001b[92m+ Xorg_libXrandr_jll v1.5.2+4\u001b[39m\n",
      " \u001b[90m [ea2f1a96] \u001b[39m\u001b[92m+ Xorg_libXrender_jll v0.9.10+4\u001b[39m\n",
      " \u001b[90m [14d82f49] \u001b[39m\u001b[92m+ Xorg_libpthread_stubs_jll v0.1.0+3\u001b[39m\n",
      " \u001b[90m [c7cfdc94] \u001b[39m\u001b[92m+ Xorg_libxcb_jll v1.13.0+3\u001b[39m\n",
      " \u001b[90m [cc61e674] \u001b[39m\u001b[92m+ Xorg_libxkbfile_jll v1.1.0+4\u001b[39m\n",
      " \u001b[90m [12413925] \u001b[39m\u001b[92m+ Xorg_xcb_util_image_jll v0.4.0+1\u001b[39m\n",
      " \u001b[90m [2def613f] \u001b[39m\u001b[92m+ Xorg_xcb_util_jll v0.4.0+1\u001b[39m\n",
      " \u001b[90m [975044d2] \u001b[39m\u001b[92m+ Xorg_xcb_util_keysyms_jll v0.4.0+1\u001b[39m\n",
      " \u001b[90m [0d47668e] \u001b[39m\u001b[92m+ Xorg_xcb_util_renderutil_jll v0.3.9+1\u001b[39m\n",
      " \u001b[90m [c22f9ab0] \u001b[39m\u001b[92m+ Xorg_xcb_util_wm_jll v0.4.1+1\u001b[39m\n",
      " \u001b[90m [35661453] \u001b[39m\u001b[92m+ Xorg_xkbcomp_jll v1.4.2+4\u001b[39m\n",
      " \u001b[90m [33bec58e] \u001b[39m\u001b[92m+ Xorg_xkeyboard_config_jll v2.27.0+4\u001b[39m\n",
      " \u001b[90m [c5fb5394] \u001b[39m\u001b[92m+ Xorg_xtrans_jll v1.4.0+3\u001b[39m\n",
      " \u001b[90m [3161d3a3] \u001b[39m\u001b[92m+ Zstd_jll v1.5.2+0\u001b[39m\n",
      "\u001b[33m⌅\u001b[39m\u001b[90m [214eeab7] \u001b[39m\u001b[92m+ fzf_jll v0.29.0+0\u001b[39m\n",
      " \u001b[90m [a4ae2306] \u001b[39m\u001b[92m+ libaom_jll v3.4.0+0\u001b[39m\n",
      " \u001b[90m [0ac62f75] \u001b[39m\u001b[92m+ libass_jll v0.15.1+0\u001b[39m\n",
      " \u001b[90m [f638f0a6] \u001b[39m\u001b[92m+ libfdk_aac_jll v2.0.2+0\u001b[39m\n",
      " \u001b[90m [b53b4c65] \u001b[39m\u001b[92m+ libpng_jll v1.6.38+0\u001b[39m\n",
      " \u001b[90m [f27f6e37] \u001b[39m\u001b[92m+ libvorbis_jll v1.3.7+1\u001b[39m\n",
      " \u001b[90m [1270edf5] \u001b[39m\u001b[92m+ x264_jll v2021.5.5+0\u001b[39m\n",
      " \u001b[90m [dfaa095f] \u001b[39m\u001b[92m+ x265_jll v3.5.0+0\u001b[39m\n",
      " \u001b[90m [d8fb68d0] \u001b[39m\u001b[92m+ xkbcommon_jll v1.4.1+0\u001b[39m\n",
      " \u001b[90m [8bb1440f] \u001b[39m\u001b[92m+ DelimitedFiles\u001b[39m\n",
      " \u001b[90m [efcefdf7] \u001b[39m\u001b[92m+ PCRE2_jll v10.40.0+0\u001b[39m\n",
      "\u001b[36m\u001b[1m        Info\u001b[22m\u001b[39m Packages marked with \u001b[33m⌅\u001b[39m have new versions available but compatibility constraints restrict them from upgrading. To see why use `status --outdated -m`\n",
      "\u001b[32m\u001b[1mPrecompiling\u001b[22m\u001b[39m project...\n",
      "\u001b[32m  ✓ \u001b[39m\u001b[90mSnoopPrecompile\u001b[39m\n",
      "\u001b[32m  ✓ \u001b[39m\u001b[90mPipe\u001b[39m\n",
      "\u001b[32m  ✓ \u001b[39m\u001b[90mStatsAPI\u001b[39m\n",
      "\u001b[32m  ✓ \u001b[39m\u001b[90mTensorCore\u001b[39m\n",
      "\u001b[32m  ✓ \u001b[39m\u001b[90mContour\u001b[39m\n",
      "\u001b[32m  ✓ \u001b[39m\u001b[90mLaTeXStrings\u001b[39m\n",
      "\u001b[32m  ✓ \u001b[39m\u001b[90mReexport\u001b[39m\n",
      "\u001b[32m  ✓ \u001b[39m\u001b[90mMeasures\u001b[39m\n",
      "\u001b[32m  ✓ \u001b[39m\u001b[90mUnzip\u001b[39m\n",
      "\u001b[32m  ✓ \u001b[39m\u001b[90mGrisu\u001b[39m\n",
      "\u001b[32m  ✓ \u001b[39m\u001b[90mIniFile\u001b[39m\n",
      "\u001b[32m  ✓ \u001b[39m\u001b[90mRequires\u001b[39m\n",
      "\u001b[32m  ✓ \u001b[39m\u001b[90mSimpleBufferStream\u001b[39m\n",
      "\u001b[32m  ✓ \u001b[39m\u001b[90mURIs\u001b[39m\n",
      "\u001b[32m  ✓ \u001b[39m\u001b[90mPCRE2_jll\u001b[39m\n",
      "\u001b[32m  ✓ \u001b[39m\u001b[90mFormatting\u001b[39m\n",
      "\u001b[32m  ✓ \u001b[39m\u001b[90mDataAPI\u001b[39m\n",
      "\u001b[32m  ✓ \u001b[39m\u001b[90mBitFlags\u001b[39m\n",
      "\u001b[32m  ✓ \u001b[39m\u001b[90mScratch\u001b[39m\n",
      "\u001b[32m  ✓ \u001b[39m\u001b[90mUnicodeFun\u001b[39m\n",
      "\u001b[32m  ✓ \u001b[39m\u001b[90mLoggingExtras\u001b[39m\n",
      "\u001b[32m  ✓ \u001b[39m\u001b[90mFixedPointNumbers\u001b[39m\n",
      "\u001b[32m  ✓ \u001b[39m\u001b[90mGraphite2_jll\u001b[39m\n",
      "\u001b[32m  ✓ \u001b[39m\u001b[90mOpenSSL_jll\u001b[39m\n",
      "\u001b[32m  ✓ \u001b[39m\u001b[90mLibmount_jll\u001b[39m\n",
      "\u001b[32m  ✓ \u001b[39m\u001b[90mXorg_libXau_jll\u001b[39m\n",
      "\u001b[32m  ✓ \u001b[39m\u001b[90mlibfdk_aac_jll\u001b[39m\n",
      "\u001b[32m  ✓ \u001b[39m\u001b[90mlibpng_jll\u001b[39m\n",
      "\u001b[32m  ✓ \u001b[39m\u001b[90mLAME_jll\u001b[39m\n",
      "\u001b[32m  ✓ \u001b[39m\u001b[90mPixman_jll\u001b[39m\n",
      "\u001b[32m  ✓ \u001b[39m\u001b[90mfzf_jll\u001b[39m\n",
      "\u001b[32m  ✓ \u001b[39m\u001b[90mLERC_jll\u001b[39m\n",
      "\u001b[32m  ✓ \u001b[39m\u001b[90mJpegTurbo_jll\u001b[39m\n",
      "\u001b[32m  ✓ \u001b[39m\u001b[90mXorg_libXdmcp_jll\u001b[39m\n",
      "\u001b[32m  ✓ \u001b[39m\u001b[90mOgg_jll\u001b[39m\n",
      "\u001b[32m  ✓ \u001b[39m\u001b[90mx265_jll\u001b[39m\n",
      "\u001b[32m  ✓ \u001b[39m\u001b[90mx264_jll\u001b[39m\n",
      "\u001b[32m  ✓ \u001b[39m\u001b[90mlibaom_jll\u001b[39m\n",
      "\u001b[32m  ✓ \u001b[39m\u001b[90mZstd_jll\u001b[39m\n",
      "\u001b[32m  ✓ \u001b[39m\u001b[90mExpat_jll\u001b[39m\n",
      "\u001b[32m  ✓ \u001b[39m\u001b[90mLZO_jll\u001b[39m\n",
      "\u001b[32m  ✓ \u001b[39m\u001b[90mOpus_jll\u001b[39m\n",
      "\u001b[32m  ✓ \u001b[39m\u001b[90mXorg_xtrans_jll\u001b[39m\n",
      "\u001b[32m  ✓ \u001b[39m\u001b[90mLibiconv_jll\u001b[39m\n",
      "\u001b[32m  ✓ \u001b[39m\u001b[90mLibffi_jll\u001b[39m\n",
      "\u001b[32m  ✓ \u001b[39m\u001b[90mLibgpg_error_jll\u001b[39m\n",
      "\u001b[32m  ✓ \u001b[39m\u001b[90mWayland_protocols_jll\u001b[39m\n",
      "\u001b[32m  ✓ \u001b[39m\u001b[90mXorg_libpthread_stubs_jll\u001b[39m\n",
      "\u001b[32m  ✓ \u001b[39m\u001b[90mFriBidi_jll\u001b[39m\n",
      "\u001b[32m  ✓ \u001b[39m\u001b[90mLibuuid_jll\u001b[39m\n",
      "\u001b[32m  ✓ \u001b[39m\u001b[90mSortingAlgorithms\u001b[39m\n",
      "\u001b[32m  ✓ \u001b[39m\u001b[90mShowoff\u001b[39m\n",
      "\u001b[32m  ✓ \u001b[39m\u001b[90mFreeType2_jll\u001b[39m\n",
      "\u001b[32m  ✓ \u001b[39m\u001b[90mRelocatableFolders\u001b[39m\n"
     ]
    },
    {
     "name": "stderr",
     "output_type": "stream",
     "text": [
      "\u001b[32m  ✓ \u001b[39m\u001b[90mMissings\u001b[39m\n",
      "\u001b[32m  ✓ \u001b[39m\u001b[90mRecipesBase\u001b[39m\n",
      "\u001b[32m  ✓ \u001b[39m\u001b[90mJLFzf\u001b[39m\n",
      "\u001b[32m  ✓ \u001b[39m\u001b[90mlibvorbis_jll\u001b[39m\n",
      "\u001b[32m  ✓ \u001b[39m\u001b[90mLibtiff_jll\u001b[39m\n",
      "\u001b[32m  ✓ \u001b[39m\u001b[90mOpenSSL\u001b[39m\n",
      "\u001b[32m  ✓ \u001b[39m\u001b[90mXML2_jll\u001b[39m\n",
      "\u001b[32m  ✓ \u001b[39m\u001b[90mLibgcrypt_jll\u001b[39m\n",
      "\u001b[32m  ✓ \u001b[39m\u001b[90mFontconfig_jll\u001b[39m\n",
      "\u001b[32m  ✓ \u001b[39m\u001b[90mLatexify\u001b[39m\n",
      "\u001b[32m  ✓ \u001b[39m\u001b[90mWayland_jll\u001b[39m\n",
      "\u001b[32m  ✓ \u001b[39m\u001b[90mGettext_jll\u001b[39m\n",
      "\u001b[32m  ✓ \u001b[39m\u001b[90mColorTypes\u001b[39m\n",
      "\u001b[32m  ✓ \u001b[39m\u001b[90mXSLT_jll\u001b[39m\n",
      "\u001b[32m  ✓ \u001b[39m\u001b[90mGlib_jll\u001b[39m\n",
      "\u001b[32m  ✓ \u001b[39m\u001b[90mXorg_libxcb_jll\u001b[39m\n",
      "\u001b[32m  ✓ \u001b[39m\u001b[90mStatsBase\u001b[39m\n",
      "\u001b[32m  ✓ \u001b[39m\u001b[90mXorg_xcb_util_jll\u001b[39m\n",
      "\u001b[32m  ✓ \u001b[39m\u001b[90mXorg_libX11_jll\u001b[39m\n",
      "\u001b[32m  ✓ \u001b[39m\u001b[90mXorg_xcb_util_image_jll\u001b[39m\n",
      "\u001b[32m  ✓ \u001b[39m\u001b[90mXorg_xcb_util_renderutil_jll\u001b[39m\n",
      "\u001b[32m  ✓ \u001b[39m\u001b[90mXorg_xcb_util_keysyms_jll\u001b[39m\n",
      "\u001b[32m  ✓ \u001b[39m\u001b[90mXorg_xcb_util_wm_jll\u001b[39m\n",
      "\u001b[32m  ✓ \u001b[39m\u001b[90mHTTP\u001b[39m\n",
      "\u001b[32m  ✓ \u001b[39m\u001b[90mXorg_libXext_jll\u001b[39m\n",
      "\u001b[32m  ✓ \u001b[39m\u001b[90mXorg_libXrender_jll\u001b[39m\n",
      "\u001b[32m  ✓ \u001b[39m\u001b[90mColorVectorSpace\u001b[39m\n",
      "\u001b[32m  ✓ \u001b[39m\u001b[90mXorg_libxkbfile_jll\u001b[39m\n",
      "\u001b[32m  ✓ \u001b[39m\u001b[90mXorg_libXfixes_jll\u001b[39m\n",
      "\u001b[32m  ✓ \u001b[39m\u001b[90mLibglvnd_jll\u001b[39m\n",
      "\u001b[32m  ✓ \u001b[39m\u001b[90mXorg_libXinerama_jll\u001b[39m\n",
      "\u001b[32m  ✓ \u001b[39m\u001b[90mXorg_libXrandr_jll\u001b[39m\n",
      "\u001b[32m  ✓ \u001b[39m\u001b[90mXorg_libXcursor_jll\u001b[39m\n",
      "\u001b[32m  ✓ \u001b[39m\u001b[90mXorg_xkbcomp_jll\u001b[39m\n",
      "\u001b[32m  ✓ \u001b[39m\u001b[90mCairo_jll\u001b[39m\n",
      "\u001b[32m  ✓ \u001b[39m\u001b[90mXorg_libXi_jll\u001b[39m\n",
      "\u001b[32m  ✓ \u001b[39m\u001b[90mColors\u001b[39m\n",
      "\u001b[32m  ✓ \u001b[39m\u001b[90mXorg_xkeyboard_config_jll\u001b[39m\n",
      "\u001b[32m  ✓ \u001b[39m\u001b[90mHarfBuzz_jll\u001b[39m\n",
      "\u001b[32m  ✓ \u001b[39m\u001b[90mGLFW_jll\u001b[39m\n",
      "\u001b[32m  ✓ \u001b[39m\u001b[90mxkbcommon_jll\u001b[39m\n",
      "\u001b[32m  ✓ \u001b[39m\u001b[90mlibass_jll\u001b[39m\n",
      "\u001b[32m  ✓ \u001b[39m\u001b[90mQt5Base_jll\u001b[39m\n",
      "\u001b[32m  ✓ \u001b[39m\u001b[90mFFMPEG_jll\u001b[39m\n",
      "\u001b[32m  ✓ \u001b[39m\u001b[90mFFMPEG\u001b[39m\n",
      "\u001b[32m  ✓ \u001b[39m\u001b[90mGR_jll\u001b[39m\n",
      "\u001b[32m  ✓ \u001b[39m\u001b[90mGR\u001b[39m\n",
      "\u001b[32m  ✓ \u001b[39m\u001b[90mColorSchemes\u001b[39m\n",
      "\u001b[32m  ✓ \u001b[39m\u001b[90mPlotUtils\u001b[39m\n",
      "\u001b[32m  ✓ \u001b[39m\u001b[90mRecipesPipeline\u001b[39m\n",
      "\u001b[32m  ✓ \u001b[39m\u001b[90mPlotThemes\u001b[39m\n",
      "\u001b[32m  ✓ \u001b[39mPlots\n",
      "  106 dependencies successfully precompiled in 69 seconds. 52 already precompiled.\n"
     ]
    }
   ],
   "source": [
    "# import required packages\n",
    "import Pkg\n",
    "Pkg.add(\"JuMP\")\n",
    "Pkg.add(\"Ipopt\")\n",
    "Pkg.add(\"Plots\")"
   ]
  },
  {
   "cell_type": "code",
   "execution_count": 176,
   "metadata": {},
   "outputs": [],
   "source": [
    "using JuMP\n",
    "using Ipopt\n",
    "using Plots"
   ]
  },
  {
   "cell_type": "code",
   "execution_count": 19,
   "metadata": {},
   "outputs": [
    {
     "data": {
      "text/plain": [
       "3-element Vector{Int64}:\n",
       " 1\n",
       " 1\n",
       " 1"
      ]
     },
     "execution_count": 19,
     "metadata": {},
     "output_type": "execute_result"
    }
   ],
   "source": [
    "# Q1\n",
    "# Define probability, return & weight vectors\n",
    "p=[0.6, 0.3, 0.1]\n",
    "R=[1,2,4]"
   ]
  },
  {
   "cell_type": "code",
   "execution_count": 38,
   "metadata": {},
   "outputs": [
    {
     "name": "stdout",
     "output_type": "stream",
     "text": [
      "This is Ipopt version 3.14.4, running with linear solver MUMPS 5.4.1.\n",
      "\n",
      "Number of nonzeros in equality constraint Jacobian...:        0\n",
      "Number of nonzeros in inequality constraint Jacobian.:        0\n",
      "Number of nonzeros in Lagrangian Hessian.............:        6\n",
      "\n",
      "Total number of variables............................:        3\n",
      "                     variables with only lower bounds:        3\n",
      "                variables with lower and upper bounds:        0\n",
      "                     variables with only upper bounds:        0\n",
      "Total number of equality constraints.................:        0\n",
      "Total number of inequality constraints...............:        0\n",
      "        inequality constraints with only lower bounds:        0\n",
      "   inequality constraints with lower and upper bounds:        0\n",
      "        inequality constraints with only upper bounds:        0\n",
      "\n",
      "iter    objective    inf_pr   inf_du lg(mu)  ||d||  lg(rg) alpha_du alpha_pr  ls\n",
      "   0 -4.0499347e-03 0.00e+00 1.21e+00  -1.0 0.00e+00    -  0.00e+00 0.00e+00   0\n",
      "   1 -4.4957817e-02 0.00e+00 2.93e-01  -1.0 1.03e-01    -  7.74e-01 1.00e+00f  1\n",
      "   2  2.6897008e-03 0.00e+00 3.51e-01  -1.7 5.27e-01    -  5.77e-01 1.00e+00f  1\n",
      "   3 -4.9198630e-04 0.00e+00 2.10e-02  -1.7 1.45e-01    -  9.61e-01 1.00e+00f  1\n",
      "   4  2.4562646e-02 0.00e+00 5.25e-03  -3.8 5.43e-01    -  1.00e+00 6.79e-01f  1\n",
      "   5  2.4313797e-02 0.00e+00 8.15e-02  -3.8 1.99e-02    -  1.00e+00 5.00e-01f  2\n",
      "   6  2.6564420e-02 0.00e+00 7.01e-03  -3.8 5.13e-02    -  1.00e+00 1.00e+00f  1\n",
      "   7  2.6546726e-02 0.00e+00 8.17e-05  -3.8 3.49e-03    -  1.00e+00 1.00e+00f  1\n",
      "   8  2.6702215e-02 0.00e+00 4.80e-05  -5.7 3.80e-03    -  1.00e+00 9.91e-01f  1\n",
      "   9  2.6700372e-02 0.00e+00 1.76e-08  -5.7 2.92e-05    -  1.00e+00 1.00e+00f  1\n",
      "iter    objective    inf_pr   inf_du lg(mu)  ||d||  lg(rg) alpha_du alpha_pr  ls\n",
      "  10  2.6702217e-02 0.00e+00 2.41e-09  -8.6 4.63e-05    -  1.00e+00 1.00e+00f  1\n",
      "\n",
      "Number of Iterations....: 10\n",
      "\n",
      "                                   (scaled)                 (unscaled)\n",
      "Objective...............:  -2.6702216662636266e-02    2.6702216662636266e-02\n",
      "Dual infeasibility......:   2.4101228790485152e-09    2.4101228790485152e-09\n",
      "Constraint violation....:   0.0000000000000000e+00    0.0000000000000000e+00\n",
      "Variable bound violation:   0.0000000000000000e+00    0.0000000000000000e+00\n",
      "Complementarity.........:   3.1410228890155569e-09    3.1410228890155569e-09\n",
      "Overall NLP error.......:   3.1410228890155569e-09    3.1410228890155569e-09\n",
      "\n",
      "\n",
      "Number of objective function evaluations             = 16\n",
      "Number of objective gradient evaluations             = 11\n",
      "Number of equality constraint evaluations            = 0\n",
      "Number of inequality constraint evaluations          = 0\n",
      "Number of equality constraint Jacobian evaluations   = 0\n",
      "Number of inequality constraint Jacobian evaluations = 0\n",
      "Number of Lagrangian Hessian evaluations             = 10\n",
      "Total seconds in IPOPT                               = 0.781\n",
      "\n",
      "EXIT: Optimal Solution Found.\n"
     ]
    }
   ],
   "source": [
    "# Maximize expected log wealth,\n",
    "# assuming we are unable to \"short\" non-optimal bets\n",
    "OG=Model(Ipopt.Optimizer)\n",
    "@variable(OG,w[1:3]>=0)\n",
    "@NLobjective(OG,Max,p[1]*log(1+w[1]*R[1]-w[2]-w[3])+.3*log(1-w[1]+w[2]*R[2]-w[3])+.1*log(1-w[1]-w[2]+w[3]*R[3]))\n",
    "solution=optimize!(OG)"
   ]
  },
  {
   "cell_type": "code",
   "execution_count": 53,
   "metadata": {
    "scrolled": true
   },
   "outputs": [
    {
     "data": {
      "text/plain": [
       "3-element Vector{Float64}:\n",
       " 0.3\n",
       " 0.1\n",
       " 0.0"
      ]
     },
     "execution_count": 53,
     "metadata": {},
     "output_type": "execute_result"
    }
   ],
   "source": [
    "# Optimal weight vector\n",
    "round.(value.(w),digits=4)"
   ]
  },
  {
   "cell_type": "code",
   "execution_count": 41,
   "metadata": {},
   "outputs": [
    {
     "data": {
      "text/plain": [
       "1.027061915296838"
      ]
     },
     "execution_count": 41,
     "metadata": {},
     "output_type": "execute_result"
    }
   ],
   "source": [
    "# Optimal expected wealth after bet\n",
    "exp(objective_value(OG))"
   ]
  },
  {
   "cell_type": "code",
   "execution_count": 75,
   "metadata": {},
   "outputs": [
    {
     "data": {
      "text/plain": [
       "1×3 Matrix{Float64}:\n",
       " 0.2  -0.1  -0.5"
      ]
     },
     "execution_count": 75,
     "metadata": {},
     "output_type": "execute_result"
    }
   ],
   "source": [
    "# Q2\n",
    "# Set up return vectors for each bet\n",
    "R1 = [R[1],-1,-1]\n",
    "R2 = [-1,R[2],-1]\n",
    "R3 = [-1,-1,R[3]]\n",
    "\n",
    "# Expected Return calculated as E[X]\n",
    "ER1=sum(p.*R1)\n",
    "ER2=sum(p.*R2)\n",
    "ER3=sum(p.*R3)\n",
    "\n",
    "round.([ER1 ER2 ER3], digits=4)"
   ]
  },
  {
   "cell_type": "code",
   "execution_count": 81,
   "metadata": {},
   "outputs": [
    {
     "data": {
      "text/plain": [
       "1×3 Matrix{Float64}:\n",
       " 0.96  1.89  2.25"
      ]
     },
     "execution_count": 81,
     "metadata": {},
     "output_type": "execute_result"
    }
   ],
   "source": [
    "# Q3\n",
    "# Variances calculated as E[(X-mu)^2]\n",
    "round.([sum(p.*((R1.-ER1).^2)) sum(p.*((R2.-ER2).^2)) sum(p.*((R3.-ER3).^2))],digits=2)"
   ]
  },
  {
   "cell_type": "code",
   "execution_count": 87,
   "metadata": {},
   "outputs": [
    {
     "data": {
      "text/plain": [
       "1×3 Matrix{Float64}:\n",
       " -1.08  -0.6  -0.45"
      ]
     },
     "execution_count": 87,
     "metadata": {},
     "output_type": "execute_result"
    }
   ],
   "source": [
    "# Covariances calculated as E[(x_i-mu_i)(X_j-mu_j)]\n",
    "round.([sum(p.*(R1.-ER1).*(R2.-ER2)) sum(p.*(R1.-ER1).*(R3.-ER3)) sum(p.*(R2.-ER2).*(R3.-ER3))], digits=2)"
   ]
  },
  {
   "cell_type": "code",
   "execution_count": 89,
   "metadata": {},
   "outputs": [
    {
     "data": {
      "text/plain": [
       "1×3 Matrix{Float64}:\n",
       " -1.08  -0.6  -0.45"
      ]
     },
     "execution_count": 89,
     "metadata": {},
     "output_type": "execute_result"
    }
   ],
   "source": [
    "# Q4\n",
    "var = round.([sum(p.*((R1.-ER1).^2)) sum(p.*((R2.-ER2).^2)) sum(p.*((R3.-ER3).^2))],digits=2)\n",
    "covar = round.([sum(p.*(R1.-ER1).*(R2.-ER2)) sum(p.*(R1.-ER1).*(R3.-ER3)) sum(p.*(R2.-ER2).*(R3.-ER3))], digits=2)"
   ]
  },
  {
   "cell_type": "code",
   "execution_count": 94,
   "metadata": {},
   "outputs": [
    {
     "name": "stdout",
     "output_type": "stream",
     "text": [
      "This is Ipopt version 3.14.4, running with linear solver MUMPS 5.4.1.\n",
      "\n",
      "Number of nonzeros in equality constraint Jacobian...:        3\n",
      "Number of nonzeros in inequality constraint Jacobian.:        0\n",
      "Number of nonzeros in Lagrangian Hessian.............:        6\n",
      "\n",
      "Total number of variables............................:        3\n",
      "                     variables with only lower bounds:        3\n",
      "                variables with lower and upper bounds:        0\n",
      "                     variables with only upper bounds:        0\n",
      "Total number of equality constraints.................:        1\n",
      "Total number of inequality constraints...............:        0\n",
      "        inequality constraints with only lower bounds:        0\n",
      "   inequality constraints with lower and upper bounds:        0\n",
      "        inequality constraints with only upper bounds:        0\n",
      "\n",
      "iter    objective    inf_pr   inf_du lg(mu)  ||d||  lg(rg) alpha_du alpha_pr  ls\n",
      "   0  2.2358978e-02 9.70e-01 1.49e+00  -1.0 0.00e+00    -  0.00e+00 0.00e+00   0\n",
      "   1  5.7270614e-01 0.00e+00 2.32e+01  -1.0 3.32e-01    -  4.09e-02 1.00e+00f  1\n",
      "   2  1.3777479e-01 0.00e+00 1.13e+01  -1.0 6.16e-01    -  1.00e+00 5.18e-01f  1\n",
      "   3  3.5838387e-01 0.00e+00 1.00e-06  -1.0 1.95e-01    -  1.00e+00 1.00e+00f  1\n",
      "   4  2.0654751e-01 0.00e+00 2.00e-07  -1.7 1.22e-01    -  1.00e+00 1.00e+00f  1\n",
      "   5  1.4192077e-01 0.00e+00 2.83e-08  -2.5 6.32e-02    -  1.00e+00 1.00e+00f  1\n",
      "   6  1.2995460e-01 0.00e+00 1.50e-09  -3.8 1.29e-02    -  1.00e+00 1.00e+00f  1\n",
      "   7  1.2934438e-01 0.00e+00 1.84e-11  -5.7 6.67e-04    -  1.00e+00 1.00e+00f  1\n",
      "   8  1.2934131e-01 1.11e-16 2.53e-14  -8.6 3.36e-06    -  1.00e+00 1.00e+00f  1\n",
      "\n",
      "Number of Iterations....: 8\n",
      "\n",
      "                                   (scaled)                 (unscaled)\n",
      "Objective...............:   1.2934131077561581e-01    1.2934131077561581e-01\n",
      "Dual infeasibility......:   2.5309980585701882e-14    2.5309980585701882e-14\n",
      "Constraint violation....:   1.1102230246251565e-16    1.1102230246251565e-16\n",
      "Variable bound violation:   7.2138455973232350e-09    7.2138455973232350e-09\n",
      "Complementarity.........:   2.5450769365739019e-09    2.5450769365739019e-09\n",
      "Overall NLP error.......:   2.5450769365739019e-09    2.5450769365739019e-09\n",
      "\n",
      "\n",
      "Number of objective function evaluations             = 9\n",
      "Number of objective gradient evaluations             = 9\n",
      "Number of equality constraint evaluations            = 9\n",
      "Number of inequality constraint evaluations          = 0\n",
      "Number of equality constraint Jacobian evaluations   = 1\n",
      "Number of inequality constraint Jacobian evaluations = 0\n",
      "Number of Lagrangian Hessian evaluations             = 8\n",
      "Total seconds in IPOPT                               = 0.004\n",
      "\n",
      "EXIT: Optimal Solution Found.\n"
     ]
    }
   ],
   "source": [
    "# Minimize portfolio variance\n",
    "MVP=Model(Ipopt.Optimizer)\n",
    "@variable(MVP,h[1:3]>=0)\n",
    "# Add constraint that holdings sum to one to prevent 0 holding portfolio & get percentages instead\n",
    "@constraint(MVP, h[1]+h[2]+h[3]==1)\n",
    "@NLobjective(MVP,Min,h[1]^2*var[1]+h[2]^2*var[2]+h[3]*var[3]+2*h[1]*h[2]*covar[1]+2*h[1]*h[3]*covar[2]+2*h[2]h[3]*covar[3])\n",
    "solution=optimize!(MVP)"
   ]
  },
  {
   "cell_type": "code",
   "execution_count": 96,
   "metadata": {},
   "outputs": [
    {
     "data": {
      "text/plain": [
       "3-element Vector{Float64}:\n",
       "  0.5928\n",
       "  0.4072\n",
       " -0.0"
      ]
     },
     "execution_count": 96,
     "metadata": {},
     "output_type": "execute_result"
    }
   ],
   "source": [
    "# Optimal holding vector\n",
    "round.(value.(h),digits=4)"
   ]
  },
  {
   "cell_type": "code",
   "execution_count": 98,
   "metadata": {},
   "outputs": [
    {
     "data": {
      "text/plain": [
       "0.1293413107756158"
      ]
     },
     "execution_count": 98,
     "metadata": {},
     "output_type": "execute_result"
    }
   ],
   "source": [
    "objective_value(MVP)"
   ]
  },
  {
   "cell_type": "code",
   "execution_count": 142,
   "metadata": {
    "scrolled": true
   },
   "outputs": [
    {
     "name": "stdout",
     "output_type": "stream",
     "text": [
      "This is Ipopt version 3.14.4, running with linear solver MUMPS 5.4.1.\n",
      "\n",
      "Number of nonzeros in equality constraint Jacobian...:        6\n",
      "Number of nonzeros in inequality constraint Jacobian.:        0\n",
      "Number of nonzeros in Lagrangian Hessian.............:        6\n",
      "\n",
      "Total number of variables............................:        3\n",
      "                     variables with only lower bounds:        3\n",
      "                variables with lower and upper bounds:        0\n",
      "                     variables with only upper bounds:        0\n",
      "Total number of equality constraints.................:        2\n",
      "Total number of inequality constraints...............:        0\n",
      "        inequality constraints with only lower bounds:        0\n",
      "   inequality constraints with lower and upper bounds:        0\n",
      "        inequality constraints with only upper bounds:        0\n",
      "\n",
      "iter    objective    inf_pr   inf_du lg(mu)  ||d||  lg(rg) alpha_du alpha_pr  ls\n",
      "   0  2.2358978e-02 9.70e-01 6.22e-01  -1.0 0.00e+00    -  0.00e+00 0.00e+00   0\n",
      "   1  1.3695477e-01 9.13e-01 3.79e+00  -1.7 8.71e-01    -  1.15e-02 5.85e-02h  1\n",
      "   2  1.1412462e+00 4.83e-01 2.09e+00  -1.7 9.51e-01    -  1.00e+00 4.71e-01h  1\n",
      "   3  1.8084995e+00 1.89e-01 8.30e-01  -1.7 4.87e-01    -  5.73e-01 6.08e-01h  1\n",
      "   4  2.0768199e+00 7.51e-02 4.85e+00  -1.7 1.96e-01    -  1.00e+00 6.03e-01h  1\n",
      "   5  2.1699794e+00 3.42e-02 1.79e+01  -1.7 7.56e-02    -  1.00e+00 5.44e-01h  1\n",
      "   6  2.2190321e+00 1.34e-02 3.48e+01  -1.7 3.54e-02    -  1.00e+00 6.08e-01h  1\n",
      "   7  2.2367120e+00 5.68e-03 9.32e+01  -1.7 1.35e-02    -  1.00e+00 5.77e-01h  1\n",
      "   8  2.2446213e+00 2.33e-03 2.16e+02  -1.7 5.89e-03    -  1.00e+00 5.90e-01h  1\n",
      "   9  2.2477335e+00 9.69e-04 5.30e+02  -1.7 2.35e-03    -  1.00e+00 5.84e-01h  1\n",
      "iter    objective    inf_pr   inf_du lg(mu)  ||d||  lg(rg) alpha_du alpha_pr  ls\n",
      "  10  2.2490763e+00 4.00e-04 1.27e+03  -1.7 1.00e-03    -  1.00e+00 5.87e-01h  1\n",
      "  11  2.2496126e+00 1.66e-04 3.07e+03  -1.7 4.04e-04    -  1.00e+00 5.86e-01h  1\n",
      "  12  2.2498426e+00 6.82e-05 7.34e+03  -1.7 1.72e-04    -  1.00e+00 5.88e-01h  1\n",
      "  13  2.2498886e+00 4.81e-05 3.01e+04  -1.7 6.88e-05    -  1.00e+00 2.95e-01f  2\n",
      "  14  2.2499792e+00 8.88e-06 1.46e+04  -1.7 4.89e-05    -  1.00e+00 8.15e-01h  1\n",
      "  15  2.2499844e+00 6.68e-06 1.92e+05  -1.7 9.25e-06    -  1.00e+00 2.47e-01f  2\n",
      "  16  2.2499990e+00 4.43e-07 3.12e+04  -1.7 6.85e-06    -  1.00e+00 9.34e-01h  1\n",
      "  17  2.2499993e+00 3.07e-07 9.15e+05  -1.7 4.28e-07    -  1.00e+00 3.07e-01f  2\n",
      "  18  2.2500000e+00 2.05e-09 2.01e-07  -1.7 3.15e-07    -  1.00e+00 1.00e+00h  1\n",
      "  19  2.2500000e+00 4.94e-09 5.06e-09  -8.6 3.73e-09    -  1.00e+00 1.00e+00h  1\n",
      "iter    objective    inf_pr   inf_du lg(mu)  ||d||  lg(rg) alpha_du alpha_pr  ls\n",
      "  20  2.2500000e+00 0.00e+00 4.97e+04  -8.6 2.20e-09    -  8.74e-01 1.00e+00h  1\n",
      "  21  2.2500000e+00 5.55e-17 6.24e-12  -8.6 1.34e-08    -  1.00e+00 1.00e+00f  1\n",
      "\n",
      "Number of Iterations....: 21\n",
      "\n",
      "                                   (scaled)                 (unscaled)\n",
      "Objective...............:   2.2499999794815175e+00    2.2499999794815175e+00\n",
      "Dual infeasibility......:   6.2358320300571525e-12    6.2358320300571525e-12\n",
      "Constraint violation....:   5.5511151231257827e-17    5.5511151231257827e-17\n",
      "Variable bound violation:   9.9483561788677739e-09    9.9483561788677739e-09\n",
      "Complementarity.........:   4.8891721452718119e-09    4.8891721452718119e-09\n",
      "Overall NLP error.......:   4.8891721452718119e-09    4.8891721452718119e-09\n",
      "\n",
      "\n",
      "Number of objective function evaluations             = 25\n",
      "Number of objective gradient evaluations             = 22\n",
      "Number of equality constraint evaluations            = 25\n",
      "Number of inequality constraint evaluations          = 0\n",
      "Number of equality constraint Jacobian evaluations   = 1\n",
      "Number of inequality constraint Jacobian evaluations = 0\n",
      "Number of Lagrangian Hessian evaluations             = 21\n",
      "Total seconds in IPOPT                               = 0.010\n",
      "\n",
      "EXIT: Optimal Solution Found.\n"
     ]
    }
   ],
   "source": [
    "# Q5\n",
    "# Minimize portfolio variance with ER=-0.5\n",
    "MVP=Model(Ipopt.Optimizer)\n",
    "@variable(MVP,h[1:3]>=0)\n",
    "@constraint(MVP, h[1]+h[2]+h[3]==1)\n",
    "@constraint(MVP, h[1]*ER1+h[2]*ER2+h[3]*ER3==-0.5)\n",
    "@NLobjective(MVP,Min,h[1]^2*var[1]+h[2]^2*var[2]+h[3]*var[3]+2*h[1]*h[2]*covar[1]+2*h[1]*h[3]*covar[2]+2*h[2]h[3]*covar[3])\n",
    "solution=optimize!(MVP)"
   ]
  },
  {
   "cell_type": "code",
   "execution_count": 143,
   "metadata": {},
   "outputs": [
    {
     "data": {
      "text/plain": [
       "3-element Vector{Float64}:\n",
       " -0.0\n",
       "  0.0\n",
       "  1.0"
      ]
     },
     "execution_count": 143,
     "metadata": {},
     "output_type": "execute_result"
    }
   ],
   "source": [
    "# Optimal holding vector\n",
    "round.(value.(h),digits=4)"
   ]
  },
  {
   "cell_type": "code",
   "execution_count": 144,
   "metadata": {},
   "outputs": [
    {
     "data": {
      "text/plain": [
       "1-element Vector{Float64}:\n",
       " -0.5"
      ]
     },
     "execution_count": 144,
     "metadata": {},
     "output_type": "execute_result"
    }
   ],
   "source": [
    "SD1 = round(sqrt(objective_value(MVP)), digits=4)\n",
    "Mean1 = round.([ER1 ER2 ER3]*value.(h),digits=4)"
   ]
  },
  {
   "cell_type": "code",
   "execution_count": 145,
   "metadata": {},
   "outputs": [
    {
     "name": "stdout",
     "output_type": "stream",
     "text": [
      "This is Ipopt version 3.14.4, running with linear solver MUMPS 5.4.1.\n",
      "\n",
      "Number of nonzeros in equality constraint Jacobian...:        6\n",
      "Number of nonzeros in inequality constraint Jacobian.:        0\n",
      "Number of nonzeros in Lagrangian Hessian.............:        6\n",
      "\n",
      "Total number of variables............................:        3\n",
      "                     variables with only lower bounds:        3\n",
      "                variables with lower and upper bounds:        0\n",
      "                     variables with only upper bounds:        0\n",
      "Total number of equality constraints.................:        2\n",
      "Total number of inequality constraints...............:        0\n",
      "        inequality constraints with only lower bounds:        0\n",
      "   inequality constraints with lower and upper bounds:        0\n",
      "        inequality constraints with only upper bounds:        0\n",
      "\n",
      "iter    objective    inf_pr   inf_du lg(mu)  ||d||  lg(rg) alpha_du alpha_pr  ls\n",
      "   0  2.2358978e-02 9.70e-01 6.22e-01  -1.0 0.00e+00    -  0.00e+00 0.00e+00   0\n",
      "   1  4.7940121e-01 6.96e-01 1.89e+01  -1.7 7.21e-01    -  1.39e-02 2.83e-01h  1\n",
      "   2  1.6332965e+00 5.55e-17 1.17e+00  -1.7 5.50e-01    -  4.73e-01 1.00e+00h  1\n",
      "   3  1.6378862e+00 5.55e-17 1.10e+00  -1.7 6.93e-02    -  1.00e+00 5.00e-01f  2\n",
      "   4  1.6370034e+00 0.00e+00 2.00e-07  -1.7 3.65e-03    -  1.00e+00 1.00e+00f  1\n",
      "   5  1.6340368e+00 0.00e+00 3.33e-02  -3.8 1.79e-02    -  9.18e-01 1.00e+00f  1\n",
      "   6  1.6333452e+00 0.00e+00 1.50e-09  -3.8 1.06e-02    -  1.00e+00 1.00e+00f  1\n",
      "   7  1.6332898e+00 2.22e-16 2.24e-04  -5.7 3.57e-03    -  9.95e-01 1.00e+00f  1\n",
      "   8  1.6332892e+00 1.11e-16 1.84e-11  -5.7 4.01e-04    -  1.00e+00 1.00e+00f  1\n",
      "   9  1.6332892e+00 0.00e+00 2.51e-14  -8.6 1.24e-05    -  1.00e+00 1.00e+00h  1\n",
      "\n",
      "Number of Iterations....: 9\n",
      "\n",
      "                                   (scaled)                 (unscaled)\n",
      "Objective...............:   1.6332892454466625e+00    1.6332892454466625e+00\n",
      "Dual infeasibility......:   2.5109576825546251e-14    2.5109576825546251e-14\n",
      "Constraint violation....:   0.0000000000000000e+00    0.0000000000000000e+00\n",
      "Variable bound violation:   0.0000000000000000e+00    0.0000000000000000e+00\n",
      "Complementarity.........:   3.6779156030455358e-09    3.6779156030455358e-09\n",
      "Overall NLP error.......:   3.6779156030455358e-09    3.6779156030455358e-09\n",
      "\n",
      "\n",
      "Number of objective function evaluations             = 11\n",
      "Number of objective gradient evaluations             = 10\n",
      "Number of equality constraint evaluations            = 11\n",
      "Number of inequality constraint evaluations          = 0\n",
      "Number of equality constraint Jacobian evaluations   = 1\n",
      "Number of inequality constraint Jacobian evaluations = 0\n",
      "Number of Lagrangian Hessian evaluations             = 9\n",
      "Total seconds in IPOPT                               = 0.005\n",
      "\n",
      "EXIT: Optimal Solution Found.\n"
     ]
    }
   ],
   "source": [
    "# Minimize portfolio variance with ER=-0.4\n",
    "MVP=Model(Ipopt.Optimizer)\n",
    "@variable(MVP,h[1:3]>=0)\n",
    "@constraint(MVP, h[1]+h[2]+h[3]==1)\n",
    "@constraint(MVP, h[1]*ER1+h[2]*ER2+h[3]*ER3==-0.4)\n",
    "@NLobjective(MVP,Min,h[1]^2*var[1]+h[2]^2*var[2]+h[3]*var[3]+2*h[1]*h[2]*covar[1]+2*h[1]*h[3]*covar[2]+2*h[2]h[3]*covar[3])\n",
    "solution=optimize!(MVP)"
   ]
  },
  {
   "cell_type": "code",
   "execution_count": 146,
   "metadata": {
    "scrolled": true
   },
   "outputs": [
    {
     "data": {
      "text/plain": [
       "3-element Vector{Float64}:\n",
       " 0.0182\n",
       " 0.2181\n",
       " 0.7637"
      ]
     },
     "execution_count": 146,
     "metadata": {},
     "output_type": "execute_result"
    }
   ],
   "source": [
    "# Optimal holding vector\n",
    "round.(value.(h),digits=4)"
   ]
  },
  {
   "cell_type": "code",
   "execution_count": 147,
   "metadata": {},
   "outputs": [
    {
     "data": {
      "text/plain": [
       "1-element Vector{Float64}:\n",
       " -0.4"
      ]
     },
     "execution_count": 147,
     "metadata": {},
     "output_type": "execute_result"
    }
   ],
   "source": [
    "SD2 = round(sqrt(objective_value(MVP)), digits=4)\n",
    "Mean2 = round.([ER1 ER2 ER3]*value.(h),digits=4)"
   ]
  },
  {
   "cell_type": "code",
   "execution_count": 148,
   "metadata": {},
   "outputs": [
    {
     "name": "stdout",
     "output_type": "stream",
     "text": [
      "This is Ipopt version 3.14.4, running with linear solver MUMPS 5.4.1.\n",
      "\n",
      "Number of nonzeros in equality constraint Jacobian...:        6\n",
      "Number of nonzeros in inequality constraint Jacobian.:        0\n",
      "Number of nonzeros in Lagrangian Hessian.............:        6\n",
      "\n",
      "Total number of variables............................:        3\n",
      "                     variables with only lower bounds:        3\n",
      "                variables with lower and upper bounds:        0\n",
      "                     variables with only upper bounds:        0\n",
      "Total number of equality constraints.................:        2\n",
      "Total number of inequality constraints...............:        0\n",
      "        inequality constraints with only lower bounds:        0\n",
      "   inequality constraints with lower and upper bounds:        0\n",
      "        inequality constraints with only upper bounds:        0\n",
      "\n",
      "iter    objective    inf_pr   inf_du lg(mu)  ||d||  lg(rg) alpha_du alpha_pr  ls\n",
      "   0  2.2358978e-02 9.70e-01 6.22e-01  -1.0 0.00e+00    -  0.00e+00 0.00e+00   0\n",
      "   1  1.1901939e+00 0.00e+00 5.52e+01  -1.7 5.72e-01    -  1.76e-02 1.00e+00h  1\n",
      "   2  1.1849748e+00 0.00e+00 2.00e-07  -1.7 3.00e-02    -  1.00e+00 1.00e+00f  1\n",
      "   3  1.1846423e+00 0.00e+00 2.83e-08  -2.5 9.63e-03    -  1.00e+00 1.00e+00f  1\n",
      "   4  1.1846422e+00 5.55e-17 1.50e-09  -3.8 1.05e-04    -  1.00e+00 1.00e+00f  1\n",
      "   5  1.1846422e+00 0.00e+00 1.84e-11  -5.7 2.66e-05    -  1.00e+00 1.00e+00h  1\n",
      "   6  1.1846422e+00 0.00e+00 2.51e-14  -8.6 3.67e-07    -  1.00e+00 1.00e+00f  1\n",
      "\n",
      "Number of Iterations....: 6\n",
      "\n",
      "                                   (scaled)                 (unscaled)\n",
      "Objective...............:   1.1846422376409365e+00    1.1846422376409365e+00\n",
      "Dual infeasibility......:   2.5125970301207411e-14    2.5125970301207411e-14\n",
      "Constraint violation....:   0.0000000000000000e+00    0.0000000000000000e+00\n",
      "Variable bound violation:   0.0000000000000000e+00    0.0000000000000000e+00\n",
      "Complementarity.........:   2.5088651301217579e-09    2.5088651301217579e-09\n",
      "Overall NLP error.......:   2.5088651301217579e-09    2.5088651301217579e-09\n",
      "\n",
      "\n",
      "Number of objective function evaluations             = 7\n",
      "Number of objective gradient evaluations             = 7\n",
      "Number of equality constraint evaluations            = 7\n",
      "Number of inequality constraint evaluations          = 0\n",
      "Number of equality constraint Jacobian evaluations   = 1\n",
      "Number of inequality constraint Jacobian evaluations = 0\n",
      "Number of Lagrangian Hessian evaluations             = 6\n",
      "Total seconds in IPOPT                               = 0.003\n",
      "\n",
      "EXIT: Optimal Solution Found.\n"
     ]
    }
   ],
   "source": [
    "# Minimize portfolio variance with ER=-0.3\n",
    "MVP=Model(Ipopt.Optimizer)\n",
    "@variable(MVP,h[1:3]>=0)\n",
    "@constraint(MVP, h[1]+h[2]+h[3]==1)\n",
    "@constraint(MVP, h[1]*ER1+h[2]*ER2+h[3]*ER3==-0.3)\n",
    "@NLobjective(MVP,Min,h[1]^2*var[1]+h[2]^2*var[2]+h[3]*var[3]+2*h[1]*h[2]*covar[1]+2*h[1]*h[3]*covar[2]+2*h[2]h[3]*covar[3])\n",
    "solution=optimize!(MVP)"
   ]
  },
  {
   "cell_type": "code",
   "execution_count": 149,
   "metadata": {
    "scrolled": true
   },
   "outputs": [
    {
     "data": {
      "text/plain": [
       "3-element Vector{Float64}:\n",
       " 0.1318\n",
       " 0.2693\n",
       " 0.5989"
      ]
     },
     "execution_count": 149,
     "metadata": {},
     "output_type": "execute_result"
    }
   ],
   "source": [
    "# Optimal holding vector\n",
    "round.(value.(h),digits=4)"
   ]
  },
  {
   "cell_type": "code",
   "execution_count": 150,
   "metadata": {},
   "outputs": [
    {
     "data": {
      "text/plain": [
       "1-element Vector{Float64}:\n",
       " -0.3"
      ]
     },
     "execution_count": 150,
     "metadata": {},
     "output_type": "execute_result"
    }
   ],
   "source": [
    "SD3 = round(sqrt(objective_value(MVP)), digits=4)\n",
    "Mean3 = round.([ER1 ER2 ER3]*value.(h),digits=4)"
   ]
  },
  {
   "cell_type": "code",
   "execution_count": 151,
   "metadata": {},
   "outputs": [
    {
     "name": "stdout",
     "output_type": "stream",
     "text": [
      "This is Ipopt version 3.14.4, running with linear solver MUMPS 5.4.1.\n",
      "\n",
      "Number of nonzeros in equality constraint Jacobian...:        6\n",
      "Number of nonzeros in inequality constraint Jacobian.:        0\n",
      "Number of nonzeros in Lagrangian Hessian.............:        6\n",
      "\n",
      "Total number of variables............................:        3\n",
      "                     variables with only lower bounds:        3\n",
      "                variables with lower and upper bounds:        0\n",
      "                     variables with only upper bounds:        0\n",
      "Total number of equality constraints.................:        2\n",
      "Total number of inequality constraints...............:        0\n",
      "        inequality constraints with only lower bounds:        0\n",
      "   inequality constraints with lower and upper bounds:        0\n",
      "        inequality constraints with only upper bounds:        0\n",
      "\n",
      "iter    objective    inf_pr   inf_du lg(mu)  ||d||  lg(rg) alpha_du alpha_pr  ls\n",
      "   0  2.2358978e-02 9.70e-01 6.22e-01  -1.0 0.00e+00    -  0.00e+00 0.00e+00   0\n",
      "   1  8.0572223e-01 0.00e+00 4.03e+01  -1.7 4.23e-01    -  2.40e-02 1.00e+00h  1\n",
      "   2  8.0567433e-01 2.78e-17 2.00e-07  -1.7 3.65e-03    -  1.00e+00 1.00e+00f  1\n",
      "   3  8.0567433e-01 0.00e+00 1.50e-09  -3.8 3.70e-05    -  1.00e+00 1.00e+00h  1\n",
      "   4  8.0567433e-01 0.00e+00 1.84e-11  -5.7 2.41e-06    -  1.00e+00 1.00e+00f  1\n",
      "   5  8.0567433e-01 0.00e+00 2.52e-14  -8.6 5.17e-08    -  1.00e+00 1.00e+00f  1\n",
      "\n",
      "Number of Iterations....: 5\n",
      "\n",
      "                                   (scaled)                 (unscaled)\n",
      "Objective...............:   8.0567432784041648e-01    8.0567432784041648e-01\n",
      "Dual infeasibility......:   2.5157194476742046e-14    2.5157194476742046e-14\n",
      "Constraint violation....:   0.0000000000000000e+00    0.0000000000000000e+00\n",
      "Variable bound violation:   0.0000000000000000e+00    0.0000000000000000e+00\n",
      "Complementarity.........:   2.5061254654777178e-09    2.5061254654777178e-09\n",
      "Overall NLP error.......:   2.5061254654777178e-09    2.5061254654777178e-09\n",
      "\n",
      "\n",
      "Number of objective function evaluations             = 6\n",
      "Number of objective gradient evaluations             = 6\n",
      "Number of equality constraint evaluations            = 6\n",
      "Number of inequality constraint evaluations          = 0\n",
      "Number of equality constraint Jacobian evaluations   = 1\n",
      "Number of inequality constraint Jacobian evaluations = 0\n",
      "Number of Lagrangian Hessian evaluations             = 5\n",
      "Total seconds in IPOPT                               = 0.003\n",
      "\n",
      "EXIT: Optimal Solution Found.\n"
     ]
    }
   ],
   "source": [
    "# Minimize portfolio variance with ER=-0.2\n",
    "MVP=Model(Ipopt.Optimizer)\n",
    "@variable(MVP,h[1:3]>=0)\n",
    "@constraint(MVP, h[1]+h[2]+h[3]==1)\n",
    "@constraint(MVP, h[1]*ER1+h[2]*ER2+h[3]*ER3==-0.2)\n",
    "@NLobjective(MVP,Min,h[1]^2*var[1]+h[2]^2*var[2]+h[3]*var[3]+2*h[1]*h[2]*covar[1]+2*h[1]*h[3]*covar[2]+2*h[2]h[3]*covar[3])\n",
    "solution=optimize!(MVP)"
   ]
  },
  {
   "cell_type": "code",
   "execution_count": 152,
   "metadata": {
    "scrolled": true
   },
   "outputs": [
    {
     "data": {
      "text/plain": [
       "3-element Vector{Float64}:\n",
       " 0.2454\n",
       " 0.3205\n",
       " 0.4341"
      ]
     },
     "execution_count": 152,
     "metadata": {},
     "output_type": "execute_result"
    }
   ],
   "source": [
    "# Optimal holding vector\n",
    "round.(value.(h),digits=4)"
   ]
  },
  {
   "cell_type": "code",
   "execution_count": 153,
   "metadata": {},
   "outputs": [
    {
     "data": {
      "text/plain": [
       "1-element Vector{Float64}:\n",
       " -0.2"
      ]
     },
     "execution_count": 153,
     "metadata": {},
     "output_type": "execute_result"
    }
   ],
   "source": [
    "SD4 = round(sqrt(objective_value(MVP)), digits=4)\n",
    "Mean4 = round.([ER1 ER2 ER3]*value.(h),digits=4)"
   ]
  },
  {
   "cell_type": "code",
   "execution_count": 154,
   "metadata": {},
   "outputs": [
    {
     "name": "stdout",
     "output_type": "stream",
     "text": [
      "This is Ipopt version 3.14.4, running with linear solver MUMPS 5.4.1.\n",
      "\n",
      "Number of nonzeros in equality constraint Jacobian...:        6\n",
      "Number of nonzeros in inequality constraint Jacobian.:        0\n",
      "Number of nonzeros in Lagrangian Hessian.............:        6\n",
      "\n",
      "Total number of variables............................:        3\n",
      "                     variables with only lower bounds:        3\n",
      "                variables with lower and upper bounds:        0\n",
      "                     variables with only upper bounds:        0\n",
      "Total number of equality constraints.................:        2\n",
      "Total number of inequality constraints...............:        0\n",
      "        inequality constraints with only lower bounds:        0\n",
      "   inequality constraints with lower and upper bounds:        0\n",
      "        inequality constraints with only upper bounds:        0\n",
      "\n",
      "iter    objective    inf_pr   inf_du lg(mu)  ||d||  lg(rg) alpha_du alpha_pr  ls\n",
      "   0  2.2358978e-02 9.70e-01 6.22e-01  -1.0 0.00e+00    -  0.00e+00 0.00e+00   0\n",
      "   1  5.0006607e-01 1.39e-17 3.48e+01  -1.7 3.68e-01    -  2.77e-02 1.00e+00h  1\n",
      "   2  4.9640670e-01 1.39e-17 2.00e-07  -1.7 2.98e-02    -  1.00e+00 1.00e+00f  1\n",
      "   3  4.9638554e-01 0.00e+00 1.50e-09  -3.8 2.36e-03    -  1.00e+00 1.00e+00f  1\n",
      "   4  4.9638552e-01 1.39e-17 1.84e-11  -5.7 8.89e-05    -  1.00e+00 1.00e+00f  1\n",
      "   5  4.9638552e-01 2.22e-16 2.54e-14  -8.6 1.46e-07    -  1.00e+00 1.00e+00h  1\n",
      "\n",
      "Number of Iterations....: 5\n",
      "\n",
      "                                   (scaled)                 (unscaled)\n",
      "Objective...............:   4.9638551604509989e-01    4.9638551604509989e-01\n",
      "Dual infeasibility......:   2.5350558546073047e-14    2.5350558546073047e-14\n",
      "Constraint violation....:   2.2204460492503131e-16    2.2204460492503131e-16\n",
      "Variable bound violation:   0.0000000000000000e+00    0.0000000000000000e+00\n",
      "Complementarity.........:   2.5063389549775357e-09    2.5063389549775357e-09\n",
      "Overall NLP error.......:   2.5063389549775357e-09    2.5063389549775357e-09\n",
      "\n",
      "\n",
      "Number of objective function evaluations             = 6\n",
      "Number of objective gradient evaluations             = 6\n",
      "Number of equality constraint evaluations            = 6\n",
      "Number of inequality constraint evaluations          = 0\n",
      "Number of equality constraint Jacobian evaluations   = 1\n",
      "Number of inequality constraint Jacobian evaluations = 0\n",
      "Number of Lagrangian Hessian evaluations             = 5\n",
      "Total seconds in IPOPT                               = 0.003\n",
      "\n",
      "EXIT: Optimal Solution Found.\n"
     ]
    }
   ],
   "source": [
    "# Minimize portfolio variance with ER=-0.1\n",
    "MVP=Model(Ipopt.Optimizer)\n",
    "@variable(MVP,h[1:3]>=0)\n",
    "@constraint(MVP, h[1]+h[2]+h[3]==1)\n",
    "@constraint(MVP, h[1]*ER1+h[2]*ER2+h[3]*ER3==-0.1)\n",
    "@NLobjective(MVP,Min,h[1]^2*var[1]+h[2]^2*var[2]+h[3]*var[3]+2*h[1]*h[2]*covar[1]+2*h[1]*h[3]*covar[2]+2*h[2]h[3]*covar[3])\n",
    "solution=optimize!(MVP)"
   ]
  },
  {
   "cell_type": "code",
   "execution_count": 155,
   "metadata": {
    "scrolled": true
   },
   "outputs": [
    {
     "data": {
      "text/plain": [
       "3-element Vector{Float64}:\n",
       " 0.3591\n",
       " 0.3716\n",
       " 0.2693"
      ]
     },
     "execution_count": 155,
     "metadata": {},
     "output_type": "execute_result"
    }
   ],
   "source": [
    "# Optimal holding vector\n",
    "round.(value.(h),digits=4)"
   ]
  },
  {
   "cell_type": "code",
   "execution_count": 156,
   "metadata": {},
   "outputs": [
    {
     "data": {
      "text/plain": [
       "1-element Vector{Float64}:\n",
       " -0.1"
      ]
     },
     "execution_count": 156,
     "metadata": {},
     "output_type": "execute_result"
    }
   ],
   "source": [
    "SD5 = round(sqrt(objective_value(MVP)), digits=4)\n",
    "Mean5 = round.([ER1 ER2 ER3]*value.(h),digits=4)"
   ]
  },
  {
   "cell_type": "code",
   "execution_count": 157,
   "metadata": {},
   "outputs": [
    {
     "name": "stdout",
     "output_type": "stream",
     "text": [
      "This is Ipopt version 3.14.4, running with linear solver MUMPS 5.4.1.\n",
      "\n",
      "Number of nonzeros in equality constraint Jacobian...:        6\n",
      "Number of nonzeros in inequality constraint Jacobian.:        0\n",
      "Number of nonzeros in Lagrangian Hessian.............:        6\n",
      "\n",
      "Total number of variables............................:        3\n",
      "                     variables with only lower bounds:        3\n",
      "                variables with lower and upper bounds:        0\n",
      "                     variables with only upper bounds:        0\n",
      "Total number of equality constraints.................:        2\n",
      "Total number of inequality constraints...............:        0\n",
      "        inequality constraints with only lower bounds:        0\n",
      "   inequality constraints with lower and upper bounds:        0\n",
      "        inequality constraints with only upper bounds:        0\n",
      "\n",
      "iter    objective    inf_pr   inf_du lg(mu)  ||d||  lg(rg) alpha_du alpha_pr  ls\n",
      "   0  2.2358978e-02 9.70e-01 6.22e-01  -1.0 0.00e+00    -  0.00e+00 0.00e+00   0\n",
      "   1  2.7322537e-01 1.39e-17 4.82e+01  -1.7 5.02e-01    -  2.01e-02 1.00e+00h  1\n",
      "   2  2.5795830e-01 6.94e-18 2.00e-07  -1.7 5.00e-02    -  1.00e+00 1.00e+00f  1\n",
      "   3  2.5678139e-01 0.00e+00 1.66e-03  -3.8 1.70e-02    -  9.93e-01 1.00e+00f  1\n",
      "   4  2.5677582e-01 1.39e-17 1.50e-09  -3.8 1.19e-03    -  1.00e+00 1.00e+00f  1\n",
      "   5  2.5677580e-01 0.00e+00 1.84e-11  -5.7 6.76e-05    -  1.00e+00 1.00e+00f  1\n",
      "   6  2.5677580e-01 6.94e-18 2.50e-14  -8.6 8.04e-07    -  1.00e+00 1.00e+00f  1\n",
      "\n",
      "Number of Iterations....: 6\n",
      "\n",
      "                                   (scaled)                 (unscaled)\n",
      "Objective...............:   2.5677580225498697e-01    2.5677580225498697e-01\n",
      "Dual infeasibility......:   2.5009004368554012e-14    2.5009004368554012e-14\n",
      "Constraint violation....:   6.9388939039072284e-18    6.9388939039072284e-18\n",
      "Variable bound violation:   0.0000000000000000e+00    0.0000000000000000e+00\n",
      "Complementarity.........:   2.5121229780335388e-09    2.5121229780335388e-09\n",
      "Overall NLP error.......:   2.5121229780335388e-09    2.5121229780335388e-09\n",
      "\n",
      "\n",
      "Number of objective function evaluations             = 7\n",
      "Number of objective gradient evaluations             = 7\n",
      "Number of equality constraint evaluations            = 7\n",
      "Number of inequality constraint evaluations          = 0\n",
      "Number of equality constraint Jacobian evaluations   = 1\n",
      "Number of inequality constraint Jacobian evaluations = 0\n",
      "Number of Lagrangian Hessian evaluations             = 6\n",
      "Total seconds in IPOPT                               = 0.004\n",
      "\n",
      "EXIT: Optimal Solution Found.\n"
     ]
    }
   ],
   "source": [
    "# Minimize portfolio variance with ER=0\n",
    "MVP=Model(Ipopt.Optimizer)\n",
    "@variable(MVP,h[1:3]>=0)\n",
    "@constraint(MVP, h[1]+h[2]+h[3]==1)\n",
    "@constraint(MVP, h[1]*ER1+h[2]*ER2+h[3]*ER3==0)\n",
    "@NLobjective(MVP,Min,h[1]^2*var[1]+h[2]^2*var[2]+h[3]*var[3]+2*h[1]*h[2]*covar[1]+2*h[1]*h[3]*covar[2]+2*h[2]h[3]*covar[3])\n",
    "solution=optimize!(MVP)"
   ]
  },
  {
   "cell_type": "code",
   "execution_count": 158,
   "metadata": {
    "scrolled": true
   },
   "outputs": [
    {
     "data": {
      "text/plain": [
       "3-element Vector{Float64}:\n",
       " 0.4727\n",
       " 0.4228\n",
       " 0.1045"
      ]
     },
     "execution_count": 158,
     "metadata": {},
     "output_type": "execute_result"
    }
   ],
   "source": [
    "# Optimal holding vector\n",
    "round.(value.(h),digits=4)"
   ]
  },
  {
   "cell_type": "code",
   "execution_count": 159,
   "metadata": {},
   "outputs": [
    {
     "data": {
      "text/plain": [
       "1-element Vector{Float64}:\n",
       " 0.0"
      ]
     },
     "execution_count": 159,
     "metadata": {},
     "output_type": "execute_result"
    }
   ],
   "source": [
    "SD6 = round(sqrt(objective_value(MVP)), digits=4)\n",
    "Mean6 = round.([ER1 ER2 ER3]*value.(h),digits=4)"
   ]
  },
  {
   "cell_type": "code",
   "execution_count": 160,
   "metadata": {},
   "outputs": [
    {
     "name": "stdout",
     "output_type": "stream",
     "text": [
      "This is Ipopt version 3.14.4, running with linear solver MUMPS 5.4.1.\n",
      "\n",
      "Number of nonzeros in equality constraint Jacobian...:        6\n",
      "Number of nonzeros in inequality constraint Jacobian.:        0\n",
      "Number of nonzeros in Lagrangian Hessian.............:        6\n",
      "\n",
      "Total number of variables............................:        3\n",
      "                     variables with only lower bounds:        3\n",
      "                variables with lower and upper bounds:        0\n",
      "                     variables with only upper bounds:        0\n",
      "Total number of equality constraints.................:        2\n",
      "Total number of inequality constraints...............:        0\n",
      "        inequality constraints with only lower bounds:        0\n",
      "   inequality constraints with lower and upper bounds:        0\n",
      "        inequality constraints with only upper bounds:        0\n",
      "\n",
      "iter    objective    inf_pr   inf_du lg(mu)  ||d||  lg(rg) alpha_du alpha_pr  ls\n",
      "   0  2.2358978e-02 9.70e-01 6.22e-01  -1.0 0.00e+00    -  0.00e+00 0.00e+00   0\n",
      "   1  2.2645649e-02 5.95e-01 2.30e+01  -1.7 6.36e-01    -  1.58e-02 3.87e-01f  1\n",
      "   2  2.0706334e-01 1.39e-17 4.89e-01  -1.7 4.36e-01    -  6.03e-01 1.00e+00h  1\n",
      "   3  1.6424158e-01 1.39e-17 2.00e-07  -1.7 3.65e-02    -  1.00e+00 1.00e+00f  1\n",
      "   4  1.5747290e-01 2.78e-17 3.14e-03  -3.8 6.62e-03    -  9.86e-01 1.00e+00f  1\n",
      "   5  1.5681988e-01 1.39e-17 1.50e-09  -3.8 6.55e-04    -  1.00e+00 1.00e+00f  1\n",
      "   6  1.5666870e-01 2.78e-17 1.84e-11  -5.7 1.52e-04    -  1.00e+00 1.00e+00f  1\n",
      "   7  1.5666665e-01 0.00e+00 2.62e-14  -8.6 2.07e-06    -  1.00e+00 1.00e+00f  1\n",
      "\n",
      "Number of Iterations....: 7\n",
      "\n",
      "                                   (scaled)                 (unscaled)\n",
      "Objective...............:   1.5666664604384339e-01    1.5666664604384339e-01\n",
      "Dual infeasibility......:   2.6201263381153694e-14    2.6201263381153694e-14\n",
      "Constraint violation....:   0.0000000000000000e+00    0.0000000000000000e+00\n",
      "Variable bound violation:   8.9019387824523721e-09    8.9019387824523721e-09\n",
      "Complementarity.........:   2.5438414586372862e-09    2.5438414586372862e-09\n",
      "Overall NLP error.......:   2.5438414586372862e-09    2.5438414586372862e-09\n",
      "\n",
      "\n",
      "Number of objective function evaluations             = 8\n",
      "Number of objective gradient evaluations             = 8\n",
      "Number of equality constraint evaluations            = 8\n",
      "Number of inequality constraint evaluations          = 0\n",
      "Number of equality constraint Jacobian evaluations   = 1\n",
      "Number of inequality constraint Jacobian evaluations = 0\n",
      "Number of Lagrangian Hessian evaluations             = 7\n",
      "Total seconds in IPOPT                               = 0.003\n",
      "\n",
      "EXIT: Optimal Solution Found.\n"
     ]
    }
   ],
   "source": [
    "# Minimize portfolio variance with ER=0.1\n",
    "MVP=Model(Ipopt.Optimizer)\n",
    "@variable(MVP,h[1:3]>=0)\n",
    "@constraint(MVP, h[1]+h[2]+h[3]==1)\n",
    "@constraint(MVP, h[1]*ER1+h[2]*ER2+h[3]*ER3==0.1)\n",
    "@NLobjective(MVP,Min,h[1]^2*var[1]+h[2]^2*var[2]+h[3]*var[3]+2*h[1]*h[2]*covar[1]+2*h[1]*h[3]*covar[2]+2*h[2]h[3]*covar[3])\n",
    "solution=optimize!(MVP)"
   ]
  },
  {
   "cell_type": "code",
   "execution_count": 161,
   "metadata": {
    "scrolled": true
   },
   "outputs": [
    {
     "data": {
      "text/plain": [
       "3-element Vector{Float64}:\n",
       "  0.6667\n",
       "  0.3333\n",
       " -0.0"
      ]
     },
     "execution_count": 161,
     "metadata": {},
     "output_type": "execute_result"
    }
   ],
   "source": [
    "# Optimal holding vector\n",
    "round.(value.(h),digits=4)"
   ]
  },
  {
   "cell_type": "code",
   "execution_count": 162,
   "metadata": {},
   "outputs": [
    {
     "data": {
      "text/plain": [
       "1-element Vector{Float64}:\n",
       " 0.1"
      ]
     },
     "execution_count": 162,
     "metadata": {},
     "output_type": "execute_result"
    }
   ],
   "source": [
    "SD7 = round(sqrt(objective_value(MVP)), digits=4)\n",
    "Mean7 = round.([ER1 ER2 ER3]*value.(h),digits=4)"
   ]
  },
  {
   "cell_type": "code",
   "execution_count": 163,
   "metadata": {},
   "outputs": [
    {
     "name": "stdout",
     "output_type": "stream",
     "text": [
      "This is Ipopt version 3.14.4, running with linear solver MUMPS 5.4.1.\n",
      "\n",
      "Number of nonzeros in equality constraint Jacobian...:        6\n",
      "Number of nonzeros in inequality constraint Jacobian.:        0\n",
      "Number of nonzeros in Lagrangian Hessian.............:        6\n",
      "\n",
      "Total number of variables............................:        3\n",
      "                     variables with only lower bounds:        3\n",
      "                variables with lower and upper bounds:        0\n",
      "                     variables with only upper bounds:        0\n",
      "Total number of equality constraints.................:        2\n",
      "Total number of inequality constraints...............:        0\n",
      "        inequality constraints with only lower bounds:        0\n",
      "   inequality constraints with lower and upper bounds:        0\n",
      "        inequality constraints with only upper bounds:        0\n",
      "\n",
      "iter    objective    inf_pr   inf_du lg(mu)  ||d||  lg(rg) alpha_du alpha_pr  ls\n",
      "   0  2.2358978e-02 9.70e-01 6.22e-01  -1.0 0.00e+00    -  0.00e+00 0.00e+00   0\n",
      "   1  1.2003166e-03 9.15e-01 2.97e+00  -1.7 7.70e-01    -  1.30e-02 5.66e-02h  1\n",
      "   2  2.5338864e-01 4.90e-01 5.78e+00  -1.7 9.67e-01    -  1.00e+00 4.64e-01h  1\n",
      "   3  6.0346853e-01 1.93e-01 1.75e+00  -1.7 4.92e-01    -  5.58e-01 6.06e-01h  1\n",
      "   4  8.6105825e-01 5.25e-02 3.41e+00  -1.7 2.01e-01    -  1.00e+00 7.28e-01h  1\n",
      "   5  9.0271729e-01 2.83e-02 3.48e+01  -1.7 5.22e-02    -  1.00e+00 4.62e-01h  1\n",
      "   6  9.4108308e-01 9.82e-03 4.40e+01  -1.7 2.95e-02    -  1.00e+00 6.53e-01h  1\n",
      "   7  9.5112939e-01 4.32e-03 1.44e+02  -1.7 9.83e-03    -  1.00e+00 5.60e-01h  1\n",
      "   8  9.5662999e-01 1.74e-03 3.09e+02  -1.7 4.52e-03    -  1.00e+00 5.97e-01h  1\n",
      "   9  9.5850036e-01 7.29e-04 7.84e+02  -1.7 1.75e-03    -  1.00e+00 5.81e-01h  1\n",
      "iter    objective    inf_pr   inf_du lg(mu)  ||d||  lg(rg) alpha_du alpha_pr  ls\n",
      "  10  9.5941874e-01 3.00e-04 1.85e+03  -1.7 7.64e-04    -  1.00e+00 5.88e-01h  1\n",
      "  11  9.5974425e-01 1.24e-04 4.49e+03  -1.7 3.01e-04    -  1.00e+00 5.86e-01h  1\n",
      "  12  9.5990113e-01 5.11e-05 1.07e+04  -1.7 1.30e-04    -  1.00e+00 5.89e-01h  1\n",
      "  13  9.5992911e-01 3.60e-05 4.38e+04  -1.7 5.12e-05    -  1.00e+00 2.96e-01f  2\n",
      "  14  9.5998661e-01 6.47e-06 2.07e+04  -1.7 3.66e-05    -  1.00e+00 8.20e-01h  1\n",
      "  15  9.5999020e-01 4.85e-06 2.73e+05  -1.7 6.85e-06    -  1.00e+00 2.51e-01f  2\n",
      "  16  9.5999978e-01 1.30e-07 1.75e+04  -1.7 4.99e-06    -  1.00e+00 9.73e-01h  1\n",
      "  17  9.5999981e-01 8.58e-08 1.13e+06  -1.7 1.04e-07    -  1.00e+00 3.38e-01f  2\n",
      "  18  9.5999998e-01 0.00e+00 2.00e-07  -1.7 8.77e-08    -  1.00e+00 1.00e+00h  1\n",
      "  19  9.5999998e-01 0.00e+00 3.97e+00  -8.6 2.59e-14    -  1.00e+00 1.00e+00f  1\n",
      "iter    objective    inf_pr   inf_du lg(mu)  ||d||  lg(rg) alpha_du alpha_pr  ls\n",
      "  20  9.5999991e-01 1.11e-16 2.66e-14  -8.6 1.66e-08    -  1.00e+00 1.00e+00f  1\n",
      "\n",
      "Number of Iterations....: 20\n",
      "\n",
      "                                   (scaled)                 (unscaled)\n",
      "Objective...............:   9.5999991360667480e-01    9.5999991360667480e-01\n",
      "Dual infeasibility......:   2.6645352591003757e-14    2.6645352591003757e-14\n",
      "Constraint violation....:   1.1102230246251565e-16    1.1102230246251565e-16\n",
      "Variable bound violation:   9.9876678971930501e-09    9.9876678971930501e-09\n",
      "Complementarity.........:   4.9009017679001194e-09    4.9009017679001194e-09\n",
      "Overall NLP error.......:   4.9009017679001194e-09    4.9009017679001194e-09\n",
      "\n",
      "\n",
      "Number of objective function evaluations             = 24\n",
      "Number of objective gradient evaluations             = 21\n",
      "Number of equality constraint evaluations            = 24\n",
      "Number of inequality constraint evaluations          = 0\n",
      "Number of equality constraint Jacobian evaluations   = 1\n",
      "Number of inequality constraint Jacobian evaluations = 0\n",
      "Number of Lagrangian Hessian evaluations             = 20\n",
      "Total seconds in IPOPT                               = 0.010\n",
      "\n",
      "EXIT: Optimal Solution Found.\n"
     ]
    }
   ],
   "source": [
    "# Minimize portfolio variance with ER=0.2\n",
    "MVP=Model(Ipopt.Optimizer)\n",
    "@variable(MVP,h[1:3]>=0)\n",
    "@constraint(MVP, h[1]+h[2]+h[3]==1)\n",
    "@constraint(MVP, h[1]*ER1+h[2]*ER2+h[3]*ER3==0.2)\n",
    "@NLobjective(MVP,Min,h[1]^2*var[1]+h[2]^2*var[2]+h[3]*var[3]+2*h[1]*h[2]*covar[1]+2*h[1]*h[3]*covar[2]+2*h[2]h[3]*covar[3])\n",
    "solution=optimize!(MVP)"
   ]
  },
  {
   "cell_type": "code",
   "execution_count": 164,
   "metadata": {
    "scrolled": true
   },
   "outputs": [
    {
     "data": {
      "text/plain": [
       "3-element Vector{Float64}:\n",
       "  1.0\n",
       "  0.0\n",
       " -0.0"
      ]
     },
     "execution_count": 164,
     "metadata": {},
     "output_type": "execute_result"
    }
   ],
   "source": [
    "# Optimal holding vector\n",
    "round.(value.(h),digits=4)"
   ]
  },
  {
   "cell_type": "code",
   "execution_count": 165,
   "metadata": {},
   "outputs": [
    {
     "data": {
      "text/plain": [
       "1-element Vector{Float64}:\n",
       " 0.2"
      ]
     },
     "execution_count": 165,
     "metadata": {},
     "output_type": "execute_result"
    }
   ],
   "source": [
    "SD8 = round(sqrt(objective_value(MVP)), digits=4)\n",
    "Mean8 = round.([ER1 ER2 ER3]*value.(h),digits=4)"
   ]
  },
  {
   "cell_type": "code",
   "execution_count": 186,
   "metadata": {},
   "outputs": [
    {
     "data": {
      "image/svg+xml": [
       "<?xml version=\"1.0\" encoding=\"utf-8\"?>\n",
       "<svg xmlns=\"http://www.w3.org/2000/svg\" xmlns:xlink=\"http://www.w3.org/1999/xlink\" width=\"600\" height=\"400\" viewBox=\"0 0 2400 1600\">\n",
       "<defs>\n",
       "  <clipPath id=\"clip120\">\n",
       "    <rect x=\"0\" y=\"0\" width=\"2400\" height=\"1600\"/>\n",
       "  </clipPath>\n",
       "</defs>\n",
       "<path clip-path=\"url(#clip120)\" d=\"\n",
       "M0 1600 L2400 1600 L2400 0 L0 0  Z\n",
       "  \" fill=\"#ffffff\" fill-rule=\"evenodd\" fill-opacity=\"1\"/>\n",
       "<defs>\n",
       "  <clipPath id=\"clip121\">\n",
       "    <rect x=\"480\" y=\"0\" width=\"1681\" height=\"1600\"/>\n",
       "  </clipPath>\n",
       "</defs>\n",
       "<path clip-path=\"url(#clip120)\" d=\"\n",
       "M249.542 1423.18 L2352.76 1423.18 L2352.76 123.472 L249.542 123.472  Z\n",
       "  \" fill=\"#ffffff\" fill-rule=\"evenodd\" fill-opacity=\"1\"/>\n",
       "<defs>\n",
       "  <clipPath id=\"clip122\">\n",
       "    <rect x=\"249\" y=\"123\" width=\"2104\" height=\"1301\"/>\n",
       "  </clipPath>\n",
       "</defs>\n",
       "<polyline clip-path=\"url(#clip122)\" style=\"stroke:#000000; stroke-linecap:round; stroke-linejoin:round; stroke-width:2; stroke-opacity:0.1; fill:none\" points=\"\n",
       "  592.519,1423.18 592.519,123.472 \n",
       "  \"/>\n",
       "<polyline clip-path=\"url(#clip122)\" style=\"stroke:#000000; stroke-linecap:round; stroke-linejoin:round; stroke-width:2; stroke-opacity:0.1; fill:none\" points=\"\n",
       "  1159.42,1423.18 1159.42,123.472 \n",
       "  \"/>\n",
       "<polyline clip-path=\"url(#clip122)\" style=\"stroke:#000000; stroke-linecap:round; stroke-linejoin:round; stroke-width:2; stroke-opacity:0.1; fill:none\" points=\"\n",
       "  1726.33,1423.18 1726.33,123.472 \n",
       "  \"/>\n",
       "<polyline clip-path=\"url(#clip122)\" style=\"stroke:#000000; stroke-linecap:round; stroke-linejoin:round; stroke-width:2; stroke-opacity:0.1; fill:none\" points=\"\n",
       "  2293.23,1423.18 2293.23,123.472 \n",
       "  \"/>\n",
       "<polyline clip-path=\"url(#clip120)\" style=\"stroke:#000000; stroke-linecap:round; stroke-linejoin:round; stroke-width:4; stroke-opacity:1; fill:none\" points=\"\n",
       "  249.542,1423.18 2352.76,1423.18 \n",
       "  \"/>\n",
       "<polyline clip-path=\"url(#clip120)\" style=\"stroke:#000000; stroke-linecap:round; stroke-linejoin:round; stroke-width:4; stroke-opacity:1; fill:none\" points=\"\n",
       "  592.519,1423.18 592.519,1404.28 \n",
       "  \"/>\n",
       "<polyline clip-path=\"url(#clip120)\" style=\"stroke:#000000; stroke-linecap:round; stroke-linejoin:round; stroke-width:4; stroke-opacity:1; fill:none\" points=\"\n",
       "  1159.42,1423.18 1159.42,1404.28 \n",
       "  \"/>\n",
       "<polyline clip-path=\"url(#clip120)\" style=\"stroke:#000000; stroke-linecap:round; stroke-linejoin:round; stroke-width:4; stroke-opacity:1; fill:none\" points=\"\n",
       "  1726.33,1423.18 1726.33,1404.28 \n",
       "  \"/>\n",
       "<polyline clip-path=\"url(#clip120)\" style=\"stroke:#000000; stroke-linecap:round; stroke-linejoin:round; stroke-width:4; stroke-opacity:1; fill:none\" points=\"\n",
       "  2293.23,1423.18 2293.23,1404.28 \n",
       "  \"/>\n",
       "<path clip-path=\"url(#clip120)\" d=\"M538.804 1468.75 L568.48 1468.75 L568.48 1472.69 L538.804 1472.69 L538.804 1468.75 Z\" fill=\"#000000\" fill-rule=\"evenodd\" fill-opacity=\"1\" /><path clip-path=\"url(#clip120)\" d=\"M588.572 1454.1 Q584.961 1454.1 583.132 1457.66 Q581.327 1461.2 581.327 1468.33 Q581.327 1475.44 583.132 1479.01 Q584.961 1482.55 588.572 1482.55 Q592.206 1482.55 594.012 1479.01 Q595.841 1475.44 595.841 1468.33 Q595.841 1461.2 594.012 1457.66 Q592.206 1454.1 588.572 1454.1 M588.572 1450.39 Q594.382 1450.39 597.438 1455 Q600.517 1459.58 600.517 1468.33 Q600.517 1477.06 597.438 1481.67 Q594.382 1486.25 588.572 1486.25 Q582.762 1486.25 579.683 1481.67 Q576.628 1477.06 576.628 1468.33 Q576.628 1459.58 579.683 1455 Q582.762 1450.39 588.572 1450.39 Z\" fill=\"#000000\" fill-rule=\"evenodd\" fill-opacity=\"1\" /><path clip-path=\"url(#clip120)\" d=\"M608.734 1479.7 L613.618 1479.7 L613.618 1485.58 L608.734 1485.58 L608.734 1479.7 Z\" fill=\"#000000\" fill-rule=\"evenodd\" fill-opacity=\"1\" /><path clip-path=\"url(#clip120)\" d=\"M636.651 1455.09 L624.845 1473.54 L636.651 1473.54 L636.651 1455.09 M635.424 1451.02 L641.303 1451.02 L641.303 1473.54 L646.234 1473.54 L646.234 1477.43 L641.303 1477.43 L641.303 1485.58 L636.651 1485.58 L636.651 1477.43 L621.049 1477.43 L621.049 1472.92 L635.424 1451.02 Z\" fill=\"#000000\" fill-rule=\"evenodd\" fill-opacity=\"1\" /><path clip-path=\"url(#clip120)\" d=\"M1106.75 1468.75 L1136.43 1468.75 L1136.43 1472.69 L1106.75 1472.69 L1106.75 1468.75 Z\" fill=\"#000000\" fill-rule=\"evenodd\" fill-opacity=\"1\" /><path clip-path=\"url(#clip120)\" d=\"M1156.52 1454.1 Q1152.91 1454.1 1151.08 1457.66 Q1149.27 1461.2 1149.27 1468.33 Q1149.27 1475.44 1151.08 1479.01 Q1152.91 1482.55 1156.52 1482.55 Q1160.15 1482.55 1161.96 1479.01 Q1163.79 1475.44 1163.79 1468.33 Q1163.79 1461.2 1161.96 1457.66 Q1160.15 1454.1 1156.52 1454.1 M1156.52 1450.39 Q1162.33 1450.39 1165.38 1455 Q1168.46 1459.58 1168.46 1468.33 Q1168.46 1477.06 1165.38 1481.67 Q1162.33 1486.25 1156.52 1486.25 Q1150.71 1486.25 1147.63 1481.67 Q1144.57 1477.06 1144.57 1468.33 Q1144.57 1459.58 1147.63 1455 Q1150.71 1450.39 1156.52 1450.39 Z\" fill=\"#000000\" fill-rule=\"evenodd\" fill-opacity=\"1\" /><path clip-path=\"url(#clip120)\" d=\"M1176.68 1479.7 L1181.56 1479.7 L1181.56 1485.58 L1176.68 1485.58 L1176.68 1479.7 Z\" fill=\"#000000\" fill-rule=\"evenodd\" fill-opacity=\"1\" /><path clip-path=\"url(#clip120)\" d=\"M1195.78 1481.64 L1212.1 1481.64 L1212.1 1485.58 L1190.15 1485.58 L1190.15 1481.64 Q1192.81 1478.89 1197.4 1474.26 Q1202 1469.61 1203.18 1468.27 Q1205.43 1465.74 1206.31 1464.01 Q1207.21 1462.25 1207.21 1460.56 Q1207.21 1457.8 1205.27 1456.07 Q1203.35 1454.33 1200.24 1454.33 Q1198.05 1454.33 1195.59 1455.09 Q1193.16 1455.86 1190.38 1457.41 L1190.38 1452.69 Q1193.21 1451.55 1195.66 1450.97 Q1198.11 1450.39 1200.15 1450.39 Q1205.52 1450.39 1208.72 1453.08 Q1211.91 1455.77 1211.91 1460.26 Q1211.91 1462.39 1211.1 1464.31 Q1210.31 1466.2 1208.21 1468.8 Q1207.63 1469.47 1204.53 1472.69 Q1201.43 1475.88 1195.78 1481.64 Z\" fill=\"#000000\" fill-rule=\"evenodd\" fill-opacity=\"1\" /><path clip-path=\"url(#clip120)\" d=\"M1703.71 1454.1 Q1700.1 1454.1 1698.27 1457.66 Q1696.47 1461.2 1696.47 1468.33 Q1696.47 1475.44 1698.27 1479.01 Q1700.1 1482.55 1703.71 1482.55 Q1707.35 1482.55 1709.15 1479.01 Q1710.98 1475.44 1710.98 1468.33 Q1710.98 1461.2 1709.15 1457.66 Q1707.35 1454.1 1703.71 1454.1 M1703.71 1450.39 Q1709.52 1450.39 1712.58 1455 Q1715.66 1459.58 1715.66 1468.33 Q1715.66 1477.06 1712.58 1481.67 Q1709.52 1486.25 1703.71 1486.25 Q1697.9 1486.25 1694.82 1481.67 Q1691.77 1477.06 1691.77 1468.33 Q1691.77 1459.58 1694.82 1455 Q1697.9 1450.39 1703.71 1450.39 Z\" fill=\"#000000\" fill-rule=\"evenodd\" fill-opacity=\"1\" /><path clip-path=\"url(#clip120)\" d=\"M1723.87 1479.7 L1728.76 1479.7 L1728.76 1485.58 L1723.87 1485.58 L1723.87 1479.7 Z\" fill=\"#000000\" fill-rule=\"evenodd\" fill-opacity=\"1\" /><path clip-path=\"url(#clip120)\" d=\"M1748.94 1454.1 Q1745.33 1454.1 1743.5 1457.66 Q1741.7 1461.2 1741.7 1468.33 Q1741.7 1475.44 1743.5 1479.01 Q1745.33 1482.55 1748.94 1482.55 Q1752.58 1482.55 1754.38 1479.01 Q1756.21 1475.44 1756.21 1468.33 Q1756.21 1461.2 1754.38 1457.66 Q1752.58 1454.1 1748.94 1454.1 M1748.94 1450.39 Q1754.75 1450.39 1757.81 1455 Q1760.89 1459.58 1760.89 1468.33 Q1760.89 1477.06 1757.81 1481.67 Q1754.75 1486.25 1748.94 1486.25 Q1743.13 1486.25 1740.05 1481.67 Q1737 1477.06 1737 1468.33 Q1737 1459.58 1740.05 1455 Q1743.13 1450.39 1748.94 1450.39 Z\" fill=\"#000000\" fill-rule=\"evenodd\" fill-opacity=\"1\" /><path clip-path=\"url(#clip120)\" d=\"M2271.41 1454.1 Q2267.8 1454.1 2265.97 1457.66 Q2264.17 1461.2 2264.17 1468.33 Q2264.17 1475.44 2265.97 1479.01 Q2267.8 1482.55 2271.41 1482.55 Q2275.05 1482.55 2276.85 1479.01 Q2278.68 1475.44 2278.68 1468.33 Q2278.68 1461.2 2276.85 1457.66 Q2275.05 1454.1 2271.41 1454.1 M2271.41 1450.39 Q2277.22 1450.39 2280.28 1455 Q2283.36 1459.58 2283.36 1468.33 Q2283.36 1477.06 2280.28 1481.67 Q2277.22 1486.25 2271.41 1486.25 Q2265.6 1486.25 2262.53 1481.67 Q2259.47 1477.06 2259.47 1468.33 Q2259.47 1459.58 2262.53 1455 Q2265.6 1450.39 2271.41 1450.39 Z\" fill=\"#000000\" fill-rule=\"evenodd\" fill-opacity=\"1\" /><path clip-path=\"url(#clip120)\" d=\"M2291.58 1479.7 L2296.46 1479.7 L2296.46 1485.58 L2291.58 1485.58 L2291.58 1479.7 Z\" fill=\"#000000\" fill-rule=\"evenodd\" fill-opacity=\"1\" /><path clip-path=\"url(#clip120)\" d=\"M2310.67 1481.64 L2326.99 1481.64 L2326.99 1485.58 L2305.05 1485.58 L2305.05 1481.64 Q2307.71 1478.89 2312.29 1474.26 Q2316.9 1469.61 2318.08 1468.27 Q2320.33 1465.74 2321.21 1464.01 Q2322.11 1462.25 2322.11 1460.56 Q2322.11 1457.8 2320.16 1456.07 Q2318.24 1454.33 2315.14 1454.33 Q2312.94 1454.33 2310.49 1455.09 Q2308.06 1455.86 2305.28 1457.41 L2305.28 1452.69 Q2308.1 1451.55 2310.56 1450.97 Q2313.01 1450.39 2315.05 1450.39 Q2320.42 1450.39 2323.61 1453.08 Q2326.81 1455.77 2326.81 1460.26 Q2326.81 1462.39 2326 1464.31 Q2325.21 1466.2 2323.1 1468.8 Q2322.52 1469.47 2319.42 1472.69 Q2316.32 1475.88 2310.67 1481.64 Z\" fill=\"#000000\" fill-rule=\"evenodd\" fill-opacity=\"1\" /><path clip-path=\"url(#clip120)\" d=\"M1099.8 1520.52 L1109.38 1520.52 L1121.51 1552.86 L1133.7 1520.52 L1143.28 1520.52 L1143.28 1568.04 L1137.01 1568.04 L1137.01 1526.32 L1124.76 1558.91 L1118.29 1558.91 L1106.04 1526.32 L1106.04 1568.04 L1099.8 1568.04 L1099.8 1520.52 Z\" fill=\"#000000\" fill-rule=\"evenodd\" fill-opacity=\"1\" /><path clip-path=\"url(#clip120)\" d=\"M1186.28 1548.76 L1186.28 1551.62 L1159.35 1551.62 Q1159.73 1557.67 1162.98 1560.85 Q1166.26 1564 1172.08 1564 Q1175.46 1564 1178.61 1563.17 Q1181.79 1562.35 1184.91 1560.69 L1184.91 1566.23 Q1181.76 1567.57 1178.45 1568.27 Q1175.14 1568.97 1171.73 1568.97 Q1163.2 1568.97 1158.21 1564 Q1153.24 1559.04 1153.24 1550.57 Q1153.24 1541.82 1157.95 1536.69 Q1162.69 1531.54 1170.72 1531.54 Q1177.91 1531.54 1182.08 1536.18 Q1186.28 1540.8 1186.28 1548.76 M1180.42 1547.04 Q1180.36 1542.23 1177.72 1539.37 Q1175.11 1536.5 1170.78 1536.5 Q1165.88 1536.5 1162.92 1539.27 Q1159.99 1542.04 1159.54 1547.07 L1180.42 1547.04 Z\" fill=\"#000000\" fill-rule=\"evenodd\" fill-opacity=\"1\" /><path clip-path=\"url(#clip120)\" d=\"M1212.09 1550.12 Q1204.99 1550.12 1202.26 1551.75 Q1199.52 1553.37 1199.52 1557.29 Q1199.52 1560.4 1201.56 1562.25 Q1203.63 1564.07 1207.16 1564.07 Q1212.03 1564.07 1214.96 1560.63 Q1217.92 1557.16 1217.92 1551.43 L1217.92 1550.12 L1212.09 1550.12 M1223.77 1547.71 L1223.77 1568.04 L1217.92 1568.04 L1217.92 1562.63 Q1215.91 1565.88 1212.92 1567.44 Q1209.93 1568.97 1205.6 1568.97 Q1200.13 1568.97 1196.88 1565.91 Q1193.66 1562.82 1193.66 1557.67 Q1193.66 1551.65 1197.67 1548.6 Q1201.72 1545.54 1209.71 1545.54 L1217.92 1545.54 L1217.92 1544.97 Q1217.92 1540.93 1215.24 1538.73 Q1212.6 1536.5 1207.8 1536.5 Q1204.74 1536.5 1201.84 1537.23 Q1198.95 1537.97 1196.27 1539.43 L1196.27 1534.02 Q1199.49 1532.78 1202.51 1532.17 Q1205.54 1531.54 1208.4 1531.54 Q1216.13 1531.54 1219.95 1535.55 Q1223.77 1539.56 1223.77 1547.71 Z\" fill=\"#000000\" fill-rule=\"evenodd\" fill-opacity=\"1\" /><path clip-path=\"url(#clip120)\" d=\"M1265.47 1546.53 L1265.47 1568.04 L1259.61 1568.04 L1259.61 1546.72 Q1259.61 1541.66 1257.64 1539.14 Q1255.67 1536.63 1251.72 1536.63 Q1246.98 1536.63 1244.24 1539.65 Q1241.5 1542.68 1241.5 1547.9 L1241.5 1568.04 L1235.61 1568.04 L1235.61 1532.4 L1241.5 1532.4 L1241.5 1537.93 Q1243.6 1534.72 1246.44 1533.13 Q1249.3 1531.54 1253.02 1531.54 Q1259.17 1531.54 1262.32 1535.36 Q1265.47 1539.14 1265.47 1546.53 Z\" fill=\"#000000\" fill-rule=\"evenodd\" fill-opacity=\"1\" /><path clip-path=\"url(#clip120)\" d=\"M1320.66 1545.76 Q1322.73 1546.46 1324.67 1548.76 Q1326.64 1551.05 1328.62 1555.06 L1335.14 1568.04 L1328.24 1568.04 L1322.16 1555.85 Q1319.8 1551.08 1317.57 1549.52 Q1315.38 1547.96 1311.56 1547.96 L1304.55 1547.96 L1304.55 1568.04 L1298.13 1568.04 L1298.13 1520.52 L1312.64 1520.52 Q1320.79 1520.52 1324.8 1523.93 Q1328.81 1527.34 1328.81 1534.21 Q1328.81 1538.7 1326.71 1541.66 Q1324.64 1544.62 1320.66 1545.76 M1304.55 1525.81 L1304.55 1542.68 L1312.64 1542.68 Q1317.29 1542.68 1319.64 1540.54 Q1322.03 1538.38 1322.03 1534.21 Q1322.03 1530.04 1319.64 1527.94 Q1317.29 1525.81 1312.64 1525.81 L1304.55 1525.81 Z\" fill=\"#000000\" fill-rule=\"evenodd\" fill-opacity=\"1\" /><path clip-path=\"url(#clip120)\" d=\"M1370.73 1548.76 L1370.73 1551.62 L1343.8 1551.62 Q1344.18 1557.67 1347.43 1560.85 Q1350.71 1564 1356.53 1564 Q1359.9 1564 1363.06 1563.17 Q1366.24 1562.35 1369.36 1560.69 L1369.36 1566.23 Q1366.21 1567.57 1362.9 1568.27 Q1359.59 1568.97 1356.18 1568.97 Q1347.65 1568.97 1342.65 1564 Q1337.69 1559.04 1337.69 1550.57 Q1337.69 1541.82 1342.4 1536.69 Q1347.14 1531.54 1355.16 1531.54 Q1362.36 1531.54 1366.52 1536.18 Q1370.73 1540.8 1370.73 1548.76 M1364.87 1547.04 Q1364.81 1542.23 1362.16 1539.37 Q1359.55 1536.5 1355.23 1536.5 Q1350.32 1536.5 1347.36 1539.27 Q1344.44 1542.04 1343.99 1547.07 L1364.87 1547.04 Z\" fill=\"#000000\" fill-rule=\"evenodd\" fill-opacity=\"1\" /><path clip-path=\"url(#clip120)\" d=\"M1386.13 1522.27 L1386.13 1532.4 L1398.19 1532.4 L1398.19 1536.95 L1386.13 1536.95 L1386.13 1556.3 Q1386.13 1560.66 1387.31 1561.9 Q1388.52 1563.14 1392.18 1563.14 L1398.19 1563.14 L1398.19 1568.04 L1392.18 1568.04 Q1385.4 1568.04 1382.82 1565.53 Q1380.24 1562.98 1380.24 1556.3 L1380.24 1536.95 L1375.95 1536.95 L1375.95 1532.4 L1380.24 1532.4 L1380.24 1522.27 L1386.13 1522.27 Z\" fill=\"#000000\" fill-rule=\"evenodd\" fill-opacity=\"1\" /><path clip-path=\"url(#clip120)\" d=\"M1405.29 1553.98 L1405.29 1532.4 L1411.15 1532.4 L1411.15 1553.75 Q1411.15 1558.81 1413.12 1561.36 Q1415.1 1563.87 1419.04 1563.87 Q1423.78 1563.87 1426.52 1560.85 Q1429.29 1557.83 1429.29 1552.61 L1429.29 1532.4 L1435.15 1532.4 L1435.15 1568.04 L1429.29 1568.04 L1429.29 1562.57 Q1427.16 1565.82 1424.33 1567.41 Q1421.52 1568.97 1417.8 1568.97 Q1411.66 1568.97 1408.47 1565.15 Q1405.29 1561.33 1405.29 1553.98 M1420.03 1531.54 L1420.03 1531.54 Z\" fill=\"#000000\" fill-rule=\"evenodd\" fill-opacity=\"1\" /><path clip-path=\"url(#clip120)\" d=\"M1467.87 1537.87 Q1466.88 1537.3 1465.7 1537.04 Q1464.56 1536.76 1463.16 1536.76 Q1458.19 1536.76 1455.52 1540 Q1452.88 1543.22 1452.88 1549.27 L1452.88 1568.04 L1446.99 1568.04 L1446.99 1532.4 L1452.88 1532.4 L1452.88 1537.93 Q1454.72 1534.69 1457.68 1533.13 Q1460.64 1531.54 1464.87 1531.54 Q1465.48 1531.54 1466.21 1531.63 Q1466.94 1531.7 1467.83 1531.85 L1467.87 1537.87 Z\" fill=\"#000000\" fill-rule=\"evenodd\" fill-opacity=\"1\" /><path clip-path=\"url(#clip120)\" d=\"M1502.5 1546.53 L1502.5 1568.04 L1496.64 1568.04 L1496.64 1546.72 Q1496.64 1541.66 1494.67 1539.14 Q1492.69 1536.63 1488.75 1536.63 Q1484 1536.63 1481.27 1539.65 Q1478.53 1542.68 1478.53 1547.9 L1478.53 1568.04 L1472.64 1568.04 L1472.64 1532.4 L1478.53 1532.4 L1478.53 1537.93 Q1480.63 1534.72 1483.46 1533.13 Q1486.33 1531.54 1490.05 1531.54 Q1496.19 1531.54 1499.35 1535.36 Q1502.5 1539.14 1502.5 1546.53 Z\" fill=\"#000000\" fill-rule=\"evenodd\" fill-opacity=\"1\" /><polyline clip-path=\"url(#clip122)\" style=\"stroke:#000000; stroke-linecap:round; stroke-linejoin:round; stroke-width:2; stroke-opacity:0.1; fill:none\" points=\"\n",
       "  249.542,1270.69 2352.76,1270.69 \n",
       "  \"/>\n",
       "<polyline clip-path=\"url(#clip122)\" style=\"stroke:#000000; stroke-linecap:round; stroke-linejoin:round; stroke-width:2; stroke-opacity:0.1; fill:none\" points=\"\n",
       "  249.542,993.081 2352.76,993.081 \n",
       "  \"/>\n",
       "<polyline clip-path=\"url(#clip122)\" style=\"stroke:#000000; stroke-linecap:round; stroke-linejoin:round; stroke-width:2; stroke-opacity:0.1; fill:none\" points=\"\n",
       "  249.542,715.472 2352.76,715.472 \n",
       "  \"/>\n",
       "<polyline clip-path=\"url(#clip122)\" style=\"stroke:#000000; stroke-linecap:round; stroke-linejoin:round; stroke-width:2; stroke-opacity:0.1; fill:none\" points=\"\n",
       "  249.542,437.864 2352.76,437.864 \n",
       "  \"/>\n",
       "<polyline clip-path=\"url(#clip122)\" style=\"stroke:#000000; stroke-linecap:round; stroke-linejoin:round; stroke-width:2; stroke-opacity:0.1; fill:none\" points=\"\n",
       "  249.542,160.256 2352.76,160.256 \n",
       "  \"/>\n",
       "<polyline clip-path=\"url(#clip120)\" style=\"stroke:#000000; stroke-linecap:round; stroke-linejoin:round; stroke-width:4; stroke-opacity:1; fill:none\" points=\"\n",
       "  249.542,1423.18 249.542,123.472 \n",
       "  \"/>\n",
       "<polyline clip-path=\"url(#clip120)\" style=\"stroke:#000000; stroke-linecap:round; stroke-linejoin:round; stroke-width:4; stroke-opacity:1; fill:none\" points=\"\n",
       "  249.542,1270.69 268.44,1270.69 \n",
       "  \"/>\n",
       "<polyline clip-path=\"url(#clip120)\" style=\"stroke:#000000; stroke-linecap:round; stroke-linejoin:round; stroke-width:4; stroke-opacity:1; fill:none\" points=\"\n",
       "  249.542,993.081 268.44,993.081 \n",
       "  \"/>\n",
       "<polyline clip-path=\"url(#clip120)\" style=\"stroke:#000000; stroke-linecap:round; stroke-linejoin:round; stroke-width:4; stroke-opacity:1; fill:none\" points=\"\n",
       "  249.542,715.472 268.44,715.472 \n",
       "  \"/>\n",
       "<polyline clip-path=\"url(#clip120)\" style=\"stroke:#000000; stroke-linecap:round; stroke-linejoin:round; stroke-width:4; stroke-opacity:1; fill:none\" points=\"\n",
       "  249.542,437.864 268.44,437.864 \n",
       "  \"/>\n",
       "<polyline clip-path=\"url(#clip120)\" style=\"stroke:#000000; stroke-linecap:round; stroke-linejoin:round; stroke-width:4; stroke-opacity:1; fill:none\" points=\"\n",
       "  249.542,160.256 268.44,160.256 \n",
       "  \"/>\n",
       "<path clip-path=\"url(#clip120)\" d=\"M126.205 1256.49 Q122.593 1256.49 120.765 1260.05 Q118.959 1263.59 118.959 1270.72 Q118.959 1277.83 120.765 1281.39 Q122.593 1284.94 126.205 1284.94 Q129.839 1284.94 131.644 1281.39 Q133.473 1277.83 133.473 1270.72 Q133.473 1263.59 131.644 1260.05 Q129.839 1256.49 126.205 1256.49 M126.205 1252.78 Q132.015 1252.78 135.07 1257.39 Q138.149 1261.97 138.149 1270.72 Q138.149 1279.45 135.07 1284.06 Q132.015 1288.64 126.205 1288.64 Q120.394 1288.64 117.316 1284.06 Q114.26 1279.45 114.26 1270.72 Q114.26 1261.97 117.316 1257.39 Q120.394 1252.78 126.205 1252.78 Z\" fill=\"#000000\" fill-rule=\"evenodd\" fill-opacity=\"1\" /><path clip-path=\"url(#clip120)\" d=\"M146.366 1282.09 L151.251 1282.09 L151.251 1287.97 L146.366 1287.97 L146.366 1282.09 Z\" fill=\"#000000\" fill-rule=\"evenodd\" fill-opacity=\"1\" /><path clip-path=\"url(#clip120)\" d=\"M161.482 1253.41 L179.839 1253.41 L179.839 1257.34 L165.765 1257.34 L165.765 1265.82 Q166.783 1265.47 167.802 1265.31 Q168.82 1265.12 169.839 1265.12 Q175.626 1265.12 179.005 1268.29 Q182.385 1271.46 182.385 1276.88 Q182.385 1282.46 178.913 1285.56 Q175.44 1288.64 169.121 1288.64 Q166.945 1288.64 164.677 1288.27 Q162.431 1287.9 160.024 1287.16 L160.024 1282.46 Q162.107 1283.59 164.329 1284.15 Q166.552 1284.7 169.028 1284.7 Q173.033 1284.7 175.371 1282.6 Q177.709 1280.49 177.709 1276.88 Q177.709 1273.27 175.371 1271.16 Q173.033 1269.06 169.028 1269.06 Q167.153 1269.06 165.278 1269.47 Q163.427 1269.89 161.482 1270.77 L161.482 1253.41 Z\" fill=\"#000000\" fill-rule=\"evenodd\" fill-opacity=\"1\" /><path clip-path=\"url(#clip120)\" d=\"M201.598 1256.49 Q197.987 1256.49 196.158 1260.05 Q194.352 1263.59 194.352 1270.72 Q194.352 1277.83 196.158 1281.39 Q197.987 1284.94 201.598 1284.94 Q205.232 1284.94 207.037 1281.39 Q208.866 1277.83 208.866 1270.72 Q208.866 1263.59 207.037 1260.05 Q205.232 1256.49 201.598 1256.49 M201.598 1252.78 Q207.408 1252.78 210.463 1257.39 Q213.542 1261.97 213.542 1270.72 Q213.542 1279.45 210.463 1284.06 Q207.408 1288.64 201.598 1288.64 Q195.787 1288.64 192.709 1284.06 Q189.653 1279.45 189.653 1270.72 Q189.653 1261.97 192.709 1257.39 Q195.787 1252.78 201.598 1252.78 Z\" fill=\"#000000\" fill-rule=\"evenodd\" fill-opacity=\"1\" /><path clip-path=\"url(#clip120)\" d=\"M127.2 978.879 Q123.589 978.879 121.76 982.444 Q119.955 985.986 119.955 993.115 Q119.955 1000.22 121.76 1003.79 Q123.589 1007.33 127.2 1007.33 Q130.834 1007.33 132.64 1003.79 Q134.468 1000.22 134.468 993.115 Q134.468 985.986 132.64 982.444 Q130.834 978.879 127.2 978.879 M127.2 975.176 Q133.01 975.176 136.066 979.782 Q139.144 984.365 139.144 993.115 Q139.144 1001.84 136.066 1006.45 Q133.01 1011.03 127.2 1011.03 Q121.39 1011.03 118.311 1006.45 Q115.256 1001.84 115.256 993.115 Q115.256 984.365 118.311 979.782 Q121.39 975.176 127.2 975.176 Z\" fill=\"#000000\" fill-rule=\"evenodd\" fill-opacity=\"1\" /><path clip-path=\"url(#clip120)\" d=\"M147.362 1004.48 L152.246 1004.48 L152.246 1010.36 L147.362 1010.36 L147.362 1004.48 Z\" fill=\"#000000\" fill-rule=\"evenodd\" fill-opacity=\"1\" /><path clip-path=\"url(#clip120)\" d=\"M161.251 975.801 L183.473 975.801 L183.473 977.791 L170.927 1010.36 L166.042 1010.36 L177.848 979.736 L161.251 979.736 L161.251 975.801 Z\" fill=\"#000000\" fill-rule=\"evenodd\" fill-opacity=\"1\" /><path clip-path=\"url(#clip120)\" d=\"M192.639 975.801 L210.996 975.801 L210.996 979.736 L196.922 979.736 L196.922 988.208 Q197.94 987.861 198.959 987.699 Q199.977 987.513 200.996 987.513 Q206.783 987.513 210.162 990.685 Q213.542 993.856 213.542 999.273 Q213.542 1004.85 210.07 1007.95 Q206.598 1011.03 200.278 1011.03 Q198.102 1011.03 195.834 1010.66 Q193.588 1010.29 191.181 1009.55 L191.181 1004.85 Q193.264 1005.99 195.487 1006.54 Q197.709 1007.1 200.186 1007.1 Q204.19 1007.1 206.528 1004.99 Q208.866 1002.88 208.866 999.273 Q208.866 995.662 206.528 993.555 Q204.19 991.449 200.186 991.449 Q198.311 991.449 196.436 991.865 Q194.584 992.282 192.639 993.162 L192.639 975.801 Z\" fill=\"#000000\" fill-rule=\"evenodd\" fill-opacity=\"1\" /><path clip-path=\"url(#clip120)\" d=\"M117.015 728.817 L124.654 728.817 L124.654 702.452 L116.343 704.118 L116.343 699.859 L124.607 698.192 L129.283 698.192 L129.283 728.817 L136.922 728.817 L136.922 732.752 L117.015 732.752 L117.015 728.817 Z\" fill=\"#000000\" fill-rule=\"evenodd\" fill-opacity=\"1\" /><path clip-path=\"url(#clip120)\" d=\"M146.366 726.873 L151.251 726.873 L151.251 732.752 L146.366 732.752 L146.366 726.873 Z\" fill=\"#000000\" fill-rule=\"evenodd\" fill-opacity=\"1\" /><path clip-path=\"url(#clip120)\" d=\"M171.436 701.271 Q167.825 701.271 165.996 704.836 Q164.19 708.378 164.19 715.507 Q164.19 722.614 165.996 726.178 Q167.825 729.72 171.436 729.72 Q175.07 729.72 176.876 726.178 Q178.704 722.614 178.704 715.507 Q178.704 708.378 176.876 704.836 Q175.07 701.271 171.436 701.271 M171.436 697.567 Q177.246 697.567 180.301 702.174 Q183.38 706.757 183.38 715.507 Q183.38 724.234 180.301 728.84 Q177.246 733.424 171.436 733.424 Q165.626 733.424 162.547 728.84 Q159.491 724.234 159.491 715.507 Q159.491 706.757 162.547 702.174 Q165.626 697.567 171.436 697.567 Z\" fill=\"#000000\" fill-rule=\"evenodd\" fill-opacity=\"1\" /><path clip-path=\"url(#clip120)\" d=\"M201.598 701.271 Q197.987 701.271 196.158 704.836 Q194.352 708.378 194.352 715.507 Q194.352 722.614 196.158 726.178 Q197.987 729.72 201.598 729.72 Q205.232 729.72 207.037 726.178 Q208.866 722.614 208.866 715.507 Q208.866 708.378 207.037 704.836 Q205.232 701.271 201.598 701.271 M201.598 697.567 Q207.408 697.567 210.463 702.174 Q213.542 706.757 213.542 715.507 Q213.542 724.234 210.463 728.84 Q207.408 733.424 201.598 733.424 Q195.787 733.424 192.709 728.84 Q189.653 724.234 189.653 715.507 Q189.653 706.757 192.709 702.174 Q195.787 697.567 201.598 697.567 Z\" fill=\"#000000\" fill-rule=\"evenodd\" fill-opacity=\"1\" /><path clip-path=\"url(#clip120)\" d=\"M118.01 451.209 L125.649 451.209 L125.649 424.844 L117.339 426.51 L117.339 422.251 L125.603 420.584 L130.279 420.584 L130.279 451.209 L137.917 451.209 L137.917 455.144 L118.01 455.144 L118.01 451.209 Z\" fill=\"#000000\" fill-rule=\"evenodd\" fill-opacity=\"1\" /><path clip-path=\"url(#clip120)\" d=\"M147.362 449.265 L152.246 449.265 L152.246 455.144 L147.362 455.144 L147.362 449.265 Z\" fill=\"#000000\" fill-rule=\"evenodd\" fill-opacity=\"1\" /><path clip-path=\"url(#clip120)\" d=\"M166.459 451.209 L182.778 451.209 L182.778 455.144 L160.834 455.144 L160.834 451.209 Q163.496 448.455 168.079 443.825 Q172.686 439.172 173.866 437.83 Q176.112 435.307 176.991 433.57 Q177.894 431.811 177.894 430.121 Q177.894 427.367 175.95 425.631 Q174.028 423.895 170.927 423.895 Q168.727 423.895 166.274 424.658 Q163.843 425.422 161.065 426.973 L161.065 422.251 Q163.89 421.117 166.343 420.538 Q168.797 419.959 170.834 419.959 Q176.204 419.959 179.399 422.645 Q182.593 425.33 182.593 429.82 Q182.593 431.95 181.783 433.871 Q180.996 435.769 178.889 438.362 Q178.311 439.033 175.209 442.251 Q172.107 445.445 166.459 451.209 Z\" fill=\"#000000\" fill-rule=\"evenodd\" fill-opacity=\"1\" /><path clip-path=\"url(#clip120)\" d=\"M192.639 420.584 L210.996 420.584 L210.996 424.52 L196.922 424.52 L196.922 432.992 Q197.94 432.645 198.959 432.482 Q199.977 432.297 200.996 432.297 Q206.783 432.297 210.162 435.469 Q213.542 438.64 213.542 444.056 Q213.542 449.635 210.07 452.737 Q206.598 455.816 200.278 455.816 Q198.102 455.816 195.834 455.445 Q193.588 455.075 191.181 454.334 L191.181 449.635 Q193.264 450.769 195.487 451.325 Q197.709 451.881 200.186 451.881 Q204.19 451.881 206.528 449.774 Q208.866 447.668 208.866 444.056 Q208.866 440.445 206.528 438.339 Q204.19 436.232 200.186 436.232 Q198.311 436.232 196.436 436.649 Q194.584 437.066 192.639 437.945 L192.639 420.584 Z\" fill=\"#000000\" fill-rule=\"evenodd\" fill-opacity=\"1\" /><path clip-path=\"url(#clip120)\" d=\"M117.015 173.601 L124.654 173.601 L124.654 147.236 L116.343 148.902 L116.343 144.643 L124.607 142.976 L129.283 142.976 L129.283 173.601 L136.922 173.601 L136.922 177.536 L117.015 177.536 L117.015 173.601 Z\" fill=\"#000000\" fill-rule=\"evenodd\" fill-opacity=\"1\" /><path clip-path=\"url(#clip120)\" d=\"M146.366 171.657 L151.251 171.657 L151.251 177.536 L146.366 177.536 L146.366 171.657 Z\" fill=\"#000000\" fill-rule=\"evenodd\" fill-opacity=\"1\" /><path clip-path=\"url(#clip120)\" d=\"M161.482 142.976 L179.839 142.976 L179.839 146.911 L165.765 146.911 L165.765 155.384 Q166.783 155.036 167.802 154.874 Q168.82 154.689 169.839 154.689 Q175.626 154.689 179.005 157.86 Q182.385 161.032 182.385 166.448 Q182.385 172.027 178.913 175.129 Q175.44 178.208 169.121 178.208 Q166.945 178.208 164.677 177.837 Q162.431 177.467 160.024 176.726 L160.024 172.027 Q162.107 173.161 164.329 173.717 Q166.552 174.272 169.028 174.272 Q173.033 174.272 175.371 172.166 Q177.709 170.059 177.709 166.448 Q177.709 162.837 175.371 160.731 Q173.033 158.624 169.028 158.624 Q167.153 158.624 165.278 159.041 Q163.427 159.458 161.482 160.337 L161.482 142.976 Z\" fill=\"#000000\" fill-rule=\"evenodd\" fill-opacity=\"1\" /><path clip-path=\"url(#clip120)\" d=\"M201.598 146.055 Q197.987 146.055 196.158 149.62 Q194.352 153.161 194.352 160.291 Q194.352 167.397 196.158 170.962 Q197.987 174.504 201.598 174.504 Q205.232 174.504 207.037 170.962 Q208.866 167.397 208.866 160.291 Q208.866 153.161 207.037 149.62 Q205.232 146.055 201.598 146.055 M201.598 142.351 Q207.408 142.351 210.463 146.958 Q213.542 151.541 213.542 160.291 Q213.542 169.018 210.463 173.624 Q207.408 178.208 201.598 178.208 Q195.787 178.208 192.709 173.624 Q189.653 169.018 189.653 160.291 Q189.653 151.541 192.709 146.958 Q195.787 142.351 201.598 142.351 Z\" fill=\"#000000\" fill-rule=\"evenodd\" fill-opacity=\"1\" /><path clip-path=\"url(#clip120)\" d=\"M18.0438 1052.35 L24.314 1052.35 Q22.5634 1056.01 21.704 1059.26 Q20.8447 1062.5 20.8447 1065.53 Q20.8447 1070.78 22.8817 1073.64 Q24.9187 1076.48 28.6745 1076.48 Q31.8255 1076.48 33.4488 1074.6 Q35.0402 1072.69 36.0269 1067.41 L36.8226 1063.52 Q38.1912 1056.33 41.6605 1052.92 Q45.098 1049.49 50.8908 1049.49 Q57.7976 1049.49 61.3624 1054.13 Q64.9272 1058.75 64.9272 1067.69 Q64.9272 1071.07 64.1633 1074.89 Q63.3994 1078.67 61.9035 1082.75 L55.2831 1082.75 Q57.4793 1078.83 58.5933 1075.08 Q59.7073 1071.32 59.7073 1067.69 Q59.7073 1062.19 57.543 1059.19 Q55.3786 1056.2 51.3682 1056.2 Q47.8671 1056.2 45.8937 1058.37 Q43.9204 1060.5 42.9337 1065.4 L42.1698 1069.32 Q40.7375 1076.51 37.682 1079.72 Q34.6264 1082.94 29.1837 1082.94 Q22.8817 1082.94 19.2532 1078.51 Q15.6248 1074.06 15.6248 1066.26 Q15.6248 1062.92 16.2295 1059.45 Q16.8343 1055.98 18.0438 1052.35 Z\" fill=\"#000000\" fill-rule=\"evenodd\" fill-opacity=\"1\" /><path clip-path=\"url(#clip120)\" d=\"M18.2347 1033.92 L28.3562 1033.92 L28.3562 1021.86 L32.9077 1021.86 L32.9077 1033.92 L52.2594 1033.92 Q56.6199 1033.92 57.8613 1032.74 Q59.1026 1031.53 59.1026 1027.87 L59.1026 1021.86 L64.0042 1021.86 L64.0042 1027.87 Q64.0042 1034.65 61.4897 1037.23 Q58.9434 1039.81 52.2594 1039.81 L32.9077 1039.81 L32.9077 1044.11 L28.3562 1044.11 L28.3562 1039.81 L18.2347 1039.81 L18.2347 1033.92 Z\" fill=\"#000000\" fill-rule=\"evenodd\" fill-opacity=\"1\" /><path clip-path=\"url(#clip120)\" d=\"M46.0847 997.956 Q46.0847 1005.05 47.7079 1007.79 Q49.3312 1010.53 53.2461 1010.53 Q56.3653 1010.53 58.2114 1008.49 Q60.0256 1006.42 60.0256 1002.89 Q60.0256 998.02 56.5881 995.091 Q53.1188 992.131 47.3897 992.131 L46.0847 992.131 L46.0847 997.956 M43.6657 986.275 L64.0042 986.275 L64.0042 992.131 L58.5933 992.131 Q61.8398 994.136 63.3994 997.128 Q64.9272 1000.12 64.9272 1004.45 Q64.9272 1009.92 61.8716 1013.17 Q58.7843 1016.38 53.6281 1016.38 Q47.6125 1016.38 44.5569 1012.37 Q41.5014 1008.33 41.5014 1000.34 L41.5014 992.131 L40.9285 992.131 Q36.8862 992.131 34.6901 994.805 Q32.4621 997.447 32.4621 1002.25 Q32.4621 1005.31 33.1941 1008.2 Q33.9262 1011.1 35.3903 1013.77 L29.9795 1013.77 Q28.7381 1010.56 28.1334 1007.54 Q27.4968 1004.51 27.4968 1001.65 Q27.4968 993.914 31.5072 990.094 Q35.5176 986.275 43.6657 986.275 Z\" fill=\"#000000\" fill-rule=\"evenodd\" fill-opacity=\"1\" /><path clip-path=\"url(#clip120)\" d=\"M42.4881 944.579 L64.0042 944.579 L64.0042 950.436 L42.679 950.436 Q37.6183 950.436 35.1038 952.409 Q32.5894 954.383 32.5894 958.329 Q32.5894 963.072 35.6131 965.809 Q38.6368 968.546 43.8567 968.546 L64.0042 968.546 L64.0042 974.435 L28.3562 974.435 L28.3562 968.546 L33.8944 968.546 Q30.6797 966.446 29.0883 963.613 Q27.4968 960.748 27.4968 957.024 Q27.4968 950.881 31.3163 947.73 Q35.1038 944.579 42.4881 944.579 Z\" fill=\"#000000\" fill-rule=\"evenodd\" fill-opacity=\"1\" /><path clip-path=\"url(#clip120)\" d=\"M33.7671 909.441 L14.479 909.441 L14.479 903.584 L64.0042 903.584 L64.0042 909.441 L58.657 909.441 Q61.8398 911.287 63.3994 914.12 Q64.9272 916.92 64.9272 920.867 Q64.9272 927.328 59.771 931.402 Q54.6147 935.445 46.212 935.445 Q37.8093 935.445 32.6531 931.402 Q27.4968 927.328 27.4968 920.867 Q27.4968 916.92 29.0564 914.12 Q30.5842 911.287 33.7671 909.441 M46.212 929.397 Q52.6732 929.397 56.3653 926.755 Q60.0256 924.082 60.0256 919.435 Q60.0256 914.788 56.3653 912.114 Q52.6732 909.441 46.212 909.441 Q39.7508 909.441 36.0905 912.114 Q32.3984 914.788 32.3984 919.435 Q32.3984 924.082 36.0905 926.755 Q39.7508 929.397 46.212 929.397 Z\" fill=\"#000000\" fill-rule=\"evenodd\" fill-opacity=\"1\" /><path clip-path=\"url(#clip120)\" d=\"M46.0847 875.321 Q46.0847 882.418 47.7079 885.156 Q49.3312 887.893 53.2461 887.893 Q56.3653 887.893 58.2114 885.856 Q60.0256 883.787 60.0256 880.254 Q60.0256 875.384 56.5881 872.456 Q53.1188 869.496 47.3897 869.496 L46.0847 869.496 L46.0847 875.321 M43.6657 863.639 L64.0042 863.639 L64.0042 869.496 L58.5933 869.496 Q61.8398 871.501 63.3994 874.493 Q64.9272 877.485 64.9272 881.814 Q64.9272 887.288 61.8716 890.535 Q58.7843 893.749 53.6281 893.749 Q47.6125 893.749 44.5569 889.739 Q41.5014 885.697 41.5014 877.708 L41.5014 869.496 L40.9285 869.496 Q36.8862 869.496 34.6901 872.169 Q32.4621 874.811 32.4621 879.617 Q32.4621 882.673 33.1941 885.569 Q33.9262 888.466 35.3903 891.139 L29.9795 891.139 Q28.7381 887.925 28.1334 884.901 Q27.4968 881.877 27.4968 879.013 Q27.4968 871.278 31.5072 867.459 Q35.5176 863.639 43.6657 863.639 Z\" fill=\"#000000\" fill-rule=\"evenodd\" fill-opacity=\"1\" /><path clip-path=\"url(#clip120)\" d=\"M33.8307 830.92 Q33.2578 831.906 33.0032 833.084 Q32.7167 834.23 32.7167 835.63 Q32.7167 840.596 35.9632 843.269 Q39.1779 845.911 45.2253 845.911 L64.0042 845.911 L64.0042 851.799 L28.3562 851.799 L28.3562 845.911 L33.8944 845.911 Q30.6479 844.065 29.0883 841.105 Q27.4968 838.145 27.4968 833.912 Q27.4968 833.307 27.5923 832.575 Q27.656 831.843 27.8151 830.952 L33.8307 830.92 Z\" fill=\"#000000\" fill-rule=\"evenodd\" fill-opacity=\"1\" /><path clip-path=\"url(#clip120)\" d=\"M33.7671 802.465 L14.479 802.465 L14.479 796.609 L64.0042 796.609 L64.0042 802.465 L58.657 802.465 Q61.8398 804.311 63.3994 807.144 Q64.9272 809.945 64.9272 813.891 Q64.9272 820.353 59.771 824.427 Q54.6147 828.469 46.212 828.469 Q37.8093 828.469 32.6531 824.427 Q27.4968 820.353 27.4968 813.891 Q27.4968 809.945 29.0564 807.144 Q30.5842 804.311 33.7671 802.465 M46.212 822.421 Q52.6732 822.421 56.3653 819.78 Q60.0256 817.106 60.0256 812.459 Q60.0256 807.812 56.3653 805.139 Q52.6732 802.465 46.212 802.465 Q39.7508 802.465 36.0905 805.139 Q32.3984 807.812 32.3984 812.459 Q32.3984 817.106 36.0905 819.78 Q39.7508 822.421 46.212 822.421 Z\" fill=\"#000000\" fill-rule=\"evenodd\" fill-opacity=\"1\" /><path clip-path=\"url(#clip120)\" d=\"M21.7677 757.141 L58.7206 757.141 L58.7206 749.375 Q58.7206 739.54 54.2646 734.989 Q49.8086 730.405 40.1964 730.405 Q30.6479 730.405 26.2237 734.989 Q21.7677 739.54 21.7677 749.375 L21.7677 757.141 M16.4842 763.571 L16.4842 750.362 Q16.4842 736.548 22.2451 730.087 Q27.9743 723.626 40.1964 723.626 Q52.4822 723.626 58.2432 730.119 Q64.0042 736.612 64.0042 750.362 L64.0042 763.571 L16.4842 763.571 Z\" fill=\"#000000\" fill-rule=\"evenodd\" fill-opacity=\"1\" /><path clip-path=\"url(#clip120)\" d=\"M44.7161 683.14 L47.5806 683.14 L47.5806 710.067 Q53.6281 709.685 56.8109 706.438 Q59.9619 703.16 59.9619 697.335 Q59.9619 693.962 59.1344 690.811 Q58.3069 687.628 56.6518 684.508 L62.1899 684.508 Q63.5267 687.659 64.227 690.97 Q64.9272 694.28 64.9272 697.685 Q64.9272 706.216 59.9619 711.213 Q54.9967 716.178 46.5303 716.178 Q37.7774 716.178 32.6531 711.467 Q27.4968 706.725 27.4968 698.704 Q27.4968 691.511 32.1438 687.341 Q36.7589 683.14 44.7161 683.14 M42.9973 688.996 Q38.1912 689.06 35.3266 691.702 Q32.4621 694.312 32.4621 698.64 Q32.4621 703.542 35.2312 706.502 Q38.0002 709.43 43.0292 709.876 L42.9973 688.996 Z\" fill=\"#000000\" fill-rule=\"evenodd\" fill-opacity=\"1\" /><path clip-path=\"url(#clip120)\" d=\"M28.3562 677.729 L28.3562 671.522 L58.275 660.382 L28.3562 649.242 L28.3562 643.036 L64.0042 656.404 L64.0042 664.361 L28.3562 677.729 Z\" fill=\"#000000\" fill-rule=\"evenodd\" fill-opacity=\"1\" /><path clip-path=\"url(#clip120)\" d=\"M28.3562 634.951 L28.3562 629.095 L64.0042 629.095 L64.0042 634.951 L28.3562 634.951 M14.479 634.951 L14.479 629.095 L21.895 629.095 L21.895 634.951 L14.479 634.951 Z\" fill=\"#000000\" fill-rule=\"evenodd\" fill-opacity=\"1\" /><path clip-path=\"url(#clip120)\" d=\"M46.0847 600.64 Q46.0847 607.738 47.7079 610.475 Q49.3312 613.213 53.2461 613.213 Q56.3653 613.213 58.2114 611.176 Q60.0256 609.107 60.0256 605.574 Q60.0256 600.704 56.5881 597.776 Q53.1188 594.816 47.3897 594.816 L46.0847 594.816 L46.0847 600.64 M43.6657 588.959 L64.0042 588.959 L64.0042 594.816 L58.5933 594.816 Q61.8398 596.821 63.3994 599.813 Q64.9272 602.805 64.9272 607.133 Q64.9272 612.608 61.8716 615.854 Q58.7843 619.069 53.6281 619.069 Q47.6125 619.069 44.5569 615.059 Q41.5014 611.016 41.5014 603.027 L41.5014 594.816 L40.9285 594.816 Q36.8862 594.816 34.6901 597.489 Q32.4621 600.131 32.4621 604.937 Q32.4621 607.993 33.1941 610.889 Q33.9262 613.785 35.3903 616.459 L29.9795 616.459 Q28.7381 613.244 28.1334 610.221 Q27.4968 607.197 27.4968 604.332 Q27.4968 596.598 31.5072 592.779 Q35.5176 588.959 43.6657 588.959 Z\" fill=\"#000000\" fill-rule=\"evenodd\" fill-opacity=\"1\" /><path clip-path=\"url(#clip120)\" d=\"M18.2347 571.103 L28.3562 571.103 L28.3562 559.04 L32.9077 559.04 L32.9077 571.103 L52.2594 571.103 Q56.6199 571.103 57.8613 569.926 Q59.1026 568.716 59.1026 565.056 L59.1026 559.04 L64.0042 559.04 L64.0042 565.056 Q64.0042 571.835 61.4897 574.414 Q58.9434 576.992 52.2594 576.992 L32.9077 576.992 L32.9077 581.289 L28.3562 581.289 L28.3562 576.992 L18.2347 576.992 L18.2347 571.103 Z\" fill=\"#000000\" fill-rule=\"evenodd\" fill-opacity=\"1\" /><path clip-path=\"url(#clip120)\" d=\"M28.3562 551.338 L28.3562 545.481 L64.0042 545.481 L64.0042 551.338 L28.3562 551.338 M14.479 551.338 L14.479 545.481 L21.895 545.481 L21.895 551.338 L14.479 551.338 Z\" fill=\"#000000\" fill-rule=\"evenodd\" fill-opacity=\"1\" /><path clip-path=\"url(#clip120)\" d=\"M32.4621 519.414 Q32.4621 524.124 36.1542 526.862 Q39.8145 529.599 46.212 529.599 Q52.6095 529.599 56.3017 526.894 Q59.9619 524.156 59.9619 519.414 Q59.9619 514.735 56.2698 511.998 Q52.5777 509.261 46.212 509.261 Q39.8781 509.261 36.186 511.998 Q32.4621 514.735 32.4621 519.414 M27.4968 519.414 Q27.4968 511.775 32.4621 507.415 Q37.4273 503.054 46.212 503.054 Q54.9649 503.054 59.9619 507.415 Q64.9272 511.775 64.9272 519.414 Q64.9272 527.085 59.9619 531.445 Q54.9649 535.774 46.212 535.774 Q37.4273 535.774 32.4621 531.445 Q27.4968 527.085 27.4968 519.414 Z\" fill=\"#000000\" fill-rule=\"evenodd\" fill-opacity=\"1\" /><path clip-path=\"url(#clip120)\" d=\"M42.4881 463.714 L64.0042 463.714 L64.0042 469.57 L42.679 469.57 Q37.6183 469.57 35.1038 471.544 Q32.5894 473.517 32.5894 477.464 Q32.5894 482.206 35.6131 484.944 Q38.6368 487.681 43.8567 487.681 L64.0042 487.681 L64.0042 493.569 L28.3562 493.569 L28.3562 487.681 L33.8944 487.681 Q30.6797 485.58 29.0883 482.747 Q27.4968 479.883 27.4968 476.159 Q27.4968 470.016 31.3163 466.865 Q35.1038 463.714 42.4881 463.714 Z\" fill=\"#000000\" fill-rule=\"evenodd\" fill-opacity=\"1\" /><path clip-path=\"url(#clip120)\" d=\"M994.212 12.096 L1006.41 12.096 L1021.84 53.2532 L1037.35 12.096 L1049.55 12.096 L1049.55 72.576 L1041.57 72.576 L1041.57 19.4686 L1025.97 60.9499 L1017.75 60.9499 L1002.15 19.4686 L1002.15 72.576 L994.212 72.576 L994.212 12.096 Z\" fill=\"#000000\" fill-rule=\"evenodd\" fill-opacity=\"1\" /><path clip-path=\"url(#clip120)\" d=\"M1104.28 48.0275 L1104.28 51.6733 L1070 51.6733 Q1070.49 59.3701 1074.62 63.421 Q1078.79 67.4314 1086.21 67.4314 Q1090.5 67.4314 1094.51 66.3781 Q1098.56 65.3249 1102.53 63.2184 L1102.53 70.267 Q1098.52 71.9684 1094.31 72.8596 Q1090.1 73.7508 1085.76 73.7508 Q1074.91 73.7508 1068.55 67.4314 Q1062.23 61.1119 1062.23 50.3365 Q1062.23 39.1965 1068.22 32.6746 Q1074.26 26.1121 1084.47 26.1121 Q1093.62 26.1121 1098.93 32.0264 Q1104.28 37.9003 1104.28 48.0275 M1096.82 45.84 Q1096.74 39.7232 1093.38 36.0774 Q1090.06 32.4315 1084.55 32.4315 Q1078.31 32.4315 1074.54 35.9558 Q1070.81 39.4801 1070.25 45.8805 L1096.82 45.84 Z\" fill=\"#000000\" fill-rule=\"evenodd\" fill-opacity=\"1\" /><path clip-path=\"url(#clip120)\" d=\"M1137.13 49.7694 Q1128.09 49.7694 1124.61 51.8354 Q1121.13 53.9013 1121.13 58.8839 Q1121.13 62.8538 1123.72 65.2034 Q1126.35 67.5124 1130.85 67.5124 Q1137.05 67.5124 1140.77 63.1374 Q1144.54 58.7219 1144.54 51.4303 L1144.54 49.7694 L1137.13 49.7694 M1151.99 46.6907 L1151.99 72.576 L1144.54 72.576 L1144.54 65.6895 Q1141.99 69.8214 1138.18 71.8063 Q1134.37 73.7508 1128.86 73.7508 Q1121.9 73.7508 1117.76 69.8619 Q1113.67 65.9325 1113.67 59.3701 Q1113.67 51.7138 1118.78 47.825 Q1123.92 43.9361 1134.09 43.9361 L1144.54 43.9361 L1144.54 43.2069 Q1144.54 38.0623 1141.14 35.2672 Q1137.78 32.4315 1131.66 32.4315 Q1127.77 32.4315 1124.08 33.3632 Q1120.4 34.295 1116.99 36.1584 L1116.99 29.2718 Q1121.09 27.692 1124.93 26.9223 Q1128.78 26.1121 1132.43 26.1121 Q1142.27 26.1121 1147.13 31.2163 Q1151.99 36.3204 1151.99 46.6907 Z\" fill=\"#000000\" fill-rule=\"evenodd\" fill-opacity=\"1\" /><path clip-path=\"url(#clip120)\" d=\"M1205.06 45.1919 L1205.06 72.576 L1197.61 72.576 L1197.61 45.4349 Q1197.61 38.994 1195.1 35.7938 Q1192.58 32.5936 1187.56 32.5936 Q1181.53 32.5936 1178.04 36.4419 Q1174.56 40.2903 1174.56 46.9338 L1174.56 72.576 L1167.06 72.576 L1167.06 27.2059 L1174.56 27.2059 L1174.56 34.2544 Q1177.23 30.163 1180.84 28.1376 Q1184.48 26.1121 1189.22 26.1121 Q1197.04 26.1121 1201.05 30.9732 Q1205.06 35.7938 1205.06 45.1919 Z\" fill=\"#000000\" fill-rule=\"evenodd\" fill-opacity=\"1\" /><path clip-path=\"url(#clip120)\" d=\"M1216.16 46.5287 L1238 46.5287 L1238 53.1722 L1216.16 53.1722 L1216.16 46.5287 Z\" fill=\"#000000\" fill-rule=\"evenodd\" fill-opacity=\"1\" /><path clip-path=\"url(#clip120)\" d=\"M1286.44 14.0809 L1286.44 22.0612 Q1281.79 19.8332 1277.65 18.7395 Q1273.52 17.6457 1269.67 17.6457 Q1262.99 17.6457 1259.34 20.2383 Q1255.74 22.8309 1255.74 27.611 Q1255.74 31.6214 1258.13 33.6873 Q1260.56 35.7128 1267.28 36.9686 L1272.23 37.9813 Q1281.38 39.7232 1285.72 44.1387 Q1290.09 48.5136 1290.09 55.8863 Q1290.09 64.6767 1284.18 69.2137 Q1278.3 73.7508 1266.92 73.7508 Q1262.62 73.7508 1257.76 72.7785 Q1252.94 71.8063 1247.76 69.9024 L1247.76 61.4765 Q1252.74 64.2716 1257.52 65.6895 Q1262.3 67.1073 1266.92 67.1073 Q1273.93 67.1073 1277.73 64.3527 Q1281.54 61.598 1281.54 56.4939 Q1281.54 52.0379 1278.79 49.5264 Q1276.07 47.0148 1269.84 45.759 L1264.85 44.7868 Q1255.7 42.9639 1251.61 39.075 Q1247.51 35.1862 1247.51 28.2591 Q1247.51 20.2383 1253.15 15.6203 Q1258.82 11.0023 1268.74 11.0023 Q1273 11.0023 1277.41 11.7719 Q1281.83 12.5416 1286.44 14.0809 Z\" fill=\"#000000\" fill-rule=\"evenodd\" fill-opacity=\"1\" /><path clip-path=\"url(#clip120)\" d=\"M1311.03 18.8205 L1311.03 65.8515 L1320.92 65.8515 Q1333.43 65.8515 1339.23 60.1802 Q1345.06 54.509 1345.06 42.2752 Q1345.06 30.1225 1339.23 24.4918 Q1333.43 18.8205 1320.92 18.8205 L1311.03 18.8205 M1302.85 12.096 L1319.66 12.096 Q1337.24 12.096 1345.47 19.4281 Q1353.69 26.7198 1353.69 42.2752 Q1353.69 57.9117 1345.43 65.2439 Q1337.16 72.576 1319.66 72.576 L1302.85 72.576 L1302.85 12.096 Z\" fill=\"#000000\" fill-rule=\"evenodd\" fill-opacity=\"1\" /><path clip-path=\"url(#clip120)\" d=\"M1401.29 18.8205 L1401.29 41.5461 L1411.58 41.5461 Q1417.29 41.5461 1420.41 38.5889 Q1423.53 35.6318 1423.53 30.163 Q1423.53 24.7348 1420.41 21.7777 Q1417.29 18.8205 1411.58 18.8205 L1401.29 18.8205 M1393.1 12.096 L1411.58 12.096 Q1421.74 12.096 1426.93 16.714 Q1432.16 21.2916 1432.16 30.163 Q1432.16 39.1155 1426.93 43.6931 Q1421.74 48.2706 1411.58 48.2706 L1401.29 48.2706 L1401.29 72.576 L1393.1 72.576 L1393.1 12.096 Z\" fill=\"#000000\" fill-rule=\"evenodd\" fill-opacity=\"1\" /><path clip-path=\"url(#clip120)\" d=\"M1442.81 9.54393 L1450.26 9.54393 L1450.26 72.576 L1442.81 72.576 L1442.81 9.54393 Z\" fill=\"#000000\" fill-rule=\"evenodd\" fill-opacity=\"1\" /><path clip-path=\"url(#clip120)\" d=\"M1486.48 49.7694 Q1477.44 49.7694 1473.96 51.8354 Q1470.48 53.9013 1470.48 58.8839 Q1470.48 62.8538 1473.07 65.2034 Q1475.7 67.5124 1480.2 67.5124 Q1486.4 67.5124 1490.12 63.1374 Q1493.89 58.7219 1493.89 51.4303 L1493.89 49.7694 L1486.48 49.7694 M1501.34 46.6907 L1501.34 72.576 L1493.89 72.576 L1493.89 65.6895 Q1491.34 69.8214 1487.53 71.8063 Q1483.72 73.7508 1478.21 73.7508 Q1471.25 73.7508 1467.11 69.8619 Q1463.02 65.9325 1463.02 59.3701 Q1463.02 51.7138 1468.13 47.825 Q1473.27 43.9361 1483.44 43.9361 L1493.89 43.9361 L1493.89 43.2069 Q1493.89 38.0623 1490.49 35.2672 Q1487.13 32.4315 1481.01 32.4315 Q1477.12 32.4315 1473.43 33.3632 Q1469.75 34.295 1466.34 36.1584 L1466.34 29.2718 Q1470.44 27.692 1474.28 26.9223 Q1478.13 26.1121 1481.78 26.1121 Q1491.62 26.1121 1496.48 31.2163 Q1501.34 36.3204 1501.34 46.6907 Z\" fill=\"#000000\" fill-rule=\"evenodd\" fill-opacity=\"1\" /><path clip-path=\"url(#clip120)\" d=\"M1554.41 45.1919 L1554.41 72.576 L1546.96 72.576 L1546.96 45.4349 Q1546.96 38.994 1544.45 35.7938 Q1541.93 32.5936 1536.91 32.5936 Q1530.88 32.5936 1527.39 36.4419 Q1523.91 40.2903 1523.91 46.9338 L1523.91 72.576 L1516.41 72.576 L1516.41 27.2059 L1523.91 27.2059 L1523.91 34.2544 Q1526.58 30.163 1530.19 28.1376 Q1533.83 26.1121 1538.57 26.1121 Q1546.39 26.1121 1550.4 30.9732 Q1554.41 35.7938 1554.41 45.1919 Z\" fill=\"#000000\" fill-rule=\"evenodd\" fill-opacity=\"1\" /><path clip-path=\"url(#clip120)\" d=\"M1608.09 48.0275 L1608.09 51.6733 L1573.82 51.6733 Q1574.3 59.3701 1578.43 63.421 Q1582.61 67.4314 1590.02 67.4314 Q1594.31 67.4314 1598.32 66.3781 Q1602.37 65.3249 1606.34 63.2184 L1606.34 70.267 Q1602.33 71.9684 1598.12 72.8596 Q1593.91 73.7508 1589.57 73.7508 Q1578.72 73.7508 1572.36 67.4314 Q1566.04 61.1119 1566.04 50.3365 Q1566.04 39.1965 1572.03 32.6746 Q1578.07 26.1121 1588.28 26.1121 Q1597.43 26.1121 1602.74 32.0264 Q1608.09 37.9003 1608.09 48.0275 M1600.63 45.84 Q1600.55 39.7232 1597.19 36.0774 Q1593.87 32.4315 1588.36 32.4315 Q1582.12 32.4315 1578.35 35.9558 Q1574.63 39.4801 1574.06 45.8805 L1600.63 45.84 Z\" fill=\"#000000\" fill-rule=\"evenodd\" fill-opacity=\"1\" /><polyline clip-path=\"url(#clip122)\" style=\"stroke:#009af9; stroke-linecap:round; stroke-linejoin:round; stroke-width:12; stroke-opacity:1; fill:none\" points=\"\n",
       "  309.067,160.256 592.519,406.772 875.971,617.31 1159.42,829.181 1442.87,1043.61 1726.33,1263.25 2009.78,1386.4 2293.23,737.903 \n",
       "  \"/>\n",
       "<path clip-path=\"url(#clip120)\" d=\"\n",
       "M1996.53 270.476 L2282.65 270.476 L2282.65 166.796 L1996.53 166.796  Z\n",
       "  \" fill=\"#ffffff\" fill-rule=\"evenodd\" fill-opacity=\"1\"/>\n",
       "<polyline clip-path=\"url(#clip120)\" style=\"stroke:#000000; stroke-linecap:round; stroke-linejoin:round; stroke-width:4; stroke-opacity:1; fill:none\" points=\"\n",
       "  1996.53,270.476 2282.65,270.476 2282.65,166.796 1996.53,166.796 1996.53,270.476 \n",
       "  \"/>\n",
       "<polyline clip-path=\"url(#clip120)\" style=\"stroke:#009af9; stroke-linecap:round; stroke-linejoin:round; stroke-width:4; stroke-opacity:1; fill:none\" points=\"\n",
       "  2019.9,218.636 2160.11,218.636 \n",
       "  \"/>\n",
       "<path clip-path=\"url(#clip120)\" d=\"M2197.32 238.323 Q2195.52 242.953 2193.8 244.365 Q2192.09 245.777 2189.22 245.777 L2185.82 245.777 L2185.82 242.212 L2188.32 242.212 Q2190.08 242.212 2191.05 241.379 Q2192.02 240.545 2193.2 237.443 L2193.97 235.499 L2183.48 209.99 L2187.99 209.99 L2196.1 230.268 L2204.2 209.99 L2208.71 209.99 L2197.32 238.323 Z\" fill=\"#000000\" fill-rule=\"evenodd\" fill-opacity=\"1\" /><path clip-path=\"url(#clip120)\" d=\"M2216 231.981 L2223.64 231.981 L2223.64 205.615 L2215.33 207.282 L2215.33 203.022 L2223.6 201.356 L2228.27 201.356 L2228.27 231.981 L2235.91 231.981 L2235.91 235.916 L2216 235.916 L2216 231.981 Z\" fill=\"#000000\" fill-rule=\"evenodd\" fill-opacity=\"1\" /></svg>\n"
      ]
     },
     "metadata": {},
     "output_type": "display_data"
    }
   ],
   "source": [
    "plt = [Mean1 SD1;\n",
    "        Mean2 SD2;\n",
    "        Mean3 SD3;\n",
    "        Mean4 SD4;\n",
    "        Mean5 SD5;\n",
    "        Mean6 SD6;\n",
    "        Mean7 SD7;\n",
    "        Mean8 SD8]\n",
    "display(plot(plt[:,1], plt[:,2], title=\"Mean-SD Plane\",xlabel=\"Mean Return\",ylabel=\"Standard Deviation\", lw=2))"
   ]
  }
 ],
 "metadata": {
  "kernelspec": {
   "display_name": "Julia 1.8.2",
   "language": "julia",
   "name": "julia-1.8"
  },
  "language_info": {
   "file_extension": ".jl",
   "mimetype": "application/julia",
   "name": "julia",
   "version": "1.8.2"
  }
 },
 "nbformat": 4,
 "nbformat_minor": 4
}
