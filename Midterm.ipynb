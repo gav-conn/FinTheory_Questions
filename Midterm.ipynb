{
 "cells": [
  {
   "cell_type": "code",
   "execution_count": 2,
   "id": "3e39cea5-8e49-49e0-b83e-ea4cb609b3a4",
   "metadata": {},
   "outputs": [],
   "source": [
    "# load required packages\n",
    "using JuMP\n",
    "using Ipopt\n",
    "using Plots"
   ]
  },
  {
   "cell_type": "code",
   "execution_count": 24,
   "id": "e74621c6-debe-4ea1-b6e5-c342301e2eb0",
   "metadata": {},
   "outputs": [
    {
     "data": {
      "text/plain": [
       "3×3 Matrix{Float64}:\n",
       " 0.01   0.006  0.009\n",
       " 0.006  0.04   0.018\n",
       " 0.009  0.018  0.09"
      ]
     },
     "execution_count": 24,
     "metadata": {},
     "output_type": "execute_result"
    }
   ],
   "source": [
    "ER1 = 0.1\n",
    "ER2 = 0.2\n",
    "ER3 = 0.3\n",
    "\n",
    "ER = [ER1, ER2, ER3]\n",
    "\n",
    "sd1 = 0.1\n",
    "sd2 = 0.2\n",
    "sd3 = 0.3\n",
    "\n",
    "corr12 = 0.3\n",
    "corr13 = 0.3\n",
    "corr23 = 0.3\n",
    "\n",
    "covar = [[sd1^2 corr12*sd1*sd2 corr13*sd1*sd3]\n",
    "        [corr12*sd1*sd2 sd2^2 corr23*sd2*sd3]\n",
    "        [corr13*sd1*sd3 corr23*sd2*sd3 sd3^2]]"
   ]
  },
  {
   "cell_type": "code",
   "execution_count": 26,
   "id": "734dc31f-ce04-4137-bf13-ac5ec8e8039d",
   "metadata": {},
   "outputs": [
    {
     "data": {
      "text/plain": [
       "1×4 adjoint(::Vector{Float64}) with eltype Float64:\n",
       " 0.8947  0.1053  0.0  0.0979"
      ]
     },
     "execution_count": 26,
     "metadata": {},
     "output_type": "execute_result"
    }
   ],
   "source": [
    "MVP=Model(Ipopt.Optimizer)\n",
    "set_silent(MVP)\n",
    "@variable(MVP,h[1:3]>=0)\n",
    "@constraint(MVP, h[1]+h[2]+h[3]==1)\n",
    "@objective(MVP,Min,h'*covar*h)\n",
    "solution=optimize!(MVP)\n",
    "    \n",
    "# output - 3 proportions & portfolio Standard Deviation\n",
    "[round.(value.(h),digits=4) \n",
    "round(sqrt(objective_value(MVP)), digits=4)[1]]'"
   ]
  },
  {
   "cell_type": "code",
   "execution_count": 27,
   "id": "804c8c8f-c092-440d-b0ff-4a5157ccbd84",
   "metadata": {},
   "outputs": [
    {
     "data": {
      "text/plain": [
       "0.11053000000000002"
      ]
     },
     "execution_count": 27,
     "metadata": {},
     "output_type": "execute_result"
    }
   ],
   "source": [
    "round.(value.(h),digits=4)'*ER"
   ]
  },
  {
   "cell_type": "code",
   "execution_count": 22,
   "id": "364259c6-66d3-4e46-a0d9-5408dc0a5f2a",
   "metadata": {},
   "outputs": [
    {
     "data": {
      "text/plain": [
       "1×4 adjoint(::Vector{Float64}) with eltype Float64:\n",
       " 0.3077  0.3846  0.3077  0.1509"
      ]
     },
     "execution_count": 22,
     "metadata": {},
     "output_type": "execute_result"
    }
   ],
   "source": [
    "MVP=Model(Ipopt.Optimizer)\n",
    "set_silent(MVP)\n",
    "@variable(MVP,h[1:3]>=0)\n",
    "@constraint(MVP, h[1]+h[2]+h[3]==1)\n",
    "@constraint(MVP, h'*ER>=0.2)\n",
    "@objective(MVP,Min,h'*covar*h)\n",
    "solution=optimize!(MVP)\n",
    "    \n",
    "# output - 3 proportions & portfolio Standard Deviation\n",
    "[round.(value.(h),digits=4) \n",
    "round(sqrt(objective_value(MVP)), digits=4)[1]]'"
   ]
  },
  {
   "cell_type": "code",
   "execution_count": 23,
   "id": "d95a6201-9a5c-4eaf-9ea5-4939c3c9dfa0",
   "metadata": {},
   "outputs": [
    {
     "data": {
      "text/plain": [
       "0.2"
      ]
     },
     "execution_count": 23,
     "metadata": {},
     "output_type": "execute_result"
    }
   ],
   "source": [
    "round.(value.(h),digits=4)'*ER"
   ]
  }
 ],
 "metadata": {
  "kernelspec": {
   "display_name": "Julia 1.8.2",
   "language": "julia",
   "name": "julia-1.8"
  },
  "language_info": {
   "file_extension": ".jl",
   "mimetype": "application/julia",
   "name": "julia",
   "version": "1.8.2"
  }
 },
 "nbformat": 4,
 "nbformat_minor": 5
}
