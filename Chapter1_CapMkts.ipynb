{
 "cells": [
  {
   "attachments": {},
   "cell_type": "markdown",
   "metadata": {},
   "source": [
    "-----------\n",
    "# Chapter 1 - Capital Markets, Consumption & Investment\n",
    "-----"
   ]
  },
  {
   "cell_type": "code",
   "execution_count": 7,
   "metadata": {},
   "outputs": [],
   "source": [
    "using JuMP, HiGHS, Ipopt, Plots;"
   ]
  },
  {
   "attachments": {},
   "cell_type": "markdown",
   "metadata": {},
   "source": [
    "#### 1 \n",
    "Graphically demonstrate the Fisher separation theorem for the case where an individual ends\n",
    "up lending in financial markets.\n",
    "\n",
    "Label the following points on the graph: initial wealth, $W_0$ ; optimal production/investment $(P_0,P_1)$; optimal consumption $(C^∗_0,C^∗_1)$; present value of final wealth, $W^*_0$\n"
   ]
  },
  {
   "attachments": {},
   "cell_type": "markdown",
   "metadata": {},
   "source": [
    "-----\n",
    "#### 2 \n",
    "Graphically analyze the effect of an exogenous decrease in the interest rate on \n",
    "\n",
    "(a) the utility of borrowers and lenders,\n",
    "\n",
    "(b) the present wealth of borrowers and lenders, and \n",
    "\n",
    "(c) the investment in real assets.\n"
   ]
  },
  {
   "attachments": {},
   "cell_type": "markdown",
   "metadata": {},
   "source": [
    "(a) Utility for borrowers will rise as they can now consume more now without sacrificing future consumption.\n",
    "\n",
    "Lenders can no longer get as good a trade-off between current and future consumption so their utility will decrease. (Less steep CML)\n",
    "\n",
    "(b) The present wealth of borrowers will increase as they the future value has increased, present wealth of lenders will decrease as their future wealth will decrease.\n",
    "\n",
    "(c) The investment in real assets will increase as borrowers now have more excess consumption to invest."
   ]
  },
  {
   "attachments": {},
   "cell_type": "markdown",
   "metadata": {},
   "source": [
    "-----\n",
    "#### 3\n",
    "The interest rate cannot fall below the net rate from storage. True or false? Why?\n"
   ]
  },
  {
   "attachments": {},
   "cell_type": "markdown",
   "metadata": {},
   "source": [
    "Assuming that there are no opportunity costs or spoilage costs associated with storage, then the rate of\n",
    "return from storage is zero. This implies a capital market line with a 45° slope (a slope of minus 1).\n",
    "Any rational investor would choose to store forward from his initial endowment (at y0, y1 ) rather\n",
    "than lending (to the left of y0). He would also prefer to borrow at a negative rate rather than storing\n",
    "backward (i.e., consuming tomorrow’s endowment today).\n",
    "\n",
    "However, one of them is not feasible. In order to borrow\n",
    "at a negative rate it is necessary that someone lend at a negative rate. Clearly, no one will be willing to\n",
    "do so because storage at a zero rate of interest is better than lending at a negative rate. Consequently,\n",
    "points along line segment YZ are infeasible. The conclusion is that the market rate of\n",
    "interest cannot fall below the storage rate."
   ]
  },
  {
   "attachments": {},
   "cell_type": "markdown",
   "metadata": {},
   "source": [
    "-----\n",
    "#### 4\n",
    "Graphically illustrate the decision-making process faced by an individual in a Robinson Crusoe\n",
    "economy where:\n",
    "\n",
    "(a) storage is the only investment opportunity and (b) there are no capital markets.\n"
   ]
  },
  {
   "attachments": {},
   "cell_type": "markdown",
   "metadata": {},
   "source": [
    "Will have an linear trade-off between future & current consumption, with a slope of $45^o$. Optimal points on the graph will be dependent on each individual utility function."
   ]
  },
  {
   "attachments": {},
   "cell_type": "markdown",
   "metadata": {},
   "source": [
    "-----\n",
    "#### 5\n",
    "Suppose that the investment opportunity set has N projects, all of which have the same rate of return, $R^∗$.\n",
    "\n",
    "Graph the investment opportunity set."
   ]
  },
  {
   "attachments": {},
   "cell_type": "markdown",
   "metadata": {},
   "source": [
    "Minimum Variance Portfolio of investing $\\frac{1}{N}$ in each project will be only optimal portfolio.\n",
    "Each projects provides rate of return $R^*$, so opportunity set will be a straight line with slope $-(1+R^*)$"
   ]
  },
  {
   "attachments": {},
   "cell_type": "markdown",
   "metadata": {},
   "source": [
    "-----\n",
    "#### 6\n",
    "Suppose your production opportunity set in a world of perfect certainty consists of the following possibilities:\n",
    "\n",
    "| Project | Investment Outlay | Rate of Return (%) |\n",
    "| --- | --- | --- |\n",
    "| A | $1,000,000 | 8 |  \n",
    "| B | 1,000,000 | 20 | \n",
    "| C | 2,000,000 | 4 | \n",
    "| D | 3,000,000 | 30 | \n",
    "\n",
    "(a) Graph the production opportunity set in a C0, C1 framework.\n",
    "\n",
    "(b) If the market rate of return is 10%, draw in the capital market line for the optimal\n",
    "investment decision."
   ]
  }
 ],
 "metadata": {
  "kernelspec": {
   "display_name": "Julia 1.8.2",
   "language": "julia",
   "name": "julia-1.8"
  },
  "language_info": {
   "file_extension": ".jl",
   "mimetype": "application/julia",
   "name": "julia",
   "version": "1.8.2"
  },
  "orig_nbformat": 4
 },
 "nbformat": 4,
 "nbformat_minor": 2
}
